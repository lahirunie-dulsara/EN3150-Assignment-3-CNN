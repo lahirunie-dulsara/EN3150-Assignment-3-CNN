{
  "cells": [
    {
      "cell_type": "code",
      "execution_count": 5,
      "id": "8a0f63f5",
      "metadata": {
        "id": "8a0f63f5"
      },
      "outputs": [],
      "source": [
        "#RealWaste\n",
        "import os"
      ]
    },
    {
      "cell_type": "code",
      "source": [
        "from google.colab import drive\n",
        "drive.mount('/content/drive')"
      ],
      "metadata": {
        "id": "RX7SKVm23ymq",
        "outputId": "1a6220d0-593a-4c46-add9-54fa8675ef97",
        "colab": {
          "base_uri": "https://localhost:8080/"
        }
      },
      "id": "RX7SKVm23ymq",
      "execution_count": 1,
      "outputs": [
        {
          "output_type": "stream",
          "name": "stdout",
          "text": [
            "Mounted at /content/drive\n"
          ]
        }
      ]
    },
    {
      "cell_type": "code",
      "source": [
        "import zipfile\n",
        "# Path to your zip file in Drive\n",
        "zip_path = '/content/drive/MyDrive/Pattern Recognition/realwaste (1).zip'\n",
        "\n",
        "# Extract the zip file to a local folder in Colab\n",
        "extract_dir = '/content/RealWaste'\n",
        "with zipfile.ZipFile(zip_path, 'r') as zip_ref:\n",
        "    zip_ref.extractall(extract_dir)\n",
        "\n",
        "print(\"Dataset extracted to:\", extract_dir)"
      ],
      "metadata": {
        "id": "lmt5fb_u3zVQ",
        "outputId": "83a31f9a-3a28-4778-e0a1-96589ce3a960",
        "colab": {
          "base_uri": "https://localhost:8080/"
        }
      },
      "id": "lmt5fb_u3zVQ",
      "execution_count": 2,
      "outputs": [
        {
          "output_type": "stream",
          "name": "stdout",
          "text": [
            "Dataset extracted to: /content/RealWaste\n"
          ]
        }
      ]
    },
    {
      "cell_type": "code",
      "source": [
        "base_dir = \"/content/RealWaste/realwaste-main/RealWaste\"\n",
        "for folder in os.listdir(base_dir):\n",
        "    count = len(os.listdir(os.path.join(base_dir, folder)))\n",
        "    print(f\"{folder}: {count} images\")"
      ],
      "metadata": {
        "id": "2ihByXeG5eVH",
        "outputId": "08fb622c-dc51-42c1-f34c-f4be1aab366a",
        "colab": {
          "base_uri": "https://localhost:8080/"
        }
      },
      "id": "2ihByXeG5eVH",
      "execution_count": 15,
      "outputs": [
        {
          "output_type": "stream",
          "name": "stdout",
          "text": [
            "Miscellaneous Trash: 495 images\n",
            "Paper: 500 images\n",
            "Textile Trash: 318 images\n",
            ".ipynb_checkpoints: 0 images\n",
            "Metal: 790 images\n",
            "Vegetation: 436 images\n",
            "Cardboard: 461 images\n",
            "Food Organics: 411 images\n",
            "Plastic: 921 images\n",
            "Glass: 420 images\n"
          ]
        }
      ]
    },
    {
      "cell_type": "code",
      "source": [
        "import splitfolders\n",
        "\n",
        "input_folder = \"/content/RealWaste/realwaste-main/RealWaste\"\n",
        "output_folder = \"/content/RealWaste/realwaste-main/RealWaste_split\"\n",
        "\n",
        "splitfolders.ratio(input_folder, output=output_folder, seed=63, ratio=(.7, .15, .15))"
      ],
      "metadata": {
        "id": "LiEsoVVSNRci",
        "outputId": "f2cead64-6e45-4d54-ac9d-b67722904e0f",
        "colab": {
          "base_uri": "https://localhost:8080/"
        }
      },
      "id": "LiEsoVVSNRci",
      "execution_count": 16,
      "outputs": [
        {
          "output_type": "stream",
          "name": "stderr",
          "text": [
            "Copying files: 4752 files [00:04, 1137.81 files/s]\n"
          ]
        }
      ]
    },
    {
      "cell_type": "code",
      "source": [
        "base_dir = output_folder\n",
        "\n",
        "# Count images in each subfolder\n",
        "for split in ['train', 'val', 'test']:\n",
        "    split_path = os.path.join(base_dir, split)\n",
        "    print(f\"\\n {split.upper()} SET\")\n",
        "    total = 0\n",
        "    for cls in os.listdir(split_path):\n",
        "        cls_path = os.path.join(split_path, cls)\n",
        "        count = len(os.listdir(cls_path))\n",
        "\n",
        "        total += count\n",
        "        print(f\"  {cls}: {count} images\")\n",
        "    print(f\"  ➜ Total {split}: {total} images\")"
      ],
      "metadata": {
        "id": "_6SikIbdNmz8",
        "outputId": "023e1ebe-6e02-442d-ee2f-618c017f159f",
        "colab": {
          "base_uri": "https://localhost:8080/"
        }
      },
      "id": "_6SikIbdNmz8",
      "execution_count": 18,
      "outputs": [
        {
          "output_type": "stream",
          "name": "stdout",
          "text": [
            "\n",
            " TRAIN SET\n",
            "  Miscellaneous Trash: 346 images\n",
            "  Paper: 350 images\n",
            "  Textile Trash: 222 images\n",
            "  .ipynb_checkpoints: 0 images\n",
            "  Metal: 553 images\n",
            "  Vegetation: 305 images\n",
            "  Cardboard: 322 images\n",
            "  Food Organics: 287 images\n",
            "  Plastic: 644 images\n",
            "  Glass: 294 images\n",
            "  ➜ Total train: 3323 images\n",
            "\n",
            " VAL SET\n",
            "  Miscellaneous Trash: 74 images\n",
            "  Paper: 75 images\n",
            "  Textile Trash: 47 images\n",
            "  .ipynb_checkpoints: 0 images\n",
            "  Metal: 118 images\n",
            "  Vegetation: 65 images\n",
            "  Cardboard: 69 images\n",
            "  Food Organics: 61 images\n",
            "  Plastic: 138 images\n",
            "  Glass: 63 images\n",
            "  ➜ Total val: 710 images\n",
            "\n",
            " TEST SET\n",
            "  Miscellaneous Trash: 75 images\n",
            "  Paper: 75 images\n",
            "  Textile Trash: 49 images\n",
            "  .ipynb_checkpoints: 0 images\n",
            "  Metal: 119 images\n",
            "  Vegetation: 66 images\n",
            "  Cardboard: 70 images\n",
            "  Food Organics: 63 images\n",
            "  Plastic: 139 images\n",
            "  Glass: 63 images\n",
            "  ➜ Total test: 719 images\n"
          ]
        }
      ]
    },
    {
      "cell_type": "code",
      "source": [],
      "metadata": {
        "id": "qE_n82qeOe3p"
      },
      "id": "qE_n82qeOe3p",
      "execution_count": null,
      "outputs": []
    }
  ],
  "metadata": {
    "kernelspec": {
      "display_name": "Python 3",
      "language": "python",
      "name": "python3"
    },
    "language_info": {
      "codemirror_mode": {
        "name": "ipython",
        "version": 3
      },
      "file_extension": ".py",
      "mimetype": "text/x-python",
      "name": "python",
      "nbconvert_exporter": "python",
      "pygments_lexer": "ipython3",
      "version": "3.12.3"
    },
    "colab": {
      "provenance": []
    }
  },
  "nbformat": 4,
  "nbformat_minor": 5
}