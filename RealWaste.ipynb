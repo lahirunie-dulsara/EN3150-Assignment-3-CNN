{
  "cells": [
    {
      "cell_type": "markdown",
      "metadata": {
        "id": "view-in-github",
        "colab_type": "text"
      },
      "source": [
        "<a href=\"https://colab.research.google.com/github/lahirunie-dulsara/EN3150-Assignment-3-CNN/blob/Aazir/RealWaste.ipynb\" target=\"_parent\"><img src=\"https://colab.research.google.com/assets/colab-badge.svg\" alt=\"Open In Colab\"/></a>"
      ]
    },
    {
      "cell_type": "code",
      "source": [
        "from google.colab import drive\n",
        "drive.mount('/content/drive')"
      ],
      "metadata": {
        "colab": {
          "base_uri": "https://localhost:8080/"
        },
        "id": "uHbFqHHu0YqR",
        "outputId": "17fa1edc-b514-4cd8-b80b-8b3faa36cd52"
      },
      "execution_count": 1,
      "outputs": [
        {
          "output_type": "stream",
          "name": "stdout",
          "text": [
            "Drive already mounted at /content/drive; to attempt to forcibly remount, call drive.mount(\"/content/drive\", force_remount=True).\n"
          ]
        }
      ]
    },
    {
      "cell_type": "code",
      "execution_count": 2,
      "metadata": {
        "id": "FQcAlzHU2Sw3",
        "colab": {
          "base_uri": "https://localhost:8080/"
        },
        "outputId": "5c5160c6-e4ad-4b95-9c36-b58065456e78"
      },
      "outputs": [
        {
          "output_type": "stream",
          "name": "stdout",
          "text": [
            "Unzipped to: /content\n"
          ]
        }
      ],
      "source": [
        "import zipfile, os, re, shutil\n",
        "from PIL import Image\n",
        "\n",
        "zip_path = \"/content/drive/MyDrive/Pattern Recognition/realwaste.zip\"\n",
        "\n",
        "extract_path = \"/content\"\n",
        "os.makedirs(extract_path, exist_ok=True)\n",
        "\n",
        "with zipfile.ZipFile(zip_path, 'r') as zip_ref:\n",
        "    zip_ref.extractall(extract_path)\n",
        "print(\"Unzipped to:\", extract_path)\n"
      ]
    },
    {
      "cell_type": "code",
      "source": [
        "base_dir = \"/content/realwaste-main/RealWaste\"\n",
        "for folder in os.listdir(base_dir):\n",
        "    count = len(os.listdir(os.path.join(base_dir, folder)))\n",
        "    print(f\"{folder}: {count} images\")"
      ],
      "metadata": {
        "colab": {
          "base_uri": "https://localhost:8080/"
        },
        "id": "WC34Jsja_TlT",
        "outputId": "b070794e-57dc-4c6d-857a-1459f14aeff5"
      },
      "execution_count": 3,
      "outputs": [
        {
          "output_type": "stream",
          "name": "stdout",
          "text": [
            "Paper: 500 images\n",
            "Metal: 790 images\n",
            "Cardboard: 461 images\n",
            "Textile Trash: 318 images\n",
            "Vegetation: 436 images\n",
            "Glass: 420 images\n",
            "Plastic: 921 images\n",
            "Miscellaneous Trash: 495 images\n",
            "Food Organics: 411 images\n"
          ]
        }
      ]
    },
    {
      "cell_type": "code",
      "source": [
        "pip install split-folders"
      ],
      "metadata": {
        "id": "QfEBmPX8JGfM",
        "colab": {
          "base_uri": "https://localhost:8080/"
        },
        "outputId": "b94a53be-3afe-4a0f-9091-88caaed2a286"
      },
      "execution_count": 4,
      "outputs": [
        {
          "output_type": "stream",
          "name": "stdout",
          "text": [
            "Requirement already satisfied: split-folders in /usr/local/lib/python3.12/dist-packages (0.5.1)\n"
          ]
        }
      ]
    },
    {
      "cell_type": "code",
      "source": [
        "import splitfolders  # install with: pip install split-folders\n",
        "\n",
        "input_folder = base_dir\n",
        "output_folder = \"/content/realwaste-main/RealWaste_split\"\n",
        "\n",
        "splitfolders.ratio(input_folder, output=output_folder, seed=42, ratio=(.7, .15, .15))"
      ],
      "metadata": {
        "colab": {
          "base_uri": "https://localhost:8080/"
        },
        "id": "op1hnovlItS8",
        "outputId": "5769031e-2c6f-4f38-b412-bc31a7f68d20"
      },
      "execution_count": 5,
      "outputs": [
        {
          "output_type": "stream",
          "name": "stderr",
          "text": [
            "Copying files: 4752 files [00:04, 1137.77 files/s]\n"
          ]
        }
      ]
    },
    {
      "cell_type": "code",
      "source": [
        "split_dir = output_folder\n",
        "\n",
        "# Count images in each subfolder\n",
        "for split in ['train', 'val', 'test']:\n",
        "    split_path = os.path.join(split_dir, split)\n",
        "    print(f\"\\n{split.upper()} SET\")\n",
        "    total = 0\n",
        "    for cls in os.listdir(split_path):\n",
        "        cls_path = os.path.join(split_path, cls)\n",
        "        count = len(os.listdir(cls_path))\n",
        "\n",
        "        total += count\n",
        "        print(f\"  {cls}: {count} images\")\n",
        "    print(f\" Total {split}: {total} images\")"
      ],
      "metadata": {
        "colab": {
          "base_uri": "https://localhost:8080/"
        },
        "id": "lb9khb9XKCQK",
        "outputId": "ec3d9bc2-35e5-445c-d176-b74a7ea2358c"
      },
      "execution_count": 6,
      "outputs": [
        {
          "output_type": "stream",
          "name": "stdout",
          "text": [
            "\n",
            "TRAIN SET\n",
            "  Paper: 350 images\n",
            "  Metal: 553 images\n",
            "  Cardboard: 322 images\n",
            "  Textile Trash: 222 images\n",
            "  Vegetation: 305 images\n",
            "  Glass: 294 images\n",
            "  Plastic: 644 images\n",
            "  Miscellaneous Trash: 346 images\n",
            "  Food Organics: 287 images\n",
            " Total train: 3323 images\n",
            "\n",
            "VAL SET\n",
            "  Paper: 75 images\n",
            "  Metal: 118 images\n",
            "  Cardboard: 69 images\n",
            "  Textile Trash: 47 images\n",
            "  Vegetation: 65 images\n",
            "  Glass: 63 images\n",
            "  Plastic: 138 images\n",
            "  Miscellaneous Trash: 74 images\n",
            "  Food Organics: 61 images\n",
            " Total val: 710 images\n",
            "\n",
            "TEST SET\n",
            "  Paper: 75 images\n",
            "  Metal: 119 images\n",
            "  Cardboard: 70 images\n",
            "  Textile Trash: 49 images\n",
            "  Vegetation: 66 images\n",
            "  Glass: 63 images\n",
            "  Plastic: 139 images\n",
            "  Miscellaneous Trash: 75 images\n",
            "  Food Organics: 63 images\n",
            " Total test: 719 images\n"
          ]
        }
      ]
    },
    {
      "cell_type": "code",
      "source": [
        "import os\n",
        "import torch\n",
        "from torch.utils.data import DataLoader, WeightedRandomSampler\n",
        "from torchvision import datasets, transforms\n",
        "import numpy as np # Already imported later, but useful here\n",
        "from tqdm import tqdm # For progress bars\n",
        "\n",
        "# Define standard normalization parameters (e.g., ImageNet mean/std)\n",
        "# Even for custom CNNs, normalization helps training stability.\n",
        "IMAGENET_MEAN = [0.485, 0.456, 0.406]\n",
        "IMAGENET_STD = [0.229, 0.224, 0.225]\n",
        "\n",
        "train_transforms = transforms.Compose([\n",
        "    transforms.RandomResizedCrop(224, scale=(0.8, 1.0)),\n",
        "    # transforms.RandomHorizontalFlip(),\n",
        "    # transforms.RandomRotation(20),\n",
        "    # transforms.ColorJitter(brightness=0.3, contrast=0.3, saturation=0.3),\n",
        "    transforms.ToTensor(),\n",
        "    # transforms.Normalize(mean=IMAGENET_MEAN, std=IMAGENET_STD) # ADDED: Normalization\n",
        "])\n",
        "\n",
        "val_test_transforms = transforms.Compose([\n",
        "    transforms.Resize((224, 224)),\n",
        "    transforms.ToTensor(),\n",
        "    # transforms.Normalize(mean=IMAGENET_MEAN, std=IMAGENET_STD) # ADDED: Normalization\n",
        "])\n",
        "\n",
        "train_dataset = datasets.ImageFolder(\"/content/realwaste-main/RealWaste_split/train\", transform=train_transforms)\n",
        "val_dataset   = datasets.ImageFolder(\"/content/realwaste-main/RealWaste_split/val\", transform=val_test_transforms)\n",
        "test_dataset  = datasets.ImageFolder(\"/content/realwaste-main/RealWaste_split/test\", transform=val_test_transforms)\n",
        "\n",
        "# Get number of classes and device early\n",
        "num_classes = len(train_dataset.classes)\n",
        "device = torch.device(\"cuda\" if torch.cuda.is_available() else \"cpu\")\n",
        "print(f\"Using device: {device}\")\n",
        "print(f\"Number of classes: {num_classes}\")"
      ],
      "metadata": {
        "id": "mfh7AZ8-15hW",
        "colab": {
          "base_uri": "https://localhost:8080/"
        },
        "outputId": "544e8369-49b1-44b7-e941-6b9d0b39dbde"
      },
      "execution_count": 7,
      "outputs": [
        {
          "output_type": "stream",
          "name": "stdout",
          "text": [
            "Using device: cuda\n",
            "Number of classes: 9\n"
          ]
        }
      ]
    },
    {
      "cell_type": "code",
      "source": [
        "# Assuming train_dataset, val_dataset, test_dataset are defined from Block 1\n",
        "\n",
        "class_counts = np.bincount(train_dataset.targets)\n",
        "print(\"Class counts:\", class_counts)\n",
        "\n",
        "# Compute class weights (inverse of frequency)\n",
        "class_weights_tensor = 1. / torch.tensor(class_counts, dtype=torch.float)\n",
        "\n",
        "# Ensure sample_weights are floats for the sampler\n",
        "sample_weights = [class_weights_tensor[label].item() for label in train_dataset.targets]\n",
        "\n",
        "print(\"Class counts per category:\")\n",
        "for cls, count in zip(train_dataset.classes, class_counts):\n",
        "    print(f\"  {cls:15s}: {count}\")\n",
        "\n",
        "print(\"\\n Class weights (inverse of frequency):\")\n",
        "for cls, w in zip(train_dataset.classes, class_weights_tensor):\n",
        "    print(f\"  {cls:15s}: {w:.6f}\")\n",
        "\n"
      ],
      "metadata": {
        "colab": {
          "base_uri": "https://localhost:8080/"
        },
        "id": "PmQbScjmCmkv",
        "outputId": "eb9dee6c-7ff5-4165-c6b2-3ebfd3e0d0cf"
      },
      "execution_count": 14,
      "outputs": [
        {
          "output_type": "stream",
          "name": "stdout",
          "text": [
            "Class counts: [322 287 294 553 346 350 644 222 305]\n",
            "Class counts per category:\n",
            "  Cardboard      : 322\n",
            "  Food Organics  : 287\n",
            "  Glass          : 294\n",
            "  Metal          : 553\n",
            "  Miscellaneous Trash: 346\n",
            "  Paper          : 350\n",
            "  Plastic        : 644\n",
            "  Textile Trash  : 222\n",
            "  Vegetation     : 305\n",
            "\n",
            " Class weights (inverse of frequency):\n",
            "  Cardboard      : 0.003106\n",
            "  Food Organics  : 0.003484\n",
            "  Glass          : 0.003401\n",
            "  Metal          : 0.001808\n",
            "  Miscellaneous Trash: 0.002890\n",
            "  Paper          : 0.002857\n",
            "  Plastic        : 0.001553\n",
            "  Textile Trash  : 0.004505\n",
            "  Vegetation     : 0.003279\n"
          ]
        }
      ]
    },
    {
      "cell_type": "code",
      "source": [
        "# Define a consistent BATCH_SIZE\n",
        "BATCH_SIZE = 64 # Increased batch size\n",
        "\n",
        "sampler = WeightedRandomSampler(\n",
        "    weights=sample_weights,\n",
        "    num_samples=len(sample_weights),\n",
        "    replacement=True\n",
        ")\n",
        "\n",
        "train_loader = DataLoader(train_dataset, batch_size=BATCH_SIZE, sampler=sampler) # ADDED: num_workers\n",
        "val_loader = DataLoader(val_dataset, batch_size=BATCH_SIZE, shuffle=False) # ADDED: val_loader\n",
        "test_loader = DataLoader(test_dataset, batch_size=BATCH_SIZE, shuffle=False) # ADDED: test_loader\n",
        "\n",
        "\n",
        "print(f\"\\n WeightedRandomSampler created successfully!\")\n",
        "print(f\" Total samples in epoch: {len(sample_weights)}\")\n",
        "print(f\" Training Batch size: {train_loader.batch_size}\")\n",
        "print(f\" Validation Batch size: {val_loader.batch_size}\")\n",
        "print(f\" Total training batches per epoch: {len(train_loader)}\")"
      ],
      "metadata": {
        "colab": {
          "base_uri": "https://localhost:8080/"
        },
        "id": "xHJPQoRzMefy",
        "outputId": "5a504d4e-c1eb-4493-d17e-9b7dab180afd"
      },
      "execution_count": 15,
      "outputs": [
        {
          "output_type": "stream",
          "name": "stdout",
          "text": [
            "\n",
            " WeightedRandomSampler created successfully!\n",
            " Total samples in epoch: 3323\n",
            " Training Batch size: 64\n",
            " Validation Batch size: 64\n",
            " Total training batches per epoch: 52\n"
          ]
        }
      ]
    },
    {
      "cell_type": "code",
      "source": [
        "import torch\n",
        "import torch.nn as nn\n",
        "import torch.nn.functional as F\n",
        "import torch.optim as optim\n",
        "from torch.optim.lr_scheduler import StepLR\n",
        "from tqdm import tqdm # For progress bars during training\n",
        "import matplotlib.pyplot as plt\n",
        "import numpy as np\n",
        "import copy # For creating models with identical initial weights\n",
        "\n",
        "# Define the custom CNN model (WasteCNN)\n",
        "class WasteCNN(nn.Module):\n",
        "    def __init__(self, num_classes=9):\n",
        "        super(WasteCNN, self).__init__()\n",
        "        # Convolutional Layers with Batch Normalization and Max Pooling\n",
        "        self.conv1 = nn.Conv2d(3, 32, kernel_size=3, padding=1)\n",
        "        self.bn1 = nn.BatchNorm2d(32)\n",
        "        self.pool = nn.MaxPool2d(2, 2)\n",
        "\n",
        "        self.conv2 = nn.Conv2d(32, 64, kernel_size=3, padding=1)\n",
        "        self.bn2 = nn.BatchNorm2d(64)\n",
        "\n",
        "        self.conv3 = nn.Conv2d(64, 128, kernel_size=3, padding=1)\n",
        "        self.bn3 = nn.BatchNorm2d(128)\n",
        "\n",
        "        # Dynamically determine the size of the feature maps after convolutional layers\n",
        "        self._to_linear = None\n",
        "        self.calculate_flatten_size(224) # Assuming an input image size of 224x224\n",
        "\n",
        "        # Fully Connected Layers\n",
        "        self.fc1 = nn.Linear(self._to_linear, 256)\n",
        "        self.dropout = nn.Dropout(0.5) # Dropout for regularization\n",
        "        self.fc2 = nn.Linear(256, num_classes) # Output layer\n",
        "\n",
        "    def calculate_flatten_size(self, input_size):\n",
        "        # Pass a dummy tensor through the convolutional layers to determine the flattened size\n",
        "        with torch.no_grad():\n",
        "            x = torch.zeros(1, 3, input_size, input_size)\n",
        "            x = self.pool(F.relu(self.bn1(self.conv1(x))))\n",
        "            x = self.pool(F.relu(self.bn2(self.conv2(x))))\n",
        "            x = self.pool(F.relu(self.bn3(self.conv3(x))))\n",
        "            self._to_linear = x.view(x.size(0), -1).size(1)\n",
        "\n",
        "    def forward(self, x):\n",
        "        x = self.pool(F.relu(self.bn1(self.conv1(x))))\n",
        "        x = self.pool(F.relu(self.bn2(self.conv2(x))))\n",
        "        x = self.pool(F.relu(self.bn3(self.conv3(x))))\n",
        "\n",
        "        if self._to_linear is None:\n",
        "          self._to_linear = x.view(x.size(0), -1).size(1)\n",
        "\n",
        "        x = x.view(-1, self._to_linear) # Flatten the output\n",
        "        x = self.dropout(F.relu(self.fc1(x))) # Apply dropout and ReLU to the first FC layer\n",
        "        x = self.fc2(x) # Output layer (logits)\n",
        "        return x\n",
        "\n",
        "# Assuming num_classes and device are defined from previous steps\n",
        "# e.g., num_classes = 9\n",
        "# e.g., device = torch.device(\"cuda\" if torch.cuda.is_available() else \"cpu\")\n",
        "print(\"WasteCNN model class defined and ready for use.\")"
      ],
      "metadata": {
        "id": "Vip9TVk2VxQy",
        "colab": {
          "base_uri": "https://localhost:8080/"
        },
        "outputId": "c9c3ae0b-e05e-4641-9f06-4232ab7fbade"
      },
      "execution_count": 16,
      "outputs": [
        {
          "output_type": "stream",
          "name": "stdout",
          "text": [
            "WasteCNN model class defined and ready for use.\n"
          ]
        }
      ]
    },
    {
      "cell_type": "code",
      "source": [
        "# Function to get a new model instance, optionally with identical initial weights\n",
        "# For a fair comparison, all models should ideally start from the same initial random weights.\n",
        "def get_fresh_model_for_comparison(num_classes, device, base_model_path='initial_model_weights.pth'):\n",
        "    if not os.path.exists(base_model_path):\n",
        "        # If no base model state exists, create one and save its initial state\n",
        "        initial_model = WasteCNN(num_classes=num_classes).to(device)\n",
        "        torch.save(initial_model.state_dict(), base_model_path)\n",
        "        print(f\"Created and saved initial model weights to {base_model_path}\")\n",
        "        return initial_model\n",
        "    else:\n",
        "        # Load the saved initial state into a new model instance\n",
        "        new_model = WasteCNN(num_classes=num_classes).to(device)\n",
        "        new_model.load_state_dict(torch.load(base_model_path))\n",
        "        return new_model\n",
        "\n",
        "# --- Define a generic Training Function for Optimizer Comparison ---\n",
        "def run_optimizer_training_comparison(model_instance, optimizer_name, optimizer_obj, criterion_obj, scheduler_obj, num_epochs_comp, train_loader_comp, val_loader_comp, device_comp):\n",
        "    print(f\"\\nTraining with {optimizer_name} for {num_epochs_comp} epochs...\")\n",
        "\n",
        "    current_train_losses = []\n",
        "    current_train_accuracies = []\n",
        "    current_val_losses = []\n",
        "    current_val_accuracies = []\n",
        "\n",
        "    best_val_acc_run = 0.0\n",
        "    model_path_run = f'best_model_comparison_{optimizer_name.lower().replace(\" \", \"_\").replace(\"-\", \"_\")}.pth'\n",
        "\n",
        "    for epoch in range(num_epochs_comp):\n",
        "        # Training phase\n",
        "        model_instance.train()\n",
        "        running_loss = 0.0\n",
        "        train_correct = 0\n",
        "        train_total = 0\n",
        "\n",
        "        train_loop = tqdm(train_loader_comp, desc=f\"Epoch {epoch+1}/{num_epochs_comp} ({optimizer_name} Train)\", leave=False)\n",
        "        for images, labels in train_loop:\n",
        "            images, labels = images.to(device_comp), labels.to(device_comp)\n",
        "\n",
        "            optimizer_obj.zero_grad() # Zero the parameter gradients\n",
        "            outputs = model_instance(images) # Forward pass\n",
        "            loss = criterion_obj(outputs, labels) # Calculate loss\n",
        "            loss.backward() # Backward pass\n",
        "            optimizer_obj.step() # Optimize\n",
        "\n",
        "            running_loss += loss.item() * images.size(0) # Aggregate loss\n",
        "\n",
        "            _, predicted = torch.max(outputs, 1) # Get predictions\n",
        "            train_total += labels.size(0)\n",
        "            train_correct += (predicted == labels).sum().item()\n",
        "\n",
        "            train_loop.set_postfix(loss=loss.item())\n",
        "\n",
        "        epoch_train_loss = running_loss / len(train_loader_comp.dataset)\n",
        "        epoch_train_accuracy = 100 * train_correct / train_total\n",
        "        current_train_losses.append(epoch_train_loss)\n",
        "        current_train_accuracies.append(epoch_train_accuracy)\n",
        "\n",
        "        if scheduler_obj:\n",
        "            scheduler_obj.step() # Update learning rate if a scheduler is provided\n",
        "\n",
        "        # Validation phase\n",
        "        model_instance.eval() # Set model to evaluation mode\n",
        "        val_correct = 0\n",
        "        val_total = 0\n",
        "        val_running_loss = 0.0\n",
        "\n",
        "        with torch.no_grad(): # Disable gradient computation\n",
        "            val_loop = tqdm(val_loader_comp, desc=f\"Epoch {epoch+1}/{num_epochs_comp} ({optimizer_name} Val)\", leave=False)\n",
        "            for images, labels in val_loop:\n",
        "                images, labels = images.to(device_comp), labels.to(device_comp)\n",
        "                outputs = model_instance(images)\n",
        "                loss = criterion_obj(outputs, labels)\n",
        "                val_running_loss += loss.item() * images.size(0)\n",
        "\n",
        "                _, predicted = torch.max(outputs, 1)\n",
        "                val_total += labels.size(0)\n",
        "                val_correct += (predicted == labels).sum().item()\n",
        "\n",
        "        epoch_val_loss = val_running_loss / len(val_loader_comp.dataset)\n",
        "        epoch_val_accuracy = 100 * val_correct / val_total\n",
        "        current_val_losses.append(epoch_val_loss)\n",
        "        current_val_accuracies.append(epoch_val_accuracy)\n",
        "\n",
        "        print(f\"  {optimizer_name} - Epoch [{epoch+1}/{num_epochs_comp}] \"\n",
        "              f\"Train Loss: {epoch_train_loss:.4f} | Train Acc: {epoch_train_accuracy:.2f}% | \"\n",
        "              f\"Val Loss: {epoch_val_loss:.4f} | Val Accuracy: {epoch_val_accuracy:.2f}%\")\n",
        "\n",
        "        if epoch_val_accuracy > best_val_acc_run:\n",
        "            best_val_acc_run = epoch_val_accuracy\n",
        "            torch.save(model_instance.state_dict(), model_path_run) # Save best model for current optimizer\n",
        "\n",
        "    print(f\"--- {optimizer_name} training finished. Best Val Accuracy: {best_val_acc_run:.2f}% ---\")\n",
        "    return current_train_losses, current_train_accuracies, current_val_losses, current_val_accuracies, model_path_run\n",
        "\n",
        "print(\"Helper functions `get_fresh_model_for_comparison` and `run_optimizer_training_comparison` defined.\")"
      ],
      "metadata": {
        "colab": {
          "base_uri": "https://localhost:8080/"
        },
        "id": "H4gbsIjQRzwL",
        "outputId": "2005317d-9373-4c86-adb2-c79c7defe09a"
      },
      "execution_count": 17,
      "outputs": [
        {
          "output_type": "stream",
          "name": "stdout",
          "text": [
            "Helper functions `get_fresh_model_for_comparison` and `run_optimizer_training_comparison` defined.\n"
          ]
        }
      ]
    },
    {
      "cell_type": "code",
      "source": [
        "import torch, gc\n",
        "\n",
        "torch.cuda.empty_cache()\n",
        "gc.collect()"
      ],
      "metadata": {
        "id": "JoR-6ElK5wEs",
        "outputId": "08d5f3be-b804-4f38-ff0d-03201ca5fef2",
        "colab": {
          "base_uri": "https://localhost:8080/"
        }
      },
      "execution_count": 18,
      "outputs": [
        {
          "output_type": "execute_result",
          "data": {
            "text/plain": [
              "0"
            ]
          },
          "metadata": {},
          "execution_count": 18
        }
      ]
    },
    {
      "cell_type": "code",
      "source": [
        "print(\"\\n\" + \"=\"*50)\n",
        "print(\"       Starting Optimizer Performance Comparison Training       \")\n",
        "print(\"=\"*50 + \"\\n\")\n",
        "\n",
        "# Create a 'base' model to get initial weights that all comparison models will share.\n",
        "# This ensures a fair comparison starting from the same random initialization.\n",
        "_ = get_fresh_model_for_comparison(num_classes, device) # Call once to save the initial state\n",
        "\n",
        "# --- Optimizer Configuration for Comparison ---\n",
        "NUM_EPOCHS_COMP = 20 # Train for 20 epochs as specified in the assignment\n",
        "\n",
        "# Common Loss Function\n",
        "criterion_comp = nn.CrossEntropyLoss()\n",
        "\n",
        "# 1. Adam Optimizer Configuration\n",
        "model_adam_comp = get_fresh_model_for_comparison(num_classes, device) # Load identical initial weights\n",
        "optimizer_adam_comp = optim.Adam(model_adam_comp.parameters(), lr=0.001, weight_decay=1e-4)\n",
        "scheduler_adam_comp = StepLR(optimizer_adam_comp, step_size=10, gamma=0.1)\n",
        "\n",
        "# 2. Standard SGD Optimizer Configuration\n",
        "model_sgd_comp = get_fresh_model_for_comparison(num_classes, device) # Load identical initial weights\n",
        "# SGD often requires a higher learning rate compared to Adam.\n",
        "optimizer_sgd_comp = optim.SGD(model_sgd_comp.parameters(), lr=0.01, weight_decay=1e-4)\n",
        "scheduler_sgd_comp = StepLR(optimizer_sgd_comp, step_size=10, gamma=0.1)\n",
        "\n",
        "# 3. SGD with Momentum Optimizer Configuration\n",
        "model_sgd_momentum_comp = get_fresh_model_for_comparison(num_classes, device) # Load identical initial weights\n",
        "# Common momentum value is 0.9.\n",
        "optimizer_sgd_momentum_comp = optim.SGD(model_sgd_momentum_comp.parameters(), lr=0.01, momentum=0.9, weight_decay=1e-4)\n",
        "scheduler_sgd_momentum_comp = StepLR(optimizer_sgd_momentum_comp, step_size=10, gamma=0.1)\n",
        "\n",
        "# --- Run Training for each Optimizer ---\n",
        "adam_results = run_optimizer_training_comparison(\n",
        "    model_adam_comp, \"Adam\", optimizer_adam_comp, criterion_comp, scheduler_adam_comp, NUM_EPOCHS_COMP, train_loader, val_loader, device\n",
        ")\n",
        "adam_train_losses, adam_train_accuracies, adam_val_losses, adam_val_accuracies, adam_comp_model_path = adam_results\n",
        "\n",
        "sgd_results = run_optimizer_training_comparison(\n",
        "    model_sgd_comp, \"Standard SGD\", optimizer_sgd_comp, criterion_comp, scheduler_sgd_comp, NUM_EPOCHS_COMP, train_loader, val_loader, device\n",
        ")\n",
        "sgd_train_losses, sgd_train_accuracies, sgd_val_losses, sgd_val_accuracies, sgd_comp_model_path = sgd_results\n",
        "\n",
        "sgd_momentum_results = run_optimizer_training_comparison(\n",
        "    model_sgd_momentum_comp, \"SGD with Momentum\", optimizer_sgd_momentum_comp, criterion_comp, scheduler_sgd_momentum_comp, NUM_EPOCHS_COMP, train_loader, val_loader, device\n",
        ")\n",
        "sgd_momentum_train_losses, sgd_momentum_train_accuracies, sgd_momentum_val_losses, sgd_momentum_val_accuracies, sgd_momentum_comp_model_path = sgd_momentum_results\n",
        "\n",
        "print(\"\\nOptimizer comparison training completed for all models.\")"
      ],
      "metadata": {
        "id": "zd2TbTK0pKXq",
        "outputId": "4d1d5d37-d388-42c3-89c8-f30fb7d31dfb",
        "colab": {
          "base_uri": "https://localhost:8080/"
        }
      },
      "execution_count": 19,
      "outputs": [
        {
          "output_type": "stream",
          "name": "stdout",
          "text": [
            "\n",
            "==================================================\n",
            "       Starting Optimizer Performance Comparison Training       \n",
            "==================================================\n",
            "\n",
            "Created and saved initial model weights to initial_model_weights.pth\n",
            "\n",
            "Training with Adam for 20 epochs...\n"
          ]
        },
        {
          "output_type": "stream",
          "name": "stderr",
          "text": []
        },
        {
          "output_type": "stream",
          "name": "stdout",
          "text": [
            "  Adam - Epoch [1/20] Train Loss: 5.5820 | Train Acc: 22.96% | Val Loss: 1.9840 | Val Accuracy: 24.79%\n"
          ]
        },
        {
          "output_type": "stream",
          "name": "stderr",
          "text": []
        },
        {
          "output_type": "stream",
          "name": "stdout",
          "text": [
            "  Adam - Epoch [2/20] Train Loss: 1.9084 | Train Acc: 28.83% | Val Loss: 1.7056 | Val Accuracy: 34.51%\n"
          ]
        },
        {
          "output_type": "stream",
          "name": "stderr",
          "text": []
        },
        {
          "output_type": "stream",
          "name": "stdout",
          "text": [
            "  Adam - Epoch [3/20] Train Loss: 1.7486 | Train Acc: 34.67% | Val Loss: 1.8396 | Val Accuracy: 36.62%\n"
          ]
        },
        {
          "output_type": "stream",
          "name": "stderr",
          "text": []
        },
        {
          "output_type": "stream",
          "name": "stdout",
          "text": [
            "  Adam - Epoch [4/20] Train Loss: 1.6429 | Train Acc: 37.41% | Val Loss: 1.5547 | Val Accuracy: 41.69%\n"
          ]
        },
        {
          "output_type": "stream",
          "name": "stderr",
          "text": []
        },
        {
          "output_type": "stream",
          "name": "stdout",
          "text": [
            "  Adam - Epoch [5/20] Train Loss: 1.6299 | Train Acc: 38.85% | Val Loss: 1.4650 | Val Accuracy: 42.54%\n"
          ]
        },
        {
          "output_type": "stream",
          "name": "stderr",
          "text": []
        },
        {
          "output_type": "stream",
          "name": "stdout",
          "text": [
            "  Adam - Epoch [6/20] Train Loss: 1.5444 | Train Acc: 40.02% | Val Loss: 1.6170 | Val Accuracy: 41.69%\n"
          ]
        },
        {
          "output_type": "stream",
          "name": "stderr",
          "text": []
        },
        {
          "output_type": "stream",
          "name": "stdout",
          "text": [
            "  Adam - Epoch [7/20] Train Loss: 1.4990 | Train Acc: 41.86% | Val Loss: 1.5513 | Val Accuracy: 38.03%\n"
          ]
        },
        {
          "output_type": "stream",
          "name": "stderr",
          "text": []
        },
        {
          "output_type": "stream",
          "name": "stdout",
          "text": [
            "  Adam - Epoch [8/20] Train Loss: 1.4751 | Train Acc: 42.97% | Val Loss: 1.4756 | Val Accuracy: 42.68%\n"
          ]
        },
        {
          "output_type": "stream",
          "name": "stderr",
          "text": []
        },
        {
          "output_type": "stream",
          "name": "stdout",
          "text": [
            "  Adam - Epoch [9/20] Train Loss: 1.4529 | Train Acc: 44.06% | Val Loss: 1.4260 | Val Accuracy: 47.32%\n"
          ]
        },
        {
          "output_type": "stream",
          "name": "stderr",
          "text": []
        },
        {
          "output_type": "stream",
          "name": "stdout",
          "text": [
            "  Adam - Epoch [10/20] Train Loss: 1.3763 | Train Acc: 46.95% | Val Loss: 1.3953 | Val Accuracy: 47.75%\n"
          ]
        },
        {
          "output_type": "stream",
          "name": "stderr",
          "text": []
        },
        {
          "output_type": "stream",
          "name": "stdout",
          "text": [
            "  Adam - Epoch [11/20] Train Loss: 1.3094 | Train Acc: 48.75% | Val Loss: 1.1913 | Val Accuracy: 55.35%\n"
          ]
        },
        {
          "output_type": "stream",
          "name": "stderr",
          "text": []
        },
        {
          "output_type": "stream",
          "name": "stdout",
          "text": [
            "  Adam - Epoch [12/20] Train Loss: 1.3096 | Train Acc: 48.93% | Val Loss: 1.1689 | Val Accuracy: 55.21%\n"
          ]
        },
        {
          "output_type": "stream",
          "name": "stderr",
          "text": []
        },
        {
          "output_type": "stream",
          "name": "stdout",
          "text": [
            "  Adam - Epoch [13/20] Train Loss: 1.2450 | Train Acc: 51.04% | Val Loss: 1.1876 | Val Accuracy: 53.94%\n"
          ]
        },
        {
          "output_type": "stream",
          "name": "stderr",
          "text": []
        },
        {
          "output_type": "stream",
          "name": "stdout",
          "text": [
            "  Adam - Epoch [14/20] Train Loss: 1.2529 | Train Acc: 50.08% | Val Loss: 1.1589 | Val Accuracy: 54.51%\n"
          ]
        },
        {
          "output_type": "stream",
          "name": "stderr",
          "text": []
        },
        {
          "output_type": "stream",
          "name": "stdout",
          "text": [
            "  Adam - Epoch [15/20] Train Loss: 1.2405 | Train Acc: 50.71% | Val Loss: 1.1296 | Val Accuracy: 56.34%\n"
          ]
        },
        {
          "output_type": "stream",
          "name": "stderr",
          "text": []
        },
        {
          "output_type": "stream",
          "name": "stdout",
          "text": [
            "  Adam - Epoch [16/20] Train Loss: 1.2335 | Train Acc: 51.85% | Val Loss: 1.1189 | Val Accuracy: 56.48%\n"
          ]
        },
        {
          "output_type": "stream",
          "name": "stderr",
          "text": []
        },
        {
          "output_type": "stream",
          "name": "stdout",
          "text": [
            "  Adam - Epoch [17/20] Train Loss: 1.2258 | Train Acc: 51.88% | Val Loss: 1.1315 | Val Accuracy: 56.34%\n"
          ]
        },
        {
          "output_type": "stream",
          "name": "stderr",
          "text": []
        },
        {
          "output_type": "stream",
          "name": "stdout",
          "text": [
            "  Adam - Epoch [18/20] Train Loss: 1.2259 | Train Acc: 51.85% | Val Loss: 1.1127 | Val Accuracy: 57.32%\n"
          ]
        },
        {
          "output_type": "stream",
          "name": "stderr",
          "text": []
        },
        {
          "output_type": "stream",
          "name": "stdout",
          "text": [
            "  Adam - Epoch [19/20] Train Loss: 1.2323 | Train Acc: 51.85% | Val Loss: 1.1366 | Val Accuracy: 58.17%\n"
          ]
        },
        {
          "output_type": "stream",
          "name": "stderr",
          "text": []
        },
        {
          "output_type": "stream",
          "name": "stdout",
          "text": [
            "  Adam - Epoch [20/20] Train Loss: 1.1851 | Train Acc: 53.75% | Val Loss: 1.0906 | Val Accuracy: 57.61%\n",
            "--- Adam training finished. Best Val Accuracy: 58.17% ---\n",
            "\n",
            "Training with Standard SGD for 20 epochs...\n"
          ]
        },
        {
          "output_type": "stream",
          "name": "stderr",
          "text": []
        },
        {
          "output_type": "stream",
          "name": "stdout",
          "text": [
            "  Standard SGD - Epoch [1/20] Train Loss: 2.1240 | Train Acc: 29.55% | Val Loss: 2.0004 | Val Accuracy: 23.66%\n"
          ]
        },
        {
          "output_type": "stream",
          "name": "stderr",
          "text": []
        },
        {
          "output_type": "stream",
          "name": "stdout",
          "text": [
            "  Standard SGD - Epoch [2/20] Train Loss: 1.5098 | Train Acc: 44.30% | Val Loss: 1.4070 | Val Accuracy: 50.14%\n"
          ]
        },
        {
          "output_type": "stream",
          "name": "stderr",
          "text": []
        },
        {
          "output_type": "stream",
          "name": "stdout",
          "text": [
            "  Standard SGD - Epoch [3/20] Train Loss: 1.3171 | Train Acc: 51.82% | Val Loss: 1.5235 | Val Accuracy: 45.63%\n"
          ]
        },
        {
          "output_type": "stream",
          "name": "stderr",
          "text": []
        },
        {
          "output_type": "stream",
          "name": "stdout",
          "text": [
            "  Standard SGD - Epoch [4/20] Train Loss: 1.2595 | Train Acc: 53.57% | Val Loss: 1.2624 | Val Accuracy: 52.68%\n"
          ]
        },
        {
          "output_type": "stream",
          "name": "stderr",
          "text": []
        },
        {
          "output_type": "stream",
          "name": "stdout",
          "text": [
            "  Standard SGD - Epoch [5/20] Train Loss: 1.2179 | Train Acc: 55.25% | Val Loss: 1.2293 | Val Accuracy: 55.21%\n"
          ]
        },
        {
          "output_type": "stream",
          "name": "stderr",
          "text": []
        },
        {
          "output_type": "stream",
          "name": "stdout",
          "text": [
            "  Standard SGD - Epoch [6/20] Train Loss: 1.1380 | Train Acc: 57.42% | Val Loss: 1.9161 | Val Accuracy: 40.00%\n"
          ]
        },
        {
          "output_type": "stream",
          "name": "stderr",
          "text": []
        },
        {
          "output_type": "stream",
          "name": "stdout",
          "text": [
            "  Standard SGD - Epoch [7/20] Train Loss: 1.0976 | Train Acc: 59.37% | Val Loss: 1.0902 | Val Accuracy: 60.14%\n"
          ]
        },
        {
          "output_type": "stream",
          "name": "stderr",
          "text": []
        },
        {
          "output_type": "stream",
          "name": "stdout",
          "text": [
            "  Standard SGD - Epoch [8/20] Train Loss: 1.0832 | Train Acc: 60.76% | Val Loss: 1.6939 | Val Accuracy: 41.55%\n"
          ]
        },
        {
          "output_type": "stream",
          "name": "stderr",
          "text": []
        },
        {
          "output_type": "stream",
          "name": "stdout",
          "text": [
            "  Standard SGD - Epoch [9/20] Train Loss: 1.0409 | Train Acc: 61.18% | Val Loss: 1.0691 | Val Accuracy: 61.41%\n"
          ]
        },
        {
          "output_type": "stream",
          "name": "stderr",
          "text": []
        },
        {
          "output_type": "stream",
          "name": "stdout",
          "text": [
            "  Standard SGD - Epoch [10/20] Train Loss: 0.9787 | Train Acc: 64.34% | Val Loss: 1.1326 | Val Accuracy: 59.86%\n"
          ]
        },
        {
          "output_type": "stream",
          "name": "stderr",
          "text": []
        },
        {
          "output_type": "stream",
          "name": "stdout",
          "text": [
            "  Standard SGD - Epoch [11/20] Train Loss: 0.8996 | Train Acc: 67.56% | Val Loss: 0.9424 | Val Accuracy: 67.04%\n"
          ]
        },
        {
          "output_type": "stream",
          "name": "stderr",
          "text": []
        },
        {
          "output_type": "stream",
          "name": "stdout",
          "text": [
            "  Standard SGD - Epoch [12/20] Train Loss: 0.8542 | Train Acc: 68.91% | Val Loss: 0.9001 | Val Accuracy: 65.92%\n"
          ]
        },
        {
          "output_type": "stream",
          "name": "stderr",
          "text": []
        },
        {
          "output_type": "stream",
          "name": "stdout",
          "text": [
            "  Standard SGD - Epoch [13/20] Train Loss: 0.8463 | Train Acc: 69.70% | Val Loss: 0.9280 | Val Accuracy: 66.76%\n"
          ]
        },
        {
          "output_type": "stream",
          "name": "stderr",
          "text": []
        },
        {
          "output_type": "stream",
          "name": "stdout",
          "text": [
            "  Standard SGD - Epoch [14/20] Train Loss: 0.8084 | Train Acc: 70.66% | Val Loss: 0.8858 | Val Accuracy: 66.90%\n"
          ]
        },
        {
          "output_type": "stream",
          "name": "stderr",
          "text": []
        },
        {
          "output_type": "stream",
          "name": "stdout",
          "text": [
            "  Standard SGD - Epoch [15/20] Train Loss: 0.8407 | Train Acc: 71.05% | Val Loss: 0.8913 | Val Accuracy: 65.49%\n"
          ]
        },
        {
          "output_type": "stream",
          "name": "stderr",
          "text": []
        },
        {
          "output_type": "stream",
          "name": "stdout",
          "text": [
            "  Standard SGD - Epoch [16/20] Train Loss: 0.8102 | Train Acc: 72.07% | Val Loss: 0.8995 | Val Accuracy: 67.89%\n"
          ]
        },
        {
          "output_type": "stream",
          "name": "stderr",
          "text": []
        },
        {
          "output_type": "stream",
          "name": "stdout",
          "text": [
            "  Standard SGD - Epoch [17/20] Train Loss: 0.8196 | Train Acc: 70.24% | Val Loss: 0.8935 | Val Accuracy: 68.31%\n"
          ]
        },
        {
          "output_type": "stream",
          "name": "stderr",
          "text": []
        },
        {
          "output_type": "stream",
          "name": "stdout",
          "text": [
            "  Standard SGD - Epoch [18/20] Train Loss: 0.8134 | Train Acc: 71.32% | Val Loss: 0.8800 | Val Accuracy: 67.61%\n"
          ]
        },
        {
          "output_type": "stream",
          "name": "stderr",
          "text": []
        },
        {
          "output_type": "stream",
          "name": "stdout",
          "text": [
            "  Standard SGD - Epoch [19/20] Train Loss: 0.7826 | Train Acc: 72.16% | Val Loss: 0.8655 | Val Accuracy: 68.31%\n"
          ]
        },
        {
          "output_type": "stream",
          "name": "stderr",
          "text": []
        },
        {
          "output_type": "stream",
          "name": "stdout",
          "text": [
            "  Standard SGD - Epoch [20/20] Train Loss: 0.8011 | Train Acc: 71.80% | Val Loss: 0.8535 | Val Accuracy: 67.89%\n",
            "--- Standard SGD training finished. Best Val Accuracy: 68.31% ---\n",
            "\n",
            "Training with SGD with Momentum for 20 epochs...\n"
          ]
        },
        {
          "output_type": "stream",
          "name": "stderr",
          "text": []
        },
        {
          "output_type": "stream",
          "name": "stdout",
          "text": [
            "  SGD with Momentum - Epoch [1/20] Train Loss: 2.3099 | Train Acc: 22.51% | Val Loss: 2.0687 | Val Accuracy: 24.37%\n"
          ]
        },
        {
          "output_type": "stream",
          "name": "stderr",
          "text": []
        },
        {
          "output_type": "stream",
          "name": "stdout",
          "text": [
            "  SGD with Momentum - Epoch [2/20] Train Loss: 2.0121 | Train Acc: 23.02% | Val Loss: 1.9684 | Val Accuracy: 26.90%\n"
          ]
        },
        {
          "output_type": "stream",
          "name": "stderr",
          "text": []
        },
        {
          "output_type": "stream",
          "name": "stdout",
          "text": [
            "  SGD with Momentum - Epoch [3/20] Train Loss: 2.1018 | Train Acc: 17.72% | Val Loss: 2.1446 | Val Accuracy: 12.96%\n"
          ]
        },
        {
          "output_type": "stream",
          "name": "stderr",
          "text": []
        },
        {
          "output_type": "stream",
          "name": "stdout",
          "text": [
            "  SGD with Momentum - Epoch [4/20] Train Loss: 2.1201 | Train Acc: 16.10% | Val Loss: 2.0313 | Val Accuracy: 18.87%\n"
          ]
        },
        {
          "output_type": "stream",
          "name": "stderr",
          "text": []
        },
        {
          "output_type": "stream",
          "name": "stdout",
          "text": [
            "  SGD with Momentum - Epoch [5/20] Train Loss: 2.1101 | Train Acc: 16.16% | Val Loss: 2.1296 | Val Accuracy: 13.24%\n"
          ]
        },
        {
          "output_type": "stream",
          "name": "stderr",
          "text": []
        },
        {
          "output_type": "stream",
          "name": "stdout",
          "text": [
            "  SGD with Momentum - Epoch [6/20] Train Loss: 2.1597 | Train Acc: 13.03% | Val Loss: 2.0791 | Val Accuracy: 16.34%\n"
          ]
        },
        {
          "output_type": "stream",
          "name": "stderr",
          "text": []
        },
        {
          "output_type": "stream",
          "name": "stdout",
          "text": [
            "  SGD with Momentum - Epoch [7/20] Train Loss: 2.1580 | Train Acc: 12.67% | Val Loss: 2.1213 | Val Accuracy: 12.82%\n"
          ]
        },
        {
          "output_type": "stream",
          "name": "stderr",
          "text": []
        },
        {
          "output_type": "stream",
          "name": "stdout",
          "text": [
            "  SGD with Momentum - Epoch [8/20] Train Loss: 2.1811 | Train Acc: 12.13% | Val Loss: 2.1989 | Val Accuracy: 19.44%\n"
          ]
        },
        {
          "output_type": "stream",
          "name": "stderr",
          "text": []
        },
        {
          "output_type": "stream",
          "name": "stdout",
          "text": [
            "  SGD with Momentum - Epoch [9/20] Train Loss: 2.1985 | Train Acc: 11.10% | Val Loss: 2.1982 | Val Accuracy: 8.87%\n"
          ]
        },
        {
          "output_type": "stream",
          "name": "stderr",
          "text": []
        },
        {
          "output_type": "stream",
          "name": "stdout",
          "text": [
            "  SGD with Momentum - Epoch [10/20] Train Loss: 2.1971 | Train Acc: 12.16% | Val Loss: 2.1997 | Val Accuracy: 8.87%\n"
          ]
        },
        {
          "output_type": "stream",
          "name": "stderr",
          "text": []
        },
        {
          "output_type": "stream",
          "name": "stdout",
          "text": [
            "  SGD with Momentum - Epoch [11/20] Train Loss: 2.1980 | Train Acc: 10.74% | Val Loss: 2.1994 | Val Accuracy: 8.87%\n"
          ]
        },
        {
          "output_type": "stream",
          "name": "stderr",
          "text": []
        },
        {
          "output_type": "stream",
          "name": "stdout",
          "text": [
            "  SGD with Momentum - Epoch [12/20] Train Loss: 2.1979 | Train Acc: 11.28% | Val Loss: 2.1992 | Val Accuracy: 8.87%\n"
          ]
        },
        {
          "output_type": "stream",
          "name": "stderr",
          "text": []
        },
        {
          "output_type": "stream",
          "name": "stdout",
          "text": [
            "  SGD with Momentum - Epoch [13/20] Train Loss: 2.1967 | Train Acc: 11.89% | Val Loss: 2.1996 | Val Accuracy: 8.87%\n"
          ]
        },
        {
          "output_type": "stream",
          "name": "stderr",
          "text": []
        },
        {
          "output_type": "stream",
          "name": "stdout",
          "text": [
            "  SGD with Momentum - Epoch [14/20] Train Loss: 2.1977 | Train Acc: 11.62% | Val Loss: 2.1993 | Val Accuracy: 8.87%\n"
          ]
        },
        {
          "output_type": "stream",
          "name": "stderr",
          "text": []
        },
        {
          "output_type": "stream",
          "name": "stdout",
          "text": [
            "  SGD with Momentum - Epoch [15/20] Train Loss: 2.1985 | Train Acc: 10.92% | Val Loss: 2.1996 | Val Accuracy: 8.87%\n"
          ]
        },
        {
          "output_type": "stream",
          "name": "stderr",
          "text": []
        },
        {
          "output_type": "stream",
          "name": "stdout",
          "text": [
            "  SGD with Momentum - Epoch [16/20] Train Loss: 2.1973 | Train Acc: 11.04% | Val Loss: 2.1998 | Val Accuracy: 8.87%\n"
          ]
        },
        {
          "output_type": "stream",
          "name": "stderr",
          "text": []
        },
        {
          "output_type": "stream",
          "name": "stdout",
          "text": [
            "  SGD with Momentum - Epoch [17/20] Train Loss: 2.1985 | Train Acc: 10.77% | Val Loss: 2.1998 | Val Accuracy: 8.87%\n"
          ]
        },
        {
          "output_type": "stream",
          "name": "stderr",
          "text": []
        },
        {
          "output_type": "stream",
          "name": "stdout",
          "text": [
            "  SGD with Momentum - Epoch [18/20] Train Loss: 2.1973 | Train Acc: 11.62% | Val Loss: 2.1998 | Val Accuracy: 8.87%\n"
          ]
        },
        {
          "output_type": "stream",
          "name": "stderr",
          "text": []
        },
        {
          "output_type": "stream",
          "name": "stdout",
          "text": [
            "  SGD with Momentum - Epoch [19/20] Train Loss: 2.1975 | Train Acc: 10.83% | Val Loss: 2.1994 | Val Accuracy: 8.87%\n"
          ]
        },
        {
          "output_type": "stream",
          "name": "stderr",
          "text": [
            "                                                                                    "
          ]
        },
        {
          "output_type": "stream",
          "name": "stdout",
          "text": [
            "  SGD with Momentum - Epoch [20/20] Train Loss: 2.1980 | Train Acc: 10.86% | Val Loss: 2.1986 | Val Accuracy: 8.87%\n",
            "--- SGD with Momentum training finished. Best Val Accuracy: 26.90% ---\n",
            "\n",
            "Optimizer comparison training completed for all models.\n"
          ]
        },
        {
          "output_type": "stream",
          "name": "stderr",
          "text": [
            "\r"
          ]
        }
      ]
    },
    {
      "cell_type": "code",
      "source": [
        "# --- Plotting Comparison ---\n",
        "plt.figure(figsize=(18, 6))\n",
        "\n",
        "# Plot Validation Accuracy Comparison\n",
        "plt.subplot(1, 3, 1)\n",
        "plt.plot(range(1, NUM_EPOCHS_COMP + 1), adam_val_accuracies, marker='o', linestyle='-', label='Adam')\n",
        "plt.plot(range(1, NUM_EPOCHS_COMP + 1), sgd_val_accuracies, marker='x', linestyle='--', label='Standard SGD')\n",
        "plt.plot(range(1, NUM_EPOCHS_COMP + 1), sgd_momentum_val_accuracies, marker='^', linestyle=':', label='SGD with Momentum')\n",
        "plt.title(f\"Optimizer Comparison: Validation Accuracy ({NUM_EPOCHS_COMP} Epochs)\")\n",
        "plt.xlabel(\"Epoch\")\n",
        "plt.ylabel(\"Accuracy (%)\")\n",
        "plt.legend()\n",
        "plt.grid(True)\n",
        "\n",
        "# Plot Training Loss Comparison\n",
        "plt.subplot(1, 3, 2)\n",
        "plt.plot(range(1, NUM_EPOCHS_COMP + 1), adam_train_losses, marker='o', linestyle='-', label='Adam')\n",
        "plt.plot(range(1, NUM_EPOCHS_COMP + 1), sgd_train_losses, marker='x', linestyle='--', label='Standard SGD')\n",
        "plt.plot(range(1, NUM_EPOCHS_COMP + 1), sgd_momentum_train_losses, marker='^', linestyle=':', label='SGD with Momentum')\n",
        "plt.title(f\"Optimizer Comparison: Training Loss ({NUM_EPOCHS_COMP} Epochs)\")\n",
        "plt.xlabel(\"Epoch\")\n",
        "plt.ylabel(\"Loss\")\n",
        "plt.legend()\n",
        "plt.grid(True)\n",
        "\n",
        "# Plot Training Accuracy Comparison\n",
        "plt.subplot(1, 3, 3)\n",
        "plt.plot(range(1, NUM_EPOCHS_COMP + 1), adam_train_accuracies, marker='o', linestyle='-', label='Adam')\n",
        "plt.plot(range(1, NUM_EPOCHS_COMP + 1), sgd_train_accuracies, marker='x', linestyle='--', label='Standard SGD')\n",
        "plt.plot(range(1, NUM_EPOCHS_COMP + 1), sgd_momentum_train_accuracies, marker='^', linestyle=':', label='SGD with Momentum')\n",
        "plt.title(f\"Optimizer Comparison: Training Accuracy ({NUM_EPOCHS_COMP} Epochs)\")\n",
        "plt.xlabel(\"Epoch\")\n",
        "plt.ylabel(\"Accuracy (%)\")\n",
        "plt.legend()\n",
        "plt.grid(True)\n",
        "\n",
        "plt.tight_layout()\n",
        "plt.show()\n",
        "\n",
        "print(\"\\nOptimizer Comparison plots generated.\")"
      ],
      "metadata": {
        "id": "Wjcw7xI3pMsH",
        "outputId": "e8fa7996-dda6-4e8f-da71-982fbe0b76e2",
        "colab": {
          "base_uri": "https://localhost:8080/",
          "height": 364
        }
      },
      "execution_count": 20,
      "outputs": [
        {
          "output_type": "display_data",
          "data": {
            "text/plain": [
              "<Figure size 1800x600 with 3 Axes>"
            ],
            "image/png": "[encoded data removed]"
          },
          "metadata": {}
        },
        {
          "output_type": "stream",
          "name": "stdout",
          "text": [
            "\n",
            "Optimizer Comparison plots generated.\n"
          ]
        }
      ]
    },
    {
      "cell_type": "code",
      "source": [
        "# --- Evaluate on Test Set Function for Comparison Models ---\n",
        "def evaluate_on_test_set_comp(model_instance, model_path, test_loader_comp, device_comp):\n",
        "    model_instance.load_state_dict(torch.load(model_path)) # Load the best weights\n",
        "    model_instance.to(device_comp)\n",
        "    model_instance.eval() # Set to evaluation mode\n",
        "\n",
        "    test_correct = 0\n",
        "    test_total = 0\n",
        "\n",
        "    with torch.no_grad():\n",
        "        test_loop = tqdm(test_loader_comp, desc=f\"Evaluating Test Set for model from {model_path}\", leave=False)\n",
        "        for images, labels in test_loop:\n",
        "            images, labels = images.to(device_comp), labels.to(device_comp)\n",
        "            outputs = model_instance(images)\n",
        "            _, predicted = torch.max(outputs.data, 1)\n",
        "            test_total += labels.size(0)\n",
        "            test_correct += (predicted == labels).sum().item()\n",
        "\n",
        "    test_accuracy = 100 * test_correct / test_total\n",
        "    return test_accuracy\n",
        "\n",
        "print(\"\\n--- Evaluating Comparison Models on Test Set ---\")\n",
        "\n",
        "adam_final_test_accuracy = evaluate_on_test_set_comp(model_adam_comp, adam_comp_model_path, test_loader, device)\n",
        "print(f\"Adam (Comparison) Final Test Accuracy: {adam_final_test_accuracy:.2f}%\")\n",
        "\n",
        "sgd_final_test_accuracy = evaluate_on_test_set_comp(model_sgd_comp, sgd_comp_model_path, test_loader, device)\n",
        "print(f\"Standard SGD (Comparison) Final Test Accuracy: {sgd_final_test_accuracy:.2f}%\")\n",
        "\n",
        "sgd_momentum_final_test_accuracy = evaluate_on_test_set_comp(model_sgd_momentum_comp, sgd_momentum_comp_model_path, test_loader, device)\n",
        "print(f\"SGD with Momentum (Comparison) Final Test Accuracy: {sgd_momentum_final_test_accuracy:.2f}%\")\n",
        "\n",
        "print(\"\\n\" + \"=\"*50)\n",
        "print(\"       Optimizer Performance Comparison Summary       \")\n",
        "print(\"=\"*50 + \"\\n\")\n",
        "print(f\"Final Test Accuracy for Adam: {adam_final_test_accuracy:.2f}%\")\n",
        "print(f\"Final Test Accuracy for Standard SGD: {sgd_final_test_accuracy:.2f}%\")\n",
        "print(f\"Final Test Accuracy for SGD with Momentum: {sgd_momentum_final_test_accuracy:.2f}%\")\n",
        "print(\"\\nOptimizer Comparison Test Evaluation Complete.\")"
      ],
      "metadata": {
        "id": "1Cp4PM9rbi4D",
        "outputId": "57bd3d10-faf2-4231-ad2a-1506c1fa702b",
        "colab": {
          "base_uri": "https://localhost:8080/"
        }
      },
      "execution_count": 21,
      "outputs": [
        {
          "output_type": "stream",
          "name": "stdout",
          "text": [
            "\n",
            "--- Evaluating Comparison Models on Test Set ---\n"
          ]
        },
        {
          "output_type": "stream",
          "name": "stderr",
          "text": []
        },
        {
          "output_type": "stream",
          "name": "stdout",
          "text": [
            "Adam (Comparison) Final Test Accuracy: 62.87%\n"
          ]
        },
        {
          "output_type": "stream",
          "name": "stderr",
          "text": []
        },
        {
          "output_type": "stream",
          "name": "stdout",
          "text": [
            "Standard SGD (Comparison) Final Test Accuracy: 72.60%\n"
          ]
        },
        {
          "output_type": "stream",
          "name": "stderr",
          "text": [
            "                                                                                                                               "
          ]
        },
        {
          "output_type": "stream",
          "name": "stdout",
          "text": [
            "SGD with Momentum (Comparison) Final Test Accuracy: 26.84%\n",
            "\n",
            "==================================================\n",
            "       Optimizer Performance Comparison Summary       \n",
            "==================================================\n",
            "\n",
            "Final Test Accuracy for Adam: 62.87%\n",
            "Final Test Accuracy for Standard SGD: 72.60%\n",
            "Final Test Accuracy for SGD with Momentum: 26.84%\n",
            "\n",
            "Optimizer Comparison Test Evaluation Complete.\n"
          ]
        },
        {
          "output_type": "stream",
          "name": "stderr",
          "text": [
            "\r"
          ]
        }
      ]
    },
    {
      "cell_type": "code",
      "source": [],
      "metadata": {
        "id": "uM9n4UJcRiMl"
      },
      "execution_count": null,
      "outputs": []
    }
  ],
  "metadata": {
    "language_info": {
      "name": "python"
    },
    "colab": {
      "provenance": [],
      "gpuType": "T4",
      "include_colab_link": true
    },
    "kernelspec": {
      "name": "python3",
      "display_name": "Python 3"
    },
    "accelerator": "GPU"
  },
  "nbformat": 4,
  "nbformat_minor": 0
}