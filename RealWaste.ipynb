{
  "cells": [
    {
      "cell_type": "markdown",
      "metadata": {
        "id": "view-in-github",
        "colab_type": "text"
      },
      "source": [
        "<a href=\"https://colab.research.google.com/github/lahirunie-dulsara/EN3150-Assignment-3-CNN/blob/Sakith/RealWaste.ipynb\" target=\"_parent\"><img src=\"https://colab.research.google.com/assets/colab-badge.svg\" alt=\"Open In Colab\"/></a>"
      ]
    },
    {
      "cell_type": "code",
      "source": [
        "from google.colab import drive\n",
        "drive.mount('/content/drive')\n",
        "drive.mount(\"/content/drive\", force_remount=True)"
      ],
      "metadata": {
        "colab": {
          "base_uri": "https://localhost:8080/"
        },
        "id": "uHbFqHHu0YqR",
        "outputId": "a5cb9b54-81c1-48d2-c437-f97f7b7972e7"
      },
      "execution_count": 1,
      "outputs": [
        {
          "output_type": "stream",
          "name": "stdout",
          "text": [
            "Drive already mounted at /content/drive; to attempt to forcibly remount, call drive.mount(\"/content/drive\", force_remount=True).\n",
            "Mounted at /content/drive\n"
          ]
        }
      ]
    },
    {
      "cell_type": "code",
      "execution_count": 2,
      "metadata": {
        "id": "FQcAlzHU2Sw3",
        "colab": {
          "base_uri": "https://localhost:8080/"
        },
        "outputId": "2887d6ac-13d2-4764-8202-0726369094b2"
      },
      "outputs": [
        {
          "output_type": "stream",
          "name": "stdout",
          "text": [
            "Unzipped to: /content/extracted_zip\n"
          ]
        }
      ],
      "source": [
        "import zipfile, os, re, shutil\n",
        "from PIL import Image\n",
        "\n",
        "zip_path = \"/content/drive/MyDrive/Real Waste.zip\"\n",
        "\n",
        "extract_path = \"/content/extracted_zip\"\n",
        "os.makedirs(extract_path, exist_ok=True)\n",
        "\n",
        "with zipfile.ZipFile(zip_path, 'r') as zip_ref:\n",
        "    zip_ref.extractall(extract_path)\n",
        "print(\"Unzipped to:\", extract_path)\n"
      ]
    },
    {
      "cell_type": "code",
      "source": [
        "base_dir = \"/content/extracted_zip/realwaste-main/RealWaste\"\n",
        "for folder in os.listdir(base_dir):\n",
        "    count = len(os.listdir(os.path.join(base_dir, folder)))\n",
        "    print(f\"{folder}: {count} images\")"
      ],
      "metadata": {
        "colab": {
          "base_uri": "https://localhost:8080/"
        },
        "id": "WC34Jsja_TlT",
        "outputId": "619cb56b-2e86-48da-8ba2-de3a43988658"
      },
      "execution_count": 3,
      "outputs": [
        {
          "output_type": "stream",
          "name": "stdout",
          "text": [
            "Vegetation: 436 images\n",
            "Plastic: 921 images\n",
            "Metal: 790 images\n",
            "Paper: 500 images\n",
            "Cardboard: 461 images\n",
            "Textile Trash: 318 images\n",
            "Miscellaneous Trash: 495 images\n",
            "Glass: 420 images\n",
            "Food Organics: 411 images\n"
          ]
        }
      ]
    },
    {
      "cell_type": "code",
      "source": [
        "pip install split-folders"
      ],
      "metadata": {
        "id": "QfEBmPX8JGfM",
        "colab": {
          "base_uri": "https://localhost:8080/"
        },
        "outputId": "d320baab-be18-4334-a001-739b70a14fba"
      },
      "execution_count": 4,
      "outputs": [
        {
          "output_type": "stream",
          "name": "stdout",
          "text": [
            "Requirement already satisfied: split-folders in /usr/local/lib/python3.12/dist-packages (0.5.1)\n"
          ]
        }
      ]
    },
    {
      "cell_type": "code",
      "source": [
        "import splitfolders\n",
        "\n",
        "input_folder = \"/content/extracted_zip/realwaste-main/RealWaste\"\n",
        "output_folder = \"/content/extracted_zip/realwaste-main/realwaste_split\"\n",
        "\n",
        "splitfolders.ratio(input_folder, output=output_folder, seed=42, ratio=(.7, .15, .15))"
      ],
      "metadata": {
        "colab": {
          "base_uri": "https://localhost:8080/"
        },
        "id": "op1hnovlItS8",
        "outputId": "e057aaa8-4334-47c5-da9a-17a5583ca635"
      },
      "execution_count": 5,
      "outputs": [
        {
          "output_type": "stream",
          "name": "stderr",
          "text": [
            "Copying files: 4752 files [00:02, 2177.80 files/s]\n"
          ]
        }
      ]
    },
    {
      "cell_type": "code",
      "source": [
        "base_dir = \"/content/extracted_zip/realwaste-main/realwaste_split\"\n",
        "\n",
        "for split in ['train', 'val', 'test']:\n",
        "    split_path = os.path.join(base_dir, split)\n",
        "    print(f\"\\n{split.upper()} SET\")\n",
        "    total = 0\n",
        "    for cls in os.listdir(split_path):\n",
        "        cls_path = os.path.join(split_path, cls)\n",
        "        count = len(os.listdir(cls_path))\n",
        "\n",
        "        total += count\n",
        "        print(f\"  {cls}: {count} images\")\n",
        "    print(f\"Total {split}: {total} images\")"
      ],
      "metadata": {
        "colab": {
          "base_uri": "https://localhost:8080/"
        },
        "id": "lb9khb9XKCQK",
        "outputId": "9b2aee76-9b99-4e14-aef4-245f4a005cc6"
      },
      "execution_count": 6,
      "outputs": [
        {
          "output_type": "stream",
          "name": "stdout",
          "text": [
            "\n",
            "TRAIN SET\n",
            "  Vegetation: 305 images\n",
            "  Plastic: 644 images\n",
            "  Metal: 553 images\n",
            "  Paper: 350 images\n",
            "  Cardboard: 322 images\n",
            "  Textile Trash: 222 images\n",
            "  Miscellaneous Trash: 346 images\n",
            "  Glass: 294 images\n",
            "  Food Organics: 287 images\n",
            "Total train: 3323 images\n",
            "\n",
            "VAL SET\n",
            "  Vegetation: 65 images\n",
            "  Plastic: 138 images\n",
            "  Metal: 118 images\n",
            "  Paper: 75 images\n",
            "  Cardboard: 69 images\n",
            "  Textile Trash: 47 images\n",
            "  Miscellaneous Trash: 74 images\n",
            "  Glass: 63 images\n",
            "  Food Organics: 61 images\n",
            "Total val: 710 images\n",
            "\n",
            "TEST SET\n",
            "  Vegetation: 66 images\n",
            "  Plastic: 139 images\n",
            "  Metal: 119 images\n",
            "  Paper: 75 images\n",
            "  Cardboard: 70 images\n",
            "  Textile Trash: 49 images\n",
            "  Miscellaneous Trash: 75 images\n",
            "  Glass: 63 images\n",
            "  Food Organics: 63 images\n",
            "Total test: 719 images\n"
          ]
        }
      ]
    },
    {
      "cell_type": "code",
      "source": [
        "import os\n",
        "import torch\n",
        "from torch.utils.data import DataLoader, WeightedRandomSampler\n",
        "from torchvision import datasets, transforms\n",
        "import numpy as np\n",
        "from tqdm import tqdm\n",
        "\n",
        "IMAGENET_MEAN = [0.485, 0.456, 0.406]\n",
        "IMAGENET_STD = [0.229, 0.224, 0.225]\n",
        "\n",
        "train_transforms = transforms.Compose([\n",
        "    transforms.Resize((256, 256)),\n",
        "    # transforms.RandomResizedCrop(224, scale=(0.8, 1.0)),\n",
        "    # transforms.RandomHorizontalFlip(),\n",
        "    # transforms.RandomRotation(20),\n",
        "    # transforms.ColorJitter(brightness=0.3, contrast=0.3, saturation=0.3),\n",
        "    transforms.ToTensor(),\n",
        "    transforms.Normalize(mean=IMAGENET_MEAN, std=IMAGENET_STD)\n",
        "])\n",
        "\n",
        "val_test_transforms = transforms.Compose([\n",
        "    transforms.Resize((256, 256)),\n",
        "    transforms.ToTensor(),\n",
        "    transforms.Normalize(mean=IMAGENET_MEAN, std=IMAGENET_STD)\n",
        "])\n",
        "\n",
        "train_dataset = datasets.ImageFolder(\"/content/extracted_zip/realwaste-main/realwaste_split/train\", transform=train_transforms)\n",
        "val_dataset   = datasets.ImageFolder(\"/content/extracted_zip/realwaste-main/realwaste_split/val\", transform=val_test_transforms)\n",
        "test_dataset  = datasets.ImageFolder(\"/content/extracted_zip/realwaste-main/realwaste_split/test\", transform=val_test_transforms)\n",
        "\n",
        "# Get number of classes and device early\n",
        "num_classes = len(train_dataset.classes)\n",
        "device = torch.device(\"cuda\" if torch.cuda.is_available() else \"cpu\")\n",
        "print(f\"Using device: {device}\")\n",
        "print(f\"Number of classes: {num_classes}\")"
      ],
      "metadata": {
        "id": "mfh7AZ8-15hW",
        "colab": {
          "base_uri": "https://localhost:8080/"
        },
        "outputId": "5b663a5f-ccc1-43cb-d7dd-69d2fd2ae544"
      },
      "execution_count": 7,
      "outputs": [
        {
          "output_type": "stream",
          "name": "stdout",
          "text": [
            "Using device: cuda\n",
            "Number of classes: 9\n"
          ]
        }
      ]
    },
    {
      "cell_type": "code",
      "source": [
        "class_counts = np.bincount(train_dataset.targets)\n",
        "print(\"Class counts:\", class_counts)\n",
        "\n",
        "class_weights_tensor = 1. / torch.tensor(class_counts, dtype=torch.float)\n",
        "\n",
        "sample_weights = [class_weights_tensor[label].item() for label in train_dataset.targets]\n",
        "\n",
        "print(\"\\nClass counts per category:\")\n",
        "for cls, count in zip(train_dataset.classes, class_counts):\n",
        "    print(f\"  {cls:15s}: {count}\")\n",
        "\n",
        "print(\"\\nClass weights (inverse of frequency):\")\n",
        "for cls, w in zip(train_dataset.classes, class_weights_tensor):\n",
        "    print(f\"  {cls:15s}: {w:.6f}\")"
      ],
      "metadata": {
        "colab": {
          "base_uri": "https://localhost:8080/"
        },
        "id": "tp34UDEFO3pq",
        "outputId": "17ab9b17-9a82-4be8-e966-ec6e9e065cf5"
      },
      "execution_count": 8,
      "outputs": [
        {
          "output_type": "stream",
          "name": "stdout",
          "text": [
            "Class counts: [322 287 294 553 346 350 644 222 305]\n",
            "\n",
            "Class counts per category:\n",
            "  Cardboard      : 322\n",
            "  Food Organics  : 287\n",
            "  Glass          : 294\n",
            "  Metal          : 553\n",
            "  Miscellaneous Trash: 346\n",
            "  Paper          : 350\n",
            "  Plastic        : 644\n",
            "  Textile Trash  : 222\n",
            "  Vegetation     : 305\n",
            "\n",
            "Class weights (inverse of frequency):\n",
            "  Cardboard      : 0.003106\n",
            "  Food Organics  : 0.003484\n",
            "  Glass          : 0.003401\n",
            "  Metal          : 0.001808\n",
            "  Miscellaneous Trash: 0.002890\n",
            "  Paper          : 0.002857\n",
            "  Plastic        : 0.001553\n",
            "  Textile Trash  : 0.004505\n",
            "  Vegetation     : 0.003279\n"
          ]
        }
      ]
    },
    {
      "cell_type": "code",
      "source": [
        "BATCH_SIZE = 64\n",
        "\n",
        "sampler = WeightedRandomSampler(\n",
        "    weights=sample_weights,\n",
        "    num_samples=len(sample_weights),\n",
        "    replacement=True\n",
        ")\n",
        "\n",
        "train_loader = DataLoader(train_dataset, batch_size=BATCH_SIZE, sampler=sampler, num_workers=2)\n",
        "val_loader = DataLoader(val_dataset, batch_size=BATCH_SIZE, shuffle=False, num_workers=2)\n",
        "test_loader = DataLoader(test_dataset, batch_size=BATCH_SIZE, shuffle=False, num_workers=2)\n",
        "\n",
        "\n",
        "print(f\"\\nWeightedRandomSampler created successfully!\")\n",
        "print(f\"Total samples in epoch: {len(sample_weights)}\")\n",
        "print(f\"Training Batch size: {train_loader.batch_size}\")\n",
        "print(f\"Validation Batch size: {val_loader.batch_size}\")\n",
        "print(f\"Total training batches per epoch: {len(train_loader)}\")"
      ],
      "metadata": {
        "colab": {
          "base_uri": "https://localhost:8080/"
        },
        "id": "xHJPQoRzMefy",
        "outputId": "43d9585a-962c-4d07-8b7d-09d3ff9294da"
      },
      "execution_count": 9,
      "outputs": [
        {
          "output_type": "stream",
          "name": "stdout",
          "text": [
            "\n",
            "WeightedRandomSampler created successfully!\n",
            "Total samples in epoch: 3323\n",
            "Training Batch size: 64\n",
            "Validation Batch size: 64\n",
            "Total training batches per epoch: 52\n"
          ]
        }
      ]
    },
    {
      "cell_type": "code",
      "source": [
        "import torch\n",
        "import torch.nn as nn\n",
        "import torch.nn.functional as F\n",
        "import torch.optim as optim\n",
        "from torch.optim.lr_scheduler import StepLR\n",
        "from tqdm import tqdm\n",
        "import matplotlib.pyplot as plt\n",
        "import numpy as np\n",
        "import copy\n",
        "\n",
        "class WasteCNN(nn.Module):\n",
        "    def __init__(self, num_classes=9):\n",
        "        super(WasteCNN, self).__init__()\n",
        "\n",
        "        self.conv1 = nn.Conv2d(3, 32, kernel_size=3, padding=1)\n",
        "        self.bn1 = nn.BatchNorm2d(32)\n",
        "        self.pool = nn.MaxPool2d(2, 2)\n",
        "\n",
        "        self.conv2 = nn.Conv2d(32, 64, kernel_size=3, padding=1)\n",
        "        self.bn2 = nn.BatchNorm2d(64)\n",
        "\n",
        "        self.conv3 = nn.Conv2d(64, 128, kernel_size=3, padding=1)\n",
        "        self.bn3 = nn.BatchNorm2d(128)\n",
        "\n",
        "        self._to_linear = None\n",
        "        self.calculate_flatten_size(256)\n",
        "\n",
        "        self.fc1 = nn.Linear(self._to_linear, 256)\n",
        "        self.dropout = nn.Dropout(0.5)\n",
        "        self.fc2 = nn.Linear(256, num_classes)\n",
        "\n",
        "    def calculate_flatten_size(self, input_size):\n",
        "        with torch.no_grad():\n",
        "            x = torch.zeros(1, 3, input_size, input_size)\n",
        "            x = self.pool(F.relu(self.bn1(self.conv1(x))))\n",
        "            x = self.pool(F.relu(self.bn2(self.conv2(x))))\n",
        "            x = self.pool(F.relu(self.bn3(self.conv3(x))))\n",
        "            self._to_linear = x.view(x.size(0), -1).size(1)\n",
        "\n",
        "    def forward(self, x):\n",
        "        x = self.pool(F.relu(self.bn1(self.conv1(x))))\n",
        "        x = self.pool(F.relu(self.bn2(self.conv2(x))))\n",
        "        x = self.pool(F.relu(self.bn3(self.conv3(x))))\n",
        "\n",
        "        x = x.view(-1, self._to_linear)\n",
        "        x = self.dropout(F.relu(self.fc1(x)))\n",
        "        x = self.fc2(x)\n",
        "        return x\n",
        "\n",
        "print(\"WasteCNN model class defined and ready for use.\")"
      ],
      "metadata": {
        "id": "Vip9TVk2VxQy",
        "colab": {
          "base_uri": "https://localhost:8080/"
        },
        "outputId": "3fcada28-8430-4d2c-f6d8-529c5426445a"
      },
      "execution_count": 10,
      "outputs": [
        {
          "output_type": "stream",
          "name": "stdout",
          "text": [
            "WasteCNN model class defined and ready for use.\n"
          ]
        }
      ]
    },
    {
      "cell_type": "code",
      "source": [
        "\n",
        "def get_fresh_model_for_comparison(num_classes, device, base_model_path='initial_model_weights.pth'):\n",
        "    if not os.path.exists(base_model_path):\n",
        "        initial_model = WasteCNN(num_classes=num_classes).to(device)\n",
        "        torch.save(initial_model.state_dict(), base_model_path)\n",
        "        print(f\"Created and saved initial model weights to {base_model_path}\")\n",
        "        return initial_model\n",
        "    else:\n",
        "        new_model = WasteCNN(num_classes=num_classes).to(device)\n",
        "        new_model.load_state_dict(torch.load(base_model_path))\n",
        "        return new_model\n",
        "\n",
        "def run_optimizer_training_comparison(model_instance, optimizer_name, optimizer_obj, criterion_obj, scheduler_obj, num_epochs_comp, train_loader_comp, val_loader_comp, device_comp):\n",
        "    print(f\"\\nTraining with {optimizer_name} for {num_epochs_comp} epochs...\")\n",
        "\n",
        "    current_train_losses = []\n",
        "    current_train_accuracies = []\n",
        "    current_val_losses = []\n",
        "    current_val_accuracies = []\n",
        "\n",
        "    best_val_acc_run = 0.0\n",
        "    model_path_run = f'best_model_comparison_{optimizer_name.lower().replace(\" \", \"_\").replace(\"-\", \"_\")}.pth'\n",
        "\n",
        "    for epoch in range(num_epochs_comp):\n",
        "        model_instance.train()\n",
        "        running_loss = 0.0\n",
        "        train_correct = 0\n",
        "        train_total = 0\n",
        "\n",
        "        train_loop = tqdm(train_loader_comp, desc=f\"Epoch {epoch+1}/{num_epochs_comp} ({optimizer_name} Train)\", leave=False)\n",
        "        for images, labels in train_loop:\n",
        "            images, labels = images.to(device_comp), labels.to(device_comp)\n",
        "\n",
        "            optimizer_obj.zero_grad()\n",
        "            outputs = model_instance(images)\n",
        "            loss = criterion_obj(outputs, labels)\n",
        "            loss.backward()\n",
        "            optimizer_obj.step()\n",
        "\n",
        "            running_loss += loss.item() * images.size(0)\n",
        "\n",
        "            _, predicted = torch.max(outputs, 1)\n",
        "            train_total += labels.size(0)\n",
        "            train_correct += (predicted == labels).sum().item()\n",
        "\n",
        "            train_loop.set_postfix(loss=loss.item())\n",
        "\n",
        "        epoch_train_loss = running_loss / len(train_loader_comp.dataset)\n",
        "        epoch_train_accuracy = 100 * train_correct / train_total\n",
        "        current_train_losses.append(epoch_train_loss)\n",
        "        current_train_accuracies.append(epoch_train_accuracy)\n",
        "\n",
        "        if scheduler_obj:\n",
        "            scheduler_obj.step()\n",
        "\n",
        "        model_instance.eval()\n",
        "        val_correct = 0\n",
        "        val_total = 0\n",
        "        val_running_loss = 0.0\n",
        "\n",
        "        with torch.no_grad():\n",
        "            val_loop = tqdm(val_loader_comp, desc=f\"Epoch {epoch+1}/{num_epochs_comp} ({optimizer_name} Val)\", leave=False)\n",
        "            for images, labels in val_loop:\n",
        "                images, labels = images.to(device_comp), labels.to(device_comp)\n",
        "                outputs = model_instance(images)\n",
        "                loss = criterion_obj(outputs, labels)\n",
        "                val_running_loss += loss.item() * images.size(0)\n",
        "\n",
        "                _, predicted = torch.max(outputs, 1)\n",
        "                val_total += labels.size(0)\n",
        "                val_correct += (predicted == labels).sum().item()\n",
        "\n",
        "        epoch_val_loss = val_running_loss / len(val_loader_comp.dataset)\n",
        "        epoch_val_accuracy = 100 * val_correct / val_total\n",
        "        current_val_losses.append(epoch_val_loss)\n",
        "        current_val_accuracies.append(epoch_val_accuracy)\n",
        "\n",
        "        print(f\"  {optimizer_name} - Epoch [{epoch+1}/{num_epochs_comp}] \"\n",
        "              f\"Train Loss: {epoch_train_loss:.4f} | Train Acc: {epoch_train_accuracy:.2f}% | \"\n",
        "              f\"Val Loss: {epoch_val_loss:.4f} | Val Accuracy: {epoch_val_accuracy:.2f}%\")\n",
        "\n",
        "        if epoch_val_accuracy > best_val_acc_run:\n",
        "            best_val_acc_run = epoch_val_accuracy\n",
        "            torch.save(model_instance.state_dict(), model_path_run)\n",
        "\n",
        "    print(f\"--- {optimizer_name} training finished. Best Val Accuracy: {best_val_acc_run:.2f}% ---\")\n",
        "    return current_train_losses, current_train_accuracies, current_val_losses, current_val_accuracies, model_path_run"
      ],
      "metadata": {
        "id": "H4gbsIjQRzwL"
      },
      "execution_count": 11,
      "outputs": []
    },
    {
      "cell_type": "code",
      "source": [
        "print(\"\\n\" + \"=\"*75)\n",
        "print(\"       Starting Optimizer Performance Comparison Training       \")\n",
        "print(\"=\"*75 + \"\\n\")\n",
        "\n",
        "_ = get_fresh_model_for_comparison(num_classes, device)\n",
        "\n",
        "NUM_EPOCHS_COMP = 20\n",
        "criterion_comp = nn.CrossEntropyLoss()\n",
        "\n",
        "# 1. Adam Optimizer Configuration\n",
        "model_adam_comp = get_fresh_model_for_comparison(num_classes, device)\n",
        "optimizer_adam_comp = optim.Adam(model_adam_comp.parameters(), lr=0.00025, weight_decay=1e-4)\n",
        "scheduler_adam_comp = StepLR(optimizer_adam_comp, step_size=10, gamma=0.1)\n",
        "\n",
        "# 2. Standard SGD Optimizer Configuration\n",
        "model_sgd_comp = get_fresh_model_for_comparison(num_classes, device)\n",
        "optimizer_sgd_comp = optim.SGD(model_sgd_comp.parameters(), lr=0.01, weight_decay=1e-4)\n",
        "scheduler_sgd_comp = StepLR(optimizer_sgd_comp, step_size=10, gamma=0.1)\n",
        "\n",
        "# 3. SGD with Momentum Optimizer Configuration\n",
        "model_sgd_momentum_comp = get_fresh_model_for_comparison(num_classes, device)\n",
        "optimizer_sgd_momentum_comp = optim.SGD(model_sgd_momentum_comp.parameters(), lr=0.005, momentum=0.9, weight_decay=1e-4)\n",
        "scheduler_sgd_momentum_comp = StepLR(optimizer_sgd_momentum_comp, step_size=10, gamma=0.1)\n",
        "\n",
        "# 4. RMSProp Optimizer Configuration\n",
        "model_rmsprop_comp = get_fresh_model_for_comparison(num_classes, device)\n",
        "optimizer_rmsprop_comp = optim.RMSprop(model_rmsprop_comp.parameters(), lr=0.0005, alpha=0.9, weight_decay=1e-4)\n",
        "scheduler_rmsprop_comp = StepLR(optimizer_rmsprop_comp, step_size=10, gamma=0.1)\n",
        "\n",
        "\n",
        "# ===================== TRAINING =====================\n",
        "adam_results = run_optimizer_training_comparison(\n",
        "    model_adam_comp, \"Adam\", optimizer_adam_comp, criterion_comp, scheduler_adam_comp,\n",
        "    NUM_EPOCHS_COMP, train_loader, val_loader, device\n",
        ")\n",
        "adam_train_losses, adam_train_accuracies, adam_val_losses, adam_val_accuracies, adam_comp_model_path = adam_results\n",
        "\n",
        "\n",
        "sgd_results = run_optimizer_training_comparison(\n",
        "    model_sgd_comp, \"Standard SGD\", optimizer_sgd_comp, criterion_comp, scheduler_sgd_comp,\n",
        "    NUM_EPOCHS_COMP, train_loader, val_loader, device\n",
        ")\n",
        "sgd_train_losses, sgd_train_accuracies, sgd_val_losses, sgd_val_accuracies, sgd_comp_model_path = sgd_results\n",
        "\n",
        "\n",
        "sgd_momentum_results = run_optimizer_training_comparison(\n",
        "    model_sgd_momentum_comp, \"SGD with Momentum\", optimizer_sgd_momentum_comp, criterion_comp, scheduler_sgd_momentum_comp,\n",
        "    NUM_EPOCHS_COMP, train_loader, val_loader, device\n",
        ")\n",
        "sgd_momentum_train_losses, sgd_momentum_train_accuracies, sgd_momentum_val_losses, sgd_momentum_val_accuracies, sgd_momentum_comp_model_path = sgd_momentum_results\n",
        "\n",
        "\n",
        "rmsprop_results = run_optimizer_training_comparison(\n",
        "    model_rmsprop_comp, \"RMSProp\", optimizer_rmsprop_comp, criterion_comp, scheduler_rmsprop_comp,\n",
        "    NUM_EPOCHS_COMP, train_loader, val_loader, device\n",
        ")\n",
        "rmsprop_train_losses, rmsprop_train_accuracies, rmsprop_val_losses, rmsprop_val_accuracies, rmsprop_comp_model_path = rmsprop_results\n",
        "\n",
        "\n",
        "print(\"\\nOptimizer comparison training completed for all models.\")\n"
      ],
      "metadata": {
        "id": "zd2TbTK0pKXq",
        "outputId": "6d4ab5d9-b10f-40eb-c3ac-6aeaa5cd6e86",
        "colab": {
          "base_uri": "https://localhost:8080/"
        }
      },
      "execution_count": 12,
      "outputs": [
        {
          "output_type": "stream",
          "name": "stdout",
          "text": [
            "\n",
            "===========================================================================\n",
            "       Starting Optimizer Performance Comparison Training       \n",
            "===========================================================================\n",
            "\n",
            "\n",
            "Training with Adam for 20 epochs...\n"
          ]
        },
        {
          "output_type": "stream",
          "name": "stderr",
          "text": []
        },
        {
          "output_type": "stream",
          "name": "stdout",
          "text": [
            "  Adam - Epoch [1/20] Train Loss: 3.4579 | Train Acc: 25.94% | Val Loss: 1.6890 | Val Accuracy: 40.28%\n"
          ]
        },
        {
          "output_type": "stream",
          "name": "stderr",
          "text": []
        },
        {
          "output_type": "stream",
          "name": "stdout",
          "text": [
            "  Adam - Epoch [2/20] Train Loss: 1.6911 | Train Acc: 37.86% | Val Loss: 1.4555 | Val Accuracy: 51.27%\n"
          ]
        },
        {
          "output_type": "stream",
          "name": "stderr",
          "text": []
        },
        {
          "output_type": "stream",
          "name": "stdout",
          "text": [
            "  Adam - Epoch [3/20] Train Loss: 1.5216 | Train Acc: 44.84% | Val Loss: 1.3827 | Val Accuracy: 51.55%\n"
          ]
        },
        {
          "output_type": "stream",
          "name": "stderr",
          "text": []
        },
        {
          "output_type": "stream",
          "name": "stdout",
          "text": [
            "  Adam - Epoch [4/20] Train Loss: 1.4618 | Train Acc: 45.65% | Val Loss: 1.3076 | Val Accuracy: 53.94%\n"
          ]
        },
        {
          "output_type": "stream",
          "name": "stderr",
          "text": []
        },
        {
          "output_type": "stream",
          "name": "stdout",
          "text": [
            "  Adam - Epoch [5/20] Train Loss: 1.3738 | Train Acc: 48.21% | Val Loss: 1.2489 | Val Accuracy: 57.04%\n"
          ]
        },
        {
          "output_type": "stream",
          "name": "stderr",
          "text": []
        },
        {
          "output_type": "stream",
          "name": "stdout",
          "text": [
            "  Adam - Epoch [6/20] Train Loss: 1.2761 | Train Acc: 52.42% | Val Loss: 1.2098 | Val Accuracy: 58.31%\n"
          ]
        },
        {
          "output_type": "stream",
          "name": "stderr",
          "text": []
        },
        {
          "output_type": "stream",
          "name": "stdout",
          "text": [
            "  Adam - Epoch [7/20] Train Loss: 1.2412 | Train Acc: 52.78% | Val Loss: 1.1221 | Val Accuracy: 61.41%\n"
          ]
        },
        {
          "output_type": "stream",
          "name": "stderr",
          "text": []
        },
        {
          "output_type": "stream",
          "name": "stdout",
          "text": [
            "  Adam - Epoch [8/20] Train Loss: 1.2027 | Train Acc: 55.04% | Val Loss: 1.1783 | Val Accuracy: 58.45%\n"
          ]
        },
        {
          "output_type": "stream",
          "name": "stderr",
          "text": []
        },
        {
          "output_type": "stream",
          "name": "stdout",
          "text": [
            "  Adam - Epoch [9/20] Train Loss: 1.1428 | Train Acc: 57.09% | Val Loss: 1.0748 | Val Accuracy: 61.83%\n"
          ]
        },
        {
          "output_type": "stream",
          "name": "stderr",
          "text": []
        },
        {
          "output_type": "stream",
          "name": "stdout",
          "text": [
            "  Adam - Epoch [10/20] Train Loss: 1.0474 | Train Acc: 60.16% | Val Loss: 1.0830 | Val Accuracy: 64.08%\n"
          ]
        },
        {
          "output_type": "stream",
          "name": "stderr",
          "text": []
        },
        {
          "output_type": "stream",
          "name": "stdout",
          "text": [
            "  Adam - Epoch [11/20] Train Loss: 0.9685 | Train Acc: 63.53% | Val Loss: 0.9670 | Val Accuracy: 66.76%\n"
          ]
        },
        {
          "output_type": "stream",
          "name": "stderr",
          "text": []
        },
        {
          "output_type": "stream",
          "name": "stdout",
          "text": [
            "  Adam - Epoch [12/20] Train Loss: 0.9170 | Train Acc: 64.94% | Val Loss: 0.9755 | Val Accuracy: 66.34%\n"
          ]
        },
        {
          "output_type": "stream",
          "name": "stderr",
          "text": []
        },
        {
          "output_type": "stream",
          "name": "stdout",
          "text": [
            "  Adam - Epoch [13/20] Train Loss: 0.9041 | Train Acc: 65.15% | Val Loss: 0.9444 | Val Accuracy: 67.18%\n"
          ]
        },
        {
          "output_type": "stream",
          "name": "stderr",
          "text": []
        },
        {
          "output_type": "stream",
          "name": "stdout",
          "text": [
            "  Adam - Epoch [14/20] Train Loss: 0.9322 | Train Acc: 63.20% | Val Loss: 0.9402 | Val Accuracy: 67.61%\n"
          ]
        },
        {
          "output_type": "stream",
          "name": "stderr",
          "text": []
        },
        {
          "output_type": "stream",
          "name": "stdout",
          "text": [
            "  Adam - Epoch [15/20] Train Loss: 0.8985 | Train Acc: 66.11% | Val Loss: 0.9398 | Val Accuracy: 68.03%\n"
          ]
        },
        {
          "output_type": "stream",
          "name": "stderr",
          "text": []
        },
        {
          "output_type": "stream",
          "name": "stdout",
          "text": [
            "  Adam - Epoch [16/20] Train Loss: 0.9033 | Train Acc: 66.05% | Val Loss: 0.9403 | Val Accuracy: 68.31%\n"
          ]
        },
        {
          "output_type": "stream",
          "name": "stderr",
          "text": []
        },
        {
          "output_type": "stream",
          "name": "stdout",
          "text": [
            "  Adam - Epoch [17/20] Train Loss: 0.9091 | Train Acc: 64.52% | Val Loss: 0.9266 | Val Accuracy: 68.17%\n"
          ]
        },
        {
          "output_type": "stream",
          "name": "stderr",
          "text": []
        },
        {
          "output_type": "stream",
          "name": "stdout",
          "text": [
            "  Adam - Epoch [18/20] Train Loss: 0.8611 | Train Acc: 66.30% | Val Loss: 0.9063 | Val Accuracy: 69.30%\n"
          ]
        },
        {
          "output_type": "stream",
          "name": "stderr",
          "text": []
        },
        {
          "output_type": "stream",
          "name": "stdout",
          "text": [
            "  Adam - Epoch [19/20] Train Loss: 0.8661 | Train Acc: 66.27% | Val Loss: 0.9250 | Val Accuracy: 68.03%\n"
          ]
        },
        {
          "output_type": "stream",
          "name": "stderr",
          "text": []
        },
        {
          "output_type": "stream",
          "name": "stdout",
          "text": [
            "  Adam - Epoch [20/20] Train Loss: 0.8224 | Train Acc: 68.46% | Val Loss: 0.9063 | Val Accuracy: 68.87%\n",
            "--- Adam training finished. Best Val Accuracy: 69.30% ---\n",
            "\n",
            "Training with Standard SGD for 20 epochs...\n"
          ]
        },
        {
          "output_type": "stream",
          "name": "stderr",
          "text": []
        },
        {
          "output_type": "stream",
          "name": "stdout",
          "text": [
            "  Standard SGD - Epoch [1/20] Train Loss: 2.1389 | Train Acc: 27.14% | Val Loss: 1.6172 | Val Accuracy: 41.27%\n"
          ]
        },
        {
          "output_type": "stream",
          "name": "stderr",
          "text": []
        },
        {
          "output_type": "stream",
          "name": "stdout",
          "text": [
            "  Standard SGD - Epoch [2/20] Train Loss: 1.6065 | Train Acc: 40.33% | Val Loss: 1.4273 | Val Accuracy: 47.46%\n"
          ]
        },
        {
          "output_type": "stream",
          "name": "stderr",
          "text": []
        },
        {
          "output_type": "stream",
          "name": "stdout",
          "text": [
            "  Standard SGD - Epoch [3/20] Train Loss: 1.4812 | Train Acc: 45.08% | Val Loss: 1.4617 | Val Accuracy: 46.06%\n"
          ]
        },
        {
          "output_type": "stream",
          "name": "stderr",
          "text": []
        },
        {
          "output_type": "stream",
          "name": "stdout",
          "text": [
            "  Standard SGD - Epoch [4/20] Train Loss: 1.4249 | Train Acc: 46.37% | Val Loss: 1.5019 | Val Accuracy: 45.35%\n"
          ]
        },
        {
          "output_type": "stream",
          "name": "stderr",
          "text": []
        },
        {
          "output_type": "stream",
          "name": "stdout",
          "text": [
            "  Standard SGD - Epoch [5/20] Train Loss: 1.2907 | Train Acc: 52.00% | Val Loss: 1.2991 | Val Accuracy: 52.96%\n"
          ]
        },
        {
          "output_type": "stream",
          "name": "stderr",
          "text": []
        },
        {
          "output_type": "stream",
          "name": "stdout",
          "text": [
            "  Standard SGD - Epoch [6/20] Train Loss: 1.2539 | Train Acc: 53.54% | Val Loss: 1.3096 | Val Accuracy: 52.25%\n"
          ]
        },
        {
          "output_type": "stream",
          "name": "stderr",
          "text": []
        },
        {
          "output_type": "stream",
          "name": "stdout",
          "text": [
            "  Standard SGD - Epoch [7/20] Train Loss: 1.2083 | Train Acc: 54.53% | Val Loss: 1.1799 | Val Accuracy: 57.04%\n"
          ]
        },
        {
          "output_type": "stream",
          "name": "stderr",
          "text": []
        },
        {
          "output_type": "stream",
          "name": "stdout",
          "text": [
            "  Standard SGD - Epoch [8/20] Train Loss: 1.1892 | Train Acc: 56.39% | Val Loss: 1.1153 | Val Accuracy: 60.56%\n"
          ]
        },
        {
          "output_type": "stream",
          "name": "stderr",
          "text": []
        },
        {
          "output_type": "stream",
          "name": "stdout",
          "text": [
            "  Standard SGD - Epoch [9/20] Train Loss: 1.1174 | Train Acc: 58.44% | Val Loss: 1.2254 | Val Accuracy: 55.21%\n"
          ]
        },
        {
          "output_type": "stream",
          "name": "stderr",
          "text": []
        },
        {
          "output_type": "stream",
          "name": "stdout",
          "text": [
            "  Standard SGD - Epoch [10/20] Train Loss: 1.0891 | Train Acc: 59.19% | Val Loss: 1.1348 | Val Accuracy: 58.59%\n"
          ]
        },
        {
          "output_type": "stream",
          "name": "stderr",
          "text": []
        },
        {
          "output_type": "stream",
          "name": "stdout",
          "text": [
            "  Standard SGD - Epoch [11/20] Train Loss: 0.9459 | Train Acc: 64.13% | Val Loss: 1.0010 | Val Accuracy: 63.94%\n"
          ]
        },
        {
          "output_type": "stream",
          "name": "stderr",
          "text": []
        },
        {
          "output_type": "stream",
          "name": "stdout",
          "text": [
            "  Standard SGD - Epoch [12/20] Train Loss: 0.9134 | Train Acc: 66.48% | Val Loss: 0.9929 | Val Accuracy: 63.38%\n"
          ]
        },
        {
          "output_type": "stream",
          "name": "stderr",
          "text": []
        },
        {
          "output_type": "stream",
          "name": "stdout",
          "text": [
            "  Standard SGD - Epoch [13/20] Train Loss: 0.8774 | Train Acc: 67.38% | Val Loss: 0.9817 | Val Accuracy: 63.38%\n"
          ]
        },
        {
          "output_type": "stream",
          "name": "stderr",
          "text": []
        },
        {
          "output_type": "stream",
          "name": "stdout",
          "text": [
            "  Standard SGD - Epoch [14/20] Train Loss: 0.8615 | Train Acc: 67.11% | Val Loss: 0.9666 | Val Accuracy: 65.35%\n"
          ]
        },
        {
          "output_type": "stream",
          "name": "stderr",
          "text": []
        },
        {
          "output_type": "stream",
          "name": "stdout",
          "text": [
            "  Standard SGD - Epoch [15/20] Train Loss: 0.8830 | Train Acc: 66.87% | Val Loss: 0.9601 | Val Accuracy: 65.35%\n"
          ]
        },
        {
          "output_type": "stream",
          "name": "stderr",
          "text": []
        },
        {
          "output_type": "stream",
          "name": "stdout",
          "text": [
            "  Standard SGD - Epoch [16/20] Train Loss: 0.8531 | Train Acc: 68.76% | Val Loss: 0.9661 | Val Accuracy: 64.79%\n"
          ]
        },
        {
          "output_type": "stream",
          "name": "stderr",
          "text": []
        },
        {
          "output_type": "stream",
          "name": "stdout",
          "text": [
            "  Standard SGD - Epoch [17/20] Train Loss: 0.8421 | Train Acc: 69.12% | Val Loss: 0.9511 | Val Accuracy: 66.34%\n"
          ]
        },
        {
          "output_type": "stream",
          "name": "stderr",
          "text": []
        },
        {
          "output_type": "stream",
          "name": "stdout",
          "text": [
            "  Standard SGD - Epoch [18/20] Train Loss: 0.8160 | Train Acc: 70.27% | Val Loss: 0.9536 | Val Accuracy: 66.20%\n"
          ]
        },
        {
          "output_type": "stream",
          "name": "stderr",
          "text": []
        },
        {
          "output_type": "stream",
          "name": "stdout",
          "text": [
            "  Standard SGD - Epoch [19/20] Train Loss: 0.8234 | Train Acc: 70.24% | Val Loss: 0.9385 | Val Accuracy: 66.34%\n"
          ]
        },
        {
          "output_type": "stream",
          "name": "stderr",
          "text": []
        },
        {
          "output_type": "stream",
          "name": "stdout",
          "text": [
            "  Standard SGD - Epoch [20/20] Train Loss: 0.8261 | Train Acc: 69.64% | Val Loss: 0.9471 | Val Accuracy: 66.34%\n",
            "--- Standard SGD training finished. Best Val Accuracy: 66.34% ---\n",
            "\n",
            "Training with SGD with Momentum for 20 epochs...\n"
          ]
        },
        {
          "output_type": "stream",
          "name": "stderr",
          "text": []
        },
        {
          "output_type": "stream",
          "name": "stdout",
          "text": [
            "  SGD with Momentum - Epoch [1/20] Train Loss: 2.0893 | Train Acc: 28.71% | Val Loss: 1.8057 | Val Accuracy: 33.52%\n"
          ]
        },
        {
          "output_type": "stream",
          "name": "stderr",
          "text": []
        },
        {
          "output_type": "stream",
          "name": "stdout",
          "text": [
            "  SGD with Momentum - Epoch [2/20] Train Loss: 1.6858 | Train Acc: 35.48% | Val Loss: 1.4981 | Val Accuracy: 44.23%\n"
          ]
        },
        {
          "output_type": "stream",
          "name": "stderr",
          "text": []
        },
        {
          "output_type": "stream",
          "name": "stdout",
          "text": [
            "  SGD with Momentum - Epoch [3/20] Train Loss: 1.7082 | Train Acc: 35.51% | Val Loss: 1.6625 | Val Accuracy: 33.38%\n"
          ]
        },
        {
          "output_type": "stream",
          "name": "stderr",
          "text": []
        },
        {
          "output_type": "stream",
          "name": "stdout",
          "text": [
            "  SGD with Momentum - Epoch [4/20] Train Loss: 1.7018 | Train Acc: 35.54% | Val Loss: 1.6969 | Val Accuracy: 37.04%\n"
          ]
        },
        {
          "output_type": "stream",
          "name": "stderr",
          "text": []
        },
        {
          "output_type": "stream",
          "name": "stdout",
          "text": [
            "  SGD with Momentum - Epoch [5/20] Train Loss: 1.7189 | Train Acc: 34.97% | Val Loss: 1.6454 | Val Accuracy: 40.00%\n"
          ]
        },
        {
          "output_type": "stream",
          "name": "stderr",
          "text": []
        },
        {
          "output_type": "stream",
          "name": "stdout",
          "text": [
            "  SGD with Momentum - Epoch [6/20] Train Loss: 1.5989 | Train Acc: 39.51% | Val Loss: 1.5263 | Val Accuracy: 43.24%\n"
          ]
        },
        {
          "output_type": "stream",
          "name": "stderr",
          "text": []
        },
        {
          "output_type": "stream",
          "name": "stdout",
          "text": [
            "  SGD with Momentum - Epoch [7/20] Train Loss: 1.5171 | Train Acc: 43.85% | Val Loss: 1.8903 | Val Accuracy: 43.38%\n"
          ]
        },
        {
          "output_type": "stream",
          "name": "stderr",
          "text": []
        },
        {
          "output_type": "stream",
          "name": "stdout",
          "text": [
            "  SGD with Momentum - Epoch [8/20] Train Loss: 1.5040 | Train Acc: 44.12% | Val Loss: 1.4262 | Val Accuracy: 48.87%\n"
          ]
        },
        {
          "output_type": "stream",
          "name": "stderr",
          "text": []
        },
        {
          "output_type": "stream",
          "name": "stdout",
          "text": [
            "  SGD with Momentum - Epoch [9/20] Train Loss: 1.5650 | Train Acc: 40.60% | Val Loss: 1.6337 | Val Accuracy: 44.65%\n"
          ]
        },
        {
          "output_type": "stream",
          "name": "stderr",
          "text": []
        },
        {
          "output_type": "stream",
          "name": "stdout",
          "text": [
            "  SGD with Momentum - Epoch [10/20] Train Loss: 1.4637 | Train Acc: 44.72% | Val Loss: 1.4356 | Val Accuracy: 48.87%\n"
          ]
        },
        {
          "output_type": "stream",
          "name": "stderr",
          "text": []
        },
        {
          "output_type": "stream",
          "name": "stdout",
          "text": [
            "  SGD with Momentum - Epoch [11/20] Train Loss: 1.3687 | Train Acc: 47.73% | Val Loss: 1.2374 | Val Accuracy: 59.01%\n"
          ]
        },
        {
          "output_type": "stream",
          "name": "stderr",
          "text": []
        },
        {
          "output_type": "stream",
          "name": "stdout",
          "text": [
            "  SGD with Momentum - Epoch [12/20] Train Loss: 1.3198 | Train Acc: 49.17% | Val Loss: 1.2306 | Val Accuracy: 58.73%\n"
          ]
        },
        {
          "output_type": "stream",
          "name": "stderr",
          "text": []
        },
        {
          "output_type": "stream",
          "name": "stdout",
          "text": [
            "  SGD with Momentum - Epoch [13/20] Train Loss: 1.2779 | Train Acc: 49.47% | Val Loss: 1.2306 | Val Accuracy: 57.32%\n"
          ]
        },
        {
          "output_type": "stream",
          "name": "stderr",
          "text": []
        },
        {
          "output_type": "stream",
          "name": "stdout",
          "text": [
            "  SGD with Momentum - Epoch [14/20] Train Loss: 1.2747 | Train Acc: 49.62% | Val Loss: 1.2193 | Val Accuracy: 57.75%\n"
          ]
        },
        {
          "output_type": "stream",
          "name": "stderr",
          "text": []
        },
        {
          "output_type": "stream",
          "name": "stdout",
          "text": [
            "  SGD with Momentum - Epoch [15/20] Train Loss: 1.2786 | Train Acc: 50.35% | Val Loss: 1.2275 | Val Accuracy: 58.87%\n"
          ]
        },
        {
          "output_type": "stream",
          "name": "stderr",
          "text": []
        },
        {
          "output_type": "stream",
          "name": "stdout",
          "text": [
            "  SGD with Momentum - Epoch [16/20] Train Loss: 1.2504 | Train Acc: 51.85% | Val Loss: 1.2053 | Val Accuracy: 57.61%\n"
          ]
        },
        {
          "output_type": "stream",
          "name": "stderr",
          "text": []
        },
        {
          "output_type": "stream",
          "name": "stdout",
          "text": [
            "  SGD with Momentum - Epoch [17/20] Train Loss: 1.2165 | Train Acc: 53.69% | Val Loss: 1.1955 | Val Accuracy: 57.04%\n"
          ]
        },
        {
          "output_type": "stream",
          "name": "stderr",
          "text": []
        },
        {
          "output_type": "stream",
          "name": "stdout",
          "text": [
            "  SGD with Momentum - Epoch [18/20] Train Loss: 1.2286 | Train Acc: 51.94% | Val Loss: 1.2081 | Val Accuracy: 57.75%\n"
          ]
        },
        {
          "output_type": "stream",
          "name": "stderr",
          "text": []
        },
        {
          "output_type": "stream",
          "name": "stdout",
          "text": [
            "  SGD with Momentum - Epoch [19/20] Train Loss: 1.2227 | Train Acc: 52.12% | Val Loss: 1.1785 | Val Accuracy: 56.90%\n"
          ]
        },
        {
          "output_type": "stream",
          "name": "stderr",
          "text": []
        },
        {
          "output_type": "stream",
          "name": "stdout",
          "text": [
            "  SGD with Momentum - Epoch [20/20] Train Loss: 1.2189 | Train Acc: 52.18% | Val Loss: 1.1636 | Val Accuracy: 57.04%\n",
            "--- SGD with Momentum training finished. Best Val Accuracy: 59.01% ---\n",
            "\n",
            "Training with RMSProp for 20 epochs...\n"
          ]
        },
        {
          "output_type": "stream",
          "name": "stderr",
          "text": []
        },
        {
          "output_type": "stream",
          "name": "stdout",
          "text": [
            "  RMSProp - Epoch [1/20] Train Loss: 8.5462 | Train Acc: 25.07% | Val Loss: 2.0244 | Val Accuracy: 25.21%\n"
          ]
        },
        {
          "output_type": "stream",
          "name": "stderr",
          "text": []
        },
        {
          "output_type": "stream",
          "name": "stdout",
          "text": [
            "  RMSProp - Epoch [2/20] Train Loss: 2.0455 | Train Acc: 31.45% | Val Loss: 1.9510 | Val Accuracy: 32.39%\n"
          ]
        },
        {
          "output_type": "stream",
          "name": "stderr",
          "text": []
        },
        {
          "output_type": "stream",
          "name": "stdout",
          "text": [
            "  RMSProp - Epoch [3/20] Train Loss: 1.8201 | Train Acc: 34.82% | Val Loss: 1.6819 | Val Accuracy: 39.72%\n"
          ]
        },
        {
          "output_type": "stream",
          "name": "stderr",
          "text": []
        },
        {
          "output_type": "stream",
          "name": "stdout",
          "text": [
            "  RMSProp - Epoch [4/20] Train Loss: 2.0813 | Train Acc: 37.62% | Val Loss: 1.7951 | Val Accuracy: 42.68%\n"
          ]
        },
        {
          "output_type": "stream",
          "name": "stderr",
          "text": []
        },
        {
          "output_type": "stream",
          "name": "stdout",
          "text": [
            "  RMSProp - Epoch [5/20] Train Loss: 2.3876 | Train Acc: 41.83% | Val Loss: 1.5336 | Val Accuracy: 39.01%\n"
          ]
        },
        {
          "output_type": "stream",
          "name": "stderr",
          "text": []
        },
        {
          "output_type": "stream",
          "name": "stdout",
          "text": [
            "  RMSProp - Epoch [6/20] Train Loss: 1.6452 | Train Acc: 46.31% | Val Loss: 1.3731 | Val Accuracy: 50.28%\n"
          ]
        },
        {
          "output_type": "stream",
          "name": "stderr",
          "text": []
        },
        {
          "output_type": "stream",
          "name": "stdout",
          "text": [
            "  RMSProp - Epoch [7/20] Train Loss: 1.4573 | Train Acc: 49.29% | Val Loss: 1.2769 | Val Accuracy: 55.07%\n"
          ]
        },
        {
          "output_type": "stream",
          "name": "stderr",
          "text": []
        },
        {
          "output_type": "stream",
          "name": "stdout",
          "text": [
            "  RMSProp - Epoch [8/20] Train Loss: 1.4130 | Train Acc: 52.51% | Val Loss: 1.3448 | Val Accuracy: 51.69%\n"
          ]
        },
        {
          "output_type": "stream",
          "name": "stderr",
          "text": []
        },
        {
          "output_type": "stream",
          "name": "stdout",
          "text": [
            "  RMSProp - Epoch [9/20] Train Loss: 1.5154 | Train Acc: 53.05% | Val Loss: 1.3832 | Val Accuracy: 52.82%\n"
          ]
        },
        {
          "output_type": "stream",
          "name": "stderr",
          "text": []
        },
        {
          "output_type": "stream",
          "name": "stdout",
          "text": [
            "  RMSProp - Epoch [10/20] Train Loss: 1.1912 | Train Acc: 60.10% | Val Loss: 1.0387 | Val Accuracy: 60.85%\n"
          ]
        },
        {
          "output_type": "stream",
          "name": "stderr",
          "text": []
        },
        {
          "output_type": "stream",
          "name": "stdout",
          "text": [
            "  RMSProp - Epoch [11/20] Train Loss: 0.9271 | Train Acc: 66.72% | Val Loss: 1.0056 | Val Accuracy: 64.65%\n"
          ]
        },
        {
          "output_type": "stream",
          "name": "stderr",
          "text": []
        },
        {
          "output_type": "stream",
          "name": "stdout",
          "text": [
            "  RMSProp - Epoch [12/20] Train Loss: 0.8648 | Train Acc: 68.97% | Val Loss: 0.9806 | Val Accuracy: 64.37%\n"
          ]
        },
        {
          "output_type": "stream",
          "name": "stderr",
          "text": []
        },
        {
          "output_type": "stream",
          "name": "stdout",
          "text": [
            "  RMSProp - Epoch [13/20] Train Loss: 0.7798 | Train Acc: 72.07% | Val Loss: 1.0116 | Val Accuracy: 65.92%\n"
          ]
        },
        {
          "output_type": "stream",
          "name": "stderr",
          "text": []
        },
        {
          "output_type": "stream",
          "name": "stdout",
          "text": [
            "  RMSProp - Epoch [14/20] Train Loss: 0.7468 | Train Acc: 72.49% | Val Loss: 0.9784 | Val Accuracy: 67.04%\n"
          ]
        },
        {
          "output_type": "stream",
          "name": "stderr",
          "text": []
        },
        {
          "output_type": "stream",
          "name": "stdout",
          "text": [
            "  RMSProp - Epoch [15/20] Train Loss: 0.7369 | Train Acc: 73.37% | Val Loss: 0.9514 | Val Accuracy: 67.61%\n"
          ]
        },
        {
          "output_type": "stream",
          "name": "stderr",
          "text": []
        },
        {
          "output_type": "stream",
          "name": "stdout",
          "text": [
            "  RMSProp - Epoch [16/20] Train Loss: 0.7062 | Train Acc: 74.27% | Val Loss: 0.9504 | Val Accuracy: 67.46%\n"
          ]
        },
        {
          "output_type": "stream",
          "name": "stderr",
          "text": []
        },
        {
          "output_type": "stream",
          "name": "stdout",
          "text": [
            "  RMSProp - Epoch [17/20] Train Loss: 0.6791 | Train Acc: 75.99% | Val Loss: 0.9202 | Val Accuracy: 67.04%\n"
          ]
        },
        {
          "output_type": "stream",
          "name": "stderr",
          "text": []
        },
        {
          "output_type": "stream",
          "name": "stdout",
          "text": [
            "  RMSProp - Epoch [18/20] Train Loss: 0.6553 | Train Acc: 76.02% | Val Loss: 0.9128 | Val Accuracy: 68.45%\n"
          ]
        },
        {
          "output_type": "stream",
          "name": "stderr",
          "text": []
        },
        {
          "output_type": "stream",
          "name": "stdout",
          "text": [
            "  RMSProp - Epoch [19/20] Train Loss: 0.6261 | Train Acc: 77.97% | Val Loss: 0.8935 | Val Accuracy: 68.73%\n"
          ]
        },
        {
          "output_type": "stream",
          "name": "stderr",
          "text": []
        },
        {
          "output_type": "stream",
          "name": "stdout",
          "text": [
            "  RMSProp - Epoch [20/20] Train Loss: 0.5714 | Train Acc: 79.54% | Val Loss: 0.8955 | Val Accuracy: 70.28%\n",
            "--- RMSProp training finished. Best Val Accuracy: 70.28% ---\n",
            "\n",
            "Optimizer comparison training completed for all models.\n"
          ]
        }
      ]
    },
    {
      "cell_type": "code",
      "source": [
        "plt.figure(figsize=(14, 10))\n",
        "\n",
        "# === Plot 1: Validation Accuracy ===\n",
        "plt.subplot(2, 2, 1)\n",
        "plt.plot(range(1, NUM_EPOCHS_COMP + 1), adam_val_accuracies, marker='o', linestyle='-', label='Adam')\n",
        "plt.plot(range(1, NUM_EPOCHS_COMP + 1), sgd_val_accuracies, marker='x', linestyle='--', label='Standard SGD')\n",
        "plt.plot(range(1, NUM_EPOCHS_COMP + 1), sgd_momentum_val_accuracies, marker='^', linestyle=':', label='SGD with Momentum')\n",
        "plt.plot(range(1, NUM_EPOCHS_COMP + 1), rmsprop_val_accuracies, marker='s', linestyle='-.', label='RMSProp')\n",
        "plt.title(f\"Optimizer Comparison: Validation Accuracy ({NUM_EPOCHS_COMP} Epochs)\")\n",
        "plt.xlabel(\"Epoch\")\n",
        "plt.ylabel(\"Accuracy (%)\")\n",
        "plt.legend()\n",
        "plt.grid(True)\n",
        "\n",
        "# === Plot 2: Training Accuracy ===\n",
        "plt.subplot(2, 2, 2)\n",
        "plt.plot(range(1, NUM_EPOCHS_COMP + 1), adam_train_accuracies, marker='o', linestyle='-', label='Adam')\n",
        "plt.plot(range(1, NUM_EPOCHS_COMP + 1), sgd_train_accuracies, marker='x', linestyle='--', label='Standard SGD')\n",
        "plt.plot(range(1, NUM_EPOCHS_COMP + 1), sgd_momentum_train_accuracies, marker='^', linestyle=':', label='SGD with Momentum')\n",
        "plt.plot(range(1, NUM_EPOCHS_COMP + 1), rmsprop_train_accuracies, marker='s', linestyle='-.', label='RMSProp')\n",
        "plt.title(f\"Optimizer Comparison: Training Accuracy ({NUM_EPOCHS_COMP} Epochs)\")\n",
        "plt.xlabel(\"Epoch\")\n",
        "plt.ylabel(\"Accuracy (%)\")\n",
        "plt.legend()\n",
        "plt.grid(True)\n",
        "\n",
        "# === Plot 3: Validation Loss ===\n",
        "plt.subplot(2, 2, 3)\n",
        "plt.plot(range(1, NUM_EPOCHS_COMP + 1), adam_val_losses, marker='o', linestyle='-', label='Adam')\n",
        "plt.plot(range(1, NUM_EPOCHS_COMP + 1), sgd_val_losses, marker='x', linestyle='--', label='Standard SGD')\n",
        "plt.plot(range(1, NUM_EPOCHS_COMP + 1), sgd_momentum_val_losses, marker='^', linestyle=':', label='SGD with Momentum')\n",
        "plt.plot(range(1, NUM_EPOCHS_COMP + 1), rmsprop_val_losses, marker='s', linestyle='-.', label='RMSProp')\n",
        "plt.title(f\"Optimizer Comparison: Validation Loss ({NUM_EPOCHS_COMP} Epochs)\")\n",
        "plt.xlabel(\"Epoch\")\n",
        "plt.ylabel(\"Loss\")\n",
        "plt.legend()\n",
        "plt.grid(True)\n",
        "\n",
        "# === Plot 4: Training Loss ===\n",
        "plt.subplot(2, 2, 4)\n",
        "plt.plot(range(1, NUM_EPOCHS_COMP + 1), adam_train_losses, marker='o', linestyle='-', label='Adam')\n",
        "plt.plot(range(1, NUM_EPOCHS_COMP + 1), sgd_train_losses, marker='x', linestyle='--', label='Standard SGD')\n",
        "plt.plot(range(1, NUM_EPOCHS_COMP + 1), sgd_momentum_train_losses, marker='^', linestyle=':', label='SGD with Momentum')\n",
        "plt.plot(range(1, NUM_EPOCHS_COMP + 1), rmsprop_train_losses, marker='s', linestyle='-.', label='RMSProp')\n",
        "plt.title(f\"Optimizer Comparison: Training Loss ({NUM_EPOCHS_COMP} Epochs)\")\n",
        "plt.xlabel(\"Epoch\")\n",
        "plt.ylabel(\"Loss\")\n",
        "plt.legend()\n",
        "plt.grid(True)\n",
        "\n",
        "plt.tight_layout()\n",
        "plt.show()\n",
        "\n",
        "print(\"\\nOptimizer Comparison plots generated.\")\n"
      ],
      "metadata": {
        "id": "Wjcw7xI3pMsH",
        "outputId": "5c355d76-0304-4a1d-d19d-67f10e4677c4",
        "colab": {
          "base_uri": "https://localhost:8080/",
          "height": 743
        }
      },
      "execution_count": 13,
      "outputs": [
        {
          "output_type": "display_data",
          "data": {
            "text/plain": [
              "<Figure size 1400x1000 with 4 Axes>"
            ],
            "image/png": "[encoded data removed]"
          },
          "metadata": {}
        },
        {
          "output_type": "stream",
          "name": "stdout",
          "text": [
            "\n",
            "Optimizer Comparison plots generated.\n"
          ]
        }
      ]
    },
    {
      "cell_type": "code",
      "source": [
        "def evaluate_on_test_set_comp(model_instance, model_path, test_loader_comp, device_comp):\n",
        "    model_instance.load_state_dict(torch.load(model_path))\n",
        "    model_instance.to(device_comp)\n",
        "    model_instance.eval()\n",
        "\n",
        "    test_correct = 0\n",
        "    test_total = 0\n",
        "\n",
        "    with torch.no_grad():\n",
        "        test_loop = tqdm(test_loader_comp, desc=f\"Evaluating Test Set for model from {model_path}\", leave=False)\n",
        "        for images, labels in test_loop:\n",
        "            images, labels = images.to(device_comp), labels.to(device_comp)\n",
        "            outputs = model_instance(images)\n",
        "            _, predicted = torch.max(outputs.data, 1)\n",
        "            test_total += labels.size(0)\n",
        "            test_correct += (predicted == labels).sum().item()\n",
        "\n",
        "    test_accuracy = 100 * test_correct / test_total\n",
        "    return test_accuracy\n",
        "\n",
        "\n",
        "print(\"\\n--- Evaluating Comparison Models on Test Set ---\")\n",
        "\n",
        "adam_final_test_accuracy = evaluate_on_test_set_comp(model_adam_comp, adam_comp_model_path, test_loader, device)\n",
        "sgd_final_test_accuracy = evaluate_on_test_set_comp(model_sgd_comp, sgd_comp_model_path, test_loader, device)\n",
        "sgd_momentum_final_test_accuracy = evaluate_on_test_set_comp(model_sgd_momentum_comp, sgd_momentum_comp_model_path, test_loader, device)\n",
        "rmsprop_final_test_accuracy = evaluate_on_test_set_comp(model_rmsprop_comp, rmsprop_comp_model_path, test_loader, device)\n",
        "\n",
        "\n",
        "print(\"\\n\" + \"=\"*75)\n",
        "print(\"       Optimizer Performance Comparison Summary       \")\n",
        "print(\"=\"*75 + \"\\n\")\n",
        "print(f\"Final Test Accuracy for Adam: {adam_final_test_accuracy:.2f}%\")\n",
        "print(f\"Final Test Accuracy for Standard SGD: {sgd_final_test_accuracy:.2f}%\")\n",
        "print(f\"Final Test Accuracy for SGD with Momentum: {sgd_momentum_final_test_accuracy:.2f}%\")\n",
        "print(f\"Final Test Accuracy for RMSProp: {rmsprop_final_test_accuracy:.2f}%\")\n",
        "\n",
        "print(\"\\nOptimizer Comparison Test Evaluation Complete.\")\n"
      ],
      "metadata": {
        "id": "1Cp4PM9rbi4D",
        "outputId": "364abe94-956f-43a6-cdd3-1ad48d9c1ec0",
        "colab": {
          "base_uri": "https://localhost:8080/"
        }
      },
      "execution_count": 14,
      "outputs": [
        {
          "output_type": "stream",
          "name": "stdout",
          "text": [
            "\n",
            "--- Evaluating Comparison Models on Test Set ---\n"
          ]
        },
        {
          "output_type": "stream",
          "name": "stderr",
          "text": [
            "                                                                                                                     "
          ]
        },
        {
          "output_type": "stream",
          "name": "stdout",
          "text": [
            "\n",
            "===========================================================================\n",
            "       Optimizer Performance Comparison Summary       \n",
            "===========================================================================\n",
            "\n",
            "Final Test Accuracy for Adam: 71.35%\n",
            "Final Test Accuracy for Standard SGD: 68.85%\n",
            "Final Test Accuracy for SGD with Momentum: 59.81%\n",
            "Final Test Accuracy for RMSProp: 73.99%\n",
            "\n",
            "Optimizer Comparison Test Evaluation Complete.\n"
          ]
        },
        {
          "output_type": "stream",
          "name": "stderr",
          "text": [
            "\r"
          ]
        }
      ]
    }
  ],
  "metadata": {
    "language_info": {
      "name": "python"
    },
    "colab": {
      "provenance": [],
      "gpuType": "T4",
      "include_colab_link": true
    },
    "kernelspec": {
      "name": "python3",
      "display_name": "Python 3"
    },
    "accelerator": "GPU"
  },
  "nbformat": 4,
  "nbformat_minor": 0
}