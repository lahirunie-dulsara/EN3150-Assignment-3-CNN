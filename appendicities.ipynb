{
  "cells": [
    {
      "cell_type": "markdown",
      "metadata": {
        "id": "view-in-github",
        "colab_type": "text"
      },
      "source": [
        "<a href=\"https://colab.research.google.com/github/lahirunie-dulsara/EN3150-Assignment-3-CNN/blob/Lahirunie/appendicities.ipynb\" target=\"_parent\"><img src=\"https://colab.research.google.com/assets/colab-badge.svg\" alt=\"Open In Colab\"/></a>"
      ]
    },
    {
      "cell_type": "code",
      "source": [
        "pip install ucimlrepo"
      ],
      "metadata": {
        "colab": {
          "base_uri": "https://localhost:8080/"
        },
        "id": "zotNrGn6opvG",
        "outputId": "15cb5af6-26c9-475f-f7c4-cb1a863d53ad"
      },
      "execution_count": 1,
      "outputs": [
        {
          "output_type": "stream",
          "name": "stdout",
          "text": [
            "Collecting ucimlrepo\n",
            "  Downloading ucimlrepo-0.0.7-py3-none-any.whl.metadata (5.5 kB)\n",
            "Requirement already satisfied: pandas>=1.0.0 in /usr/local/lib/python3.12/dist-packages (from ucimlrepo) (2.2.2)\n",
            "Requirement already satisfied: certifi>=2020.12.5 in /usr/local/lib/python3.12/dist-packages (from ucimlrepo) (2025.10.5)\n",
            "Requirement already satisfied: numpy>=1.26.0 in /usr/local/lib/python3.12/dist-packages (from pandas>=1.0.0->ucimlrepo) (2.0.2)\n",
            "Requirement already satisfied: python-dateutil>=2.8.2 in /usr/local/lib/python3.12/dist-packages (from pandas>=1.0.0->ucimlrepo) (2.9.0.post0)\n",
            "Requirement already satisfied: pytz>=2020.1 in /usr/local/lib/python3.12/dist-packages (from pandas>=1.0.0->ucimlrepo) (2025.2)\n",
            "Requirement already satisfied: tzdata>=2022.7 in /usr/local/lib/python3.12/dist-packages (from pandas>=1.0.0->ucimlrepo) (2025.2)\n",
            "Requirement already satisfied: six>=1.5 in /usr/local/lib/python3.12/dist-packages (from python-dateutil>=2.8.2->pandas>=1.0.0->ucimlrepo) (1.17.0)\n",
            "Downloading ucimlrepo-0.0.7-py3-none-any.whl (8.0 kB)\n",
            "Installing collected packages: ucimlrepo\n",
            "Successfully installed ucimlrepo-0.0.7\n"
          ]
        }
      ]
    },
    {
      "cell_type": "code",
      "execution_count": 11,
      "metadata": {
        "id": "AUhx6Ijvigc9",
        "colab": {
          "base_uri": "https://localhost:8080/"
        },
        "outputId": "3d33d188-b8a9-4635-cb11-bd4903bf35cd"
      },
      "outputs": [
        {
          "output_type": "stream",
          "name": "stdout",
          "text": [
            "{'uci_id': 938, 'name': 'Regensburg Pediatric Appendicitis', 'repository_url': 'https://archive.ics.uci.edu/dataset/938/regensburg+pediatric+appendicitis', 'data_url': 'https://archive.ics.uci.edu/static/public/938/data.csv', 'abstract': 'This repository holds the data from a cohort of pediatric patients with suspected appendicitis admitted with abdominal pain to Children’s Hospital St. Hedwig in Regensburg, Germany, between 2016 and 2021. Each patient has (potentially multiple) ultrasound (US) images, aka views, tabular data comprising laboratory, physical examination, scoring results and ultrasonographic findings extracted manually by the experts, and three target variables, namely, diagnosis, management and severity.', 'area': 'Health and Medicine', 'tasks': ['Classification'], 'characteristics': ['Tabular', 'Image'], 'num_instances': 782, 'num_features': 53, 'feature_types': ['Real', 'Categorical', 'Integer'], 'demographics': ['Age', 'Sex'], 'target_col': ['Management', 'Severity', 'Diagnosis'], 'index_col': None, 'has_missing_values': 'yes', 'missing_values_symbol': 'NaN', 'year_of_dataset_creation': 2023, 'last_updated': 'Tue Feb 06 2024', 'dataset_doi': '10.5281/zenodo.7669442', 'creators': ['Ricards Marcinkevics', 'Patricia Reis', 'Ugne Klimiene', 'Ece Ozkan', 'Kieran Chin-Cheong', 'Alyssia Paschke', 'Julia Zerres', 'Markus Denzinger', 'David Niederberger', 'S. Wellmann', 'C. Knorr', 'Julia E.'], 'intro_paper': {'ID': 354, 'type': 'NATIVE', 'title': 'Interpretable and Intervenable Ultrasonography-based Machine Learning Models for Pediatric Appendicitis', 'authors': 'Ricards Marcinkevics, Patricia Reis Wolfertstetter, Ugne Klimiene, Ece Ozkan, Kieran Chin-Cheong, Alyssia Paschke, Julia Zerres, Markus Denzinger, David Niederberger, S. Wellmann, C. Knorr, Julia E. Vogt', 'venue': 'Medical Image Analysis', 'year': 2023, 'journal': None, 'DOI': None, 'URL': 'https://arxiv.org/abs/2302.14460v2', 'sha': None, 'corpus': None, 'arxiv': None, 'mag': None, 'acl': None, 'pmid': None, 'pmcid': None}, 'additional_info': {'summary': 'This dataset was acquired in a retrospective study from a cohort of pediatric patients admitted with abdominal pain to Children’s Hospital St. Hedwig in Regensburg, Germany. Multiple abdominal B-mode ultrasound images were acquired for most patients, with the number of views varying from 1 to 15. The images depict various regions of interest, such as the abdomen’s right lower quadrant, appendix, intestines, lymph nodes and reproductive organs. Alongside multiple US images for each subject, the dataset includes information encompassing laboratory tests, physical examination results, clinical scores, such as Alvarado and pediatric appendicitis scores, and expert-produced ultrasonographic findings. Lastly, the subjects were labeled w.r.t. three target variables: diagnosis (appendicitis vs. no appendicitis), management (surgical vs. conservative) and severity (complicated vs. uncomplicated or no appendicitis). The study was approved by the Ethics Committee of the University of Regensburg (no. 18-1063-101, 18-1063_1-101 and 18-1063_2-101) and was performed following applicable guidelines and regulations.', 'purpose': None, 'funded_by': None, 'instances_represent': None, 'recommended_data_splits': None, 'sensitive_data': None, 'preprocessing_description': None, 'variable_info': None, 'citation': None}, 'external_url': 'https://zenodo.org/records/7669442'}\n",
            "                                name     role         type demographic  \\\n",
            "0                                Age  Feature   Continuous         Age   \n",
            "1                                BMI  Feature   Continuous        None   \n",
            "2                                Sex  Feature  Categorical         Sex   \n",
            "3                             Height  Feature   Continuous        None   \n",
            "4                             Weight  Feature      Integer        None   \n",
            "5                     Length_of_Stay  Feature      Integer        None   \n",
            "6                         Management   Target  Categorical        None   \n",
            "7                           Severity   Target  Categorical        None   \n",
            "8              Diagnosis_Presumptive    Other       Binary        None   \n",
            "9                          Diagnosis   Target       Binary        None   \n",
            "10                    Alvarado_Score  Feature      Integer        None   \n",
            "11     Paedriatic_Appendicitis_Score  Feature      Integer        None   \n",
            "12                    Appendix_on_US  Feature       Binary        None   \n",
            "13                 Appendix_Diameter  Feature      Integer        None   \n",
            "14                    Migratory_Pain  Feature       Binary        None   \n",
            "15              Lower_Right_Abd_Pain  Feature       Binary        None   \n",
            "16  Contralateral_Rebound_Tenderness  Feature       Binary        None   \n",
            "17                     Coughing_Pain  Feature       Binary        None   \n",
            "18                            Nausea  Feature       Binary        None   \n",
            "19                  Loss_of_Appetite  Feature       Binary        None   \n",
            "20                  Body_Temperature  Feature   Continuous        None   \n",
            "21                         WBC_Count  Feature   Continuous        None   \n",
            "22             Neutrophil_Percentage  Feature      Integer        None   \n",
            "23             Segmented_Neutrophils  Feature      Integer        None   \n",
            "24                      Neutrophilia  Feature  Categorical        None   \n",
            "25                         RBC_Count  Feature   Continuous        None   \n",
            "26                        Hemoglobin  Feature   Continuous        None   \n",
            "27                               RDW  Feature   Continuous        None   \n",
            "28                 Thrombocyte_Count  Feature      Integer        None   \n",
            "29                  Ketones_in_Urine  Feature  Categorical        None   \n",
            "30                      RBC_in_Urine  Feature  Categorical        None   \n",
            "31                      WBC_in_Urine  Feature  Categorical        None   \n",
            "32                               CRP  Feature      Integer        None   \n",
            "33                           Dysuria  Feature       Binary        None   \n",
            "34                             Stool  Feature  Categorical        None   \n",
            "35                       Peritonitis  Feature  Categorical        None   \n",
            "36                        Psoas_Sign  Feature  Categorical        None   \n",
            "37    Ipsilateral_Rebound_Tenderness  Feature  Categorical        None   \n",
            "38                      US_Performed  Feature  Categorical        None   \n",
            "39                         US_Number    Other      Integer        None   \n",
            "40                       Free_Fluids  Feature  Categorical        None   \n",
            "41              Appendix_Wall_Layers  Feature  Categorical        None   \n",
            "42                       Target_Sign  Feature  Categorical        None   \n",
            "43                     Appendicolith  Feature  Categorical        None   \n",
            "44                         Perfusion  Feature  Categorical        None   \n",
            "45                       Perforation  Feature  Categorical        None   \n",
            "46       Surrounding_Tissue_Reaction  Feature  Categorical        None   \n",
            "47              Appendicular_Abscess  Feature  Categorical        None   \n",
            "48                  Abscess_Location  Feature  Categorical        None   \n",
            "49          Pathological_Lymph_Nodes  Feature       Binary        None   \n",
            "50              Lymph_Nodes_Location  Feature  Categorical        None   \n",
            "51             Bowel_Wall_Thickening  Feature       Binary        None   \n",
            "52       Conglomerate_of_Bowel_Loops  Feature       Binary        None   \n",
            "53                             Ileus  Feature  Categorical        None   \n",
            "54                       Coprostasis  Feature  Categorical        None   \n",
            "55                         Meteorism  Feature  Categorical        None   \n",
            "56                         Enteritis  Feature  Categorical        None   \n",
            "57            Gynecological_Findings  Feature  Categorical        None   \n",
            "\n",
            "                                          description  units missing_values  \n",
            "0                     Obtained from the date of birth  years            yes  \n",
            "1   Measures body fat; patient's weight divided by...   None            yes  \n",
            "2                                   Registered gender   None            yes  \n",
            "3                                    Patient's height   None            yes  \n",
            "4                                    Patient's weight   None            yes  \n",
            "5                  Length of the stay in the hospital   None            yes  \n",
            "6   (conservative, primary surgical, secondary sur...   None            yes  \n",
            "7   (uncomplicated, complicated) Severity of appen...   None            yes  \n",
            "8                       Patient's suspected diagnosis   None            yes  \n",
            "9   Patient's diagnosis, histologically confirmed ...   None            yes  \n",
            "10    Patient's score according to the scoring system   None            yes  \n",
            "11    Patient's score according to the scoring system   None            yes  \n",
            "12  Detectability of the vermiform appendix during...   None            yes  \n",
            "13             Maximal outer diameter of the appendix   None            yes  \n",
            "14  Abdominal pain; usually starts in epigastrium ...   None            yes  \n",
            "15       Right iliac fossa pain detected on palpation   None            yes  \n",
            "16  A state in which pain of the contralateral sid...   None            yes  \n",
            "17                     Abdominal pain by forced cough   None            yes  \n",
            "18  Feeling of sickness/ejection of contents from ...   None            yes  \n",
            "19                                               None   None            yes  \n",
            "20  Measured by a thermometer placed in the rectum...   None            yes  \n",
            "21  The number of leucocytes in a unit volume of b...   None            yes  \n",
            "22              Mature WBC in the granulocytic series   None            yes  \n",
            "23  Most mature neutrophilic granulocytes present ...   None            yes  \n",
            "24  Relative neutrophilic leucocytosis, often a re...   None            yes  \n",
            "25  The number of erythrocytes in a unit volume of...   None            yes  \n",
            "26  Hemoglobin level; a red protein in the red blo...   None            yes  \n",
            "27  A blood test that measures the differences in ...   None            yes  \n",
            "28  The number of platelets in a unit volume of blood   None            yes  \n",
            "29  Presence of ketone bodies in urine, e.g. in ca...   None            yes  \n",
            "30                                     Blood in urine   None            yes  \n",
            "31    Leucocytes in urine, e.g., in case of infection   None            yes  \n",
            "32  Protein produced by the liver, elevated in cas...   None            yes  \n",
            "33          Pain or other difficulty during urination   None            yes  \n",
            "34                 Characteristics of bowel movements   None            yes  \n",
            "35  Spasm of abdominal wall muscles detected on pa...   None            yes  \n",
            "36    Abdominal pain produced by extension of the hip   None            yes  \n",
            "37  A state in which pain of the ipsilateral side ...   None            yes  \n",
            "38  If an abdominal ultrasonography was performed ...   None            yes  \n",
            "39                                               None   None            yes  \n",
            "40                     Free fluids inside the abdomen   None            yes  \n",
            "41  Distribution and characteristics of appendix l...   None            yes  \n",
            "42  Axial image of appendix with a fluid-filled ce...   None            yes  \n",
            "43  Presence of fecalith in the appendix, e.g. aco...   None            yes  \n",
            "44                    Blood flow to the appendix wall   None            yes  \n",
            "45                Signs of appendix perforation in US   None            yes  \n",
            "46  Inflammation signs in tissue (i.a. in omentum/...   None            yes  \n",
            "47                                   Appendiceal mass   None            yes  \n",
            "48             Location of the abcess intraperitoneal   None            yes  \n",
            "49  Enlarged and inflamed intra-abdominal lymph nodes   None            yes  \n",
            "50  The location of pathological lymph nodes in th...   None            yes  \n",
            "51  Edema of the intestinal wall, > 2-3 mm for sma...   None            yes  \n",
            "52  Small intestine conglomerate as sign of intrap...   None            yes  \n",
            "53  Sonographic signs of paralytic ileus (e.g., di...   None            yes  \n",
            "54                       Fecal impaction in the colon   None            yes  \n",
            "55               Accumulation of gas in the intestine   None            yes  \n",
            "56  Sonographic features of gastroenteritis, e.g. ...   None            yes  \n",
            "57  Gynaecological abnormalities, e.g. cysts, ovar...   None            yes  \n"
          ]
        }
      ],
      "source": [
        "from ucimlrepo import fetch_ucirepo\n",
        "\n",
        "# fetch dataset\n",
        "regensburg_pediatric_appendicitis = fetch_ucirepo(id=938)\n",
        "\n",
        "# data (as pandas dataframes)\n",
        "X = regensburg_pediatric_appendicitis.data.features\n",
        "y = regensburg_pediatric_appendicitis.data.targets\n",
        "z = regensburg_pediatric_appendicitis.data.other\n",
        "\n",
        "# metadata\n",
        "print(regensburg_pediatric_appendicitis.metadata)\n",
        "\n",
        "# variable information\n",
        "print(regensburg_pediatric_appendicitis.variables)"
      ]
    },
    {
      "cell_type": "code",
      "source": [
        "print(X)"
      ],
      "metadata": {
        "colab": {
          "base_uri": "https://localhost:8080/"
        },
        "id": "Bh78Iqs-qZrW",
        "outputId": "ed47f6a6-e02d-43cb-8564-2cfdb5c6d62e"
      },
      "execution_count": 3,
      "outputs": [
        {
          "output_type": "stream",
          "name": "stdout",
          "text": [
            "       Age    BMI     Sex  Height  Weight  Length_of_Stay  Alvarado_Score  \\\n",
            "0    12.68  16.90  female   148.0    37.0             3.0             4.0   \n",
            "1    14.10  31.90    male   147.0    69.5             2.0             5.0   \n",
            "2    14.14  23.30  female   163.0    62.0             4.0             5.0   \n",
            "3    16.37  20.60  female   165.0    56.0             3.0             7.0   \n",
            "4    11.08  16.90  female   163.0    45.0             3.0             5.0   \n",
            "..     ...    ...     ...     ...     ...             ...             ...   \n",
            "777  12.41  25.25  female   166.5    70.0             4.0             8.0   \n",
            "778  17.09  20.43  female   158.0    51.0             6.0             5.0   \n",
            "779  14.99  19.91  female   152.0    46.0             4.0             5.0   \n",
            "780   7.20  14.30    male   129.3    23.9             5.0             9.0   \n",
            "781  11.51  18.17    male   146.5    39.0             4.0             2.0   \n",
            "\n",
            "     Paedriatic_Appendicitis_Score Appendix_on_US  Appendix_Diameter  ...  \\\n",
            "0                              3.0            yes                7.1  ...   \n",
            "1                              4.0             no                NaN  ...   \n",
            "2                              3.0             no                NaN  ...   \n",
            "3                              6.0             no                NaN  ...   \n",
            "4                              6.0            yes                7.0  ...   \n",
            "..                             ...            ...                ...  ...   \n",
            "777                            7.0            yes                7.5  ...   \n",
            "778                            3.0             no                NaN  ...   \n",
            "779                            3.0             no                NaN  ...   \n",
            "780                            8.0            yes               14.0  ...   \n",
            "781                            2.0            yes                8.0  ...   \n",
            "\n",
            "    Abscess_Location Pathological_Lymph_Nodes Lymph_Nodes_Location  \\\n",
            "0                NaN                      yes                 reUB   \n",
            "1                NaN                      NaN                  NaN   \n",
            "2                NaN                      NaN                  NaN   \n",
            "3                NaN                      yes                 reUB   \n",
            "4                NaN                      yes                 reUB   \n",
            "..               ...                      ...                  ...   \n",
            "777              NaN                      NaN                  NaN   \n",
            "778          Douglas                      NaN                  NaN   \n",
            "779              NaN                      NaN                  NaN   \n",
            "780              NaN                       no                  NaN   \n",
            "781              NaN                      yes   rechter Unterbauch   \n",
            "\n",
            "    Bowel_Wall_Thickening Conglomerate_of_Bowel_Loops Ileus  Coprostasis  \\\n",
            "0                     NaN                         NaN   NaN          NaN   \n",
            "1                     NaN                         NaN   NaN          NaN   \n",
            "2                     NaN                         NaN   NaN          NaN   \n",
            "3                     NaN                         NaN   NaN          NaN   \n",
            "4                     NaN                         NaN   NaN          NaN   \n",
            "..                    ...                         ...   ...          ...   \n",
            "777                   NaN                         NaN   NaN          NaN   \n",
            "778                   yes                         yes   NaN          NaN   \n",
            "779                   NaN                         NaN   NaN          NaN   \n",
            "780                   yes                         NaN    no          NaN   \n",
            "781                   NaN                         NaN   yes          NaN   \n",
            "\n",
            "     Meteorism  Enteritis  Gynecological_Findings  \n",
            "0          NaN        NaN                     NaN  \n",
            "1          yes        NaN                     NaN  \n",
            "2          yes        yes                     NaN  \n",
            "3          NaN        yes                     NaN  \n",
            "4          NaN        yes                     NaN  \n",
            "..         ...        ...                     ...  \n",
            "777        NaN        NaN                     NaN  \n",
            "778        NaN        NaN                     NaN  \n",
            "779        NaN        NaN             unauffällig  \n",
            "780        NaN        NaN                     NaN  \n",
            "781        NaN        NaN                     NaN  \n",
            "\n",
            "[782 rows x 53 columns]\n"
          ]
        }
      ]
    },
    {
      "cell_type": "code",
      "source": [
        "print(y)"
      ],
      "metadata": {
        "colab": {
          "base_uri": "https://localhost:8080/"
        },
        "id": "2USmKo7Eqppk",
        "outputId": "401d9510-93b3-487a-fcf6-cec47e584994"
      },
      "execution_count": 4,
      "outputs": [
        {
          "output_type": "stream",
          "name": "stdout",
          "text": [
            "             Management       Severity        Diagnosis\n",
            "0          conservative  uncomplicated     appendicitis\n",
            "1          conservative  uncomplicated  no appendicitis\n",
            "2          conservative  uncomplicated  no appendicitis\n",
            "3          conservative  uncomplicated  no appendicitis\n",
            "4          conservative  uncomplicated     appendicitis\n",
            "..                  ...            ...              ...\n",
            "777    primary surgical  uncomplicated     appendicitis\n",
            "778  secondary surgical    complicated     appendicitis\n",
            "779    primary surgical  uncomplicated     appendicitis\n",
            "780    primary surgical  uncomplicated     appendicitis\n",
            "781    primary surgical  uncomplicated     appendicitis\n",
            "\n",
            "[782 rows x 3 columns]\n"
          ]
        }
      ]
    },
    {
      "cell_type": "code",
      "source": [
        "print(regensburg_pediatric_appendicitis)"
      ],
      "metadata": {
        "id": "7csiVzriRG0i",
        "outputId": "9443b232-e965-4f50-b3a5-2b73048500eb",
        "colab": {
          "base_uri": "https://localhost:8080/"
        }
      },
      "execution_count": 13,
      "outputs": [
        {
          "output_type": "stream",
          "name": "stdout",
          "text": [
            "{'data': {'ids': None, 'features':        Age    BMI     Sex  Height  Weight  Length_of_Stay  Alvarado_Score  \\\n",
            "0    12.68  16.90  female   148.0    37.0             3.0             4.0   \n",
            "1    14.10  31.90    male   147.0    69.5             2.0             5.0   \n",
            "2    14.14  23.30  female   163.0    62.0             4.0             5.0   \n",
            "3    16.37  20.60  female   165.0    56.0             3.0             7.0   \n",
            "4    11.08  16.90  female   163.0    45.0             3.0             5.0   \n",
            "..     ...    ...     ...     ...     ...             ...             ...   \n",
            "777  12.41  25.25  female   166.5    70.0             4.0             8.0   \n",
            "778  17.09  20.43  female   158.0    51.0             6.0             5.0   \n",
            "779  14.99  19.91  female   152.0    46.0             4.0             5.0   \n",
            "780   7.20  14.30    male   129.3    23.9             5.0             9.0   \n",
            "781  11.51  18.17    male   146.5    39.0             4.0             2.0   \n",
            "\n",
            "     Paedriatic_Appendicitis_Score Appendix_on_US  Appendix_Diameter  ...  \\\n",
            "0                              3.0            yes                7.1  ...   \n",
            "1                              4.0             no                NaN  ...   \n",
            "2                              3.0             no                NaN  ...   \n",
            "3                              6.0             no                NaN  ...   \n",
            "4                              6.0            yes                7.0  ...   \n",
            "..                             ...            ...                ...  ...   \n",
            "777                            7.0            yes                7.5  ...   \n",
            "778                            3.0             no                NaN  ...   \n",
            "779                            3.0             no                NaN  ...   \n",
            "780                            8.0            yes               14.0  ...   \n",
            "781                            2.0            yes                8.0  ...   \n",
            "\n",
            "    Abscess_Location Pathological_Lymph_Nodes Lymph_Nodes_Location  \\\n",
            "0                NaN                      yes                 reUB   \n",
            "1                NaN                      NaN                  NaN   \n",
            "2                NaN                      NaN                  NaN   \n",
            "3                NaN                      yes                 reUB   \n",
            "4                NaN                      yes                 reUB   \n",
            "..               ...                      ...                  ...   \n",
            "777              NaN                      NaN                  NaN   \n",
            "778          Douglas                      NaN                  NaN   \n",
            "779              NaN                      NaN                  NaN   \n",
            "780              NaN                       no                  NaN   \n",
            "781              NaN                      yes   rechter Unterbauch   \n",
            "\n",
            "    Bowel_Wall_Thickening Conglomerate_of_Bowel_Loops Ileus  Coprostasis  \\\n",
            "0                     NaN                         NaN   NaN          NaN   \n",
            "1                     NaN                         NaN   NaN          NaN   \n",
            "2                     NaN                         NaN   NaN          NaN   \n",
            "3                     NaN                         NaN   NaN          NaN   \n",
            "4                     NaN                         NaN   NaN          NaN   \n",
            "..                    ...                         ...   ...          ...   \n",
            "777                   NaN                         NaN   NaN          NaN   \n",
            "778                   yes                         yes   NaN          NaN   \n",
            "779                   NaN                         NaN   NaN          NaN   \n",
            "780                   yes                         NaN    no          NaN   \n",
            "781                   NaN                         NaN   yes          NaN   \n",
            "\n",
            "     Meteorism  Enteritis  Gynecological_Findings  \n",
            "0          NaN        NaN                     NaN  \n",
            "1          yes        NaN                     NaN  \n",
            "2          yes        yes                     NaN  \n",
            "3          NaN        yes                     NaN  \n",
            "4          NaN        yes                     NaN  \n",
            "..         ...        ...                     ...  \n",
            "777        NaN        NaN                     NaN  \n",
            "778        NaN        NaN                     NaN  \n",
            "779        NaN        NaN             unauffällig  \n",
            "780        NaN        NaN                     NaN  \n",
            "781        NaN        NaN                     NaN  \n",
            "\n",
            "[782 rows x 53 columns], 'targets':              Management       Severity        Diagnosis\n",
            "0          conservative  uncomplicated     appendicitis\n",
            "1          conservative  uncomplicated  no appendicitis\n",
            "2          conservative  uncomplicated  no appendicitis\n",
            "3          conservative  uncomplicated  no appendicitis\n",
            "4          conservative  uncomplicated     appendicitis\n",
            "..                  ...            ...              ...\n",
            "777    primary surgical  uncomplicated     appendicitis\n",
            "778  secondary surgical    complicated     appendicitis\n",
            "779    primary surgical  uncomplicated     appendicitis\n",
            "780    primary surgical  uncomplicated     appendicitis\n",
            "781    primary surgical  uncomplicated     appendicitis\n",
            "\n",
            "[782 rows x 3 columns], 'original':        Age    BMI     Sex  Height  Weight  Length_of_Stay          Management  \\\n",
            "0    12.68  16.90  female   148.0    37.0             3.0        conservative   \n",
            "1    14.10  31.90    male   147.0    69.5             2.0        conservative   \n",
            "2    14.14  23.30  female   163.0    62.0             4.0        conservative   \n",
            "3    16.37  20.60  female   165.0    56.0             3.0        conservative   \n",
            "4    11.08  16.90  female   163.0    45.0             3.0        conservative   \n",
            "..     ...    ...     ...     ...     ...             ...                 ...   \n",
            "777  12.41  25.25  female   166.5    70.0             4.0    primary surgical   \n",
            "778  17.09  20.43  female   158.0    51.0             6.0  secondary surgical   \n",
            "779  14.99  19.91  female   152.0    46.0             4.0    primary surgical   \n",
            "780   7.20  14.30    male   129.3    23.9             5.0    primary surgical   \n",
            "781  11.51  18.17    male   146.5    39.0             4.0    primary surgical   \n",
            "\n",
            "          Severity Diagnosis_Presumptive        Diagnosis  ...  \\\n",
            "0    uncomplicated          appendicitis     appendicitis  ...   \n",
            "1    uncomplicated          appendicitis  no appendicitis  ...   \n",
            "2    uncomplicated          appendicitis  no appendicitis  ...   \n",
            "3    uncomplicated          appendicitis  no appendicitis  ...   \n",
            "4    uncomplicated          appendicitis     appendicitis  ...   \n",
            "..             ...                   ...              ...  ...   \n",
            "777  uncomplicated          appendicitis     appendicitis  ...   \n",
            "778    complicated          appendicitis     appendicitis  ...   \n",
            "779  uncomplicated          appendicitis     appendicitis  ...   \n",
            "780  uncomplicated          appendicitis     appendicitis  ...   \n",
            "781  uncomplicated          appendicitis     appendicitis  ...   \n",
            "\n",
            "     Abscess_Location  Pathological_Lymph_Nodes Lymph_Nodes_Location  \\\n",
            "0                 NaN                       yes                 reUB   \n",
            "1                 NaN                       NaN                  NaN   \n",
            "2                 NaN                       NaN                  NaN   \n",
            "3                 NaN                       yes                 reUB   \n",
            "4                 NaN                       yes                 reUB   \n",
            "..                ...                       ...                  ...   \n",
            "777               NaN                       NaN                  NaN   \n",
            "778           Douglas                       NaN                  NaN   \n",
            "779               NaN                       NaN                  NaN   \n",
            "780               NaN                        no                  NaN   \n",
            "781               NaN                       yes   rechter Unterbauch   \n",
            "\n",
            "     Bowel_Wall_Thickening Conglomerate_of_Bowel_Loops Ileus Coprostasis  \\\n",
            "0                      NaN                         NaN   NaN         NaN   \n",
            "1                      NaN                         NaN   NaN         NaN   \n",
            "2                      NaN                         NaN   NaN         NaN   \n",
            "3                      NaN                         NaN   NaN         NaN   \n",
            "4                      NaN                         NaN   NaN         NaN   \n",
            "..                     ...                         ...   ...         ...   \n",
            "777                    NaN                         NaN   NaN         NaN   \n",
            "778                    yes                         yes   NaN         NaN   \n",
            "779                    NaN                         NaN   NaN         NaN   \n",
            "780                    yes                         NaN    no         NaN   \n",
            "781                    NaN                         NaN   yes         NaN   \n",
            "\n",
            "    Meteorism Enteritis Gynecological_Findings  \n",
            "0         NaN       NaN                    NaN  \n",
            "1         yes       NaN                    NaN  \n",
            "2         yes       yes                    NaN  \n",
            "3         NaN       yes                    NaN  \n",
            "4         NaN       yes                    NaN  \n",
            "..        ...       ...                    ...  \n",
            "777       NaN       NaN                    NaN  \n",
            "778       NaN       NaN                    NaN  \n",
            "779       NaN       NaN            unauffällig  \n",
            "780       NaN       NaN                    NaN  \n",
            "781       NaN       NaN                    NaN  \n",
            "\n",
            "[782 rows x 58 columns], 'headers': Index(['Age', 'BMI', 'Sex', 'Height', 'Weight', 'Length_of_Stay', 'Management',\n",
            "       'Severity', 'Diagnosis_Presumptive', 'Diagnosis', 'Alvarado_Score',\n",
            "       'Paedriatic_Appendicitis_Score', 'Appendix_on_US', 'Appendix_Diameter',\n",
            "       'Migratory_Pain', 'Lower_Right_Abd_Pain',\n",
            "       'Contralateral_Rebound_Tenderness', 'Coughing_Pain', 'Nausea',\n",
            "       'Loss_of_Appetite', 'Body_Temperature', 'WBC_Count',\n",
            "       'Neutrophil_Percentage', 'Segmented_Neutrophils', 'Neutrophilia',\n",
            "       'RBC_Count', 'Hemoglobin', 'RDW', 'Thrombocyte_Count',\n",
            "       'Ketones_in_Urine', 'RBC_in_Urine', 'WBC_in_Urine', 'CRP', 'Dysuria',\n",
            "       'Stool', 'Peritonitis', 'Psoas_Sign', 'Ipsilateral_Rebound_Tenderness',\n",
            "       'US_Performed', 'US_Number', 'Free_Fluids', 'Appendix_Wall_Layers',\n",
            "       'Target_Sign', 'Appendicolith', 'Perfusion', 'Perforation',\n",
            "       'Surrounding_Tissue_Reaction', 'Appendicular_Abscess',\n",
            "       'Abscess_Location', 'Pathological_Lymph_Nodes', 'Lymph_Nodes_Location',\n",
            "       'Bowel_Wall_Thickening', 'Conglomerate_of_Bowel_Loops', 'Ileus',\n",
            "       'Coprostasis', 'Meteorism', 'Enteritis', 'Gynecological_Findings'],\n",
            "      dtype='object')}, 'metadata': {'uci_id': 938, 'name': 'Regensburg Pediatric Appendicitis', 'repository_url': 'https://archive.ics.uci.edu/dataset/938/regensburg+pediatric+appendicitis', 'data_url': 'https://archive.ics.uci.edu/static/public/938/data.csv', 'abstract': 'This repository holds the data from a cohort of pediatric patients with suspected appendicitis admitted with abdominal pain to Children’s Hospital St. Hedwig in Regensburg, Germany, between 2016 and 2021. Each patient has (potentially multiple) ultrasound (US) images, aka views, tabular data comprising laboratory, physical examination, scoring results and ultrasonographic findings extracted manually by the experts, and three target variables, namely, diagnosis, management and severity.', 'area': 'Health and Medicine', 'tasks': ['Classification'], 'characteristics': ['Tabular', 'Image'], 'num_instances': 782, 'num_features': 53, 'feature_types': ['Real', 'Categorical', 'Integer'], 'demographics': ['Age', 'Sex'], 'target_col': ['Management', 'Severity', 'Diagnosis'], 'index_col': None, 'has_missing_values': 'yes', 'missing_values_symbol': 'NaN', 'year_of_dataset_creation': 2023, 'last_updated': 'Tue Feb 06 2024', 'dataset_doi': '10.5281/zenodo.7669442', 'creators': ['Ricards Marcinkevics', 'Patricia Reis', 'Ugne Klimiene', 'Ece Ozkan', 'Kieran Chin-Cheong', 'Alyssia Paschke', 'Julia Zerres', 'Markus Denzinger', 'David Niederberger', 'S. Wellmann', 'C. Knorr', 'Julia E.'], 'intro_paper': {'ID': 354, 'type': 'NATIVE', 'title': 'Interpretable and Intervenable Ultrasonography-based Machine Learning Models for Pediatric Appendicitis', 'authors': 'Ricards Marcinkevics, Patricia Reis Wolfertstetter, Ugne Klimiene, Ece Ozkan, Kieran Chin-Cheong, Alyssia Paschke, Julia Zerres, Markus Denzinger, David Niederberger, S. Wellmann, C. Knorr, Julia E. Vogt', 'venue': 'Medical Image Analysis', 'year': 2023, 'journal': None, 'DOI': None, 'URL': 'https://arxiv.org/abs/2302.14460v2', 'sha': None, 'corpus': None, 'arxiv': None, 'mag': None, 'acl': None, 'pmid': None, 'pmcid': None}, 'additional_info': {'summary': 'This dataset was acquired in a retrospective study from a cohort of pediatric patients admitted with abdominal pain to Children’s Hospital St. Hedwig in Regensburg, Germany. Multiple abdominal B-mode ultrasound images were acquired for most patients, with the number of views varying from 1 to 15. The images depict various regions of interest, such as the abdomen’s right lower quadrant, appendix, intestines, lymph nodes and reproductive organs. Alongside multiple US images for each subject, the dataset includes information encompassing laboratory tests, physical examination results, clinical scores, such as Alvarado and pediatric appendicitis scores, and expert-produced ultrasonographic findings. Lastly, the subjects were labeled w.r.t. three target variables: diagnosis (appendicitis vs. no appendicitis), management (surgical vs. conservative) and severity (complicated vs. uncomplicated or no appendicitis). The study was approved by the Ethics Committee of the University of Regensburg (no. 18-1063-101, 18-1063_1-101 and 18-1063_2-101) and was performed following applicable guidelines and regulations.', 'purpose': None, 'funded_by': None, 'instances_represent': None, 'recommended_data_splits': None, 'sensitive_data': None, 'preprocessing_description': None, 'variable_info': None, 'citation': None}, 'external_url': 'https://zenodo.org/records/7669442'}, 'variables':                                 name     role         type demographic  \\\n",
            "0                                Age  Feature   Continuous         Age   \n",
            "1                                BMI  Feature   Continuous        None   \n",
            "2                                Sex  Feature  Categorical         Sex   \n",
            "3                             Height  Feature   Continuous        None   \n",
            "4                             Weight  Feature      Integer        None   \n",
            "5                     Length_of_Stay  Feature      Integer        None   \n",
            "6                         Management   Target  Categorical        None   \n",
            "7                           Severity   Target  Categorical        None   \n",
            "8              Diagnosis_Presumptive    Other       Binary        None   \n",
            "9                          Diagnosis   Target       Binary        None   \n",
            "10                    Alvarado_Score  Feature      Integer        None   \n",
            "11     Paedriatic_Appendicitis_Score  Feature      Integer        None   \n",
            "12                    Appendix_on_US  Feature       Binary        None   \n",
            "13                 Appendix_Diameter  Feature      Integer        None   \n",
            "14                    Migratory_Pain  Feature       Binary        None   \n",
            "15              Lower_Right_Abd_Pain  Feature       Binary        None   \n",
            "16  Contralateral_Rebound_Tenderness  Feature       Binary        None   \n",
            "17                     Coughing_Pain  Feature       Binary        None   \n",
            "18                            Nausea  Feature       Binary        None   \n",
            "19                  Loss_of_Appetite  Feature       Binary        None   \n",
            "20                  Body_Temperature  Feature   Continuous        None   \n",
            "21                         WBC_Count  Feature   Continuous        None   \n",
            "22             Neutrophil_Percentage  Feature      Integer        None   \n",
            "23             Segmented_Neutrophils  Feature      Integer        None   \n",
            "24                      Neutrophilia  Feature  Categorical        None   \n",
            "25                         RBC_Count  Feature   Continuous        None   \n",
            "26                        Hemoglobin  Feature   Continuous        None   \n",
            "27                               RDW  Feature   Continuous        None   \n",
            "28                 Thrombocyte_Count  Feature      Integer        None   \n",
            "29                  Ketones_in_Urine  Feature  Categorical        None   \n",
            "30                      RBC_in_Urine  Feature  Categorical        None   \n",
            "31                      WBC_in_Urine  Feature  Categorical        None   \n",
            "32                               CRP  Feature      Integer        None   \n",
            "33                           Dysuria  Feature       Binary        None   \n",
            "34                             Stool  Feature  Categorical        None   \n",
            "35                       Peritonitis  Feature  Categorical        None   \n",
            "36                        Psoas_Sign  Feature  Categorical        None   \n",
            "37    Ipsilateral_Rebound_Tenderness  Feature  Categorical        None   \n",
            "38                      US_Performed  Feature  Categorical        None   \n",
            "39                         US_Number    Other      Integer        None   \n",
            "40                       Free_Fluids  Feature  Categorical        None   \n",
            "41              Appendix_Wall_Layers  Feature  Categorical        None   \n",
            "42                       Target_Sign  Feature  Categorical        None   \n",
            "43                     Appendicolith  Feature  Categorical        None   \n",
            "44                         Perfusion  Feature  Categorical        None   \n",
            "45                       Perforation  Feature  Categorical        None   \n",
            "46       Surrounding_Tissue_Reaction  Feature  Categorical        None   \n",
            "47              Appendicular_Abscess  Feature  Categorical        None   \n",
            "48                  Abscess_Location  Feature  Categorical        None   \n",
            "49          Pathological_Lymph_Nodes  Feature       Binary        None   \n",
            "50              Lymph_Nodes_Location  Feature  Categorical        None   \n",
            "51             Bowel_Wall_Thickening  Feature       Binary        None   \n",
            "52       Conglomerate_of_Bowel_Loops  Feature       Binary        None   \n",
            "53                             Ileus  Feature  Categorical        None   \n",
            "54                       Coprostasis  Feature  Categorical        None   \n",
            "55                         Meteorism  Feature  Categorical        None   \n",
            "56                         Enteritis  Feature  Categorical        None   \n",
            "57            Gynecological_Findings  Feature  Categorical        None   \n",
            "\n",
            "                                          description  units missing_values  \n",
            "0                     Obtained from the date of birth  years            yes  \n",
            "1   Measures body fat; patient's weight divided by...   None            yes  \n",
            "2                                   Registered gender   None            yes  \n",
            "3                                    Patient's height   None            yes  \n",
            "4                                    Patient's weight   None            yes  \n",
            "5                  Length of the stay in the hospital   None            yes  \n",
            "6   (conservative, primary surgical, secondary sur...   None            yes  \n",
            "7   (uncomplicated, complicated) Severity of appen...   None            yes  \n",
            "8                       Patient's suspected diagnosis   None            yes  \n",
            "9   Patient's diagnosis, histologically confirmed ...   None            yes  \n",
            "10    Patient's score according to the scoring system   None            yes  \n",
            "11    Patient's score according to the scoring system   None            yes  \n",
            "12  Detectability of the vermiform appendix during...   None            yes  \n",
            "13             Maximal outer diameter of the appendix   None            yes  \n",
            "14  Abdominal pain; usually starts in epigastrium ...   None            yes  \n",
            "15       Right iliac fossa pain detected on palpation   None            yes  \n",
            "16  A state in which pain of the contralateral sid...   None            yes  \n",
            "17                     Abdominal pain by forced cough   None            yes  \n",
            "18  Feeling of sickness/ejection of contents from ...   None            yes  \n",
            "19                                               None   None            yes  \n",
            "20  Measured by a thermometer placed in the rectum...   None            yes  \n",
            "21  The number of leucocytes in a unit volume of b...   None            yes  \n",
            "22              Mature WBC in the granulocytic series   None            yes  \n",
            "23  Most mature neutrophilic granulocytes present ...   None            yes  \n",
            "24  Relative neutrophilic leucocytosis, often a re...   None            yes  \n",
            "25  The number of erythrocytes in a unit volume of...   None            yes  \n",
            "26  Hemoglobin level; a red protein in the red blo...   None            yes  \n",
            "27  A blood test that measures the differences in ...   None            yes  \n",
            "28  The number of platelets in a unit volume of blood   None            yes  \n",
            "29  Presence of ketone bodies in urine, e.g. in ca...   None            yes  \n",
            "30                                     Blood in urine   None            yes  \n",
            "31    Leucocytes in urine, e.g., in case of infection   None            yes  \n",
            "32  Protein produced by the liver, elevated in cas...   None            yes  \n",
            "33          Pain or other difficulty during urination   None            yes  \n",
            "34                 Characteristics of bowel movements   None            yes  \n",
            "35  Spasm of abdominal wall muscles detected on pa...   None            yes  \n",
            "36    Abdominal pain produced by extension of the hip   None            yes  \n",
            "37  A state in which pain of the ipsilateral side ...   None            yes  \n",
            "38  If an abdominal ultrasonography was performed ...   None            yes  \n",
            "39                                               None   None            yes  \n",
            "40                     Free fluids inside the abdomen   None            yes  \n",
            "41  Distribution and characteristics of appendix l...   None            yes  \n",
            "42  Axial image of appendix with a fluid-filled ce...   None            yes  \n",
            "43  Presence of fecalith in the appendix, e.g. aco...   None            yes  \n",
            "44                    Blood flow to the appendix wall   None            yes  \n",
            "45                Signs of appendix perforation in US   None            yes  \n",
            "46  Inflammation signs in tissue (i.a. in omentum/...   None            yes  \n",
            "47                                   Appendiceal mass   None            yes  \n",
            "48             Location of the abcess intraperitoneal   None            yes  \n",
            "49  Enlarged and inflamed intra-abdominal lymph nodes   None            yes  \n",
            "50  The location of pathological lymph nodes in th...   None            yes  \n",
            "51  Edema of the intestinal wall, > 2-3 mm for sma...   None            yes  \n",
            "52  Small intestine conglomerate as sign of intrap...   None            yes  \n",
            "53  Sonographic signs of paralytic ileus (e.g., di...   None            yes  \n",
            "54                       Fecal impaction in the colon   None            yes  \n",
            "55               Accumulation of gas in the intestine   None            yes  \n",
            "56  Sonographic features of gastroenteritis, e.g. ...   None            yes  \n",
            "57  Gynaecological abnormalities, e.g. cysts, ovar...   None            yes  }\n"
          ]
        }
      ]
    },
    {
      "cell_type": "code",
      "source": [
        "print(z)"
      ],
      "metadata": {
        "id": "NQEDi4INRBCp",
        "outputId": "2ad5427a-06ba-469a-b0c4-07779ab1506f",
        "colab": {
          "base_uri": "https://localhost:8080/"
        }
      },
      "execution_count": 12,
      "outputs": [
        {
          "output_type": "stream",
          "name": "stdout",
          "text": [
            "None\n"
          ]
        }
      ]
    },
    {
      "cell_type": "code",
      "source": [
        "from google.colab import drive\n",
        "drive.mount('/content/drive')"
      ],
      "metadata": {
        "colab": {
          "base_uri": "https://localhost:8080/"
        },
        "id": "m_MOclOVyqHm",
        "outputId": "d1800ee8-0b11-452c-d696-1b37d544c8c4"
      },
      "execution_count": 5,
      "outputs": [
        {
          "output_type": "stream",
          "name": "stdout",
          "text": [
            "Mounted at /content/drive\n"
          ]
        }
      ]
    },
    {
      "cell_type": "code",
      "source": [
        "import zipfile"
      ],
      "metadata": {
        "id": "8tSxCerS8SfB"
      },
      "execution_count": 6,
      "outputs": []
    },
    {
      "cell_type": "code",
      "source": [
        "# Path to your zip file in Drive\n",
        "zip_path = '/content/drive/MyDrive/CNN_Assignment3/US_Pictures.zip'\n",
        "\n",
        "# Extract the zip file to a local folder in Colab\n",
        "extract_dir = '/content/US_Pictures'\n",
        "with zipfile.ZipFile(zip_path, 'r') as zip_ref:\n",
        "    zip_ref.extractall(extract_dir)\n",
        "\n",
        "print(\"Dataset extracted to:\", extract_dir)"
      ],
      "metadata": {
        "colab": {
          "base_uri": "https://localhost:8080/"
        },
        "id": "qC4cH5MI9PD6",
        "outputId": "675b07fa-547f-456e-f4f7-ffcd0111a6e3"
      },
      "execution_count": 7,
      "outputs": [
        {
          "output_type": "stream",
          "name": "stdout",
          "text": [
            "Dataset extracted to: /content/US_Pictures\n"
          ]
        }
      ]
    },
    {
      "cell_type": "code",
      "source": [
        "import os\n",
        "import re\n",
        "from PIL import Image\n",
        "\n",
        "dataset_dir = extract_dir  # path where the dataset was extracted\n",
        "\n",
        "selected_images = []\n",
        "selected_filenames = []\n",
        "\n",
        "# Regular expression: match 'app' or 'appendix' as the only word (after ignoring leading numbers)\n",
        "pattern = re.compile(r'^(?:[\\d\\.\\s_-]*)(app|appendix)$', re.IGNORECASE)\n",
        "\n",
        "# Allowed file extensions\n",
        "allowed_exts = ('.bmp', '.png')\n",
        "\n",
        "for root, dirs, files in os.walk(dataset_dir):\n",
        "    for file in files:\n",
        "        if file.lower().endswith(allowed_exts):\n",
        "            # Remove file extension\n",
        "            name_without_ext = os.path.splitext(file)[0]\n",
        "            # Remove leading/trailing spaces\n",
        "            cleaned_name = name_without_ext.strip()\n",
        "\n",
        "            # Match only if the cleaned name fits the pattern\n",
        "            if pattern.match(cleaned_name):\n",
        "                img_path = os.path.join(root, file)\n",
        "                img = Image.open(img_path).convert('RGB')\n",
        "                selected_images.append(img)\n",
        "                selected_filenames.append(file)\n",
        "\n",
        "print(f\"Total selected images: {len(selected_images)}\")\n"
      ],
      "metadata": {
        "id": "fzqla3s3Qh_f",
        "outputId": "6f54ddca-19a6-427a-f825-a48556929dea",
        "colab": {
          "base_uri": "https://localhost:8080/"
        }
      },
      "execution_count": 8,
      "outputs": [
        {
          "output_type": "stream",
          "name": "stdout",
          "text": [
            "Total selected images: 679\n"
          ]
        }
      ]
    },
    {
      "cell_type": "code",
      "source": [
        "print(selected_images)\n",
        "print(selected_filenames)"
      ],
      "metadata": {
        "id": "Jh0wJNRxQkI8",
        "outputId": "60280337-748b-4dd6-85bb-31082cb59a83",
        "colab": {
          "base_uri": "https://localhost:8080/"
        }
      },
      "execution_count": 9,
      "outputs": [
        {
          "output_type": "stream",
          "name": "stdout",
          "text": [
            "[<PIL.Image.Image image mode=RGB size=716x537 at 0x7DA58CA98440>, <PIL.Image.Image image mode=RGB size=716x537 at 0x7DA58C791040>, <PIL.Image.Image image mode=RGB size=716x537 at 0x7DA5A18AC7D0>, <PIL.Image.Image image mode=RGB size=793x577 at 0x7DA5A1871670>, <PIL.Image.Image image mode=RGB size=792x580 at 0x7DA587DE4CE0>, <PIL.Image.Image image mode=RGB size=716x537 at 0x7DA587DE4D70>, <PIL.Image.Image image mode=RGB size=716x537 at 0x7DA587DE4DD0>, <PIL.Image.Image image mode=RGB size=716x537 at 0x7DA587DE4E30>, <PIL.Image.Image image mode=RGB size=1268x921 at 0x7DA587DE4E90>, <PIL.Image.Image image mode=RGB size=716x537 at 0x7DA5A08088C0>, <PIL.Image.Image image mode=RGB size=716x537 at 0x7DA587DE4F50>, <PIL.Image.Image image mode=RGB size=800x585 at 0x7DA587DE4EF0>, <PIL.Image.Image image mode=RGB size=799x587 at 0x7DA587DE5040>, <PIL.Image.Image image mode=RGB size=716x521 at 0x7DA587DE5070>, <PIL.Image.Image image mode=RGB size=716x537 at 0x7DA587DE5100>, <PIL.Image.Image image mode=RGB size=792x577 at 0x7DA587DE5190>, <PIL.Image.Image image mode=RGB size=800x582 at 0x7DA587DE5280>, <PIL.Image.Image image mode=RGB size=716x537 at 0x7DA587DE5310>, <PIL.Image.Image image mode=RGB size=716x493 at 0x7DA587DE53A0>, <PIL.Image.Image image mode=RGB size=793x575 at 0x7DA587DE5430>, <PIL.Image.Image image mode=RGB size=716x537 at 0x7DA58C112F90>, <PIL.Image.Image image mode=RGB size=792x578 at 0x7DA587DE5580>, <PIL.Image.Image image mode=RGB size=716x537 at 0x7DA587DE55B0>, <PIL.Image.Image image mode=RGB size=793x575 at 0x7DA58CA9AD50>, <PIL.Image.Image image mode=RGB size=716x537 at 0x7DA587DE5700>, <PIL.Image.Image image mode=RGB size=716x537 at 0x7DA587DE5760>, <PIL.Image.Image image mode=RGB size=797x583 at 0x7DA587DBABD0>, <PIL.Image.Image image mode=RGB size=716x519 at 0x7DA587EBAB10>, <PIL.Image.Image image mode=RGB size=716x523 at 0x7DA587DE58B0>, <PIL.Image.Image image mode=RGB size=716x517 at 0x7DA587DE58E0>, <PIL.Image.Image image mode=RGB size=793x578 at 0x7DA587DBA8D0>, <PIL.Image.Image image mode=RGB size=799x582 at 0x7DA587DE59A0>, <PIL.Image.Image image mode=RGB size=716x520 at 0x7DA587DE59D0>, <PIL.Image.Image image mode=RGB size=800x584 at 0x7DA587DE5A30>, <PIL.Image.Image image mode=RGB size=716x537 at 0x7DA587DE5A90>, <PIL.Image.Image image mode=RGB size=716x537 at 0x7DA587DE5AF0>, <PIL.Image.Image image mode=RGB size=799x585 at 0x7DA587DE5B80>, <PIL.Image.Image image mode=RGB size=716x537 at 0x7DA587DE5BE0>, <PIL.Image.Image image mode=RGB size=799x576 at 0x7DA587DE5C40>, <PIL.Image.Image image mode=RGB size=712x517 at 0x7DA587DE5CA0>, <PIL.Image.Image image mode=RGB size=799x582 at 0x7DA587DE5D00>, <PIL.Image.Image image mode=RGB size=797x581 at 0x7DA587DE5D90>, <PIL.Image.Image image mode=RGB size=799x584 at 0x7DA587DE5DF0>, <PIL.Image.Image image mode=RGB size=800x580 at 0x7DA587DE5E50>, <PIL.Image.Image image mode=RGB size=716x520 at 0x7DA587DE5EE0>, <PIL.Image.Image image mode=RGB size=716x537 at 0x7DA587DE5F70>, <PIL.Image.Image image mode=RGB size=716x537 at 0x7DA587DE5FD0>, <PIL.Image.Image image mode=RGB size=799x584 at 0x7DA587DE6060>, <PIL.Image.Image image mode=RGB size=792x577 at 0x7DA587DE60C0>, <PIL.Image.Image image mode=RGB size=1276x929 at 0x7DA587DE6120>, <PIL.Image.Image image mode=RGB size=716x537 at 0x7DA587DE6180>, <PIL.Image.Image image mode=RGB size=799x581 at 0x7DA587DE61E0>, <PIL.Image.Image image mode=RGB size=712x515 at 0x7DA587DE6240>, <PIL.Image.Image image mode=RGB size=716x519 at 0x7DA587DE62A0>, <PIL.Image.Image image mode=RGB size=716x520 at 0x7DA587DE6300>, <PIL.Image.Image image mode=RGB size=716x519 at 0x7DA587DE6390>, <PIL.Image.Image image mode=RGB size=792x575 at 0x7DA587DE6450>, <PIL.Image.Image image mode=RGB size=716x537 at 0x7DA587DE64B0>, <PIL.Image.Image image mode=RGB size=716x519 at 0x7DA587DE6510>, <PIL.Image.Image image mode=RGB size=716x537 at 0x7DA587DE6570>, <PIL.Image.Image image mode=RGB size=800x580 at 0x7DA587DE65D0>, <PIL.Image.Image image mode=RGB size=716x495 at 0x7DA587DE6630>, <PIL.Image.Image image mode=RGB size=716x537 at 0x7DA587DE6690>, <PIL.Image.Image image mode=RGB size=712x517 at 0x7DA587DE6750>, <PIL.Image.Image image mode=RGB size=792x581 at 0x7DA587DE67B0>, <PIL.Image.Image image mode=RGB size=716x493 at 0x7DA587DE6810>, <PIL.Image.Image image mode=RGB size=716x498 at 0x7DA587DE68A0>, <PIL.Image.Image image mode=RGB size=716x537 at 0x7DA587DE6900>, <PIL.Image.Image image mode=RGB size=716x537 at 0x7DA587DE6960>, <PIL.Image.Image image mode=RGB size=716x537 at 0x7DA587DE6A20>, <PIL.Image.Image image mode=RGB size=716x520 at 0x7DA587DE6A80>, <PIL.Image.Image image mode=RGB size=793x578 at 0x7DA587DE6AE0>, <PIL.Image.Image image mode=RGB size=716x537 at 0x7DA587DE6B40>, <PIL.Image.Image image mode=RGB size=716x537 at 0x7DA587DE6BA0>, <PIL.Image.Image image mode=RGB size=716x537 at 0x7DA587DE6C30>, <PIL.Image.Image image mode=RGB size=523x464 at 0x7DA587DE6CC0>, <PIL.Image.Image image mode=RGB size=799x582 at 0x7DA587DE6D20>, <PIL.Image.Image image mode=RGB size=800x580 at 0x7DA587DE6DB0>, <PIL.Image.Image image mode=RGB size=716x537 at 0x7DA587DE6DE0>, <PIL.Image.Image image mode=RGB size=800x584 at 0x7DA587DE6E40>, <PIL.Image.Image image mode=RGB size=800x583 at 0x7DA587DE6EA0>, <PIL.Image.Image image mode=RGB size=716x537 at 0x7DA587DE6F00>, <PIL.Image.Image image mode=RGB size=715x499 at 0x7DA587DE6F60>, <PIL.Image.Image image mode=RGB size=716x518 at 0x7DA587DE6FF0>, <PIL.Image.Image image mode=RGB size=716x489 at 0x7DA587DE7080>, <PIL.Image.Image image mode=RGB size=716x537 at 0x7DA587DE70E0>, <PIL.Image.Image image mode=RGB size=716x537 at 0x7DA587DE7140>, <PIL.Image.Image image mode=RGB size=716x537 at 0x7DA587DE71A0>, <PIL.Image.Image image mode=RGB size=683x516 at 0x7DA587DE72F0>, <PIL.Image.Image image mode=RGB size=716x537 at 0x7DA587DE7260>, <PIL.Image.Image image mode=RGB size=575x478 at 0x7DA5A0A2FC80>, <PIL.Image.Image image mode=RGB size=716x537 at 0x7DA587DE7320>, <PIL.Image.Image image mode=RGB size=716x518 at 0x7DA587DE72C0>, <PIL.Image.Image image mode=RGB size=716x537 at 0x7DA587DE73B0>, <PIL.Image.Image image mode=RGB size=792x581 at 0x7DA587DE7470>, <PIL.Image.Image image mode=RGB size=797x580 at 0x7DA587DE74D0>, <PIL.Image.Image image mode=RGB size=716x520 at 0x7DA587DE7530>, <PIL.Image.Image image mode=RGB size=716x537 at 0x7DA5A27AF9E0>, <PIL.Image.Image image mode=RGB size=712x518 at 0x7DA587DE75F0>, <PIL.Image.Image image mode=RGB size=799x585 at 0x7DA587DE7650>, <PIL.Image.Image image mode=RGB size=716x517 at 0x7DA587DE76E0>, <PIL.Image.Image image mode=RGB size=800x580 at 0x7DA587DE7740>, <PIL.Image.Image image mode=RGB size=799x585 at 0x7DA587DE77A0>, <PIL.Image.Image image mode=RGB size=716x520 at 0x7DA587DE7800>, <PIL.Image.Image image mode=RGB size=716x537 at 0x7DA587DE7890>, <PIL.Image.Image image mode=RGB size=800x584 at 0x7DA587DE78F0>, <PIL.Image.Image image mode=RGB size=793x555 at 0x7DA587DE7980>, <PIL.Image.Image image mode=RGB size=716x537 at 0x7DA587DE7A10>, <PIL.Image.Image image mode=RGB size=716x537 at 0x7DA587DE7A70>, <PIL.Image.Image image mode=RGB size=716x537 at 0x7DA587DE7AD0>, <PIL.Image.Image image mode=RGB size=716x519 at 0x7DA587DE7B90>, <PIL.Image.Image image mode=RGB size=716x537 at 0x7DA587DE7BF0>, <PIL.Image.Image image mode=RGB size=716x520 at 0x7DA587DE7C50>, <PIL.Image.Image image mode=RGB size=800x585 at 0x7DA587DE7CB0>, <PIL.Image.Image image mode=RGB size=716x537 at 0x7DA587DE7D10>, <PIL.Image.Image image mode=RGB size=792x575 at 0x7DA587DE7D70>, <PIL.Image.Image image mode=RGB size=716x520 at 0x7DA587DE7DD0>, <PIL.Image.Image image mode=RGB size=793x558 at 0x7DA587DE7E30>, <PIL.Image.Image image mode=RGB size=799x581 at 0x7DA587DE7E90>, <PIL.Image.Image image mode=RGB size=716x537 at 0x7DA587DE7EF0>, <PIL.Image.Image image mode=RGB size=800x584 at 0x7DA587DE7F80>, <PIL.Image.Image image mode=RGB size=716x537 at 0x7DA587DE7FE0>, <PIL.Image.Image image mode=RGB size=715x520 at 0x7DA587E00080>, <PIL.Image.Image image mode=RGB size=799x581 at 0x7DA587E000E0>, <PIL.Image.Image image mode=RGB size=792x575 at 0x7DA587E00140>, <PIL.Image.Image image mode=RGB size=800x585 at 0x7DA587E001A0>, <PIL.Image.Image image mode=RGB size=716x537 at 0x7DA587E00200>, <PIL.Image.Image image mode=RGB size=793x549 at 0x7DA587E00260>, <PIL.Image.Image image mode=RGB size=796x576 at 0x7DA587E002C0>, <PIL.Image.Image image mode=RGB size=716x521 at 0x7DA587E00320>, <PIL.Image.Image image mode=RGB size=716x499 at 0x7DA587E00380>, <PIL.Image.Image image mode=RGB size=716x537 at 0x7DA587E003E0>, <PIL.Image.Image image mode=RGB size=716x537 at 0x7DA587E00470>, <PIL.Image.Image image mode=RGB size=793x555 at 0x7DA587E004D0>, <PIL.Image.Image image mode=RGB size=797x583 at 0x7DA587E00530>, <PIL.Image.Image image mode=RGB size=716x495 at 0x7DA587E00590>, <PIL.Image.Image image mode=RGB size=716x537 at 0x7DA587E005F0>, <PIL.Image.Image image mode=RGB size=792x578 at 0x7DA587E00650>, <PIL.Image.Image image mode=RGB size=716x537 at 0x7DA587E006B0>, <PIL.Image.Image image mode=RGB size=716x537 at 0x7DA587E00710>, <PIL.Image.Image image mode=RGB size=793x556 at 0x7DA587E00770>, <PIL.Image.Image image mode=RGB size=799x581 at 0x7DA587E007D0>, <PIL.Image.Image image mode=RGB size=715x524 at 0x7DA587E00830>, <PIL.Image.Image image mode=RGB size=792x580 at 0x7DA587E008C0>, <PIL.Image.Image image mode=RGB size=793x575 at 0x7DA587E00920>, <PIL.Image.Image image mode=RGB size=799x581 at 0x7DA587E00980>, <PIL.Image.Image image mode=RGB size=793x549 at 0x7DA587E009E0>, <PIL.Image.Image image mode=RGB size=799x582 at 0x7DA587E00A70>, <PIL.Image.Image image mode=RGB size=716x537 at 0x7DA587E00AD0>, <PIL.Image.Image image mode=RGB size=716x518 at 0x7DA587E00B60>, <PIL.Image.Image image mode=RGB size=800x583 at 0x7DA587E00BC0>, <PIL.Image.Image image mode=RGB size=716x520 at 0x7DA587E00C50>, <PIL.Image.Image image mode=RGB size=712x517 at 0x7DA587E00CE0>, <PIL.Image.Image image mode=RGB size=716x516 at 0x7DA587E00D40>, <PIL.Image.Image image mode=RGB size=800x585 at 0x7DA587E00DA0>, <PIL.Image.Image image mode=RGB size=799x582 at 0x7DA587E00E00>, <PIL.Image.Image image mode=RGB size=716x537 at 0x7DA587E00E60>, <PIL.Image.Image image mode=RGB size=716x537 at 0x7DA587E00EC0>, <PIL.Image.Image image mode=RGB size=793x579 at 0x7DA587E00F20>, <PIL.Image.Image image mode=RGB size=716x537 at 0x7DA587E00F80>, <PIL.Image.Image image mode=RGB size=799x585 at 0x7DA587E00FE0>, <PIL.Image.Image image mode=RGB size=800x579 at 0x7DA587E01160>, <PIL.Image.Image image mode=RGB size=719x537 at 0x7DA587E010A0>, <PIL.Image.Image image mode=RGB size=716x537 at 0x7DA587E01070>, <PIL.Image.Image image mode=RGB size=991x710 at 0x7DA587E01700>, <PIL.Image.Image image mode=RGB size=716x537 at 0x7DA587E01730>, <PIL.Image.Image image mode=RGB size=716x537 at 0x7DA587E01790>, <PIL.Image.Image image mode=RGB size=800x582 at 0x7DA587E017F0>, <PIL.Image.Image image mode=RGB size=716x537 at 0x7DA58C09BB90>, <PIL.Image.Image image mode=RGB size=716x537 at 0x7DA587DBBA10>, <PIL.Image.Image image mode=RGB size=792x579 at 0x7DA587E01820>, <PIL.Image.Image image mode=RGB size=800x583 at 0x7DA587E018E0>, <PIL.Image.Image image mode=RGB size=800x584 at 0x7DA587E01940>, <PIL.Image.Image image mode=RGB size=715x521 at 0x7DA587E019A0>, <PIL.Image.Image image mode=RGB size=716x537 at 0x7DA587E01A30>, <PIL.Image.Image image mode=RGB size=716x520 at 0x7DA587E01A90>, <PIL.Image.Image image mode=RGB size=716x519 at 0x7DA587E01AF0>, <PIL.Image.Image image mode=RGB size=799x582 at 0x7DA587E01B50>, <PIL.Image.Image image mode=RGB size=793x578 at 0x7DA587E01BE0>, <PIL.Image.Image image mode=RGB size=716x519 at 0x7DA587E01C70>, <PIL.Image.Image image mode=RGB size=798x582 at 0x7DA587E01D00>, <PIL.Image.Image image mode=RGB size=716x537 at 0x7DA587E01D60>, <PIL.Image.Image image mode=RGB size=716x491 at 0x7DA587E01DC0>, <PIL.Image.Image image mode=RGB size=716x537 at 0x7DA587E01E50>, <PIL.Image.Image image mode=RGB size=716x537 at 0x7DA587E01EB0>, <PIL.Image.Image image mode=RGB size=716x537 at 0x7DA587E01F10>, <PIL.Image.Image image mode=RGB size=800x580 at 0x7DA587E01FA0>, <PIL.Image.Image image mode=RGB size=716x522 at 0x7DA587E02000>, <PIL.Image.Image image mode=RGB size=799x581 at 0x7DA587E02060>, <PIL.Image.Image image mode=RGB size=716x520 at 0x7DA587E020C0>, <PIL.Image.Image image mode=RGB size=716x537 at 0x7DA587E02120>, <PIL.Image.Image image mode=RGB size=799x581 at 0x7DA587E02180>, <PIL.Image.Image image mode=RGB size=799x581 at 0x7DA587E02210>, <PIL.Image.Image image mode=RGB size=1280x928 at 0x7DA587E02270>, <PIL.Image.Image image mode=RGB size=793x561 at 0x7DA587E022D0>, <PIL.Image.Image image mode=RGB size=800x574 at 0x7DA587E02360>, <PIL.Image.Image image mode=RGB size=797x584 at 0x7DA587E023C0>, <PIL.Image.Image image mode=RGB size=716x520 at 0x7DA587E02420>, <PIL.Image.Image image mode=RGB size=711x516 at 0x7DA587E02480>, <PIL.Image.Image image mode=RGB size=793x558 at 0x7DA587E024E0>, <PIL.Image.Image image mode=RGB size=793x580 at 0x7DA587E02540>, <PIL.Image.Image image mode=RGB size=800x580 at 0x7DA587E025A0>, <PIL.Image.Image image mode=RGB size=716x483 at 0x7DA587E02600>, <PIL.Image.Image image mode=RGB size=800x578 at 0x7DA587E02660>, <PIL.Image.Image image mode=RGB size=716x537 at 0x7DA587E026F0>, <PIL.Image.Image image mode=RGB size=598x467 at 0x7DA587E02840>, <PIL.Image.Image image mode=RGB size=716x537 at 0x7DA587E027B0>, <PIL.Image.Image image mode=RGB size=716x537 at 0x7DA587E02780>, <PIL.Image.Image image mode=RGB size=716x537 at 0x7DA587E02870>, <PIL.Image.Image image mode=RGB size=800x581 at 0x7DA587E028D0>, <PIL.Image.Image image mode=RGB size=716x537 at 0x7DA587E02930>, <PIL.Image.Image image mode=RGB size=799x582 at 0x7DA587E02990>, <PIL.Image.Image image mode=RGB size=712x521 at 0x7DA587E029F0>, <PIL.Image.Image image mode=RGB size=716x518 at 0x7DA587E02A50>, <PIL.Image.Image image mode=RGB size=793x553 at 0x7DA587E02AB0>, <PIL.Image.Image image mode=RGB size=800x585 at 0x7DA587E02B10>, <PIL.Image.Image image mode=RGB size=716x519 at 0x7DA587E02B70>, <PIL.Image.Image image mode=RGB size=800x583 at 0x7DA587E02BD0>, <PIL.Image.Image image mode=RGB size=711x518 at 0x7DA587E02C30>, <PIL.Image.Image image mode=RGB size=712x519 at 0x7DA587E02C90>, <PIL.Image.Image image mode=RGB size=713x514 at 0x7DA587E02CF0>, <PIL.Image.Image image mode=RGB size=799x585 at 0x7DA587E02D50>, <PIL.Image.Image image mode=RGB size=716x537 at 0x7DA587E02DB0>, <PIL.Image.Image image mode=RGB size=716x537 at 0x7DA587E02E10>, <PIL.Image.Image image mode=RGB size=716x521 at 0x7DA587E02E70>, <PIL.Image.Image image mode=RGB size=793x577 at 0x7DA587E02ED0>, <PIL.Image.Image image mode=RGB size=800x600 at 0x7DA587E02F30>, <PIL.Image.Image image mode=RGB size=716x518 at 0x7DA587E02F90>, <PIL.Image.Image image mode=RGB size=800x583 at 0x7DA587E02FF0>, <PIL.Image.Image image mode=RGB size=716x537 at 0x7DA587E03050>, <PIL.Image.Image image mode=RGB size=716x537 at 0x7DA587E030B0>, <PIL.Image.Image image mode=RGB size=716x537 at 0x7DA587E03110>, <PIL.Image.Image image mode=RGB size=799x584 at 0x7DA587E03170>, <PIL.Image.Image image mode=RGB size=797x578 at 0x7DA587E031D0>, <PIL.Image.Image image mode=RGB size=716x522 at 0x7DA587E03230>, <PIL.Image.Image image mode=RGB size=746x479 at 0x7DA587E032C0>, <PIL.Image.Image image mode=RGB size=716x537 at 0x7DA587E03410>, <PIL.Image.Image image mode=RGB size=716x537 at 0x7DA587E033B0>, <PIL.Image.Image image mode=RGB size=716x537 at 0x7DA587E03290>, <PIL.Image.Image image mode=RGB size=712x517 at 0x7DA587E03470>, <PIL.Image.Image image mode=RGB size=799x579 at 0x7DA587E034A0>, <PIL.Image.Image image mode=RGB size=716x520 at 0x7DA587E03500>, <PIL.Image.Image image mode=RGB size=716x537 at 0x7DA587E03560>, <PIL.Image.Image image mode=RGB size=1280x926 at 0x7DA587E035C0>, <PIL.Image.Image image mode=RGB size=792x572 at 0x7DA587E03620>, <PIL.Image.Image image mode=RGB size=800x584 at 0x7DA587E03680>, <PIL.Image.Image image mode=RGB size=797x584 at 0x7DA587E036E0>, <PIL.Image.Image image mode=RGB size=799x582 at 0x7DA587E03740>, <PIL.Image.Image image mode=RGB size=800x586 at 0x7DA587E037A0>, <PIL.Image.Image image mode=RGB size=800x581 at 0x7DA587E03800>, <PIL.Image.Image image mode=RGB size=797x581 at 0x7DA5A18AFDD0>, <PIL.Image.Image image mode=RGB size=800x584 at 0x7DA5A18ACA10>, <PIL.Image.Image image mode=RGB size=793x555 at 0x7DA587E038F0>, <PIL.Image.Image image mode=RGB size=716x537 at 0x7DA587E03920>, <PIL.Image.Image image mode=RGB size=796x578 at 0x7DA587E03980>, <PIL.Image.Image image mode=RGB size=716x537 at 0x7DA587E039E0>, <PIL.Image.Image image mode=RGB size=800x581 at 0x7DA587E03A70>, <PIL.Image.Image image mode=RGB size=712x514 at 0x7DA587E03AD0>, <PIL.Image.Image image mode=RGB size=716x537 at 0x7DA587E03B30>, <PIL.Image.Image image mode=RGB size=716x537 at 0x7DA587E03B90>, <PIL.Image.Image image mode=RGB size=716x497 at 0x7DA587E03BF0>, <PIL.Image.Image image mode=RGB size=800x583 at 0x7DA587E03C50>, <PIL.Image.Image image mode=RGB size=716x537 at 0x7DA587E03CB0>, <PIL.Image.Image image mode=RGB size=793x557 at 0x7DA587E03D10>, <PIL.Image.Image image mode=RGB size=716x537 at 0x7DA587E03D70>, <PIL.Image.Image image mode=RGB size=716x537 at 0x7DA587E03DD0>, <PIL.Image.Image image mode=RGB size=716x519 at 0x7DA587E03E30>, <PIL.Image.Image image mode=RGB size=716x537 at 0x7DA587E03E90>, <PIL.Image.Image image mode=RGB size=716x518 at 0x7DA587E03FB0>, <PIL.Image.Image image mode=RGB size=792x572 at 0x7DA5872C8080>, <PIL.Image.Image image mode=RGB size=800x580 at 0x7DA5872C80E0>, <PIL.Image.Image image mode=RGB size=716x521 at 0x7DA5872C8170>, <PIL.Image.Image image mode=RGB size=799x585 at 0x7DA5872C81D0>, <PIL.Image.Image image mode=RGB size=800x585 at 0x7DA5872C8260>, <PIL.Image.Image image mode=RGB size=800x584 at 0x7DA5872C82F0>, <PIL.Image.Image image mode=RGB size=793x581 at 0x7DA5872C8350>, <PIL.Image.Image image mode=RGB size=716x537 at 0x7DA5872C83E0>, <PIL.Image.Image image mode=RGB size=716x537 at 0x7DA5872C8470>, <PIL.Image.Image image mode=RGB size=716x487 at 0x7DA5872C84D0>, <PIL.Image.Image image mode=RGB size=716x537 at 0x7DA5872C8560>, <PIL.Image.Image image mode=RGB size=800x576 at 0x7DA5872C8620>, <PIL.Image.Image image mode=RGB size=800x583 at 0x7DA5872C86B0>, <PIL.Image.Image image mode=RGB size=792x577 at 0x7DA5872C8710>, <PIL.Image.Image image mode=RGB size=792x574 at 0x7DA5872C87D0>, <PIL.Image.Image image mode=RGB size=800x584 at 0x7DA5872C8830>, <PIL.Image.Image image mode=RGB size=716x537 at 0x7DA5872C88C0>, <PIL.Image.Image image mode=RGB size=800x580 at 0x7DA5872C8950>, <PIL.Image.Image image mode=RGB size=799x582 at 0x7DA5872C89B0>, <PIL.Image.Image image mode=RGB size=800x582 at 0x7DA5872C8A40>, <PIL.Image.Image image mode=RGB size=716x520 at 0x7DA5872C8AD0>, <PIL.Image.Image image mode=RGB size=716x519 at 0x7DA5872C8B30>, <PIL.Image.Image image mode=RGB size=715x520 at 0x7DA5BAFDC590>, <PIL.Image.Image image mode=RGB size=716x537 at 0x7DA587DE4710>, <PIL.Image.Image image mode=RGB size=792x580 at 0x7DA5872C8BC0>, <PIL.Image.Image image mode=RGB size=716x537 at 0x7DA5872C8C80>, <PIL.Image.Image image mode=RGB size=800x582 at 0x7DA5872C8D10>, <PIL.Image.Image image mode=RGB size=716x537 at 0x7DA5872C8D70>, <PIL.Image.Image image mode=RGB size=793x553 at 0x7DA5872C8E00>, <PIL.Image.Image image mode=RGB size=716x537 at 0x7DA5872C8E60>, <PIL.Image.Image image mode=RGB size=716x537 at 0x7DA5872C8EF0>, <PIL.Image.Image image mode=RGB size=800x582 at 0x7DA5872C8F50>, <PIL.Image.Image image mode=RGB size=716x537 at 0x7DA5872C8FE0>, <PIL.Image.Image image mode=RGB size=716x537 at 0x7DA5872C9040>, <PIL.Image.Image image mode=RGB size=800x584 at 0x7DA5872C90D0>, <PIL.Image.Image image mode=RGB size=716x537 at 0x7DA5872C9130>, <PIL.Image.Image image mode=RGB size=716x521 at 0x7DA5872C91C0>, <PIL.Image.Image image mode=RGB size=716x520 at 0x7DA5872C9220>, <PIL.Image.Image image mode=RGB size=800x581 at 0x7DA5872C92B0>, <PIL.Image.Image image mode=RGB size=716x537 at 0x7DA5872C9310>, <PIL.Image.Image image mode=RGB size=716x537 at 0x7DA5872C93A0>, <PIL.Image.Image image mode=RGB size=716x500 at 0x7DA5872C9400>, <PIL.Image.Image image mode=RGB size=716x498 at 0x7DA5872C9490>, <PIL.Image.Image image mode=RGB size=716x537 at 0x7DA5872C94F0>, <PIL.Image.Image image mode=RGB size=799x580 at 0x7DA5872C9580>, <PIL.Image.Image image mode=RGB size=716x537 at 0x7DA5872C95E0>, <PIL.Image.Image image mode=RGB size=716x521 at 0x7DA5872C9670>, <PIL.Image.Image image mode=RGB size=799x582 at 0x7DA5872C96D0>, <PIL.Image.Image image mode=RGB size=716x537 at 0x7DA5872C9730>, <PIL.Image.Image image mode=RGB size=716x520 at 0x7DA5872C9790>, <PIL.Image.Image image mode=RGB size=799x581 at 0x7DA5872C9820>, <PIL.Image.Image image mode=RGB size=799x581 at 0x7DA5872C98B0>, <PIL.Image.Image image mode=RGB size=716x520 at 0x7DA5872C9910>, <PIL.Image.Image image mode=RGB size=793x579 at 0x7DA5872C99A0>, <PIL.Image.Image image mode=RGB size=716x537 at 0x7DA5872C9A60>, <PIL.Image.Image image mode=RGB size=716x537 at 0x7DA5872C9AC0>, <PIL.Image.Image image mode=RGB size=792x577 at 0x7DA5872C9B50>, <PIL.Image.Image image mode=RGB size=716x537 at 0x7DA5872C9BE0>, <PIL.Image.Image image mode=RGB size=793x576 at 0x7DA5872C9C40>, <PIL.Image.Image image mode=RGB size=716x521 at 0x7DA5872C9D00>, <PIL.Image.Image image mode=RGB size=792x574 at 0x7DA5872C9D90>, <PIL.Image.Image image mode=RGB size=799x584 at 0x7DA5872C9E20>, <PIL.Image.Image image mode=RGB size=716x537 at 0x7DA5872C9E80>, <PIL.Image.Image image mode=RGB size=797x578 at 0x7DA5872C9F10>, <PIL.Image.Image image mode=RGB size=716x519 at 0x7DA5872C9FA0>, <PIL.Image.Image image mode=RGB size=716x537 at 0x7DA5872CA000>, <PIL.Image.Image image mode=RGB size=716x537 at 0x7DA5872CA090>, <PIL.Image.Image image mode=RGB size=799x585 at 0x7DA5872CA120>, <PIL.Image.Image image mode=RGB size=716x491 at 0x7DA5872CA180>, <PIL.Image.Image image mode=RGB size=716x537 at 0x7DA5872CA210>, <PIL.Image.Image image mode=RGB size=713x517 at 0x7DA5872CA2A0>, <PIL.Image.Image image mode=RGB size=797x581 at 0x7DA5872CA300>, <PIL.Image.Image image mode=RGB size=716x521 at 0x7DA5872CA390>, <PIL.Image.Image image mode=RGB size=716x537 at 0x7DA5872CA420>, <PIL.Image.Image image mode=RGB size=799x581 at 0x7DA5872CA480>, <PIL.Image.Image image mode=RGB size=792x574 at 0x7DA5872CA510>, <PIL.Image.Image image mode=RGB size=793x581 at 0x7DA5872CA5A0>, <PIL.Image.Image image mode=RGB size=793x584 at 0x7DA5872CA600>, <PIL.Image.Image image mode=RGB size=715x518 at 0x7DA5872CA690>, <PIL.Image.Image image mode=RGB size=716x537 at 0x7DA5872CA720>, <PIL.Image.Image image mode=RGB size=726x475 at 0x7DA5872CA7B0>, <PIL.Image.Image image mode=RGB size=800x583 at 0x7DA5872CA840>, <PIL.Image.Image image mode=RGB size=792x576 at 0x7DA5872CA8D0>, <PIL.Image.Image image mode=RGB size=716x537 at 0x7DA5872CA930>, <PIL.Image.Image image mode=RGB size=716x519 at 0x7DA5872CA990>, <PIL.Image.Image image mode=RGB size=800x581 at 0x7DA5872CAA20>, <PIL.Image.Image image mode=RGB size=800x585 at 0x7DA5872CAA80>, <PIL.Image.Image image mode=RGB size=799x581 at 0x7DA5872CAB10>, <PIL.Image.Image image mode=RGB size=800x582 at 0x7DA5872CAB70>, <PIL.Image.Image image mode=RGB size=716x537 at 0x7DA5872CAC00>, <PIL.Image.Image image mode=RGB size=716x537 at 0x7DA5872CAC60>, <PIL.Image.Image image mode=RGB size=792x578 at 0x7DA5872CAD20>, <PIL.Image.Image image mode=RGB size=716x537 at 0x7DA5872CAD80>, <PIL.Image.Image image mode=RGB size=799x582 at 0x7DA5872CAE10>, <PIL.Image.Image image mode=RGB size=716x537 at 0x7DA5872CAE70>, <PIL.Image.Image image mode=RGB size=792x581 at 0x7DA5872CAF00>, <PIL.Image.Image image mode=RGB size=713x517 at 0x7DA5872CAFC0>, <PIL.Image.Image image mode=RGB size=793x577 at 0x7DA5872CB020>, <PIL.Image.Image image mode=RGB size=800x578 at 0x7DA5872CB0B0>, <PIL.Image.Image image mode=RGB size=799x585 at 0x7DA5872CB110>, <PIL.Image.Image image mode=RGB size=612x484 at 0x7DA5872CB1D0>, <PIL.Image.Image image mode=RGB size=716x537 at 0x7DA5872CB200>, <PIL.Image.Image image mode=RGB size=800x581 at 0x7DA5872CB2C0>, <PIL.Image.Image image mode=RGB size=716x499 at 0x7DA5872CB2F0>, <PIL.Image.Image image mode=RGB size=792x579 at 0x7DA5872CB380>, <PIL.Image.Image image mode=RGB size=716x537 at 0x7DA5872CB410>, <PIL.Image.Image image mode=RGB size=716x537 at 0x7DA5872CB470>, <PIL.Image.Image image mode=RGB size=793x576 at 0x7DA5872CB4D0>, <PIL.Image.Image image mode=RGB size=800x579 at 0x7DA5872CB530>, <PIL.Image.Image image mode=RGB size=792x578 at 0x7DA5872CB590>, <PIL.Image.Image image mode=RGB size=716x502 at 0x7DA5872CB5F0>, <PIL.Image.Image image mode=RGB size=799x582 at 0x7DA5872CB650>, <PIL.Image.Image image mode=RGB size=716x482 at 0x7DA5872CB6B0>, <PIL.Image.Image image mode=RGB size=716x537 at 0x7DA5872CB740>, <PIL.Image.Image image mode=RGB size=800x585 at 0x7DA5872CB7A0>, <PIL.Image.Image image mode=RGB size=796x577 at 0x7DA5872CB800>, <PIL.Image.Image image mode=RGB size=799x581 at 0x7DA5872CB890>, <PIL.Image.Image image mode=RGB size=800x583 at 0x7DA5872CB8F0>, <PIL.Image.Image image mode=RGB size=800x584 at 0x7DA5872CB950>, <PIL.Image.Image image mode=RGB size=716x521 at 0x7DA5872CB9B0>, <PIL.Image.Image image mode=RGB size=716x537 at 0x7DA5872CBA10>, <PIL.Image.Image image mode=RGB size=716x537 at 0x7DA5872CBA70>, <PIL.Image.Image image mode=RGB size=716x537 at 0x7DA5872CBAD0>, <PIL.Image.Image image mode=RGB size=792x577 at 0x7DA5872CBB30>, <PIL.Image.Image image mode=RGB size=716x522 at 0x7DA5872CBB90>, <PIL.Image.Image image mode=RGB size=800x561 at 0x7DA5872CBBF0>, <PIL.Image.Image image mode=RGB size=716x537 at 0x7DA5872CBC50>, <PIL.Image.Image image mode=RGB size=716x537 at 0x7DA5872CBCB0>, <PIL.Image.Image image mode=RGB size=716x537 at 0x7DA5872CBD10>, <PIL.Image.Image image mode=RGB size=792x578 at 0x7DA5872CBD70>, <PIL.Image.Image image mode=RGB size=792x579 at 0x7DA5872CBDD0>, <PIL.Image.Image image mode=RGB size=716x537 at 0x7DA5872CBE30>, <PIL.Image.Image image mode=RGB size=716x537 at 0x7DA5872CBE90>, <PIL.Image.Image image mode=RGB size=716x537 at 0x7DA5872CBEF0>, <PIL.Image.Image image mode=RGB size=581x481 at 0x7DA5872CBFB0>, <PIL.Image.Image image mode=RGB size=716x537 at 0x7DA5872CBFE0>, <PIL.Image.Image image mode=RGB size=716x500 at 0x7DA5872EF500>, <PIL.Image.Image image mode=RGB size=799x582 at 0x7DA5872EF560>, <PIL.Image.Image image mode=RGB size=716x521 at 0x7DA5872EF620>, <PIL.Image.Image image mode=RGB size=716x537 at 0x7DA5872EC0E0>, <PIL.Image.Image image mode=RGB size=712x517 at 0x7DA5872EC920>, <PIL.Image.Image image mode=RGB size=799x582 at 0x7DA5872EC950>, <PIL.Image.Image image mode=RGB size=716x521 at 0x7DA5872ECA10>, <PIL.Image.Image image mode=RGB size=793x551 at 0x7DA5872ECA70>, <PIL.Image.Image image mode=RGB size=800x582 at 0x7DA5872ECAD0>, <PIL.Image.Image image mode=RGB size=799x582 at 0x7DA5872ECB30>, <PIL.Image.Image image mode=RGB size=715x518 at 0x7DA5872ECB90>, <PIL.Image.Image image mode=RGB size=800x580 at 0x7DA5872ECBF0>, <PIL.Image.Image image mode=RGB size=793x548 at 0x7DA5872ECC80>, <PIL.Image.Image image mode=RGB size=799x582 at 0x7DA5872ECCE0>, <PIL.Image.Image image mode=RGB size=716x537 at 0x7DA5872ECD40>, <PIL.Image.Image image mode=RGB size=716x537 at 0x7DA5872ECDD0>, <PIL.Image.Image image mode=RGB size=799x585 at 0x7DA5872ECE30>, <PIL.Image.Image image mode=RGB size=716x537 at 0x7DA5872ECE90>, <PIL.Image.Image image mode=RGB size=716x518 at 0x7DA5872ECEF0>, <PIL.Image.Image image mode=RGB size=716x537 at 0x7DA5872ECF50>, <PIL.Image.Image image mode=RGB size=799x582 at 0x7DA5872ECFB0>, <PIL.Image.Image image mode=RGB size=716x521 at 0x7DA5872ED010>, <PIL.Image.Image image mode=RGB size=716x521 at 0x7DA5872ED070>, <PIL.Image.Image image mode=RGB size=800x577 at 0x7DA5872ED0D0>, <PIL.Image.Image image mode=RGB size=716x537 at 0x7DA5872ED130>, <PIL.Image.Image image mode=RGB size=800x585 at 0x7DA5872ED190>, <PIL.Image.Image image mode=RGB size=716x537 at 0x7DA5872ED1F0>, <PIL.Image.Image image mode=RGB size=716x537 at 0x7DA5872ED250>, <PIL.Image.Image image mode=RGB size=1000x726 at 0x7DA5872ED3A0>, <PIL.Image.Image image mode=RGB size=792x577 at 0x7DA5872ED310>, <PIL.Image.Image image mode=RGB size=800x563 at 0x7DA5872ED2E0>, <PIL.Image.Image image mode=RGB size=793x553 at 0x7DA5872ED400>, <PIL.Image.Image image mode=RGB size=716x537 at 0x7DA5872ED430>, <PIL.Image.Image image mode=RGB size=716x537 at 0x7DA5872ED490>, <PIL.Image.Image image mode=RGB size=793x552 at 0x7DA5872ED4F0>, <PIL.Image.Image image mode=RGB size=713x517 at 0x7DA5872ED550>, <PIL.Image.Image image mode=RGB size=1278x929 at 0x7DA5872ED5E0>, <PIL.Image.Image image mode=RGB size=716x537 at 0x7DA5872ED640>, <PIL.Image.Image image mode=RGB size=799x585 at 0x7DA5872ED6A0>, <PIL.Image.Image image mode=RGB size=797x581 at 0x7DA5872ED700>, <PIL.Image.Image image mode=RGB size=716x537 at 0x7DA5872ED760>, <PIL.Image.Image image mode=RGB size=793x558 at 0x7DA5872ED7C0>, <PIL.Image.Image image mode=RGB size=716x537 at 0x7DA5872ED820>, <PIL.Image.Image image mode=RGB size=799x581 at 0x7DA5872ED880>, <PIL.Image.Image image mode=RGB size=716x537 at 0x7DA5872ED8E0>, <PIL.Image.Image image mode=RGB size=716x537 at 0x7DA5872ED940>, <PIL.Image.Image image mode=RGB size=716x537 at 0x7DA5872ED9A0>, <PIL.Image.Image image mode=RGB size=716x537 at 0x7DA5872EDA00>, <PIL.Image.Image image mode=RGB size=799x581 at 0x7DA5872EDA60>, <PIL.Image.Image image mode=RGB size=716x537 at 0x7DA5872EDAC0>, <PIL.Image.Image image mode=RGB size=716x537 at 0x7DA5872EDB20>, <PIL.Image.Image image mode=RGB size=716x537 at 0x7DA5872EDB80>, <PIL.Image.Image image mode=RGB size=716x537 at 0x7DA5872EDBE0>, <PIL.Image.Image image mode=RGB size=716x537 at 0x7DA5872EDCD0>, <PIL.Image.Image image mode=RGB size=716x519 at 0x7DA5872EDD00>, <PIL.Image.Image image mode=RGB size=716x518 at 0x7DA5872EDD90>, <PIL.Image.Image image mode=RGB size=793x554 at 0x7DA5872EDDF0>, <PIL.Image.Image image mode=RGB size=800x580 at 0x7DA5872EDE20>, <PIL.Image.Image image mode=RGB size=792x578 at 0x7DA5872EDE80>, <PIL.Image.Image image mode=RGB size=716x537 at 0x7DA5872EDEE0>, <PIL.Image.Image image mode=RGB size=716x537 at 0x7DA5872EDF40>, <PIL.Image.Image image mode=RGB size=800x579 at 0x7DA5872EDFA0>, <PIL.Image.Image image mode=RGB size=800x580 at 0x7DA5872EE000>, <PIL.Image.Image image mode=RGB size=792x578 at 0x7DA5872EE060>, <PIL.Image.Image image mode=RGB size=799x582 at 0x7DA5872EE0C0>, <PIL.Image.Image image mode=RGB size=716x537 at 0x7DA5872EE120>, <PIL.Image.Image image mode=RGB size=800x584 at 0x7DA5872EE180>, <PIL.Image.Image image mode=RGB size=716x537 at 0x7DA5872EE1E0>, <PIL.Image.Image image mode=RGB size=716x519 at 0x7DA5872EE240>, <PIL.Image.Image image mode=RGB size=716x537 at 0x7DA5872EE2A0>, <PIL.Image.Image image mode=RGB size=716x537 at 0x7DA5872EE300>, <PIL.Image.Image image mode=RGB size=716x518 at 0x7DA5872EE360>, <PIL.Image.Image image mode=RGB size=716x537 at 0x7DA5872EE3F0>, <PIL.Image.Image image mode=RGB size=716x502 at 0x7DA5872EE450>, <PIL.Image.Image image mode=RGB size=800x580 at 0x7DA5872EE4B0>, <PIL.Image.Image image mode=RGB size=716x519 at 0x7DA5872EE510>, <PIL.Image.Image image mode=RGB size=716x523 at 0x7DA5872EE5A0>, <PIL.Image.Image image mode=RGB size=1011x353 at 0x7DA5872EE630>, <PIL.Image.Image image mode=RGB size=792x578 at 0x7DA5872EE660>, <PIL.Image.Image image mode=RGB size=800x583 at 0x7DA5872EE6F0>, <PIL.Image.Image image mode=RGB size=799x582 at 0x7DA5872EE750>, <PIL.Image.Image image mode=RGB size=716x520 at 0x7DA5872EE7E0>, <PIL.Image.Image image mode=RGB size=713x519 at 0x7DA5872EE840>, <PIL.Image.Image image mode=RGB size=800x584 at 0x7DA5872EE8A0>, <PIL.Image.Image image mode=RGB size=716x466 at 0x7DA5872EE900>, <PIL.Image.Image image mode=RGB size=712x518 at 0x7DA5872EE960>, <PIL.Image.Image image mode=RGB size=796x581 at 0x7DA5872EE9F0>, <PIL.Image.Image image mode=RGB size=800x587 at 0x7DA5872EEA80>, <PIL.Image.Image image mode=RGB size=716x537 at 0x7DA5872EEB10>, <PIL.Image.Image image mode=RGB size=716x537 at 0x7DA5872EEBA0>, <PIL.Image.Image image mode=RGB size=716x537 at 0x7DA5872EEC00>, <PIL.Image.Image image mode=RGB size=793x553 at 0x7DA5872EEC60>, <PIL.Image.Image image mode=RGB size=799x562 at 0x7DA5872EECC0>, <PIL.Image.Image image mode=RGB size=800x580 at 0x7DA5872EED50>, <PIL.Image.Image image mode=RGB size=716x520 at 0x7DA5872EEDB0>, <PIL.Image.Image image mode=RGB size=800x585 at 0x7DA5872EEE10>, <PIL.Image.Image image mode=RGB size=716x537 at 0x7DA5872EEE70>, <PIL.Image.Image image mode=RGB size=793x579 at 0x7DA5872EEED0>, <PIL.Image.Image image mode=RGB size=712x515 at 0x7DA5872EEF30>, <PIL.Image.Image image mode=RGB size=716x537 at 0x7DA5872EEF90>, <PIL.Image.Image image mode=RGB size=716x519 at 0x7DA5872EEFF0>, <PIL.Image.Image image mode=RGB size=796x580 at 0x7DA5872EF050>, <PIL.Image.Image image mode=RGB size=716x537 at 0x7DA5872EF0B0>, <PIL.Image.Image image mode=RGB size=800x562 at 0x7DA5872EF110>, <PIL.Image.Image image mode=RGB size=716x537 at 0x7DA5872EF170>, <PIL.Image.Image image mode=RGB size=793x580 at 0x7DA5872EF1D0>, <PIL.Image.Image image mode=RGB size=713x519 at 0x7DA5872EF230>, <PIL.Image.Image image mode=RGB size=716x537 at 0x7DA5872EF290>, <PIL.Image.Image image mode=RGB size=716x537 at 0x7DA5872EF2F0>, <PIL.Image.Image image mode=RGB size=716x537 at 0x7DA5872EF350>, <PIL.Image.Image image mode=RGB size=800x583 at 0x7DA5872EF3B0>, <PIL.Image.Image image mode=RGB size=716x501 at 0x7DA5872EF410>, <PIL.Image.Image image mode=RGB size=716x537 at 0x7DA5872EF470>, <PIL.Image.Image image mode=RGB size=799x582 at 0x7DA5872EF4D0>, <PIL.Image.Image image mode=RGB size=715x520 at 0x7DA5872EF590>, <PIL.Image.Image image mode=RGB size=716x520 at 0x7DA5872EF650>, <PIL.Image.Image image mode=RGB size=716x537 at 0x7DA5872EF6E0>, <PIL.Image.Image image mode=RGB size=716x537 at 0x7DA5872EF740>, <PIL.Image.Image image mode=RGB size=792x579 at 0x7DA5872EF7A0>, <PIL.Image.Image image mode=RGB size=792x576 at 0x7DA5872EF8C0>, <PIL.Image.Image image mode=RGB size=800x581 at 0x7DA5872EFB30>, <PIL.Image.Image image mode=RGB size=800x581 at 0x7DA5872EFBC0>, <PIL.Image.Image image mode=RGB size=800x584 at 0x7DA5872EFC20>, <PIL.Image.Image image mode=RGB size=800x565 at 0x7DA5872EFC80>, <PIL.Image.Image image mode=RGB size=716x537 at 0x7DA5872EFCE0>, <PIL.Image.Image image mode=RGB size=800x580 at 0x7DA5872EFD40>, <PIL.Image.Image image mode=RGB size=793x578 at 0x7DA5872EFDA0>, <PIL.Image.Image image mode=RGB size=796x576 at 0x7DA5872EFE00>, <PIL.Image.Image image mode=RGB size=716x537 at 0x7DA5872EFE60>, <PIL.Image.Image image mode=RGB size=601x476 at 0x7DA5872EFFB0>, <PIL.Image.Image image mode=RGB size=800x584 at 0x7DA5872EFF20>, <PIL.Image.Image image mode=RGB size=792x578 at 0x7DA5872EFEF0>, <PIL.Image.Image image mode=RGB size=716x537 at 0x7DA5872EFF80>, <PIL.Image.Image image mode=RGB size=716x537 at 0x7DA5872F0080>, <PIL.Image.Image image mode=RGB size=716x537 at 0x7DA5872F00B0>, <PIL.Image.Image image mode=RGB size=716x499 at 0x7DA5872F0110>, <PIL.Image.Image image mode=RGB size=716x537 at 0x7DA5872F0170>, <PIL.Image.Image image mode=RGB size=716x537 at 0x7DA5872F0290>, <PIL.Image.Image image mode=RGB size=799x582 at 0x7DA5872F0200>, <PIL.Image.Image image mode=RGB size=792x578 at 0x7DA5872F01A0>, <PIL.Image.Image image mode=RGB size=716x537 at 0x7DA5872F02C0>, <PIL.Image.Image image mode=RGB size=800x583 at 0x7DA5872F0B30>, <PIL.Image.Image image mode=RGB size=792x579 at 0x7DA5872F0B90>, <PIL.Image.Image image mode=RGB size=716x537 at 0x7DA5872F0BF0>, <PIL.Image.Image image mode=RGB size=800x581 at 0x7DA5872F0C50>, <PIL.Image.Image image mode=RGB size=716x537 at 0x7DA5872F0CB0>, <PIL.Image.Image image mode=RGB size=800x585 at 0x7DA5872F0D10>, <PIL.Image.Image image mode=RGB size=716x537 at 0x7DA5872F0D70>, <PIL.Image.Image image mode=RGB size=799x582 at 0x7DA5872F0DD0>, <PIL.Image.Image image mode=RGB size=799x582 at 0x7DA5872F0E30>, <PIL.Image.Image image mode=RGB size=716x517 at 0x7DA5872F0E90>, <PIL.Image.Image image mode=RGB size=716x537 at 0x7DA5872F0EF0>, <PIL.Image.Image image mode=RGB size=793x579 at 0x7DA5872F0F50>, <PIL.Image.Image image mode=RGB size=800x584 at 0x7DA5A18ACAD0>, <PIL.Image.Image image mode=RGB size=797x581 at 0x7DA5872F1040>, <PIL.Image.Image image mode=RGB size=716x519 at 0x7DA5872F1070>, <PIL.Image.Image image mode=RGB size=799x585 at 0x7DA5872F10D0>, <PIL.Image.Image image mode=RGB size=716x537 at 0x7DA5872F1130>, <PIL.Image.Image image mode=RGB size=800x581 at 0x7DA5872F1190>, <PIL.Image.Image image mode=RGB size=716x537 at 0x7DA5872F11F0>, <PIL.Image.Image image mode=RGB size=716x537 at 0x7DA5872F1250>, <PIL.Image.Image image mode=RGB size=716x499 at 0x7DA5872F12B0>, <PIL.Image.Image image mode=RGB size=716x537 at 0x7DA5872F1310>, <PIL.Image.Image image mode=RGB size=609x483 at 0x7DA5872F1460>, <PIL.Image.Image image mode=RGB size=716x537 at 0x7DA5872F13D0>, <PIL.Image.Image image mode=RGB size=716x537 at 0x7DA5872F13A0>, <PIL.Image.Image image mode=RGB size=716x537 at 0x7DA5872F1490>, <PIL.Image.Image image mode=RGB size=716x537 at 0x7DA5872F14F0>, <PIL.Image.Image image mode=RGB size=716x537 at 0x7DA5872F1550>, <PIL.Image.Image image mode=RGB size=800x584 at 0x7DA5872F15B0>, <PIL.Image.Image image mode=RGB size=799x582 at 0x7DA5872F1610>, <PIL.Image.Image image mode=RGB size=716x537 at 0x7DA5872F1670>, <PIL.Image.Image image mode=RGB size=716x537 at 0x7DA5872F16D0>, <PIL.Image.Image image mode=RGB size=715x520 at 0x7DA5872F1730>, <PIL.Image.Image image mode=RGB size=799x581 at 0x7DA5872F1790>, <PIL.Image.Image image mode=RGB size=716x537 at 0x7DA5872F17F0>, <PIL.Image.Image image mode=RGB size=716x537 at 0x7DA5872F1850>, <PIL.Image.Image image mode=RGB size=792x577 at 0x7DA5872F18B0>, <PIL.Image.Image image mode=RGB size=792x579 at 0x7DA5872F1910>, <PIL.Image.Image image mode=RGB size=716x537 at 0x7DA5872F1970>, <PIL.Image.Image image mode=RGB size=716x537 at 0x7DA5872F19D0>, <PIL.Image.Image image mode=RGB size=800x563 at 0x7DA5872F1A30>, <PIL.Image.Image image mode=RGB size=716x537 at 0x7DA5872F1A90>, <PIL.Image.Image image mode=RGB size=796x579 at 0x7DA5872F1AF0>, <PIL.Image.Image image mode=RGB size=716x521 at 0x7DA5872F1B50>, <PIL.Image.Image image mode=RGB size=800x581 at 0x7DA5872F1BB0>, <PIL.Image.Image image mode=RGB size=716x537 at 0x7DA5872F1C10>, <PIL.Image.Image image mode=RGB size=800x585 at 0x7DA5872F1C70>, <PIL.Image.Image image mode=RGB size=799x577 at 0x7DA5872F1CD0>, <PIL.Image.Image image mode=RGB size=792x577 at 0x7DA5872F1D30>, <PIL.Image.Image image mode=RGB size=792x575 at 0x7DA5872F1D90>, <PIL.Image.Image image mode=RGB size=793x578 at 0x7DA5872F1DF0>, <PIL.Image.Image image mode=RGB size=716x537 at 0x7DA5872F1E50>, <PIL.Image.Image image mode=RGB size=715x518 at 0x7DA5872F1EB0>, <PIL.Image.Image image mode=RGB size=1276x925 at 0x7DA5872F1F10>, <PIL.Image.Image image mode=RGB size=800x584 at 0x7DA5872F1F70>, <PIL.Image.Image image mode=RGB size=716x537 at 0x7DA5872F1FD0>, <PIL.Image.Image image mode=RGB size=731x488 at 0x7DA5872F2060>, <PIL.Image.Image image mode=RGB size=799x580 at 0x7DA5872F2090>, <PIL.Image.Image image mode=RGB size=716x537 at 0x7DA5872F2120>, <PIL.Image.Image image mode=RGB size=793x581 at 0x7DA5872F2150>, <PIL.Image.Image image mode=RGB size=716x537 at 0x7DA5872F21B0>, <PIL.Image.Image image mode=RGB size=716x537 at 0x7DA5872F2210>, <PIL.Image.Image image mode=RGB size=799x581 at 0x7DA5872F2270>, <PIL.Image.Image image mode=RGB size=716x537 at 0x7DA5872F22D0>, <PIL.Image.Image image mode=RGB size=716x537 at 0x7DA5872F2330>, <PIL.Image.Image image mode=RGB size=716x537 at 0x7DA5872F2390>, <PIL.Image.Image image mode=RGB size=715x519 at 0x7DA5872F2420>, <PIL.Image.Image image mode=RGB size=792x578 at 0x7DA5872F2480>, <PIL.Image.Image image mode=RGB size=716x537 at 0x7DA5872F24E0>, <PIL.Image.Image image mode=RGB size=793x577 at 0x7DA5872F2540>, <PIL.Image.Image image mode=RGB size=716x537 at 0x7DA5872F25A0>, <PIL.Image.Image image mode=RGB size=716x520 at 0x7DA5872F2600>, <PIL.Image.Image image mode=RGB size=800x579 at 0x7DA5872F2660>, <PIL.Image.Image image mode=RGB size=716x537 at 0x7DA5872F26C0>, <PIL.Image.Image image mode=RGB size=716x537 at 0x7DA5872F2720>, <PIL.Image.Image image mode=RGB size=800x562 at 0x7DA5872F2780>, <PIL.Image.Image image mode=RGB size=716x537 at 0x7DA5872F27E0>, <PIL.Image.Image image mode=RGB size=716x537 at 0x7DA5872F2840>, <PIL.Image.Image image mode=RGB size=716x537 at 0x7DA5872F28A0>, <PIL.Image.Image image mode=RGB size=799x585 at 0x7DA5872F2900>, <PIL.Image.Image image mode=RGB size=716x520 at 0x7DA5872F2960>, <PIL.Image.Image image mode=RGB size=716x537 at 0x7DA5872F29C0>, <PIL.Image.Image image mode=RGB size=799x581 at 0x7DA5872F2A20>, <PIL.Image.Image image mode=RGB size=715x520 at 0x7DA5872F2A80>, <PIL.Image.Image image mode=RGB size=716x520 at 0x7DA5872F2AE0>, <PIL.Image.Image image mode=RGB size=716x503 at 0x7DA5872F2B40>, <PIL.Image.Image image mode=RGB size=793x576 at 0x7DA5872F2BA0>, <PIL.Image.Image image mode=RGB size=800x551 at 0x7DA5872F2C00>, <PIL.Image.Image image mode=RGB size=800x585 at 0x7DA5872F2C60>, <PIL.Image.Image image mode=RGB size=793x556 at 0x7DA5872F2CC0>, <PIL.Image.Image image mode=RGB size=792x575 at 0x7DA5872F2D20>, <PIL.Image.Image image mode=RGB size=716x537 at 0x7DA5872F2D80>, <PIL.Image.Image image mode=RGB size=716x537 at 0x7DA5872F2DE0>, <PIL.Image.Image image mode=RGB size=800x583 at 0x7DA5872F2E40>, <PIL.Image.Image image mode=RGB size=716x537 at 0x7DA5872F2EA0>, <PIL.Image.Image image mode=RGB size=793x540 at 0x7DA5872F2F00>, <PIL.Image.Image image mode=RGB size=716x537 at 0x7DA5872F2F60>, <PIL.Image.Image image mode=RGB size=792x576 at 0x7DA5872F2FF0>, <PIL.Image.Image image mode=RGB size=800x586 at 0x7DA5872F3050>, <PIL.Image.Image image mode=RGB size=716x537 at 0x7DA5872F30B0>, <PIL.Image.Image image mode=RGB size=799x581 at 0x7DA5872F3110>, <PIL.Image.Image image mode=RGB size=716x537 at 0x7DA5872F3170>, <PIL.Image.Image image mode=RGB size=799x561 at 0x7DA5872F31D0>, <PIL.Image.Image image mode=RGB size=796x575 at 0x7DA5872F3230>, <PIL.Image.Image image mode=RGB size=715x520 at 0x7DA5872F3290>, <PIL.Image.Image image mode=RGB size=800x580 at 0x7DA5872F32F0>, <PIL.Image.Image image mode=RGB size=799x585 at 0x7DA5872F3350>, <PIL.Image.Image image mode=RGB size=792x577 at 0x7DA5872F33B0>, <PIL.Image.Image image mode=RGB size=712x517 at 0x7DA5872F3410>, <PIL.Image.Image image mode=RGB size=793x573 at 0x7DA5872F3470>, <PIL.Image.Image image mode=RGB size=716x537 at 0x7DA5872F34D0>, <PIL.Image.Image image mode=RGB size=799x582 at 0x7DA5872F3560>, <PIL.Image.Image image mode=RGB size=797x579 at 0x7DA5872F35C0>, <PIL.Image.Image image mode=RGB size=716x537 at 0x7DA5872F3620>, <PIL.Image.Image image mode=RGB size=716x537 at 0x7DA5872F3680>, <PIL.Image.Image image mode=RGB size=716x537 at 0x7DA5872F3710>, <PIL.Image.Image image mode=RGB size=716x537 at 0x7DA5872F3770>, <PIL.Image.Image image mode=RGB size=799x581 at 0x7DA5872F37D0>, <PIL.Image.Image image mode=RGB size=792x576 at 0x7DA5872F3830>, <PIL.Image.Image image mode=RGB size=716x537 at 0x7DA5872F3890>, <PIL.Image.Image image mode=RGB size=799x582 at 0x7DA5872F38F0>, <PIL.Image.Image image mode=RGB size=716x537 at 0x7DA5872F3950>, <PIL.Image.Image image mode=RGB size=716x520 at 0x7DA5872F39B0>, <PIL.Image.Image image mode=RGB size=799x583 at 0x7DA5872F3A10>, <PIL.Image.Image image mode=RGB size=800x584 at 0x7DA5872F3A70>, <PIL.Image.Image image mode=RGB size=799x583 at 0x7DA5872F3B00>, <PIL.Image.Image image mode=RGB size=716x521 at 0x7DA5872F3B60>, <PIL.Image.Image image mode=RGB size=793x554 at 0x7DA5872F3BC0>, <PIL.Image.Image image mode=RGB size=792x576 at 0x7DA5872F3C20>, <PIL.Image.Image image mode=RGB size=799x582 at 0x7DA5872F3C80>, <PIL.Image.Image image mode=RGB size=716x519 at 0x7DA5872F3D10>, <PIL.Image.Image image mode=RGB size=715x521 at 0x7DA5872F3D70>, <PIL.Image.Image image mode=RGB size=799x582 at 0x7DA5872F3DD0>]\n",
            "['887.3 App.bmp', '96.12 App .bmp', '747.10 App.bmp', '152.2 App.bmp', '918.2 App.bmp', '130.6 App.bmp', '458.1 App.bmp', '277.4 App.bmp', '919.3 App.bmp', '4.2 Appendix.png', '761.4 App.bmp', '747.4 App.bmp', '777.3 App.bmp', '927.12 App.bmp', '801.2 App.bmp', '565.1 App.bmp', '777.2 App.bmp', '80.2 App.bmp', '91.4 App.bmp', '143.2 App.bmp', '463.4 App.bmp', '936.2 App.bmp', '7.1 Appendix.bmp', '927.8 App.bmp', '503.2 app.bmp', '49.2 App.bmp', '278.2 App.bmp', '443.1 App.bmp', '697.1 App.bmp', '841.1 App.bmp', '928.2 App.bmp', '117.1 App.bmp', '99.2 App.bmp', '249.1 App.bmp', '773.5 App.bmp', '122.1 App.bmp', '105.10 App.bmp', '316.1 App.bmp', '121.1 App.bmp', '186.3 App.bmp', '863.4 App.bmp', '195.3 App.bmp', '524.2 App.bmp', '537.1 App.bmp', '233.5 App.bmp', '557.1 App.bmp', '583.4 App.bmp', '525.10 App.bmp', '446.2 App.bmp', '846.1 App.bmp', '88.2 App.bmp', '790.6 App.bmp', '168.6 App.bmp', '831.4 App.bmp', '252.2 App.bmp', '850.2 App.bmp', '494.6 App.bmp', '41.3 App.bmp', '101.14 App.bmp', '547.11 App.bmp', '547.5 App.bmp', '68.1 App.bmp', '80.3 App.bmp', '168.5 App.bmp', '494.4 App.bmp', '61.3 App.bmp', '29.5 Appendix.bmp', '102.1 App.bmp', '205.4 App.bmp', '376.1 App.bmp', '530.2 App.bmp', '936.3 App.bmp', '181.3 App.bmp', '454.1 App.bmp', '477.3 App.bmp', '11.1 Appendix.png', '533.1 App.bmp', '761.3 App.bmp', '74.1 App.bmp', '107.2 App.bmp', '129.2 App.bmp', '35.1 App.bmp', '587.3 App.bmp', '833.3 App.bmp', '77.3 App.bmp', '540.1 App.bmp', '30.2 Appendix.bmp', '801.3 App.bmp', '1.4 Appendix.png', '774.1 App.bmp', '6.4 Appendix.png', '547.2 App.bmp', '841.3 App.bmp', '551.1 App.bmp', '900.1 App.bmp', '278.1 App.bmp', '560.5 App.bmp', '539.2 App.bmp', '168.9 App.bmp', '827.2 App.bmp', '290.3 App.bmp', '751.4 App.bmp', '721.1 App.bmp', '927.11 App.bmp', '102.7 App.bmp', '117.6 App.bmp', '26.1 Appendix.bmp', '695.3 App.bmp', '567.1 App.bmp', '754.2 App.bmp', '186.1 App.bmp', '547.10 App.bmp', '909.5 App.bmp', '509.2 App.bmp', '345.2 App.bmp', '357.1 App.bmp', '188.2 App.bmp', '26.2 Appendix.bmp', '103.5 App.bmp', '106.8 App.bmp', '607.4 App.bmp', '575.1 App.bmp', '102.10 App.bmp', '642.3 App.bmp', '928.1 App.bmp', '751.5 App.bmp', '531.6 App.bmp', '78.2 App.bmp', '761.1 App.bmp', '168.8 App.bmp', '22.5 Appendix.bmp', '34.1 App.bmp', '445.3 App.bmp', '37.2 App .bmp', '202.4 App.bmp', '65.8 App.bmp', '86.3 App.bmp', '499.2 App.bmp', '746.2 App.bmp', '531.5 App.bmp', '24.3 Appendix.bmp', '288.2 App.bmp', '177.2 App.bmp', '455.2 App.bmp', '158.2 App.bmp', '837.7 App.bmp', '87.2 App.bmp', '752.3 App.bmp', '34.2 App.bmp', '186.6 App.bmp', '532.3 App.bmp', '904.4 App.bmp', '358.2 App.bmp', '850.1 App.bmp', '747.5 App.bmp', '96.10 App.bmp', '541.1 App.bmp', '771.2 App.bmp', '900.2 App.bmp', '88.1 App.bmp', '773.10 App.bmp', '129.1 App.bmp', '15.1 Appendix.png', '114.3 App.bmp', '12.2 Appendix.png', '211.3 App.bmp', '189.1 App.bmp', '546.1 App.bmp', '90.1 App.bmp', '503.3 app.bmp', '158.4 App.bmp', '622.4 App.bmp', '129.4 App.bmp', '506.1 App.bmp', '545.5 App.bmp', '192.1 App.bmp', '697.3 App.bmp', '545.2 App.bmp', '216.1 App.bmp', '203.1 App.bmp', '814.2 App.bmp', '101.8 App.bmp', '61.4 App.bmp', '454.6 App.bmp', '695.2 App.bmp', '75.1 App.bmp', '537.6 App.bmp', '101.12 App.bmp', '547.9 App.bmp', '266.3 App.bmp', '893.3 App.bmp', '240.1 App.bmp', '107.1 App.bmp', '856.1 App.bmp', '672.5 App.bmp', '773.7 App.bmp', '645.6 App.bmp', '99.4 App.bmp', '174.5 App.bmp', '672.4 App.bmp', '990.7 App.bmp', '854.2 App.bmp', '77.2 App.bmp', '837.5 App.bmp', '592.2 App.bmp', '6.3 Appendix.png', '41.2 App.bmp', '512.2 App.bmp', '376.2 App.bmp', '832.2 App.bmp', '458.3 App.bmp', '105.12 App.bmp', '168.3 App.bmp', '233.4 App.bmp', '43.4 App.bmp', '525.8 App.bmp', '955.4 App.bmp', '832.1 App.bmp', '174.3 App.bmp', '220.2 App.bmp', '879.3 App.bmp', '111.9 App .bmp', '123.4 App.bmp', '187.3 App.bmp', '530.1 App.bmp', '563.5 App.bmp', '925.1 App.bmp', '921.5 App .bmp', '125.1 App.bmp', '271.5 App.bmp', '65.3 App.bmp', '102.8 App.bmp', '773.6 App.bmp', '133.3 App.bmp', '289.1 App.bmp', '3.3 Appendix.png', '5.1 Appendix.png', '601.3 App.bmp', '341.1 App.bmp', '186.7 App.bmp', '832.3 App.bmp', '955.2 App.bmp', '66.4 App.bmp', '919.2 App.bmp', '981.1 App.bmp', '747.6 App.bmp', '201.2 App.bmp', '508.1 App.bmp', '841.6 App.bmp', '781.1 App.bmp', '133.2 App.bmp', '752.5 App.bmp', '23.2 Appendix.bmp', '512.3 App.bmp', '686.4 App.bmp', '85.2 App.bmp', '824.5 App.bmp', '289.2 App.bmp', '88.4 App.bmp', '809.3 App.bmp', '9.2 Appendix.bmp', '790.3 App.bmp', '802.7 App.bmp', '18.3 Appendix.bmp', '137.7 App.bmp', '747.9 App.bmp', '220.1 App.bmp', '137.9 App.bmp', '594.3 App.bmp', '990.8 App.bmp', '802.5 App.bmp', '560.6 App.bmp', '796.1 App.bmp', '508.4 App.bmp', '117.5 App.bmp', '981.2 App.bmp', '161.1 App.bmp', '41.1. App.bmp', '68.2 App.bmp', '643.3 App.bmp', '607.5 App.bmp', '790.5 App.bmp', '499.3 App.bmp', '466.4 App.bmp', '721.2 App.bmp', '487.2 App.bmp', '124.4 App.bmp', '749.1 App.bmp', '117.8 App.bmp', '187.8 App.bmp', '290.2 App.bmp', '233.3 App.bmp', '738.2 App.bmp', '921.3 App.bmp', '69.4 App.bmp', '691.6 App.bmp', '69.6 App.bmp', '24.1 Appendix.bmp', '106.6 App.bmp', '30.3 Appendix.bmp', '824.6 App.bmp', '445.4 App.bmp', '502.1 App.bmp', '872.2 App.bmp', '752.7 App.bmp', '168.7 App.bmp', '191.1 App.bmp', '790.2 App.bmp', '199.1 App.bmp', '105.1 App.bmp', '48.2 App.bmp', '53.2 App.bmp', '452.1 App .bmp', '837.4 App.bmp', '323.3 App.bmp', '525.7 App.bmp', '368.2 App.bmp', '777.4 App.bmp', '833.2 App.bmp', '938.2 App.bmp', '508.3 App.bmp', '933.1 App.bmp', '145.4 App.bmp', '853.3 App.bmp', '540.2 App.bmp', '990.9 App.bmp', '809.2 App.bmp', '145.3 App.bmp', '304.2 App.bmp', '441.3 App .bmp', '777.1 App.bmp', '711.4 App.bmp', '232.2 App.bmp', '443.4 App.bmp', '697.5 App.bmp', '211.4 App.bmp', '622.5 App.bmp', '65.7 App.bmp', '445.2 App.bmp', '188.4 App.bmp', '231.2 App.bmp', '315.1 App.bmp', '464.3 App.bmp', '249.2 App.bmp', '498.1 App.bmp', '169.7 App.bmp', '152.1 App.bmp', '175.1 App.bmp', '96.2 App .bmp', '3.4 Appendix.png', '537.4 App.bmp', '499.4 App.bmp', '161.3 App.bmp', '927.10 App.bmp', '721.3 App.bmp', '673.1 App.bmp', '802.4 App.bmp', '691.5 App.bmp', '70.2 App.bmp', '771.1 App.bmp', '494.5 App.bmp', '551.2 App.bmp', '116.3 App.bmp', '92.5 App.bmp', '143.1 App.bmp', '879.2 App.bmp', '143.3 App.bmp', '773.2 App.bmp', '117.7 App.bmp', '9.3 Appendix.png', '593.2 App.bmp', '525.9 App.bmp', '29.4 Appendix.bmp', '559.3 App.bmp', '619.2 App.bmp', '232.3 App.bmp', '468.3 App.bmp', '686.5 App.bmp', '494.1 App.bmp', '587.5 App.bmp', '102.18 App.bmp', '79.4 App.bmp', '118.2 App.bmp', '537.5 App.bmp', '691.3 App.bmp', '827.1 App.bmp', '927.3 App.bmp', '950.2 App.bmp', '168.2 App.bmp', '109.3 App.bmp', '102.6 App.bmp', '802.6 App.bmp', '446.1 App.bmp', '299.1 App.bmp', '591.7 App.bmp', '585.2 App.bmp', '105.6 App.bmp', '458.2 App.bmp', '145.1 App.bmp', '563.1 App.bmp', '200.1 App.bmp', '102.2 App.bmp', '83.1 App.bmp', '6.1 Appendix.png', '344.2 App.bmp', '48.4 App.bmp', '116.4 App.bmp', '443.2 App.bmp', '454.2 App.bmp', '186.4 App.bmp', '103.8 App.bmp', '974.4 App.bmp', '23.1 Appendix.bmp', '606.3 App.bmp', '553.1 App.bmp', '831.1 App.bmp', '947.1 App.bmp', '51.2 App.bmp', '547.8 App.bmp', '207.6 App.bmp', '592.1 App.bmp', '775.1 App.bmp', '94.5 App.bmp', '841.2 App.bmp', '304.3 App.bmp', '107.5 App.bmp', '203.2. App.bmp', '933.3 App.bmp', '824.4 App.bmp', '55.3 App.bmp', '111.6 App.bmp', '796.3 App.bmp', '282.4 App.bmp', '14.1 Appendix.png', '672.6 App.bmp', '26.3 Appendix.bmp', '87.1 App.bmp', '499.9 App.bmp', '665.2 App.bmp', '37.1 App .bmp', '285.2 App.bmp', '849.2 App.bmp', '92.4 App.bmp', '107.3 App.bmp', '752.4 App.bmp', '767.1 App.bmp', '51.1 App.bmp', '34.3 App.bmp', '389.2 App .bmp', '27.2 Appendix.bmp', '17.1 Appendix.bmp', '122.2 App.bmp', '25.2 Appendix.bmp', '938.1 App.bmp', '475.3 App.bmp', '628.1 App.bmp', '808.1 App.bmp', '882.2 App.bmp', '13.1 Appendix.png', '449.3 App.bmp', '955.1 App.bmp', '43.3 App.bmp', '118.4 App.bmp', '988.3 App.bmp', '510.4 App.bmp', '773.3 App.bmp', '545.3 App.bmp', '790.1 App.bmp', '159.2 App.bmp', '773.9 App.bmp', '747.11 App.bmp', '802.3 App.bmp', '207.4 App.bmp', '921.6 App .bmp', '444.4 App.bmp', '190.1 App.bmp', '875.1 App.bmp', '284.2 App.bmp', '597.5 App.bmp', '547.6 App.bmp', '833.4 App.bmp', '506.5 App.bmp', '14.3 Appendix.png', '499.5 App.bmp', '609.1 App.bmp', '790.4 App.bmp', '506.4 App.bmp', '187.9 App.bmp', '747.1 App.bmp', '9.1 Appendix.bmp', '186.2 App.bmp', '129.6 App.bmp', '802.2 App.bmp', '525.4 App.bmp', '56.2 App.bmp', '558.2 App.bmp', '51.3 App.bmp', '12.1 Appendix.bmp', '607.1 App.bmp', '833.5 App.bmp', '863.1 App.bmp', '64.1 App.bmp', '936.1 App.bmp', '965.2 App.bmp', '511.4 App.bmp', '840.1 App.bmp', '837.3 App.bmp', '59.2 App.bmp', '591.10 App.bmp', '81.4 App.bmp', '207.3 App.bmp', '260.1 App.bmp', '636.2 App.bmp', '102.3 App.bmp', '161.7 App.bmp', '525.11 App.bmp', '597.3 App.bmp', '510.2 App.bmp', '119.4 App.bmp', '99.10 App.bmp', '102.14 App.bmp', '592.3 App.bmp', '365.1 App.bmp', '441.2 App.bmp', '922.1 App.bmp', '116.1 App.bmp', '96.6 App.bmp', '872.1 App.bmp', '591.8 App.bmp', '583.2 App.bmp', '393.2 App.bmp', '935.1 App.bmp', '761.2 App.bmp', '491.2 App.bmp', '5.2 Appendix.png', '545.4 App.bmp', '463.2 App.bmp', '826.1 App.bmp', '60.4 App.bmp', '41.4 App.bmp', '597.4 App.bmp', '326.2 App.bmp', '751.2 App.bmp', '103.3 App.bmp', '494.3 App.bmp', '102.9 App.bmp', '938.4 App.bmp', '922.2 App.bmp', '657.3 App.bmp', '862.2 App.bmp', '49.1 App.bmp', '128.4 App.bmp', '591.2 App.bmp', '847.3 App.bmp', '119.1 App.bmp', '560.2 App.bmp', '591.1 App.bmp', '145.2 App.bmp', '874.2 App.bmp', '195.5 App.bmp', '99.3 App.bmp', '231.3 App.bmp', '324.1 App.bmp', '231.1 App.bmp', '735.2 App.bmp', '503.4 App.bmp', '54.3 App.bmp', '510.3 App.bmp', '6.2 Appendix.png', '102.19 App.bmp', '490.4 App.bmp', '184.1 App.bmp', '656.3 App.bmp', '538.4 App.bmp', '278.3 App.bmp', '802.1 App.bmp', '806.3 App.bmp', '207.5 App.bmp', '506.6 App.bmp', '747.2 App.bmp', '130.5 App.bmp', '55.2 App.bmp', '900.3 App.bmp', '563.2 App.bmp', '819.2 App.bmp', '525.1 App.bmp', '591.9 App.bmp', '738.3 App.bmp', '773.8 App.bmp', '909.4 App.bmp', '872.4 App.bmp', '161.4 App.bmp', '508.2 App.bmp', '813.4 App.bmp', '466.3 App.bmp', '466.2 App.bmp', '971.1 App.bmp', '547.4 App.bmp', '174.6 App.bmp', '849.3 App.bmp', '537.3 App.bmp', '656.1 App.bmp', '3.5 Appendix.png', '816.6 App.bmp', '130.4 App.bmp', '565.4 App.bmp', '181.1 App.bmp', '751.6 App.bmp', '711.3 App.bmp', '72.1 App.bmp', '28.2 Appendix.bmp', '128.2 App.bmp', '174.2 App.bmp', '557.3 App.bmp', '81.5 App.bmp', '143.4 App.bmp', '503.1 App.bmp', '443.3 App.bmp', '827.3 App.bmp', '657.4 App.bmp', '187.2 App.bmp', '591.11 App.bmp', '92.3 App.bmp', '196.2 App.bmp', '106.1 App.bmp', '711.2 App.bmp', '449.1 App.bmp', '602.2 App.bmp', '523.1 App.bmp', '101.15 App.bmp', '266.2 App.bmp', '594.2 App.bmp', '921.2 App.bmp', '5.3 Appendix.bmp', '742.2 App.bmp', '672.1 App.bmp', '486.34 App.bmp', '85.4 App.bmp', '44.1 App.bmp', '606.2 App.bmp', '96.11 App .bmp', '78.1 App.bmp', '85.3 App.bmp', '974.5 App.bmp', '555.2 App.bmp', '422.1 App.bmp', '749.2 App.bmp', '531.7 App.bmp', '597.1 App.bmp', '837.6 App.bmp', '506.2 App.bmp', '517.2 App.bmp', '249.3 App.bmp', '466.1 App.bmp', '348.1 App.bmp', '158.3 App.bmp', '83.6 App.bmp', '117.3 App.bmp', '508.5 App.bmp', '102.4 App.bmp', '853.1 App.bmp', '809.1 App.bmp', '575.2 App.bmp', '96.8 App.bmp', '953.2 App.bmp', '537.9 App.bmp', '111.3 App.bmp', '25.1 Appendix.bmp', '904.3 App .bmp', '781.2 App.bmp', '389.1 App.bmp', '871.1 App.bmp', '457.2 App.bmp', '43.2 App.bmp', '169.5 App.bmp', '550.1 App.bmp', '838.1 App.bmp', '102.12 App.bmp', '841.5 App.bmp']\n"
          ]
        }
      ]
    },
    {
      "cell_type": "code",
      "source": [
        "import os\n",
        "\n",
        "# Path to the folder where you want to save selected images\n",
        "save_dir = '/content/Selected_Images'\n",
        "\n",
        "# Create the folder if it doesn't exist\n",
        "os.makedirs(save_dir, exist_ok=True)\n",
        "\n",
        "# Loop through selected images and save them\n",
        "for img, filename in zip(selected_images, selected_filenames):\n",
        "    save_path = os.path.join(save_dir, filename)\n",
        "    img.save(save_path)  # PIL will save in the original format automatically\n",
        "\n",
        "print(f\"Saved {len(selected_images)} images to {save_dir}\")\n"
      ],
      "metadata": {
        "id": "E2rIYMgRS7K8",
        "outputId": "2de0e733-da50-4174-ce2b-2afd8ae1cf55",
        "colab": {
          "base_uri": "https://localhost:8080/"
        }
      },
      "execution_count": 10,
      "outputs": [
        {
          "output_type": "stream",
          "name": "stdout",
          "text": [
            "Saved 679 images to /content/Selected_Images\n"
          ]
        }
      ]
    },
    {
      "cell_type": "code",
      "source": [
        "import pandas as pd\n",
        "\n",
        "# Replace with your actual path\n",
        "file_path = '/content/drive/MyDrive/CNN_Assignment3/app_data.xlsx'\n",
        "\n",
        "df = pd.read_excel(file_path)\n",
        "print(df.head())\n"
      ],
      "metadata": {
        "id": "7c7KfJeVS4YH",
        "outputId": "bab4e227-4eee-4ecb-f674-b670c323664c",
        "colab": {
          "base_uri": "https://localhost:8080/"
        }
      },
      "execution_count": 17,
      "outputs": [
        {
          "output_type": "stream",
          "name": "stdout",
          "text": [
            "     Age   BMI     Sex  Height  Weight  Length_of_Stay    Management  \\\n",
            "0  12.68  16.9  female   148.0    37.0             3.0  conservative   \n",
            "1  14.10  31.9    male   147.0    69.5             2.0  conservative   \n",
            "2  14.14  23.3  female   163.0    62.0             4.0  conservative   \n",
            "3  16.37  20.6  female   165.0    56.0             3.0  conservative   \n",
            "4  11.08  16.9  female   163.0    45.0             3.0  conservative   \n",
            "\n",
            "        Severity Diagnosis_Presumptive        Diagnosis  ...  \\\n",
            "0  uncomplicated          appendicitis     appendicitis  ...   \n",
            "1  uncomplicated          appendicitis  no appendicitis  ...   \n",
            "2  uncomplicated          appendicitis  no appendicitis  ...   \n",
            "3  uncomplicated          appendicitis  no appendicitis  ...   \n",
            "4  uncomplicated          appendicitis     appendicitis  ...   \n",
            "\n",
            "   Abscess_Location  Pathological_Lymph_Nodes Lymph_Nodes_Location  \\\n",
            "0               NaN                       yes                 reUB   \n",
            "1               NaN                       NaN                  NaN   \n",
            "2               NaN                       NaN                  NaN   \n",
            "3               NaN                       yes                 reUB   \n",
            "4               NaN                       yes                 reUB   \n",
            "\n",
            "   Bowel_Wall_Thickening Conglomerate_of_Bowel_Loops Ileus Coprostasis  \\\n",
            "0                    NaN                         NaN   NaN         NaN   \n",
            "1                    NaN                         NaN   NaN         NaN   \n",
            "2                    NaN                         NaN   NaN         NaN   \n",
            "3                    NaN                         NaN   NaN         NaN   \n",
            "4                    NaN                         NaN   NaN         NaN   \n",
            "\n",
            "  Meteorism Enteritis Gynecological_Findings  \n",
            "0       NaN       NaN                    NaN  \n",
            "1       yes       NaN                    NaN  \n",
            "2       yes       yes                    NaN  \n",
            "3       NaN       yes                    NaN  \n",
            "4       NaN       yes                    NaN  \n",
            "\n",
            "[5 rows x 58 columns]\n"
          ]
        }
      ]
    },
    {
      "cell_type": "code",
      "source": [
        "import pandas as pd\n",
        "import re\n",
        "\n",
        "\n",
        "# Check the first few rows to confirm column names\n",
        "# print(\"Columns:\", app_data.columns)\n",
        "# print(app_data.head())\n",
        "\n",
        "# === Step 2: Suppose your selected image filenames are stored in a list ===\n",
        "# Example list (replace this with your actual list)\n",
        "\n",
        "# === Step 3: Extract US_Number from each image name (integer before decimal) ===\n",
        "image_data = []\n",
        "for img in selected_filenames:\n",
        "    match = re.match(r\"(\\d+)\", img)\n",
        "    if match:\n",
        "        us_number = int(match.group(1))\n",
        "        image_data.append({\"Image Name\": img, \"US_Number\": us_number})\n",
        "\n",
        "image_df = pd.DataFrame(image_data)\n",
        "\n",
        "# === Step 4: Merge with diagnosis data ===\n",
        "# Ensure column names match exactly\n",
        "if 'US_Number' not in app_data.columns or 'Diagnosis' not in app_data.columns:\n",
        "    raise ValueError(\"app_data.xlsx must contain 'US_Number' and 'Diagnosis' columns\")\n",
        "\n",
        "merged_df = pd.merge(image_df, app_data[['US_Number', 'Diagnosis']], on='US_Number', how='left')\n",
        "\n",
        "# === Step 5: Display final table ===\n",
        "print(\"\\n Final Table:\")\n",
        "print(merged_df)\n",
        "\n",
        "# === (Optional) Save to Excel/CSV ===\n",
        "merged_df.to_excel('/content/selected_images_with_diagnosis.xlsx', index=False)\n",
        "print(\"\\nSaved as 'selected_images_with_diagnosis.xlsx'\")\n"
      ],
      "metadata": {
        "id": "ho07dPA5VTQU",
        "outputId": "1ef89663-bb22-453a-a4ba-ca4c0e6b3f66",
        "colab": {
          "base_uri": "https://localhost:8080/"
        }
      },
      "execution_count": 23,
      "outputs": [
        {
          "output_type": "stream",
          "name": "stdout",
          "text": [
            "\n",
            " Final Table:\n",
            "         Image Name  US_Number     Diagnosis\n",
            "0     887.3 App.bmp        887  appendicitis\n",
            "1    96.12 App .bmp         96  appendicitis\n",
            "2    747.10 App.bmp        747           NaN\n",
            "3     152.2 App.bmp        152  appendicitis\n",
            "4     918.2 App.bmp        918  appendicitis\n",
            "..              ...        ...           ...\n",
            "674   169.5 App.bmp        169  appendicitis\n",
            "675   550.1 App.bmp        550  appendicitis\n",
            "676   838.1 App.bmp        838           NaN\n",
            "677  102.12 App.bmp        102           NaN\n",
            "678   841.5 App.bmp        841           NaN\n",
            "\n",
            "[679 rows x 3 columns]\n",
            "\n",
            "Saved as 'selected_images_with_diagnosis.xlsx'\n"
          ]
        }
      ]
    },
    {
      "cell_type": "code",
      "source": [
        "# Filter and print rows with diagnosis 'no appendicitis'\n",
        "no_appendicitis_df = merged_df[merged_df['Diagnosis'].str.lower() == 'no appendicitis']\n",
        "print(no_appendicitis_df)\n"
      ],
      "metadata": {
        "id": "Te1vJSGRWiho",
        "outputId": "55ba2999-2076-40ef-85be-8dad8ec9f911",
        "colab": {
          "base_uri": "https://localhost:8080/"
        }
      },
      "execution_count": 29,
      "outputs": [
        {
          "output_type": "stream",
          "name": "stdout",
          "text": [
            "            Image Name  US_Number        Diagnosis\n",
            "22    7.1 Appendix.bmp          7  no appendicitis\n",
            "26       278.2 App.bmp        278  no appendicitis\n",
            "44       233.5 App.bmp        233  no appendicitis\n",
            "46       583.4 App.bmp        583  no appendicitis\n",
            "59      547.11 App.bmp        547  no appendicitis\n",
            "..                 ...        ...              ...\n",
            "625      711.2 App.bmp        711  no appendicitis\n",
            "630      266.2 App.bmp        266  no appendicitis\n",
            "633   5.3 Appendix.bmp          5  no appendicitis\n",
            "654      348.1 App.bmp        348  no appendicitis\n",
            "667  25.1 Appendix.bmp         25  no appendicitis\n",
            "\n",
            "[79 rows x 3 columns]\n"
          ]
        }
      ]
    },
    {
      "cell_type": "code",
      "source": [
        "# Drop rows with NaN in the Diagnosis column\n",
        "cleaned_df = merged_df.dropna(subset=['Diagnosis'])\n",
        "\n",
        "# Print the new table\n",
        "print(cleaned_df)\n",
        "\n",
        "# (Optional) Save the cleaned table as a new CSV file\n",
        "cleaned_df.to_csv('cleaned_labeled_images.csv', index=False)\n"
      ],
      "metadata": {
        "id": "ugpmG4CFYa3P",
        "outputId": "94e46f4e-315e-4f6d-883d-6d682890effb",
        "colab": {
          "base_uri": "https://localhost:8080/"
        }
      },
      "execution_count": 30,
      "outputs": [
        {
          "output_type": "stream",
          "name": "stdout",
          "text": [
            "         Image Name  US_Number     Diagnosis\n",
            "0     887.3 App.bmp        887  appendicitis\n",
            "1    96.12 App .bmp         96  appendicitis\n",
            "3     152.2 App.bmp        152  appendicitis\n",
            "4     918.2 App.bmp        918  appendicitis\n",
            "5     130.6 App.bmp        130  appendicitis\n",
            "..              ...        ...           ...\n",
            "669   781.2 App.bmp        781  appendicitis\n",
            "672   457.2 App.bmp        457  appendicitis\n",
            "673    43.2 App.bmp         43  appendicitis\n",
            "674   169.5 App.bmp        169  appendicitis\n",
            "675   550.1 App.bmp        550  appendicitis\n",
            "\n",
            "[572 rows x 3 columns]\n"
          ]
        }
      ]
    }
  ],
  "metadata": {
    "language_info": {
      "name": "python"
    },
    "colab": {
      "provenance": [],
      "include_colab_link": true
    },
    "kernelspec": {
      "name": "python3",
      "display_name": "Python 3"
    }
  },
  "nbformat": 4,
  "nbformat_minor": 0
}