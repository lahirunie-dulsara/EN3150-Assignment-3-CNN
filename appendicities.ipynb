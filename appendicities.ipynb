{
  "cells": [
    {
      "cell_type": "markdown",
      "metadata": {
        "id": "view-in-github",
        "colab_type": "text"
      },
      "source": [
        "<a href=\"https://colab.research.google.com/github/lahirunie-dulsara/EN3150-Assignment-3-CNN/blob/Aazir/appendicities.ipynb\" target=\"_parent\"><img src=\"https://colab.research.google.com/assets/colab-badge.svg\" alt=\"Open In Colab\"/></a>"
      ]
    },
    {
      "cell_type": "code",
      "execution_count": 2,
      "metadata": {
        "colab": {
          "base_uri": "https://localhost:8080/"
        },
        "id": "xnmLEiCkigki",
        "outputId": "65646b6a-8076-4739-cc4a-91384cc2e63d"
      },
      "outputs": [
        {
          "output_type": "stream",
          "name": "stdout",
          "text": [
            "Collecting ucimlrepo\n",
            "  Downloading ucimlrepo-0.0.7-py3-none-any.whl.metadata (5.5 kB)\n",
            "Requirement already satisfied: pandas>=1.0.0 in /usr/local/lib/python3.12/dist-packages (from ucimlrepo) (2.2.2)\n",
            "Requirement already satisfied: certifi>=2020.12.5 in /usr/local/lib/python3.12/dist-packages (from ucimlrepo) (2025.10.5)\n",
            "Requirement already satisfied: numpy>=1.26.0 in /usr/local/lib/python3.12/dist-packages (from pandas>=1.0.0->ucimlrepo) (2.0.2)\n",
            "Requirement already satisfied: python-dateutil>=2.8.2 in /usr/local/lib/python3.12/dist-packages (from pandas>=1.0.0->ucimlrepo) (2.9.0.post0)\n",
            "Requirement already satisfied: pytz>=2020.1 in /usr/local/lib/python3.12/dist-packages (from pandas>=1.0.0->ucimlrepo) (2025.2)\n",
            "Requirement already satisfied: tzdata>=2022.7 in /usr/local/lib/python3.12/dist-packages (from pandas>=1.0.0->ucimlrepo) (2025.2)\n",
            "Requirement already satisfied: six>=1.5 in /usr/local/lib/python3.12/dist-packages (from python-dateutil>=2.8.2->pandas>=1.0.0->ucimlrepo) (1.17.0)\n",
            "Downloading ucimlrepo-0.0.7-py3-none-any.whl (8.0 kB)\n",
            "Installing collected packages: ucimlrepo\n",
            "Successfully installed ucimlrepo-0.0.7\n"
          ]
        }
      ],
      "source": [
        "pip install ucimlrepo"
      ]
    },
    {
      "cell_type": "code",
      "source": [
        "from google.colab import drive\n",
        "drive.mount('/content/drive')\n",
        "import zipfile\n",
        "# Path to your zip file in Drive\n",
        "zip_path = '/content/drive/MyDrive/US_Pictures.zip'\n",
        "\n",
        "# Extract the zip file to a local folder in Colab\n",
        "extract_dir = '/content/US_Pictures'\n",
        "with zipfile.ZipFile(zip_path, 'r') as zip_ref:\n",
        "    zip_ref.extractall(extract_dir)\n",
        "\n",
        "print(\"Dataset extracted to:\", extract_dir)"
      ],
      "metadata": {
        "id": "3DLt0shUJZ13",
        "outputId": "284618b2-51a9-41bc-a751-0a16557c80e4",
        "colab": {
          "base_uri": "https://localhost:8080/"
        }
      },
      "execution_count": 3,
      "outputs": [
        {
          "output_type": "stream",
          "name": "stdout",
          "text": [
            "Mounted at /content/drive\n",
            "Dataset extracted to: /content/US_Pictures\n"
          ]
        }
      ]
    },
    {
      "cell_type": "code",
      "source": [
        "import os\n",
        "import re\n",
        "from PIL import Image\n",
        "\n",
        "dataset_dir = extract_dir  # path where the dataset was extracted\n",
        "\n",
        "selected_images = []\n",
        "selected_filenames = []\n",
        "\n",
        "# Regular expression: match 'app' or 'appendix' as the only word (after ignoring leading numbers)\n",
        "pattern = re.compile(r'^(?:[\\d\\.\\s_-]*)(app|appendix)$', re.IGNORECASE)\n",
        "\n",
        "# Allowed file extensions\n",
        "allowed_exts = ('.bmp', '.png')\n",
        "\n",
        "for root, dirs, files in os.walk(dataset_dir):\n",
        "    for file in files:\n",
        "        if file.lower().endswith(allowed_exts):\n",
        "            # Remove file extension\n",
        "            name_without_ext = os.path.splitext(file)[0]\n",
        "            # Remove leading/trailing spaces\n",
        "            cleaned_name = name_without_ext.strip()\n",
        "\n",
        "            # Match only if the cleaned name fits the pattern\n",
        "            if pattern.match(cleaned_name):\n",
        "                img_path = os.path.join(root, file)\n",
        "                img = Image.open(img_path).convert('L')  # Convert to grayscale\n",
        "                selected_images.append(img)\n",
        "                selected_filenames.append(file)\n",
        "\n",
        "print(f\"Total selected images: {len(selected_images)}\")"
      ],
      "metadata": {
        "id": "SSQAEEI1UrIR",
        "outputId": "8f76ae06-cb4a-450b-dba6-dce010554d84",
        "colab": {
          "base_uri": "https://localhost:8080/"
        }
      },
      "execution_count": 4,
      "outputs": [
        {
          "output_type": "stream",
          "name": "stdout",
          "text": [
            "Total selected images: 679\n"
          ]
        }
      ]
    },
    {
      "cell_type": "code",
      "source": [
        "# Path to the folder where you want to save selected images\n",
        "save_dir = '/content/Selected_Images'\n",
        "\n",
        "# Create the folder if it doesn't exist\n",
        "os.makedirs(save_dir, exist_ok=True)\n",
        "\n",
        "# Loop through selected images and save them\n",
        "for img, filename in zip(selected_images, selected_filenames):\n",
        "    save_path = os.path.join(save_dir, filename)\n",
        "    img.save(save_path)  # PIL will save in the original format automatically\n",
        "\n",
        "print(f\"Saved {len(selected_images)} images to {save_dir}\")"
      ],
      "metadata": {
        "id": "_VCu2lhiSand",
        "outputId": "650b4d2b-969f-480d-ddc9-b4a1d83c3d63",
        "colab": {
          "base_uri": "https://localhost:8080/"
        }
      },
      "execution_count": 5,
      "outputs": [
        {
          "output_type": "stream",
          "name": "stdout",
          "text": [
            "Saved 679 images to /content/Selected_Images\n"
          ]
        }
      ]
    },
    {
      "cell_type": "code",
      "source": [
        "import os, re\n",
        "\n",
        "image_dir = '/content/Selected_Images'\n",
        "image_data = []\n",
        "\n",
        "for img in selected_filenames:\n",
        "    match = re.match(r\"(\\d+)\", img)\n",
        "    if match:\n",
        "        us_number = int(match.group(1))\n",
        "        image_data.append({\"Image Name\": img, \"US_Number\": us_number})\n",
        "\n",
        "image_df = pd.DataFrame(image_data)\n",
        "print(image_df.head())\n"
      ],
      "metadata": {
        "id": "r__0dVxxaTop",
        "outputId": "b002dbf9-de37-487b-d08d-7a22a63b8466",
        "colab": {
          "base_uri": "https://localhost:8080/"
        }
      },
      "execution_count": 24,
      "outputs": [
        {
          "output_type": "stream",
          "name": "stdout",
          "text": [
            "       Image Name  US_Number\n",
            "0   887.3 App.bmp        887\n",
            "1  96.12 App .bmp         96\n",
            "2  747.10 App.bmp        747\n",
            "3   152.2 App.bmp        152\n",
            "4   918.2 App.bmp        918\n"
          ]
        }
      ]
    },
    {
      "cell_type": "code",
      "source": [
        "import pandas as pd\n",
        "\n",
        "file_path = '/content/drive/MyDrive/app_data.xlsx'\n",
        "\n",
        "df = pd.read_excel(file_path)\n",
        "print(df.head())\n"
      ],
      "metadata": {
        "colab": {
          "base_uri": "https://localhost:8080/"
        },
        "id": "Com_k1VTaw9A",
        "outputId": "2df11128-93d7-45d7-c30f-4c6cd4b4f84b"
      },
      "execution_count": 22,
      "outputs": [
        {
          "output_type": "stream",
          "name": "stdout",
          "text": [
            "     Age   BMI     Sex  Height  Weight  Length_of_Stay    Management  \\\n",
            "0  12.68  16.9  female   148.0    37.0             3.0  conservative   \n",
            "1  14.10  31.9    male   147.0    69.5             2.0  conservative   \n",
            "2  14.14  23.3  female   163.0    62.0             4.0  conservative   \n",
            "3  16.37  20.6  female   165.0    56.0             3.0  conservative   \n",
            "4  11.08  16.9  female   163.0    45.0             3.0  conservative   \n",
            "\n",
            "        Severity Diagnosis_Presumptive        Diagnosis  ...  \\\n",
            "0  uncomplicated          appendicitis     appendicitis  ...   \n",
            "1  uncomplicated          appendicitis  no appendicitis  ...   \n",
            "2  uncomplicated          appendicitis  no appendicitis  ...   \n",
            "3  uncomplicated          appendicitis  no appendicitis  ...   \n",
            "4  uncomplicated          appendicitis     appendicitis  ...   \n",
            "\n",
            "   Abscess_Location  Pathological_Lymph_Nodes Lymph_Nodes_Location  \\\n",
            "0               NaN                       yes                 reUB   \n",
            "1               NaN                       NaN                  NaN   \n",
            "2               NaN                       NaN                  NaN   \n",
            "3               NaN                       yes                 reUB   \n",
            "4               NaN                       yes                 reUB   \n",
            "\n",
            "   Bowel_Wall_Thickening Conglomerate_of_Bowel_Loops Ileus Coprostasis  \\\n",
            "0                    NaN                         NaN   NaN         NaN   \n",
            "1                    NaN                         NaN   NaN         NaN   \n",
            "2                    NaN                         NaN   NaN         NaN   \n",
            "3                    NaN                         NaN   NaN         NaN   \n",
            "4                    NaN                         NaN   NaN         NaN   \n",
            "\n",
            "  Meteorism Enteritis Gynecological_Findings  \n",
            "0       NaN       NaN                    NaN  \n",
            "1       yes       NaN                    NaN  \n",
            "2       yes       yes                    NaN  \n",
            "3       NaN       yes                    NaN  \n",
            "4       NaN       yes                    NaN  \n",
            "\n",
            "[5 rows x 58 columns]\n"
          ]
        }
      ]
    },
    {
      "cell_type": "code",
      "source": [
        "merged_df = pd.merge(image_df, df[['US_Number', 'Diagnosis']], on='US_Number', how='left')\n",
        "\n",
        "print(\"\\n Final Table:\")\n",
        "print(merged_df)\n"
      ],
      "metadata": {
        "colab": {
          "base_uri": "https://localhost:8080/"
        },
        "id": "r3WNX03GZ0ph",
        "outputId": "c8e5c3f5-be6c-481c-b74f-b5966c7a0e05"
      },
      "execution_count": 30,
      "outputs": [
        {
          "output_type": "stream",
          "name": "stdout",
          "text": [
            "\n",
            " Final Table:\n",
            "         Image Name  US_Number     Diagnosis\n",
            "0     887.3 App.bmp        887  appendicitis\n",
            "1    96.12 App .bmp         96  appendicitis\n",
            "2    747.10 App.bmp        747           NaN\n",
            "3     152.2 App.bmp        152  appendicitis\n",
            "4     918.2 App.bmp        918  appendicitis\n",
            "..              ...        ...           ...\n",
            "674   169.5 App.bmp        169  appendicitis\n",
            "675   550.1 App.bmp        550  appendicitis\n",
            "676   838.1 App.bmp        838           NaN\n",
            "677  102.12 App.bmp        102           NaN\n",
            "678   841.5 App.bmp        841           NaN\n",
            "\n",
            "[679 rows x 3 columns]\n"
          ]
        }
      ]
    },
    {
      "cell_type": "code",
      "source": [
        "# Drop rows with NaN in the Diagnosis column\n",
        "cleaned_df = merged_df.dropna(subset=['Diagnosis'])"
      ],
      "metadata": {
        "id": "m2fqqpXRdNsx"
      },
      "execution_count": 31,
      "outputs": []
    },
    {
      "cell_type": "code",
      "source": [
        "!rm -rf Labeled_Data/appendicitis\n",
        "!rm -rf Labeled_Data/no_appendicitis"
      ],
      "metadata": {
        "id": "MWB_9p9KmQTh"
      },
      "execution_count": 42,
      "outputs": []
    },
    {
      "cell_type": "code",
      "source": [
        "import shutil\n",
        "\n",
        "# --- Step 5: Create output folders ---\n",
        "base_dir = '/content/Labeled_Data'\n",
        "os.makedirs(f'{base_dir}/appendicitis', exist_ok=True)\n",
        "os.makedirs(f'{base_dir}/no_appendicitis', exist_ok=True)\n",
        "\n",
        "# --- Step 6: Copy images into labeled folders ---\n",
        "for _, row in cleaned_df.iterrows():\n",
        "    # Get image filename\n",
        "    image_file = row['Image Name']\n",
        "    src = os.path.join(image_dir, image_file)\n",
        "\n",
        "    # Check diagnosis safely\n",
        "    diagnosis = str(row['Diagnosis']).lower()\n",
        "\n",
        "    if 'no' in diagnosis:\n",
        "        dst = os.path.join(base_dir, 'no_appendicitis', image_file)\n",
        "    else:\n",
        "        dst = os.path.join(base_dir, 'appendicitis', image_file)\n",
        "\n",
        "    # Copy image\n",
        "    shutil.copy2(src, dst)\n",
        "\n",
        "print(\"\\n Images sorted into appendicitis / no_appendicitis folders successfully!\")\n"
      ],
      "metadata": {
        "id": "3efE6RDVdtjG",
        "outputId": "8f001f0a-0506-4958-d8d4-4a01ca4bdfbd",
        "colab": {
          "base_uri": "https://localhost:8080/"
        }
      },
      "execution_count": 43,
      "outputs": [
        {
          "output_type": "stream",
          "name": "stdout",
          "text": [
            "\n",
            " Images sorted into appendicitis / no_appendicitis folders successfully!\n"
          ]
        }
      ]
    },
    {
      "cell_type": "code",
      "source": [
        "import os\n",
        "\n",
        "# Folder paths\n",
        "appendicitis_folder = '/content/Labeled_Data/appendicitis'\n",
        "no_appendicitis_folder = '/content/Labeled_Data/no_appendicitis'\n",
        "\n",
        "# Count files in each folder\n",
        "num_appendicitis = len(os.listdir(appendicitis_folder))\n",
        "num_no_appendicitis = len(os.listdir(no_appendicitis_folder))\n",
        "\n",
        "print(f\"Number of images in 'appendicitis' folder: {num_appendicitis}\")\n",
        "print(f\"Number of images in 'no_appendicitis' folder: {num_no_appendicitis}\")\n"
      ],
      "metadata": {
        "id": "Il3stpmUfYzz",
        "outputId": "623f66c2-e2f3-4e0e-9805-7377850f4c56",
        "colab": {
          "base_uri": "https://localhost:8080/"
        }
      },
      "execution_count": 44,
      "outputs": [
        {
          "output_type": "stream",
          "name": "stdout",
          "text": [
            "Number of images in 'appendicitis' folder: 493\n",
            "Number of images in 'no_appendicitis' folder: 79\n"
          ]
        }
      ]
    },
    {
      "cell_type": "code",
      "source": [
        "import torch\n",
        "from torch.utils.data import DataLoader, random_split\n",
        "from torchvision import datasets, transforms\n",
        "import torch.nn as nn\n",
        "import torch.optim as optim\n",
        "import matplotlib.pyplot as plt\n",
        "\n",
        "# Transformations\n",
        "transform = transforms.Compose([\n",
        "    transforms.Resize((128, 128)),\n",
        "    transforms.ToTensor(),\n",
        "    transforms.Normalize((0.5,), (0.5,))\n",
        "])\n",
        "\n",
        "# Load dataset\n",
        "dataset = datasets.ImageFolder(root=save_dir, transform=transform)\n",
        "\n",
        "# Split: 70% train, 15% val, 15% test\n",
        "train_size = int(0.7 * len(dataset))\n",
        "val_size = int(0.15 * len(dataset))\n",
        "test_size = len(dataset) - train_size - val_size\n",
        "train_ds, val_ds, test_ds = random_split(dataset, [train_size, val_size, test_size])\n",
        "\n",
        "train_loader = DataLoader(train_ds, batch_size=32, shuffle=True)\n",
        "val_loader = DataLoader(val_ds, batch_size=32)\n",
        "test_loader = DataLoader(test_ds, batch_size=32)\n"
      ],
      "metadata": {
        "id": "8VmSTRNTVeXh",
        "outputId": "d2a5e09a-b353-4cce-b648-afa032e252a9",
        "colab": {
          "base_uri": "https://localhost:8080/",
          "height": 356
        }
      },
      "execution_count": null,
      "outputs": [
        {
          "output_type": "error",
          "ename": "FileNotFoundError",
          "evalue": "Couldn't find any class folder in /content/Selected_Images.",
          "traceback": [
            "\u001b[0;31m---------------------------------------------------------------------------\u001b[0m",
            "\u001b[0;31mFileNotFoundError\u001b[0m                         Traceback (most recent call last)",
            "\u001b[0;32m/tmp/ipython-input-2485736014.py\u001b[0m in \u001b[0;36m<cell line: 0>\u001b[0;34m()\u001b[0m\n\u001b[1;32m     14\u001b[0m \u001b[0;34m\u001b[0m\u001b[0m\n\u001b[1;32m     15\u001b[0m \u001b[0;31m# Load dataset\u001b[0m\u001b[0;34m\u001b[0m\u001b[0;34m\u001b[0m\u001b[0m\n\u001b[0;32m---> 16\u001b[0;31m \u001b[0mdataset\u001b[0m \u001b[0;34m=\u001b[0m \u001b[0mdatasets\u001b[0m\u001b[0;34m.\u001b[0m\u001b[0mImageFolder\u001b[0m\u001b[0;34m(\u001b[0m\u001b[0mroot\u001b[0m\u001b[0;34m=\u001b[0m\u001b[0msave_dir\u001b[0m\u001b[0;34m,\u001b[0m \u001b[0mtransform\u001b[0m\u001b[0;34m=\u001b[0m\u001b[0mtransform\u001b[0m\u001b[0;34m)\u001b[0m\u001b[0;34m\u001b[0m\u001b[0;34m\u001b[0m\u001b[0m\n\u001b[0m\u001b[1;32m     17\u001b[0m \u001b[0;34m\u001b[0m\u001b[0m\n\u001b[1;32m     18\u001b[0m \u001b[0;31m# Split: 70% train, 15% val, 15% test\u001b[0m\u001b[0;34m\u001b[0m\u001b[0;34m\u001b[0m\u001b[0m\n",
            "\u001b[0;32m/usr/local/lib/python3.12/dist-packages/torchvision/datasets/folder.py\u001b[0m in \u001b[0;36m__init__\u001b[0;34m(self, root, transform, target_transform, loader, is_valid_file, allow_empty)\u001b[0m\n\u001b[1;32m    326\u001b[0m         \u001b[0mallow_empty\u001b[0m\u001b[0;34m:\u001b[0m \u001b[0mbool\u001b[0m \u001b[0;34m=\u001b[0m \u001b[0;32mFalse\u001b[0m\u001b[0;34m,\u001b[0m\u001b[0;34m\u001b[0m\u001b[0;34m\u001b[0m\u001b[0m\n\u001b[1;32m    327\u001b[0m     ):\n\u001b[0;32m--> 328\u001b[0;31m         super().__init__(\n\u001b[0m\u001b[1;32m    329\u001b[0m             \u001b[0mroot\u001b[0m\u001b[0;34m,\u001b[0m\u001b[0;34m\u001b[0m\u001b[0;34m\u001b[0m\u001b[0m\n\u001b[1;32m    330\u001b[0m             \u001b[0mloader\u001b[0m\u001b[0;34m,\u001b[0m\u001b[0;34m\u001b[0m\u001b[0;34m\u001b[0m\u001b[0m\n",
            "\u001b[0;32m/usr/local/lib/python3.12/dist-packages/torchvision/datasets/folder.py\u001b[0m in \u001b[0;36m__init__\u001b[0;34m(self, root, loader, extensions, transform, target_transform, is_valid_file, allow_empty)\u001b[0m\n\u001b[1;32m    147\u001b[0m     ) -> None:\n\u001b[1;32m    148\u001b[0m         \u001b[0msuper\u001b[0m\u001b[0;34m(\u001b[0m\u001b[0;34m)\u001b[0m\u001b[0;34m.\u001b[0m\u001b[0m__init__\u001b[0m\u001b[0;34m(\u001b[0m\u001b[0mroot\u001b[0m\u001b[0;34m,\u001b[0m \u001b[0mtransform\u001b[0m\u001b[0;34m=\u001b[0m\u001b[0mtransform\u001b[0m\u001b[0;34m,\u001b[0m \u001b[0mtarget_transform\u001b[0m\u001b[0;34m=\u001b[0m\u001b[0mtarget_transform\u001b[0m\u001b[0;34m)\u001b[0m\u001b[0;34m\u001b[0m\u001b[0;34m\u001b[0m\u001b[0m\n\u001b[0;32m--> 149\u001b[0;31m         \u001b[0mclasses\u001b[0m\u001b[0;34m,\u001b[0m \u001b[0mclass_to_idx\u001b[0m \u001b[0;34m=\u001b[0m \u001b[0mself\u001b[0m\u001b[0;34m.\u001b[0m\u001b[0mfind_classes\u001b[0m\u001b[0;34m(\u001b[0m\u001b[0mself\u001b[0m\u001b[0;34m.\u001b[0m\u001b[0mroot\u001b[0m\u001b[0;34m)\u001b[0m\u001b[0;34m\u001b[0m\u001b[0;34m\u001b[0m\u001b[0m\n\u001b[0m\u001b[1;32m    150\u001b[0m         samples = self.make_dataset(\n\u001b[1;32m    151\u001b[0m             \u001b[0mself\u001b[0m\u001b[0;34m.\u001b[0m\u001b[0mroot\u001b[0m\u001b[0;34m,\u001b[0m\u001b[0;34m\u001b[0m\u001b[0;34m\u001b[0m\u001b[0m\n",
            "\u001b[0;32m/usr/local/lib/python3.12/dist-packages/torchvision/datasets/folder.py\u001b[0m in \u001b[0;36mfind_classes\u001b[0;34m(self, directory)\u001b[0m\n\u001b[1;32m    232\u001b[0m             \u001b[0;34m(\u001b[0m\u001b[0mTuple\u001b[0m\u001b[0;34m[\u001b[0m\u001b[0mList\u001b[0m\u001b[0;34m[\u001b[0m\u001b[0mstr\u001b[0m\u001b[0;34m]\u001b[0m\u001b[0;34m,\u001b[0m \u001b[0mDict\u001b[0m\u001b[0;34m[\u001b[0m\u001b[0mstr\u001b[0m\u001b[0;34m,\u001b[0m \u001b[0mint\u001b[0m\u001b[0;34m]\u001b[0m\u001b[0;34m]\u001b[0m\u001b[0;34m)\u001b[0m\u001b[0;34m:\u001b[0m \u001b[0mList\u001b[0m \u001b[0mof\u001b[0m \u001b[0mall\u001b[0m \u001b[0mclasses\u001b[0m \u001b[0;32mand\u001b[0m \u001b[0mdictionary\u001b[0m \u001b[0mmapping\u001b[0m \u001b[0meach\u001b[0m \u001b[0;32mclass\u001b[0m \u001b[0mto\u001b[0m \u001b[0man\u001b[0m \u001b[0mindex\u001b[0m\u001b[0;34m.\u001b[0m\u001b[0;34m\u001b[0m\u001b[0;34m\u001b[0m\u001b[0m\n\u001b[1;32m    233\u001b[0m         \"\"\"\n\u001b[0;32m--> 234\u001b[0;31m         \u001b[0;32mreturn\u001b[0m \u001b[0mfind_classes\u001b[0m\u001b[0;34m(\u001b[0m\u001b[0mdirectory\u001b[0m\u001b[0;34m)\u001b[0m\u001b[0;34m\u001b[0m\u001b[0;34m\u001b[0m\u001b[0m\n\u001b[0m\u001b[1;32m    235\u001b[0m \u001b[0;34m\u001b[0m\u001b[0m\n\u001b[1;32m    236\u001b[0m     \u001b[0;32mdef\u001b[0m \u001b[0m__getitem__\u001b[0m\u001b[0;34m(\u001b[0m\u001b[0mself\u001b[0m\u001b[0;34m,\u001b[0m \u001b[0mindex\u001b[0m\u001b[0;34m:\u001b[0m \u001b[0mint\u001b[0m\u001b[0;34m)\u001b[0m \u001b[0;34m->\u001b[0m \u001b[0mtuple\u001b[0m\u001b[0;34m[\u001b[0m\u001b[0mAny\u001b[0m\u001b[0;34m,\u001b[0m \u001b[0mAny\u001b[0m\u001b[0;34m]\u001b[0m\u001b[0;34m:\u001b[0m\u001b[0;34m\u001b[0m\u001b[0;34m\u001b[0m\u001b[0m\n",
            "\u001b[0;32m/usr/local/lib/python3.12/dist-packages/torchvision/datasets/folder.py\u001b[0m in \u001b[0;36mfind_classes\u001b[0;34m(directory)\u001b[0m\n\u001b[1;32m     41\u001b[0m     \u001b[0mclasses\u001b[0m \u001b[0;34m=\u001b[0m \u001b[0msorted\u001b[0m\u001b[0;34m(\u001b[0m\u001b[0mentry\u001b[0m\u001b[0;34m.\u001b[0m\u001b[0mname\u001b[0m \u001b[0;32mfor\u001b[0m \u001b[0mentry\u001b[0m \u001b[0;32min\u001b[0m \u001b[0mos\u001b[0m\u001b[0;34m.\u001b[0m\u001b[0mscandir\u001b[0m\u001b[0;34m(\u001b[0m\u001b[0mdirectory\u001b[0m\u001b[0;34m)\u001b[0m \u001b[0;32mif\u001b[0m \u001b[0mentry\u001b[0m\u001b[0;34m.\u001b[0m\u001b[0mis_dir\u001b[0m\u001b[0;34m(\u001b[0m\u001b[0;34m)\u001b[0m\u001b[0;34m)\u001b[0m\u001b[0;34m\u001b[0m\u001b[0;34m\u001b[0m\u001b[0m\n\u001b[1;32m     42\u001b[0m     \u001b[0;32mif\u001b[0m \u001b[0;32mnot\u001b[0m \u001b[0mclasses\u001b[0m\u001b[0;34m:\u001b[0m\u001b[0;34m\u001b[0m\u001b[0;34m\u001b[0m\u001b[0m\n\u001b[0;32m---> 43\u001b[0;31m         \u001b[0;32mraise\u001b[0m \u001b[0mFileNotFoundError\u001b[0m\u001b[0;34m(\u001b[0m\u001b[0;34mf\"Couldn't find any class folder in {directory}.\"\u001b[0m\u001b[0;34m)\u001b[0m\u001b[0;34m\u001b[0m\u001b[0;34m\u001b[0m\u001b[0m\n\u001b[0m\u001b[1;32m     44\u001b[0m \u001b[0;34m\u001b[0m\u001b[0m\n\u001b[1;32m     45\u001b[0m     \u001b[0mclass_to_idx\u001b[0m \u001b[0;34m=\u001b[0m \u001b[0;34m{\u001b[0m\u001b[0mcls_name\u001b[0m\u001b[0;34m:\u001b[0m \u001b[0mi\u001b[0m \u001b[0;32mfor\u001b[0m \u001b[0mi\u001b[0m\u001b[0;34m,\u001b[0m \u001b[0mcls_name\u001b[0m \u001b[0;32min\u001b[0m \u001b[0menumerate\u001b[0m\u001b[0;34m(\u001b[0m\u001b[0mclasses\u001b[0m\u001b[0;34m)\u001b[0m\u001b[0;34m}\u001b[0m\u001b[0;34m\u001b[0m\u001b[0;34m\u001b[0m\u001b[0m\n",
            "\u001b[0;31mFileNotFoundError\u001b[0m: Couldn't find any class folder in /content/Selected_Images."
          ]
        }
      ]
    },
    {
      "cell_type": "code",
      "source": [],
      "metadata": {
        "id": "GXZ1FW28c0kH"
      },
      "execution_count": null,
      "outputs": []
    }
  ],
  "metadata": {
    "language_info": {
      "name": "python"
    },
    "colab": {
      "provenance": [],
      "include_colab_link": true
    },
    "kernelspec": {
      "name": "python3",
      "display_name": "Python 3"
    }
  },
  "nbformat": 4,
  "nbformat_minor": 0
}