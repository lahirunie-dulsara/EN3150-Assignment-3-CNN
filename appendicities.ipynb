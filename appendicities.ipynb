{
  "cells": [
    {
      "cell_type": "markdown",
      "metadata": {
        "id": "view-in-github",
        "colab_type": "text"
      },
      "source": [
        "<a href=\"https://colab.research.google.com/github/lahirunie-dulsara/EN3150-Assignment-3-CNN/blob/Lahirunie/appendicities.ipynb\" target=\"_parent\"><img src=\"https://colab.research.google.com/assets/colab-badge.svg\" alt=\"Open In Colab\"/></a>"
      ]
    },
    {
      "cell_type": "code",
      "source": [
        "pip install ucimlrepo"
      ],
      "metadata": {
        "colab": {
          "base_uri": "https://localhost:8080/"
        },
        "id": "zotNrGn6opvG",
        "outputId": "3b4ae1b0-8d44-454b-8d25-67eedf6e9e11"
      },
      "execution_count": 51,
      "outputs": [
        {
          "output_type": "stream",
          "name": "stdout",
          "text": [
            "Requirement already satisfied: ucimlrepo in /usr/local/lib/python3.12/dist-packages (0.0.7)\n",
            "Requirement already satisfied: pandas>=1.0.0 in /usr/local/lib/python3.12/dist-packages (from ucimlrepo) (2.2.2)\n",
            "Requirement already satisfied: certifi>=2020.12.5 in /usr/local/lib/python3.12/dist-packages (from ucimlrepo) (2025.10.5)\n",
            "Requirement already satisfied: numpy>=1.26.0 in /usr/local/lib/python3.12/dist-packages (from pandas>=1.0.0->ucimlrepo) (2.0.2)\n",
            "Requirement already satisfied: python-dateutil>=2.8.2 in /usr/local/lib/python3.12/dist-packages (from pandas>=1.0.0->ucimlrepo) (2.9.0.post0)\n",
            "Requirement already satisfied: pytz>=2020.1 in /usr/local/lib/python3.12/dist-packages (from pandas>=1.0.0->ucimlrepo) (2025.2)\n",
            "Requirement already satisfied: tzdata>=2022.7 in /usr/local/lib/python3.12/dist-packages (from pandas>=1.0.0->ucimlrepo) (2025.2)\n",
            "Requirement already satisfied: six>=1.5 in /usr/local/lib/python3.12/dist-packages (from python-dateutil>=2.8.2->pandas>=1.0.0->ucimlrepo) (1.17.0)\n"
          ]
        }
      ]
    },
    {
      "cell_type": "code",
      "execution_count": 52,
      "metadata": {
        "id": "AUhx6Ijvigc9",
        "colab": {
          "base_uri": "https://localhost:8080/"
        },
        "outputId": "31678ee3-f61b-462a-f862-5af61e7d678e"
      },
      "outputs": [
        {
          "output_type": "stream",
          "name": "stdout",
          "text": [
            "{'uci_id': 938, 'name': 'Regensburg Pediatric Appendicitis', 'repository_url': 'https://archive.ics.uci.edu/dataset/938/regensburg+pediatric+appendicitis', 'data_url': 'https://archive.ics.uci.edu/static/public/938/data.csv', 'abstract': 'This repository holds the data from a cohort of pediatric patients with suspected appendicitis admitted with abdominal pain to Children’s Hospital St. Hedwig in Regensburg, Germany, between 2016 and 2021. Each patient has (potentially multiple) ultrasound (US) images, aka views, tabular data comprising laboratory, physical examination, scoring results and ultrasonographic findings extracted manually by the experts, and three target variables, namely, diagnosis, management and severity.', 'area': 'Health and Medicine', 'tasks': ['Classification'], 'characteristics': ['Tabular', 'Image'], 'num_instances': 782, 'num_features': 53, 'feature_types': ['Real', 'Categorical', 'Integer'], 'demographics': ['Age', 'Sex'], 'target_col': ['Management', 'Severity', 'Diagnosis'], 'index_col': None, 'has_missing_values': 'yes', 'missing_values_symbol': 'NaN', 'year_of_dataset_creation': 2023, 'last_updated': 'Tue Feb 06 2024', 'dataset_doi': '10.5281/zenodo.7669442', 'creators': ['Ricards Marcinkevics', 'Patricia Reis', 'Ugne Klimiene', 'Ece Ozkan', 'Kieran Chin-Cheong', 'Alyssia Paschke', 'Julia Zerres', 'Markus Denzinger', 'David Niederberger', 'S. Wellmann', 'C. Knorr', 'Julia E.'], 'intro_paper': {'ID': 354, 'type': 'NATIVE', 'title': 'Interpretable and Intervenable Ultrasonography-based Machine Learning Models for Pediatric Appendicitis', 'authors': 'Ricards Marcinkevics, Patricia Reis Wolfertstetter, Ugne Klimiene, Ece Ozkan, Kieran Chin-Cheong, Alyssia Paschke, Julia Zerres, Markus Denzinger, David Niederberger, S. Wellmann, C. Knorr, Julia E. Vogt', 'venue': 'Medical Image Analysis', 'year': 2023, 'journal': None, 'DOI': None, 'URL': 'https://arxiv.org/abs/2302.14460v2', 'sha': None, 'corpus': None, 'arxiv': None, 'mag': None, 'acl': None, 'pmid': None, 'pmcid': None}, 'additional_info': {'summary': 'This dataset was acquired in a retrospective study from a cohort of pediatric patients admitted with abdominal pain to Children’s Hospital St. Hedwig in Regensburg, Germany. Multiple abdominal B-mode ultrasound images were acquired for most patients, with the number of views varying from 1 to 15. The images depict various regions of interest, such as the abdomen’s right lower quadrant, appendix, intestines, lymph nodes and reproductive organs. Alongside multiple US images for each subject, the dataset includes information encompassing laboratory tests, physical examination results, clinical scores, such as Alvarado and pediatric appendicitis scores, and expert-produced ultrasonographic findings. Lastly, the subjects were labeled w.r.t. three target variables: diagnosis (appendicitis vs. no appendicitis), management (surgical vs. conservative) and severity (complicated vs. uncomplicated or no appendicitis). The study was approved by the Ethics Committee of the University of Regensburg (no. 18-1063-101, 18-1063_1-101 and 18-1063_2-101) and was performed following applicable guidelines and regulations.', 'purpose': None, 'funded_by': None, 'instances_represent': None, 'recommended_data_splits': None, 'sensitive_data': None, 'preprocessing_description': None, 'variable_info': None, 'citation': None}, 'external_url': 'https://zenodo.org/records/7669442'}\n",
            "                                name     role         type demographic  \\\n",
            "0                                Age  Feature   Continuous         Age   \n",
            "1                                BMI  Feature   Continuous        None   \n",
            "2                                Sex  Feature  Categorical         Sex   \n",
            "3                             Height  Feature   Continuous        None   \n",
            "4                             Weight  Feature      Integer        None   \n",
            "5                     Length_of_Stay  Feature      Integer        None   \n",
            "6                         Management   Target  Categorical        None   \n",
            "7                           Severity   Target  Categorical        None   \n",
            "8              Diagnosis_Presumptive    Other       Binary        None   \n",
            "9                          Diagnosis   Target       Binary        None   \n",
            "10                    Alvarado_Score  Feature      Integer        None   \n",
            "11     Paedriatic_Appendicitis_Score  Feature      Integer        None   \n",
            "12                    Appendix_on_US  Feature       Binary        None   \n",
            "13                 Appendix_Diameter  Feature      Integer        None   \n",
            "14                    Migratory_Pain  Feature       Binary        None   \n",
            "15              Lower_Right_Abd_Pain  Feature       Binary        None   \n",
            "16  Contralateral_Rebound_Tenderness  Feature       Binary        None   \n",
            "17                     Coughing_Pain  Feature       Binary        None   \n",
            "18                            Nausea  Feature       Binary        None   \n",
            "19                  Loss_of_Appetite  Feature       Binary        None   \n",
            "20                  Body_Temperature  Feature   Continuous        None   \n",
            "21                         WBC_Count  Feature   Continuous        None   \n",
            "22             Neutrophil_Percentage  Feature      Integer        None   \n",
            "23             Segmented_Neutrophils  Feature      Integer        None   \n",
            "24                      Neutrophilia  Feature  Categorical        None   \n",
            "25                         RBC_Count  Feature   Continuous        None   \n",
            "26                        Hemoglobin  Feature   Continuous        None   \n",
            "27                               RDW  Feature   Continuous        None   \n",
            "28                 Thrombocyte_Count  Feature      Integer        None   \n",
            "29                  Ketones_in_Urine  Feature  Categorical        None   \n",
            "30                      RBC_in_Urine  Feature  Categorical        None   \n",
            "31                      WBC_in_Urine  Feature  Categorical        None   \n",
            "32                               CRP  Feature      Integer        None   \n",
            "33                           Dysuria  Feature       Binary        None   \n",
            "34                             Stool  Feature  Categorical        None   \n",
            "35                       Peritonitis  Feature  Categorical        None   \n",
            "36                        Psoas_Sign  Feature  Categorical        None   \n",
            "37    Ipsilateral_Rebound_Tenderness  Feature  Categorical        None   \n",
            "38                      US_Performed  Feature  Categorical        None   \n",
            "39                         US_Number    Other      Integer        None   \n",
            "40                       Free_Fluids  Feature  Categorical        None   \n",
            "41              Appendix_Wall_Layers  Feature  Categorical        None   \n",
            "42                       Target_Sign  Feature  Categorical        None   \n",
            "43                     Appendicolith  Feature  Categorical        None   \n",
            "44                         Perfusion  Feature  Categorical        None   \n",
            "45                       Perforation  Feature  Categorical        None   \n",
            "46       Surrounding_Tissue_Reaction  Feature  Categorical        None   \n",
            "47              Appendicular_Abscess  Feature  Categorical        None   \n",
            "48                  Abscess_Location  Feature  Categorical        None   \n",
            "49          Pathological_Lymph_Nodes  Feature       Binary        None   \n",
            "50              Lymph_Nodes_Location  Feature  Categorical        None   \n",
            "51             Bowel_Wall_Thickening  Feature       Binary        None   \n",
            "52       Conglomerate_of_Bowel_Loops  Feature       Binary        None   \n",
            "53                             Ileus  Feature  Categorical        None   \n",
            "54                       Coprostasis  Feature  Categorical        None   \n",
            "55                         Meteorism  Feature  Categorical        None   \n",
            "56                         Enteritis  Feature  Categorical        None   \n",
            "57            Gynecological_Findings  Feature  Categorical        None   \n",
            "\n",
            "                                          description  units missing_values  \n",
            "0                     Obtained from the date of birth  years            yes  \n",
            "1   Measures body fat; patient's weight divided by...   None            yes  \n",
            "2                                   Registered gender   None            yes  \n",
            "3                                    Patient's height   None            yes  \n",
            "4                                    Patient's weight   None            yes  \n",
            "5                  Length of the stay in the hospital   None            yes  \n",
            "6   (conservative, primary surgical, secondary sur...   None            yes  \n",
            "7   (uncomplicated, complicated) Severity of appen...   None            yes  \n",
            "8                       Patient's suspected diagnosis   None            yes  \n",
            "9   Patient's diagnosis, histologically confirmed ...   None            yes  \n",
            "10    Patient's score according to the scoring system   None            yes  \n",
            "11    Patient's score according to the scoring system   None            yes  \n",
            "12  Detectability of the vermiform appendix during...   None            yes  \n",
            "13             Maximal outer diameter of the appendix   None            yes  \n",
            "14  Abdominal pain; usually starts in epigastrium ...   None            yes  \n",
            "15       Right iliac fossa pain detected on palpation   None            yes  \n",
            "16  A state in which pain of the contralateral sid...   None            yes  \n",
            "17                     Abdominal pain by forced cough   None            yes  \n",
            "18  Feeling of sickness/ejection of contents from ...   None            yes  \n",
            "19                                               None   None            yes  \n",
            "20  Measured by a thermometer placed in the rectum...   None            yes  \n",
            "21  The number of leucocytes in a unit volume of b...   None            yes  \n",
            "22              Mature WBC in the granulocytic series   None            yes  \n",
            "23  Most mature neutrophilic granulocytes present ...   None            yes  \n",
            "24  Relative neutrophilic leucocytosis, often a re...   None            yes  \n",
            "25  The number of erythrocytes in a unit volume of...   None            yes  \n",
            "26  Hemoglobin level; a red protein in the red blo...   None            yes  \n",
            "27  A blood test that measures the differences in ...   None            yes  \n",
            "28  The number of platelets in a unit volume of blood   None            yes  \n",
            "29  Presence of ketone bodies in urine, e.g. in ca...   None            yes  \n",
            "30                                     Blood in urine   None            yes  \n",
            "31    Leucocytes in urine, e.g., in case of infection   None            yes  \n",
            "32  Protein produced by the liver, elevated in cas...   None            yes  \n",
            "33          Pain or other difficulty during urination   None            yes  \n",
            "34                 Characteristics of bowel movements   None            yes  \n",
            "35  Spasm of abdominal wall muscles detected on pa...   None            yes  \n",
            "36    Abdominal pain produced by extension of the hip   None            yes  \n",
            "37  A state in which pain of the ipsilateral side ...   None            yes  \n",
            "38  If an abdominal ultrasonography was performed ...   None            yes  \n",
            "39                                               None   None            yes  \n",
            "40                     Free fluids inside the abdomen   None            yes  \n",
            "41  Distribution and characteristics of appendix l...   None            yes  \n",
            "42  Axial image of appendix with a fluid-filled ce...   None            yes  \n",
            "43  Presence of fecalith in the appendix, e.g. aco...   None            yes  \n",
            "44                    Blood flow to the appendix wall   None            yes  \n",
            "45                Signs of appendix perforation in US   None            yes  \n",
            "46  Inflammation signs in tissue (i.a. in omentum/...   None            yes  \n",
            "47                                   Appendiceal mass   None            yes  \n",
            "48             Location of the abcess intraperitoneal   None            yes  \n",
            "49  Enlarged and inflamed intra-abdominal lymph nodes   None            yes  \n",
            "50  The location of pathological lymph nodes in th...   None            yes  \n",
            "51  Edema of the intestinal wall, > 2-3 mm for sma...   None            yes  \n",
            "52  Small intestine conglomerate as sign of intrap...   None            yes  \n",
            "53  Sonographic signs of paralytic ileus (e.g., di...   None            yes  \n",
            "54                       Fecal impaction in the colon   None            yes  \n",
            "55               Accumulation of gas in the intestine   None            yes  \n",
            "56  Sonographic features of gastroenteritis, e.g. ...   None            yes  \n",
            "57  Gynaecological abnormalities, e.g. cysts, ovar...   None            yes  \n"
          ]
        }
      ],
      "source": [
        "from ucimlrepo import fetch_ucirepo\n",
        "\n",
        "# fetch dataset\n",
        "regensburg_pediatric_appendicitis = fetch_ucirepo(id=938)\n",
        "\n",
        "# data (as pandas dataframes)\n",
        "X = regensburg_pediatric_appendicitis.data.features\n",
        "y = regensburg_pediatric_appendicitis.data.targets\n",
        "z = regensburg_pediatric_appendicitis.data.other\n",
        "\n",
        "# metadata\n",
        "print(regensburg_pediatric_appendicitis.metadata)\n",
        "\n",
        "# variable information\n",
        "print(regensburg_pediatric_appendicitis.variables)"
      ]
    },
    {
      "cell_type": "code",
      "source": [
        "print(X)"
      ],
      "metadata": {
        "colab": {
          "base_uri": "https://localhost:8080/"
        },
        "id": "Bh78Iqs-qZrW",
        "outputId": "a6bc61bb-ca72-4c3e-d29a-e94648af85d8"
      },
      "execution_count": 53,
      "outputs": [
        {
          "output_type": "stream",
          "name": "stdout",
          "text": [
            "       Age    BMI     Sex  Height  Weight  Length_of_Stay  Alvarado_Score  \\\n",
            "0    12.68  16.90  female   148.0    37.0             3.0             4.0   \n",
            "1    14.10  31.90    male   147.0    69.5             2.0             5.0   \n",
            "2    14.14  23.30  female   163.0    62.0             4.0             5.0   \n",
            "3    16.37  20.60  female   165.0    56.0             3.0             7.0   \n",
            "4    11.08  16.90  female   163.0    45.0             3.0             5.0   \n",
            "..     ...    ...     ...     ...     ...             ...             ...   \n",
            "777  12.41  25.25  female   166.5    70.0             4.0             8.0   \n",
            "778  17.09  20.43  female   158.0    51.0             6.0             5.0   \n",
            "779  14.99  19.91  female   152.0    46.0             4.0             5.0   \n",
            "780   7.20  14.30    male   129.3    23.9             5.0             9.0   \n",
            "781  11.51  18.17    male   146.5    39.0             4.0             2.0   \n",
            "\n",
            "     Paedriatic_Appendicitis_Score Appendix_on_US  Appendix_Diameter  ...  \\\n",
            "0                              3.0            yes                7.1  ...   \n",
            "1                              4.0             no                NaN  ...   \n",
            "2                              3.0             no                NaN  ...   \n",
            "3                              6.0             no                NaN  ...   \n",
            "4                              6.0            yes                7.0  ...   \n",
            "..                             ...            ...                ...  ...   \n",
            "777                            7.0            yes                7.5  ...   \n",
            "778                            3.0             no                NaN  ...   \n",
            "779                            3.0             no                NaN  ...   \n",
            "780                            8.0            yes               14.0  ...   \n",
            "781                            2.0            yes                8.0  ...   \n",
            "\n",
            "    Abscess_Location Pathological_Lymph_Nodes Lymph_Nodes_Location  \\\n",
            "0                NaN                      yes                 reUB   \n",
            "1                NaN                      NaN                  NaN   \n",
            "2                NaN                      NaN                  NaN   \n",
            "3                NaN                      yes                 reUB   \n",
            "4                NaN                      yes                 reUB   \n",
            "..               ...                      ...                  ...   \n",
            "777              NaN                      NaN                  NaN   \n",
            "778          Douglas                      NaN                  NaN   \n",
            "779              NaN                      NaN                  NaN   \n",
            "780              NaN                       no                  NaN   \n",
            "781              NaN                      yes   rechter Unterbauch   \n",
            "\n",
            "    Bowel_Wall_Thickening Conglomerate_of_Bowel_Loops Ileus  Coprostasis  \\\n",
            "0                     NaN                         NaN   NaN          NaN   \n",
            "1                     NaN                         NaN   NaN          NaN   \n",
            "2                     NaN                         NaN   NaN          NaN   \n",
            "3                     NaN                         NaN   NaN          NaN   \n",
            "4                     NaN                         NaN   NaN          NaN   \n",
            "..                    ...                         ...   ...          ...   \n",
            "777                   NaN                         NaN   NaN          NaN   \n",
            "778                   yes                         yes   NaN          NaN   \n",
            "779                   NaN                         NaN   NaN          NaN   \n",
            "780                   yes                         NaN    no          NaN   \n",
            "781                   NaN                         NaN   yes          NaN   \n",
            "\n",
            "     Meteorism  Enteritis  Gynecological_Findings  \n",
            "0          NaN        NaN                     NaN  \n",
            "1          yes        NaN                     NaN  \n",
            "2          yes        yes                     NaN  \n",
            "3          NaN        yes                     NaN  \n",
            "4          NaN        yes                     NaN  \n",
            "..         ...        ...                     ...  \n",
            "777        NaN        NaN                     NaN  \n",
            "778        NaN        NaN                     NaN  \n",
            "779        NaN        NaN             unauffällig  \n",
            "780        NaN        NaN                     NaN  \n",
            "781        NaN        NaN                     NaN  \n",
            "\n",
            "[782 rows x 53 columns]\n"
          ]
        }
      ]
    },
    {
      "cell_type": "code",
      "source": [
        "print(y)"
      ],
      "metadata": {
        "colab": {
          "base_uri": "https://localhost:8080/"
        },
        "id": "2USmKo7Eqppk",
        "outputId": "22767661-3524-4e5b-fb8a-16c992b04919"
      },
      "execution_count": 54,
      "outputs": [
        {
          "output_type": "stream",
          "name": "stdout",
          "text": [
            "             Management       Severity        Diagnosis\n",
            "0          conservative  uncomplicated     appendicitis\n",
            "1          conservative  uncomplicated  no appendicitis\n",
            "2          conservative  uncomplicated  no appendicitis\n",
            "3          conservative  uncomplicated  no appendicitis\n",
            "4          conservative  uncomplicated     appendicitis\n",
            "..                  ...            ...              ...\n",
            "777    primary surgical  uncomplicated     appendicitis\n",
            "778  secondary surgical    complicated     appendicitis\n",
            "779    primary surgical  uncomplicated     appendicitis\n",
            "780    primary surgical  uncomplicated     appendicitis\n",
            "781    primary surgical  uncomplicated     appendicitis\n",
            "\n",
            "[782 rows x 3 columns]\n"
          ]
        }
      ]
    },
    {
      "cell_type": "code",
      "source": [
        "print(regensburg_pediatric_appendicitis)"
      ],
      "metadata": {
        "colab": {
          "base_uri": "https://localhost:8080/"
        },
        "id": "7csiVzriRG0i",
        "outputId": "5d3f9e2f-abc7-4bf2-c6b4-ecd6fb3b31c4"
      },
      "execution_count": 55,
      "outputs": [
        {
          "output_type": "stream",
          "name": "stdout",
          "text": [
            "{'data': {'ids': None, 'features':        Age    BMI     Sex  Height  Weight  Length_of_Stay  Alvarado_Score  \\\n",
            "0    12.68  16.90  female   148.0    37.0             3.0             4.0   \n",
            "1    14.10  31.90    male   147.0    69.5             2.0             5.0   \n",
            "2    14.14  23.30  female   163.0    62.0             4.0             5.0   \n",
            "3    16.37  20.60  female   165.0    56.0             3.0             7.0   \n",
            "4    11.08  16.90  female   163.0    45.0             3.0             5.0   \n",
            "..     ...    ...     ...     ...     ...             ...             ...   \n",
            "777  12.41  25.25  female   166.5    70.0             4.0             8.0   \n",
            "778  17.09  20.43  female   158.0    51.0             6.0             5.0   \n",
            "779  14.99  19.91  female   152.0    46.0             4.0             5.0   \n",
            "780   7.20  14.30    male   129.3    23.9             5.0             9.0   \n",
            "781  11.51  18.17    male   146.5    39.0             4.0             2.0   \n",
            "\n",
            "     Paedriatic_Appendicitis_Score Appendix_on_US  Appendix_Diameter  ...  \\\n",
            "0                              3.0            yes                7.1  ...   \n",
            "1                              4.0             no                NaN  ...   \n",
            "2                              3.0             no                NaN  ...   \n",
            "3                              6.0             no                NaN  ...   \n",
            "4                              6.0            yes                7.0  ...   \n",
            "..                             ...            ...                ...  ...   \n",
            "777                            7.0            yes                7.5  ...   \n",
            "778                            3.0             no                NaN  ...   \n",
            "779                            3.0             no                NaN  ...   \n",
            "780                            8.0            yes               14.0  ...   \n",
            "781                            2.0            yes                8.0  ...   \n",
            "\n",
            "    Abscess_Location Pathological_Lymph_Nodes Lymph_Nodes_Location  \\\n",
            "0                NaN                      yes                 reUB   \n",
            "1                NaN                      NaN                  NaN   \n",
            "2                NaN                      NaN                  NaN   \n",
            "3                NaN                      yes                 reUB   \n",
            "4                NaN                      yes                 reUB   \n",
            "..               ...                      ...                  ...   \n",
            "777              NaN                      NaN                  NaN   \n",
            "778          Douglas                      NaN                  NaN   \n",
            "779              NaN                      NaN                  NaN   \n",
            "780              NaN                       no                  NaN   \n",
            "781              NaN                      yes   rechter Unterbauch   \n",
            "\n",
            "    Bowel_Wall_Thickening Conglomerate_of_Bowel_Loops Ileus  Coprostasis  \\\n",
            "0                     NaN                         NaN   NaN          NaN   \n",
            "1                     NaN                         NaN   NaN          NaN   \n",
            "2                     NaN                         NaN   NaN          NaN   \n",
            "3                     NaN                         NaN   NaN          NaN   \n",
            "4                     NaN                         NaN   NaN          NaN   \n",
            "..                    ...                         ...   ...          ...   \n",
            "777                   NaN                         NaN   NaN          NaN   \n",
            "778                   yes                         yes   NaN          NaN   \n",
            "779                   NaN                         NaN   NaN          NaN   \n",
            "780                   yes                         NaN    no          NaN   \n",
            "781                   NaN                         NaN   yes          NaN   \n",
            "\n",
            "     Meteorism  Enteritis  Gynecological_Findings  \n",
            "0          NaN        NaN                     NaN  \n",
            "1          yes        NaN                     NaN  \n",
            "2          yes        yes                     NaN  \n",
            "3          NaN        yes                     NaN  \n",
            "4          NaN        yes                     NaN  \n",
            "..         ...        ...                     ...  \n",
            "777        NaN        NaN                     NaN  \n",
            "778        NaN        NaN                     NaN  \n",
            "779        NaN        NaN             unauffällig  \n",
            "780        NaN        NaN                     NaN  \n",
            "781        NaN        NaN                     NaN  \n",
            "\n",
            "[782 rows x 53 columns], 'targets':              Management       Severity        Diagnosis\n",
            "0          conservative  uncomplicated     appendicitis\n",
            "1          conservative  uncomplicated  no appendicitis\n",
            "2          conservative  uncomplicated  no appendicitis\n",
            "3          conservative  uncomplicated  no appendicitis\n",
            "4          conservative  uncomplicated     appendicitis\n",
            "..                  ...            ...              ...\n",
            "777    primary surgical  uncomplicated     appendicitis\n",
            "778  secondary surgical    complicated     appendicitis\n",
            "779    primary surgical  uncomplicated     appendicitis\n",
            "780    primary surgical  uncomplicated     appendicitis\n",
            "781    primary surgical  uncomplicated     appendicitis\n",
            "\n",
            "[782 rows x 3 columns], 'original':        Age    BMI     Sex  Height  Weight  Length_of_Stay          Management  \\\n",
            "0    12.68  16.90  female   148.0    37.0             3.0        conservative   \n",
            "1    14.10  31.90    male   147.0    69.5             2.0        conservative   \n",
            "2    14.14  23.30  female   163.0    62.0             4.0        conservative   \n",
            "3    16.37  20.60  female   165.0    56.0             3.0        conservative   \n",
            "4    11.08  16.90  female   163.0    45.0             3.0        conservative   \n",
            "..     ...    ...     ...     ...     ...             ...                 ...   \n",
            "777  12.41  25.25  female   166.5    70.0             4.0    primary surgical   \n",
            "778  17.09  20.43  female   158.0    51.0             6.0  secondary surgical   \n",
            "779  14.99  19.91  female   152.0    46.0             4.0    primary surgical   \n",
            "780   7.20  14.30    male   129.3    23.9             5.0    primary surgical   \n",
            "781  11.51  18.17    male   146.5    39.0             4.0    primary surgical   \n",
            "\n",
            "          Severity Diagnosis_Presumptive        Diagnosis  ...  \\\n",
            "0    uncomplicated          appendicitis     appendicitis  ...   \n",
            "1    uncomplicated          appendicitis  no appendicitis  ...   \n",
            "2    uncomplicated          appendicitis  no appendicitis  ...   \n",
            "3    uncomplicated          appendicitis  no appendicitis  ...   \n",
            "4    uncomplicated          appendicitis     appendicitis  ...   \n",
            "..             ...                   ...              ...  ...   \n",
            "777  uncomplicated          appendicitis     appendicitis  ...   \n",
            "778    complicated          appendicitis     appendicitis  ...   \n",
            "779  uncomplicated          appendicitis     appendicitis  ...   \n",
            "780  uncomplicated          appendicitis     appendicitis  ...   \n",
            "781  uncomplicated          appendicitis     appendicitis  ...   \n",
            "\n",
            "     Abscess_Location  Pathological_Lymph_Nodes Lymph_Nodes_Location  \\\n",
            "0                 NaN                       yes                 reUB   \n",
            "1                 NaN                       NaN                  NaN   \n",
            "2                 NaN                       NaN                  NaN   \n",
            "3                 NaN                       yes                 reUB   \n",
            "4                 NaN                       yes                 reUB   \n",
            "..                ...                       ...                  ...   \n",
            "777               NaN                       NaN                  NaN   \n",
            "778           Douglas                       NaN                  NaN   \n",
            "779               NaN                       NaN                  NaN   \n",
            "780               NaN                        no                  NaN   \n",
            "781               NaN                       yes   rechter Unterbauch   \n",
            "\n",
            "     Bowel_Wall_Thickening Conglomerate_of_Bowel_Loops Ileus Coprostasis  \\\n",
            "0                      NaN                         NaN   NaN         NaN   \n",
            "1                      NaN                         NaN   NaN         NaN   \n",
            "2                      NaN                         NaN   NaN         NaN   \n",
            "3                      NaN                         NaN   NaN         NaN   \n",
            "4                      NaN                         NaN   NaN         NaN   \n",
            "..                     ...                         ...   ...         ...   \n",
            "777                    NaN                         NaN   NaN         NaN   \n",
            "778                    yes                         yes   NaN         NaN   \n",
            "779                    NaN                         NaN   NaN         NaN   \n",
            "780                    yes                         NaN    no         NaN   \n",
            "781                    NaN                         NaN   yes         NaN   \n",
            "\n",
            "    Meteorism Enteritis Gynecological_Findings  \n",
            "0         NaN       NaN                    NaN  \n",
            "1         yes       NaN                    NaN  \n",
            "2         yes       yes                    NaN  \n",
            "3         NaN       yes                    NaN  \n",
            "4         NaN       yes                    NaN  \n",
            "..        ...       ...                    ...  \n",
            "777       NaN       NaN                    NaN  \n",
            "778       NaN       NaN                    NaN  \n",
            "779       NaN       NaN            unauffällig  \n",
            "780       NaN       NaN                    NaN  \n",
            "781       NaN       NaN                    NaN  \n",
            "\n",
            "[782 rows x 58 columns], 'headers': Index(['Age', 'BMI', 'Sex', 'Height', 'Weight', 'Length_of_Stay', 'Management',\n",
            "       'Severity', 'Diagnosis_Presumptive', 'Diagnosis', 'Alvarado_Score',\n",
            "       'Paedriatic_Appendicitis_Score', 'Appendix_on_US', 'Appendix_Diameter',\n",
            "       'Migratory_Pain', 'Lower_Right_Abd_Pain',\n",
            "       'Contralateral_Rebound_Tenderness', 'Coughing_Pain', 'Nausea',\n",
            "       'Loss_of_Appetite', 'Body_Temperature', 'WBC_Count',\n",
            "       'Neutrophil_Percentage', 'Segmented_Neutrophils', 'Neutrophilia',\n",
            "       'RBC_Count', 'Hemoglobin', 'RDW', 'Thrombocyte_Count',\n",
            "       'Ketones_in_Urine', 'RBC_in_Urine', 'WBC_in_Urine', 'CRP', 'Dysuria',\n",
            "       'Stool', 'Peritonitis', 'Psoas_Sign', 'Ipsilateral_Rebound_Tenderness',\n",
            "       'US_Performed', 'US_Number', 'Free_Fluids', 'Appendix_Wall_Layers',\n",
            "       'Target_Sign', 'Appendicolith', 'Perfusion', 'Perforation',\n",
            "       'Surrounding_Tissue_Reaction', 'Appendicular_Abscess',\n",
            "       'Abscess_Location', 'Pathological_Lymph_Nodes', 'Lymph_Nodes_Location',\n",
            "       'Bowel_Wall_Thickening', 'Conglomerate_of_Bowel_Loops', 'Ileus',\n",
            "       'Coprostasis', 'Meteorism', 'Enteritis', 'Gynecological_Findings'],\n",
            "      dtype='object')}, 'metadata': {'uci_id': 938, 'name': 'Regensburg Pediatric Appendicitis', 'repository_url': 'https://archive.ics.uci.edu/dataset/938/regensburg+pediatric+appendicitis', 'data_url': 'https://archive.ics.uci.edu/static/public/938/data.csv', 'abstract': 'This repository holds the data from a cohort of pediatric patients with suspected appendicitis admitted with abdominal pain to Children’s Hospital St. Hedwig in Regensburg, Germany, between 2016 and 2021. Each patient has (potentially multiple) ultrasound (US) images, aka views, tabular data comprising laboratory, physical examination, scoring results and ultrasonographic findings extracted manually by the experts, and three target variables, namely, diagnosis, management and severity.', 'area': 'Health and Medicine', 'tasks': ['Classification'], 'characteristics': ['Tabular', 'Image'], 'num_instances': 782, 'num_features': 53, 'feature_types': ['Real', 'Categorical', 'Integer'], 'demographics': ['Age', 'Sex'], 'target_col': ['Management', 'Severity', 'Diagnosis'], 'index_col': None, 'has_missing_values': 'yes', 'missing_values_symbol': 'NaN', 'year_of_dataset_creation': 2023, 'last_updated': 'Tue Feb 06 2024', 'dataset_doi': '10.5281/zenodo.7669442', 'creators': ['Ricards Marcinkevics', 'Patricia Reis', 'Ugne Klimiene', 'Ece Ozkan', 'Kieran Chin-Cheong', 'Alyssia Paschke', 'Julia Zerres', 'Markus Denzinger', 'David Niederberger', 'S. Wellmann', 'C. Knorr', 'Julia E.'], 'intro_paper': {'ID': 354, 'type': 'NATIVE', 'title': 'Interpretable and Intervenable Ultrasonography-based Machine Learning Models for Pediatric Appendicitis', 'authors': 'Ricards Marcinkevics, Patricia Reis Wolfertstetter, Ugne Klimiene, Ece Ozkan, Kieran Chin-Cheong, Alyssia Paschke, Julia Zerres, Markus Denzinger, David Niederberger, S. Wellmann, C. Knorr, Julia E. Vogt', 'venue': 'Medical Image Analysis', 'year': 2023, 'journal': None, 'DOI': None, 'URL': 'https://arxiv.org/abs/2302.14460v2', 'sha': None, 'corpus': None, 'arxiv': None, 'mag': None, 'acl': None, 'pmid': None, 'pmcid': None}, 'additional_info': {'summary': 'This dataset was acquired in a retrospective study from a cohort of pediatric patients admitted with abdominal pain to Children’s Hospital St. Hedwig in Regensburg, Germany. Multiple abdominal B-mode ultrasound images were acquired for most patients, with the number of views varying from 1 to 15. The images depict various regions of interest, such as the abdomen’s right lower quadrant, appendix, intestines, lymph nodes and reproductive organs. Alongside multiple US images for each subject, the dataset includes information encompassing laboratory tests, physical examination results, clinical scores, such as Alvarado and pediatric appendicitis scores, and expert-produced ultrasonographic findings. Lastly, the subjects were labeled w.r.t. three target variables: diagnosis (appendicitis vs. no appendicitis), management (surgical vs. conservative) and severity (complicated vs. uncomplicated or no appendicitis). The study was approved by the Ethics Committee of the University of Regensburg (no. 18-1063-101, 18-1063_1-101 and 18-1063_2-101) and was performed following applicable guidelines and regulations.', 'purpose': None, 'funded_by': None, 'instances_represent': None, 'recommended_data_splits': None, 'sensitive_data': None, 'preprocessing_description': None, 'variable_info': None, 'citation': None}, 'external_url': 'https://zenodo.org/records/7669442'}, 'variables':                                 name     role         type demographic  \\\n",
            "0                                Age  Feature   Continuous         Age   \n",
            "1                                BMI  Feature   Continuous        None   \n",
            "2                                Sex  Feature  Categorical         Sex   \n",
            "3                             Height  Feature   Continuous        None   \n",
            "4                             Weight  Feature      Integer        None   \n",
            "5                     Length_of_Stay  Feature      Integer        None   \n",
            "6                         Management   Target  Categorical        None   \n",
            "7                           Severity   Target  Categorical        None   \n",
            "8              Diagnosis_Presumptive    Other       Binary        None   \n",
            "9                          Diagnosis   Target       Binary        None   \n",
            "10                    Alvarado_Score  Feature      Integer        None   \n",
            "11     Paedriatic_Appendicitis_Score  Feature      Integer        None   \n",
            "12                    Appendix_on_US  Feature       Binary        None   \n",
            "13                 Appendix_Diameter  Feature      Integer        None   \n",
            "14                    Migratory_Pain  Feature       Binary        None   \n",
            "15              Lower_Right_Abd_Pain  Feature       Binary        None   \n",
            "16  Contralateral_Rebound_Tenderness  Feature       Binary        None   \n",
            "17                     Coughing_Pain  Feature       Binary        None   \n",
            "18                            Nausea  Feature       Binary        None   \n",
            "19                  Loss_of_Appetite  Feature       Binary        None   \n",
            "20                  Body_Temperature  Feature   Continuous        None   \n",
            "21                         WBC_Count  Feature   Continuous        None   \n",
            "22             Neutrophil_Percentage  Feature      Integer        None   \n",
            "23             Segmented_Neutrophils  Feature      Integer        None   \n",
            "24                      Neutrophilia  Feature  Categorical        None   \n",
            "25                         RBC_Count  Feature   Continuous        None   \n",
            "26                        Hemoglobin  Feature   Continuous        None   \n",
            "27                               RDW  Feature   Continuous        None   \n",
            "28                 Thrombocyte_Count  Feature      Integer        None   \n",
            "29                  Ketones_in_Urine  Feature  Categorical        None   \n",
            "30                      RBC_in_Urine  Feature  Categorical        None   \n",
            "31                      WBC_in_Urine  Feature  Categorical        None   \n",
            "32                               CRP  Feature      Integer        None   \n",
            "33                           Dysuria  Feature       Binary        None   \n",
            "34                             Stool  Feature  Categorical        None   \n",
            "35                       Peritonitis  Feature  Categorical        None   \n",
            "36                        Psoas_Sign  Feature  Categorical        None   \n",
            "37    Ipsilateral_Rebound_Tenderness  Feature  Categorical        None   \n",
            "38                      US_Performed  Feature  Categorical        None   \n",
            "39                         US_Number    Other      Integer        None   \n",
            "40                       Free_Fluids  Feature  Categorical        None   \n",
            "41              Appendix_Wall_Layers  Feature  Categorical        None   \n",
            "42                       Target_Sign  Feature  Categorical        None   \n",
            "43                     Appendicolith  Feature  Categorical        None   \n",
            "44                         Perfusion  Feature  Categorical        None   \n",
            "45                       Perforation  Feature  Categorical        None   \n",
            "46       Surrounding_Tissue_Reaction  Feature  Categorical        None   \n",
            "47              Appendicular_Abscess  Feature  Categorical        None   \n",
            "48                  Abscess_Location  Feature  Categorical        None   \n",
            "49          Pathological_Lymph_Nodes  Feature       Binary        None   \n",
            "50              Lymph_Nodes_Location  Feature  Categorical        None   \n",
            "51             Bowel_Wall_Thickening  Feature       Binary        None   \n",
            "52       Conglomerate_of_Bowel_Loops  Feature       Binary        None   \n",
            "53                             Ileus  Feature  Categorical        None   \n",
            "54                       Coprostasis  Feature  Categorical        None   \n",
            "55                         Meteorism  Feature  Categorical        None   \n",
            "56                         Enteritis  Feature  Categorical        None   \n",
            "57            Gynecological_Findings  Feature  Categorical        None   \n",
            "\n",
            "                                          description  units missing_values  \n",
            "0                     Obtained from the date of birth  years            yes  \n",
            "1   Measures body fat; patient's weight divided by...   None            yes  \n",
            "2                                   Registered gender   None            yes  \n",
            "3                                    Patient's height   None            yes  \n",
            "4                                    Patient's weight   None            yes  \n",
            "5                  Length of the stay in the hospital   None            yes  \n",
            "6   (conservative, primary surgical, secondary sur...   None            yes  \n",
            "7   (uncomplicated, complicated) Severity of appen...   None            yes  \n",
            "8                       Patient's suspected diagnosis   None            yes  \n",
            "9   Patient's diagnosis, histologically confirmed ...   None            yes  \n",
            "10    Patient's score according to the scoring system   None            yes  \n",
            "11    Patient's score according to the scoring system   None            yes  \n",
            "12  Detectability of the vermiform appendix during...   None            yes  \n",
            "13             Maximal outer diameter of the appendix   None            yes  \n",
            "14  Abdominal pain; usually starts in epigastrium ...   None            yes  \n",
            "15       Right iliac fossa pain detected on palpation   None            yes  \n",
            "16  A state in which pain of the contralateral sid...   None            yes  \n",
            "17                     Abdominal pain by forced cough   None            yes  \n",
            "18  Feeling of sickness/ejection of contents from ...   None            yes  \n",
            "19                                               None   None            yes  \n",
            "20  Measured by a thermometer placed in the rectum...   None            yes  \n",
            "21  The number of leucocytes in a unit volume of b...   None            yes  \n",
            "22              Mature WBC in the granulocytic series   None            yes  \n",
            "23  Most mature neutrophilic granulocytes present ...   None            yes  \n",
            "24  Relative neutrophilic leucocytosis, often a re...   None            yes  \n",
            "25  The number of erythrocytes in a unit volume of...   None            yes  \n",
            "26  Hemoglobin level; a red protein in the red blo...   None            yes  \n",
            "27  A blood test that measures the differences in ...   None            yes  \n",
            "28  The number of platelets in a unit volume of blood   None            yes  \n",
            "29  Presence of ketone bodies in urine, e.g. in ca...   None            yes  \n",
            "30                                     Blood in urine   None            yes  \n",
            "31    Leucocytes in urine, e.g., in case of infection   None            yes  \n",
            "32  Protein produced by the liver, elevated in cas...   None            yes  \n",
            "33          Pain or other difficulty during urination   None            yes  \n",
            "34                 Characteristics of bowel movements   None            yes  \n",
            "35  Spasm of abdominal wall muscles detected on pa...   None            yes  \n",
            "36    Abdominal pain produced by extension of the hip   None            yes  \n",
            "37  A state in which pain of the ipsilateral side ...   None            yes  \n",
            "38  If an abdominal ultrasonography was performed ...   None            yes  \n",
            "39                                               None   None            yes  \n",
            "40                     Free fluids inside the abdomen   None            yes  \n",
            "41  Distribution and characteristics of appendix l...   None            yes  \n",
            "42  Axial image of appendix with a fluid-filled ce...   None            yes  \n",
            "43  Presence of fecalith in the appendix, e.g. aco...   None            yes  \n",
            "44                    Blood flow to the appendix wall   None            yes  \n",
            "45                Signs of appendix perforation in US   None            yes  \n",
            "46  Inflammation signs in tissue (i.a. in omentum/...   None            yes  \n",
            "47                                   Appendiceal mass   None            yes  \n",
            "48             Location of the abcess intraperitoneal   None            yes  \n",
            "49  Enlarged and inflamed intra-abdominal lymph nodes   None            yes  \n",
            "50  The location of pathological lymph nodes in th...   None            yes  \n",
            "51  Edema of the intestinal wall, > 2-3 mm for sma...   None            yes  \n",
            "52  Small intestine conglomerate as sign of intrap...   None            yes  \n",
            "53  Sonographic signs of paralytic ileus (e.g., di...   None            yes  \n",
            "54                       Fecal impaction in the colon   None            yes  \n",
            "55               Accumulation of gas in the intestine   None            yes  \n",
            "56  Sonographic features of gastroenteritis, e.g. ...   None            yes  \n",
            "57  Gynaecological abnormalities, e.g. cysts, ovar...   None            yes  }\n"
          ]
        }
      ]
    },
    {
      "cell_type": "code",
      "source": [
        "print(z)"
      ],
      "metadata": {
        "colab": {
          "base_uri": "https://localhost:8080/"
        },
        "id": "NQEDi4INRBCp",
        "outputId": "63e8232a-efad-4d92-f9fc-cb86852e0f20"
      },
      "execution_count": 56,
      "outputs": [
        {
          "output_type": "stream",
          "name": "stdout",
          "text": [
            "None\n"
          ]
        }
      ]
    },
    {
      "cell_type": "code",
      "source": [
        "from google.colab import drive\n",
        "drive.mount('/content/drive')"
      ],
      "metadata": {
        "colab": {
          "base_uri": "https://localhost:8080/"
        },
        "id": "m_MOclOVyqHm",
        "outputId": "562de195-730a-4914-93f4-b8663454541f"
      },
      "execution_count": 57,
      "outputs": [
        {
          "output_type": "stream",
          "name": "stdout",
          "text": [
            "Drive already mounted at /content/drive; to attempt to forcibly remount, call drive.mount(\"/content/drive\", force_remount=True).\n"
          ]
        }
      ]
    },
    {
      "cell_type": "code",
      "source": [
        "import zipfile"
      ],
      "metadata": {
        "id": "8tSxCerS8SfB"
      },
      "execution_count": 58,
      "outputs": []
    },
    {
      "cell_type": "code",
      "source": [
        "# Path to your zip file in Drive\n",
        "zip_path = '/content/drive/MyDrive/CNN_Assignment3/US_Pictures.zip'\n",
        "\n",
        "# Extract the zip file to a local folder in Colab\n",
        "extract_dir = '/content/US_Pictures'\n",
        "with zipfile.ZipFile(zip_path, 'r') as zip_ref:\n",
        "    zip_ref.extractall(extract_dir)\n",
        "\n",
        "print(\"Dataset extracted to:\", extract_dir)"
      ],
      "metadata": {
        "colab": {
          "base_uri": "https://localhost:8080/"
        },
        "id": "qC4cH5MI9PD6",
        "outputId": "83caaa89-ad3c-453b-8a3d-016bd3fb5d53"
      },
      "execution_count": 59,
      "outputs": [
        {
          "output_type": "stream",
          "name": "stdout",
          "text": [
            "Dataset extracted to: /content/US_Pictures\n"
          ]
        }
      ]
    },
    {
      "cell_type": "code",
      "source": [
        "import os\n",
        "import re\n",
        "from PIL import Image\n",
        "\n",
        "dataset_dir = extract_dir  # path where the dataset was extracted\n",
        "\n",
        "selected_images = []\n",
        "selected_filenames = []\n",
        "\n",
        "# Regular expression: match 'app' or 'appendix' as the only word (after ignoring leading numbers)\n",
        "pattern = re.compile(r'^(?:[\\d\\.\\s_-]*)(app|appendix)$', re.IGNORECASE)\n",
        "\n",
        "# Allowed file extensions\n",
        "allowed_exts = ('.bmp', '.png')\n",
        "\n",
        "for root, dirs, files in os.walk(dataset_dir):\n",
        "    for file in files:\n",
        "        if file.lower().endswith(allowed_exts):\n",
        "            # Remove file extension\n",
        "            name_without_ext = os.path.splitext(file)[0]\n",
        "            # Remove leading/trailing spaces\n",
        "            cleaned_name = name_without_ext.strip()\n",
        "\n",
        "            # Match only if the cleaned name fits the pattern\n",
        "            if pattern.match(cleaned_name):\n",
        "                img_path = os.path.join(root, file)\n",
        "                img = Image.open(img_path).convert('RGB')\n",
        "                selected_images.append(img)\n",
        "                selected_filenames.append(file)\n",
        "\n",
        "print(f\"Total selected images: {len(selected_images)}\")\n"
      ],
      "metadata": {
        "id": "fzqla3s3Qh_f",
        "outputId": "c5a4edce-22b2-41cc-8323-cd119f3bfd0c",
        "colab": {
          "base_uri": "https://localhost:8080/"
        }
      },
      "execution_count": 60,
      "outputs": [
        {
          "output_type": "stream",
          "name": "stdout",
          "text": [
            "Total selected images: 679\n"
          ]
        }
      ]
    },
    {
      "cell_type": "code",
      "source": [
        "print(selected_images)\n",
        "print(selected_filenames)"
      ],
      "metadata": {
        "id": "Jh0wJNRxQkI8",
        "outputId": "57f86094-6e9a-4cda-934a-fc100697e9d7",
        "colab": {
          "base_uri": "https://localhost:8080/"
        }
      },
      "execution_count": 61,
      "outputs": [
        {
          "output_type": "stream",
          "name": "stdout",
          "text": [
            "[<PIL.Image.Image image mode=RGB size=716x537 at 0x7DA587D93D10>, <PIL.Image.Image image mode=RGB size=716x537 at 0x7DA57C22C1D0>, <PIL.Image.Image image mode=RGB size=716x537 at 0x7DA57C22F770>, <PIL.Image.Image image mode=RGB size=793x577 at 0x7DA57C22D250>, <PIL.Image.Image image mode=RGB size=792x580 at 0x7DA57C22EE40>, <PIL.Image.Image image mode=RGB size=716x537 at 0x7DA57C22E810>, <PIL.Image.Image image mode=RGB size=716x537 at 0x7DA5855D6E10>, <PIL.Image.Image image mode=RGB size=716x537 at 0x7DA57C22D940>, <PIL.Image.Image image mode=RGB size=1268x921 at 0x7DA57C22E7E0>, <PIL.Image.Image image mode=RGB size=716x537 at 0x7DA57C22E3C0>, <PIL.Image.Image image mode=RGB size=716x537 at 0x7DA57C22F5C0>, <PIL.Image.Image image mode=RGB size=800x585 at 0x7DA57C22F7A0>, <PIL.Image.Image image mode=RGB size=799x587 at 0x7DA57C22DE50>, <PIL.Image.Image image mode=RGB size=716x521 at 0x7DA57C22F740>, <PIL.Image.Image image mode=RGB size=716x537 at 0x7DA57C22F020>, <PIL.Image.Image image mode=RGB size=792x577 at 0x7DA57C22F620>, <PIL.Image.Image image mode=RGB size=800x582 at 0x7DA57C22F6E0>, <PIL.Image.Image image mode=RGB size=716x537 at 0x7DA57C22FEF0>, <PIL.Image.Image image mode=RGB size=716x493 at 0x7DA57C22DB80>, <PIL.Image.Image image mode=RGB size=793x575 at 0x7DA57C6C6ED0>, <PIL.Image.Image image mode=RGB size=716x537 at 0x7DA57C22D640>, <PIL.Image.Image image mode=RGB size=792x578 at 0x7DA57C22CA70>, <PIL.Image.Image image mode=RGB size=716x537 at 0x7DA57C22EAB0>, <PIL.Image.Image image mode=RGB size=793x575 at 0x7DA57C22CFE0>, <PIL.Image.Image image mode=RGB size=716x537 at 0x7DA57C6C6F90>, <PIL.Image.Image image mode=RGB size=716x537 at 0x7DA584E0DD90>, <PIL.Image.Image image mode=RGB size=797x583 at 0x7DA584E0C890>, <PIL.Image.Image image mode=RGB size=716x519 at 0x7DA57E309370>, <PIL.Image.Image image mode=RGB size=716x523 at 0x7DA57C219DF0>, <PIL.Image.Image image mode=RGB size=716x517 at 0x7DA57C21B4A0>, <PIL.Image.Image image mode=RGB size=793x578 at 0x7DA57C2192B0>, <PIL.Image.Image image mode=RGB size=799x582 at 0x7DA57C218530>, <PIL.Image.Image image mode=RGB size=716x520 at 0x7DA587D92A50>, <PIL.Image.Image image mode=RGB size=800x584 at 0x7DA57C2185C0>, <PIL.Image.Image image mode=RGB size=716x537 at 0x7DA57C219250>, <PIL.Image.Image image mode=RGB size=716x537 at 0x7DA57C21AB70>, <PIL.Image.Image image mode=RGB size=799x585 at 0x7DA57C21A3C0>, <PIL.Image.Image image mode=RGB size=716x537 at 0x7DA57C219940>, <PIL.Image.Image image mode=RGB size=799x576 at 0x7DA57C218770>, <PIL.Image.Image image mode=RGB size=712x517 at 0x7DA57C21AC00>, <PIL.Image.Image image mode=RGB size=799x582 at 0x7DA587D934D0>, <PIL.Image.Image image mode=RGB size=797x581 at 0x7DA57C218FE0>, <PIL.Image.Image image mode=RGB size=799x584 at 0x7DA57C2189E0>, <PIL.Image.Image image mode=RGB size=800x580 at 0x7DA57C219040>, <PIL.Image.Image image mode=RGB size=716x520 at 0x7DA57C218F20>, <PIL.Image.Image image mode=RGB size=716x537 at 0x7DA57C21A810>, <PIL.Image.Image image mode=RGB size=716x537 at 0x7DA57C21BE00>, <PIL.Image.Image image mode=RGB size=799x584 at 0x7DA57C21B500>, <PIL.Image.Image image mode=RGB size=792x577 at 0x7DA57C219760>, <PIL.Image.Image image mode=RGB size=1276x929 at 0x7DA57C2191C0>, <PIL.Image.Image image mode=RGB size=716x537 at 0x7DA57C219D00>, <PIL.Image.Image image mode=RGB size=799x581 at 0x7DA57C21ABA0>, <PIL.Image.Image image mode=RGB size=712x515 at 0x7DA57C218C20>, <PIL.Image.Image image mode=RGB size=716x519 at 0x7DA57C2198E0>, <PIL.Image.Image image mode=RGB size=716x520 at 0x7DA57C219400>, <PIL.Image.Image image mode=RGB size=716x519 at 0x7DA57C21AC60>, <PIL.Image.Image image mode=RGB size=792x575 at 0x7DA57C21BD10>, <PIL.Image.Image image mode=RGB size=716x537 at 0x7DA57C21AD80>, <PIL.Image.Image image mode=RGB size=716x519 at 0x7DA57C218560>, <PIL.Image.Image image mode=RGB size=716x537 at 0x7DA57C219C10>, <PIL.Image.Image image mode=RGB size=800x580 at 0x7DA57C21A510>, <PIL.Image.Image image mode=RGB size=716x495 at 0x7DA57C218890>, <PIL.Image.Image image mode=RGB size=716x537 at 0x7DA57C218800>, <PIL.Image.Image image mode=RGB size=712x517 at 0x7DA57C218380>, <PIL.Image.Image image mode=RGB size=792x581 at 0x7DA58CE984D0>, <PIL.Image.Image image mode=RGB size=716x493 at 0x7DA57C21B170>, <PIL.Image.Image image mode=RGB size=716x498 at 0x7DA57C21BB00>, <PIL.Image.Image image mode=RGB size=716x537 at 0x7DA57C2192E0>, <PIL.Image.Image image mode=RGB size=716x537 at 0x7DA57C218440>, <PIL.Image.Image image mode=RGB size=716x537 at 0x7DA57C2180E0>, <PIL.Image.Image image mode=RGB size=716x520 at 0x7DA584DA6B10>, <PIL.Image.Image image mode=RGB size=793x578 at 0x7DA57C21A2D0>, <PIL.Image.Image image mode=RGB size=716x537 at 0x7DA57C21BA70>, <PIL.Image.Image image mode=RGB size=716x537 at 0x7DA57C2182F0>, <PIL.Image.Image image mode=RGB size=716x537 at 0x7DA57C2186B0>, <PIL.Image.Image image mode=RGB size=523x464 at 0x7DA57C2190D0>, <PIL.Image.Image image mode=RGB size=799x582 at 0x7DA57C2193D0>, <PIL.Image.Image image mode=RGB size=800x580 at 0x7DA57C219A90>, <PIL.Image.Image image mode=RGB size=716x537 at 0x7DA57C2184D0>, <PIL.Image.Image image mode=RGB size=800x584 at 0x7DA57C219190>, <PIL.Image.Image image mode=RGB size=800x583 at 0x7DA57C219F10>, <PIL.Image.Image image mode=RGB size=716x537 at 0x7DA57C218680>, <PIL.Image.Image image mode=RGB size=715x499 at 0x7DA587D93650>, <PIL.Image.Image image mode=RGB size=716x518 at 0x7DA58734A8D0>, <PIL.Image.Image image mode=RGB size=716x489 at 0x7DA57C218F80>, <PIL.Image.Image image mode=RGB size=716x537 at 0x7DA57C219C40>, <PIL.Image.Image image mode=RGB size=716x537 at 0x7DA57C219310>, <PIL.Image.Image image mode=RGB size=716x537 at 0x7DA57C219BE0>, <PIL.Image.Image image mode=RGB size=683x516 at 0x7DA57C2198B0>, <PIL.Image.Image image mode=RGB size=716x537 at 0x7DA57C21AC90>, <PIL.Image.Image image mode=RGB size=575x478 at 0x7DA57C219B80>, <PIL.Image.Image image mode=RGB size=716x537 at 0x7DA57C2182C0>, <PIL.Image.Image image mode=RGB size=716x518 at 0x7DA57C21B950>, <PIL.Image.Image image mode=RGB size=716x537 at 0x7DA57C218260>, <PIL.Image.Image image mode=RGB size=792x581 at 0x7DA57C21BAD0>, <PIL.Image.Image image mode=RGB size=797x580 at 0x7DA57C21A0C0>, <PIL.Image.Image image mode=RGB size=716x520 at 0x7DA57C219160>, <PIL.Image.Image image mode=RGB size=716x537 at 0x7DA57C218E90>, <PIL.Image.Image image mode=RGB size=712x518 at 0x7DA57C21B0B0>, <PIL.Image.Image image mode=RGB size=799x585 at 0x7DA57C218200>, <PIL.Image.Image image mode=RGB size=716x517 at 0x7DA57C2181A0>, <PIL.Image.Image image mode=RGB size=800x580 at 0x7DA57C21B2F0>, <PIL.Image.Image image mode=RGB size=799x585 at 0x7DA57C2183B0>, <PIL.Image.Image image mode=RGB size=716x520 at 0x7DA57C21B020>, <PIL.Image.Image image mode=RGB size=716x537 at 0x7DA57C219460>, <PIL.Image.Image image mode=RGB size=800x584 at 0x7DA57C218BF0>, <PIL.Image.Image image mode=RGB size=793x555 at 0x7DA57C21B1A0>, <PIL.Image.Image image mode=RGB size=716x537 at 0x7DA587EBA2D0>, <PIL.Image.Image image mode=RGB size=716x537 at 0x7DA57C21AE40>, <PIL.Image.Image image mode=RGB size=716x537 at 0x7DA57C218B90>, <PIL.Image.Image image mode=RGB size=716x519 at 0x7DA57C2190A0>, <PIL.Image.Image image mode=RGB size=716x537 at 0x7DA57C219220>, <PIL.Image.Image image mode=RGB size=716x520 at 0x7DA57C21B530>, <PIL.Image.Image image mode=RGB size=800x585 at 0x7DA57C21BFE0>, <PIL.Image.Image image mode=RGB size=716x537 at 0x7DA57C21B980>, <PIL.Image.Image image mode=RGB size=792x575 at 0x7DA57C2187A0>, <PIL.Image.Image image mode=RGB size=716x520 at 0x7DA57C2183E0>, <PIL.Image.Image image mode=RGB size=793x558 at 0x7DA57C219580>, <PIL.Image.Image image mode=RGB size=799x581 at 0x7DA57C21ADE0>, <PIL.Image.Image image mode=RGB size=716x537 at 0x7DA57C21A420>, <PIL.Image.Image image mode=RGB size=800x584 at 0x7DA57C21B230>, <PIL.Image.Image image mode=RGB size=716x537 at 0x7DA57C218EC0>, <PIL.Image.Image image mode=RGB size=715x520 at 0x7DA57C2189B0>, <PIL.Image.Image image mode=RGB size=799x581 at 0x7DA57C21A090>, <PIL.Image.Image image mode=RGB size=792x575 at 0x7DA57C219AC0>, <PIL.Image.Image image mode=RGB size=800x585 at 0x7DA57C21A990>, <PIL.Image.Image image mode=RGB size=716x537 at 0x7DA57C218110>, <PIL.Image.Image image mode=RGB size=793x549 at 0x7DA57C2197F0>, <PIL.Image.Image image mode=RGB size=796x576 at 0x7DA57C21A9C0>, <PIL.Image.Image image mode=RGB size=716x521 at 0x7DA57C218E60>, <PIL.Image.Image image mode=RGB size=716x499 at 0x7DA57C21ACC0>, <PIL.Image.Image image mode=RGB size=716x537 at 0x7DA57C21A300>, <PIL.Image.Image image mode=RGB size=716x537 at 0x7DA57C218350>, <PIL.Image.Image image mode=RGB size=793x555 at 0x7DA57D964B90>, <PIL.Image.Image image mode=RGB size=797x583 at 0x7DA57C21BE60>, <PIL.Image.Image image mode=RGB size=716x495 at 0x7DA57C218E30>, <PIL.Image.Image image mode=RGB size=716x537 at 0x7DA57C21AC30>, <PIL.Image.Image image mode=RGB size=792x578 at 0x7DA57C2184A0>, <PIL.Image.Image image mode=RGB size=716x537 at 0x7DA57C218DD0>, <PIL.Image.Image image mode=RGB size=716x537 at 0x7DA57CACE9F0>, <PIL.Image.Image image mode=RGB size=793x556 at 0x7DA57C204B30>, <PIL.Image.Image image mode=RGB size=799x581 at 0x7DA57C2075C0>, <PIL.Image.Image image mode=RGB size=715x524 at 0x7DA57C207A40>, <PIL.Image.Image image mode=RGB size=792x580 at 0x7DA57C207B00>, <PIL.Image.Image image mode=RGB size=793x575 at 0x7DA57C204E60>, <PIL.Image.Image image mode=RGB size=799x581 at 0x7DA57C204D40>, <PIL.Image.Image image mode=RGB size=793x549 at 0x7DA57C204EF0>, <PIL.Image.Image image mode=RGB size=799x582 at 0x7DA57C207BF0>, <PIL.Image.Image image mode=RGB size=716x537 at 0x7DA57C2079E0>, <PIL.Image.Image image mode=RGB size=716x518 at 0x7DA57C207D10>, <PIL.Image.Image image mode=RGB size=800x583 at 0x7DA584E0D190>, <PIL.Image.Image image mode=RGB size=716x520 at 0x7DA57C207440>, <PIL.Image.Image image mode=RGB size=712x517 at 0x7DA57C204DA0>, <PIL.Image.Image image mode=RGB size=716x516 at 0x7DA57C204B90>, <PIL.Image.Image image mode=RGB size=800x585 at 0x7DA57C204E30>, <PIL.Image.Image image mode=RGB size=799x582 at 0x7DA57C205A30>, <PIL.Image.Image image mode=RGB size=716x537 at 0x7DA57C206DE0>, <PIL.Image.Image image mode=RGB size=716x537 at 0x7DA57C2078F0>, <PIL.Image.Image image mode=RGB size=793x579 at 0x7DA57C207530>, <PIL.Image.Image image mode=RGB size=716x537 at 0x7DA57C207C20>, <PIL.Image.Image image mode=RGB size=799x585 at 0x7DA57C204FE0>, <PIL.Image.Image image mode=RGB size=800x579 at 0x7DA57C206ED0>, <PIL.Image.Image image mode=RGB size=719x537 at 0x7DA57C207B30>, <PIL.Image.Image image mode=RGB size=716x537 at 0x7DA57C2074D0>, <PIL.Image.Image image mode=RGB size=991x710 at 0x7DA57C204C20>, <PIL.Image.Image image mode=RGB size=716x537 at 0x7DA57C34DC10>, <PIL.Image.Image image mode=RGB size=716x537 at 0x7DA57C34DE20>, <PIL.Image.Image image mode=RGB size=800x582 at 0x7DA57C34DDC0>, <PIL.Image.Image image mode=RGB size=716x537 at 0x7DA57C34DAF0>, <PIL.Image.Image image mode=RGB size=716x537 at 0x7DA57C34E720>, <PIL.Image.Image image mode=RGB size=792x579 at 0x7DA57C34C170>, <PIL.Image.Image image mode=RGB size=800x583 at 0x7DA57C227C50>, <PIL.Image.Image image mode=RGB size=800x584 at 0x7DA57C2257F0>, <PIL.Image.Image image mode=RGB size=715x521 at 0x7DA57C2252E0>, <PIL.Image.Image image mode=RGB size=716x537 at 0x7DA57C227FB0>, <PIL.Image.Image image mode=RGB size=716x520 at 0x7DA57C6C6690>, <PIL.Image.Image image mode=RGB size=716x519 at 0x7DA57C804DD0>, <PIL.Image.Image image mode=RGB size=799x582 at 0x7DA57C224A40>, <PIL.Image.Image image mode=RGB size=793x578 at 0x7DA57C22F650>, <PIL.Image.Image image mode=RGB size=716x519 at 0x7DA57C227E30>, <PIL.Image.Image image mode=RGB size=798x582 at 0x7DA57C226DB0>, <PIL.Image.Image image mode=RGB size=716x537 at 0x7DA57C2260F0>, <PIL.Image.Image image mode=RGB size=716x491 at 0x7DA57C226FF0>, <PIL.Image.Image image mode=RGB size=716x537 at 0x7DA57C227290>, <PIL.Image.Image image mode=RGB size=716x537 at 0x7DA57C2264E0>, <PIL.Image.Image image mode=RGB size=716x537 at 0x7DA57C224860>, <PIL.Image.Image image mode=RGB size=800x580 at 0x7DA57C2263F0>, <PIL.Image.Image image mode=RGB size=716x522 at 0x7DA57C22CC50>, <PIL.Image.Image image mode=RGB size=799x581 at 0x7DA57C226C60>, <PIL.Image.Image image mode=RGB size=716x520 at 0x7DA57C22E2D0>, <PIL.Image.Image image mode=RGB size=716x537 at 0x7DA57C227650>, <PIL.Image.Image image mode=RGB size=799x581 at 0x7DA57C226810>, <PIL.Image.Image image mode=RGB size=799x581 at 0x7DA57C2278F0>, <PIL.Image.Image image mode=RGB size=1280x928 at 0x7DA57C224650>, <PIL.Image.Image image mode=RGB size=793x561 at 0x7DA57C225E80>, <PIL.Image.Image image mode=RGB size=800x574 at 0x7DA57C226B40>, <PIL.Image.Image image mode=RGB size=797x584 at 0x7DA57C225340>, <PIL.Image.Image image mode=RGB size=716x520 at 0x7DA57C227260>, <PIL.Image.Image image mode=RGB size=711x516 at 0x7DA57C224D10>, <PIL.Image.Image image mode=RGB size=793x558 at 0x7DA57C227110>, <PIL.Image.Image image mode=RGB size=793x580 at 0x7DA57C227A10>, <PIL.Image.Image image mode=RGB size=800x580 at 0x7DA57C2261B0>, <PIL.Image.Image image mode=RGB size=716x483 at 0x7DA57C225220>, <PIL.Image.Image image mode=RGB size=800x578 at 0x7DA57C224170>, <PIL.Image.Image image mode=RGB size=716x537 at 0x7DA57C224320>, <PIL.Image.Image image mode=RGB size=598x467 at 0x7DA57C2261E0>, <PIL.Image.Image image mode=RGB size=716x537 at 0x7DA57C2273E0>, <PIL.Image.Image image mode=RGB size=716x537 at 0x7DA57C227C80>, <PIL.Image.Image image mode=RGB size=716x537 at 0x7DA57C226720>, <PIL.Image.Image image mode=RGB size=800x581 at 0x7DA57C2272C0>, <PIL.Image.Image image mode=RGB size=716x537 at 0x7DA57C2278C0>, <PIL.Image.Image image mode=RGB size=799x582 at 0x7DA57C226300>, <PIL.Image.Image image mode=RGB size=712x521 at 0x7DA57C2266C0>, <PIL.Image.Image image mode=RGB size=716x518 at 0x7DA57C2249E0>, <PIL.Image.Image image mode=RGB size=793x553 at 0x7DA57C226150>, <PIL.Image.Image image mode=RGB size=800x585 at 0x7DA57C225730>, <PIL.Image.Image image mode=RGB size=716x519 at 0x7DA57C225610>, <PIL.Image.Image image mode=RGB size=800x583 at 0x7DA57C2277A0>, <PIL.Image.Image image mode=RGB size=711x518 at 0x7DA57C226A50>, <PIL.Image.Image image mode=RGB size=712x519 at 0x7DA57C226690>, <PIL.Image.Image image mode=RGB size=713x514 at 0x7DA57C224530>, <PIL.Image.Image image mode=RGB size=799x585 at 0x7DA57C2259D0>, <PIL.Image.Image image mode=RGB size=716x537 at 0x7DA57C225160>, <PIL.Image.Image image mode=RGB size=716x537 at 0x7DA57C226210>, <PIL.Image.Image image mode=RGB size=716x521 at 0x7DA57C2275F0>, <PIL.Image.Image image mode=RGB size=793x577 at 0x7DA57C224C20>, <PIL.Image.Image image mode=RGB size=800x600 at 0x7DA57C224680>, <PIL.Image.Image image mode=RGB size=716x518 at 0x7DA57C224B00>, <PIL.Image.Image image mode=RGB size=800x583 at 0x7DA57C225640>, <PIL.Image.Image image mode=RGB size=716x537 at 0x7DA57C2272F0>, <PIL.Image.Image image mode=RGB size=716x537 at 0x7DA57C2262A0>, <PIL.Image.Image image mode=RGB size=716x537 at 0x7DA57C225FA0>, <PIL.Image.Image image mode=RGB size=799x584 at 0x7DA57C227440>, <PIL.Image.Image image mode=RGB size=797x578 at 0x7DA57C224740>, <PIL.Image.Image image mode=RGB size=716x522 at 0x7DA5872F3F50>, <PIL.Image.Image image mode=RGB size=746x479 at 0x7DA57C227890>, <PIL.Image.Image image mode=RGB size=716x537 at 0x7DA57C225970>, <PIL.Image.Image image mode=RGB size=716x537 at 0x7DA57C224CE0>, <PIL.Image.Image image mode=RGB size=716x537 at 0x7DA57C226BD0>, <PIL.Image.Image image mode=RGB size=712x517 at 0x7DA57C227350>, <PIL.Image.Image image mode=RGB size=799x579 at 0x7DA57C225C40>, <PIL.Image.Image image mode=RGB size=716x520 at 0x7DA587D93B90>, <PIL.Image.Image image mode=RGB size=716x537 at 0x7DA57C227530>, <PIL.Image.Image image mode=RGB size=1280x926 at 0x7DA57C225CA0>, <PIL.Image.Image image mode=RGB size=792x572 at 0x7DA57C224AA0>, <PIL.Image.Image image mode=RGB size=800x584 at 0x7DA57C227BC0>, <PIL.Image.Image image mode=RGB size=797x584 at 0x7DA57C2253D0>, <PIL.Image.Image image mode=RGB size=799x582 at 0x7DA57C224C80>, <PIL.Image.Image image mode=RGB size=800x586 at 0x7DA57C2251C0>, <PIL.Image.Image image mode=RGB size=800x581 at 0x7DA57C2244D0>, <PIL.Image.Image image mode=RGB size=797x581 at 0x7DA57C226EA0>, <PIL.Image.Image image mode=RGB size=800x584 at 0x7DA57C226780>, <PIL.Image.Image image mode=RGB size=793x555 at 0x7DA57C225760>, <PIL.Image.Image image mode=RGB size=716x537 at 0x7DA57C225D60>, <PIL.Image.Image image mode=RGB size=796x578 at 0x7DA57C2279B0>, <PIL.Image.Image image mode=RGB size=716x537 at 0x7DA57C224620>, <PIL.Image.Image image mode=RGB size=800x581 at 0x7DA57C224380>, <PIL.Image.Image image mode=RGB size=712x514 at 0x7DA57C227BF0>, <PIL.Image.Image image mode=RGB size=716x537 at 0x7DA57C2259A0>, <PIL.Image.Image image mode=RGB size=716x537 at 0x7DA57C224920>, <PIL.Image.Image image mode=RGB size=716x497 at 0x7DA57C227680>, <PIL.Image.Image image mode=RGB size=800x583 at 0x7DA57C227590>, <PIL.Image.Image image mode=RGB size=716x537 at 0x7DA57C224050>, <PIL.Image.Image image mode=RGB size=793x557 at 0x7DA57C225040>, <PIL.Image.Image image mode=RGB size=716x537 at 0x7DA57C227F80>, <PIL.Image.Image image mode=RGB size=716x537 at 0x7DA57C224110>, <PIL.Image.Image image mode=RGB size=716x519 at 0x7DA57C227020>, <PIL.Image.Image image mode=RGB size=716x537 at 0x7DA57C224E00>, <PIL.Image.Image image mode=RGB size=716x518 at 0x7DA57C225A30>, <PIL.Image.Image image mode=RGB size=792x572 at 0x7DA57C226330>, <PIL.Image.Image image mode=RGB size=800x580 at 0x7DA57C226ED0>, <PIL.Image.Image image mode=RGB size=716x521 at 0x7DA57C226840>, <PIL.Image.Image image mode=RGB size=799x585 at 0x7DA57C224470>, <PIL.Image.Image image mode=RGB size=800x585 at 0x7DA57C226A80>, <PIL.Image.Image image mode=RGB size=800x584 at 0x7DA57C226AE0>, <PIL.Image.Image image mode=RGB size=793x581 at 0x7DA57C227740>, <PIL.Image.Image image mode=RGB size=716x537 at 0x7DA57C225AF0>, <PIL.Image.Image image mode=RGB size=716x537 at 0x7DA57C227CB0>, <PIL.Image.Image image mode=RGB size=716x487 at 0x7DA57C224260>, <PIL.Image.Image image mode=RGB size=716x537 at 0x7DA57C225E50>, <PIL.Image.Image image mode=RGB size=800x576 at 0x7DA57C227E90>, <PIL.Image.Image image mode=RGB size=800x583 at 0x7DA57C226360>, <PIL.Image.Image image mode=RGB size=792x577 at 0x7DA57C2258B0>, <PIL.Image.Image image mode=RGB size=792x574 at 0x7DA57C2257C0>, <PIL.Image.Image image mode=RGB size=800x584 at 0x7DA57C227B90>, <PIL.Image.Image image mode=RGB size=716x537 at 0x7DA57C224710>, <PIL.Image.Image image mode=RGB size=800x580 at 0x7DA58572BDD0>, <PIL.Image.Image image mode=RGB size=799x582 at 0x7DA57C226AB0>, <PIL.Image.Image image mode=RGB size=800x582 at 0x7DA57C225C70>, <PIL.Image.Image image mode=RGB size=716x520 at 0x7DA57C224AD0>, <PIL.Image.Image image mode=RGB size=716x519 at 0x7DA57C227AA0>, <PIL.Image.Image image mode=RGB size=715x520 at 0x7DA57C2262D0>, <PIL.Image.Image image mode=RGB size=716x537 at 0x7DA57C227FE0>, <PIL.Image.Image image mode=RGB size=792x580 at 0x7DA57C2258E0>, <PIL.Image.Image image mode=RGB size=716x537 at 0x7DA57C226450>, <PIL.Image.Image image mode=RGB size=800x582 at 0x7DA57C224500>, <PIL.Image.Image image mode=RGB size=716x537 at 0x7DA57C227CE0>, <PIL.Image.Image image mode=RGB size=793x553 at 0x7DA57C226FC0>, <PIL.Image.Image image mode=RGB size=716x537 at 0x7DA57C226540>, <PIL.Image.Image image mode=RGB size=716x537 at 0x7DA57C225070>, <PIL.Image.Image image mode=RGB size=800x582 at 0x7DA57C224B60>, <PIL.Image.Image image mode=RGB size=716x537 at 0x7DA57C226A20>, <PIL.Image.Image image mode=RGB size=716x537 at 0x7DA57C225280>, <PIL.Image.Image image mode=RGB size=800x584 at 0x7DA57C224B90>, <PIL.Image.Image image mode=RGB size=716x537 at 0x7DA57C2265D0>, <PIL.Image.Image image mode=RGB size=716x521 at 0x7DA57C225D30>, <PIL.Image.Image image mode=RGB size=716x520 at 0x7DA57C2242C0>, <PIL.Image.Image image mode=RGB size=800x581 at 0x7DA57C225520>, <PIL.Image.Image image mode=RGB size=716x537 at 0x7DA57C225DC0>, <PIL.Image.Image image mode=RGB size=716x537 at 0x7DA57C2240E0>, <PIL.Image.Image image mode=RGB size=716x500 at 0x7DA57C2276E0>, <PIL.Image.Image image mode=RGB size=716x498 at 0x7DA57C227A40>, <PIL.Image.Image image mode=RGB size=716x537 at 0x7DA57C2267B0>, <PIL.Image.Image image mode=RGB size=799x580 at 0x7DA57C225850>, <PIL.Image.Image image mode=RGB size=716x537 at 0x7DA57C226390>, <PIL.Image.Image image mode=RGB size=716x521 at 0x7DA57C224980>, <PIL.Image.Image image mode=RGB size=799x582 at 0x7DA57C225F40>, <PIL.Image.Image image mode=RGB size=716x537 at 0x7DA57C225550>, <PIL.Image.Image image mode=RGB size=716x520 at 0x7DA57C225C10>, <PIL.Image.Image image mode=RGB size=799x581 at 0x7DA57C2255B0>, <PIL.Image.Image image mode=RGB size=799x581 at 0x7DA57C224560>, <PIL.Image.Image image mode=RGB size=716x520 at 0x7DA57C225670>, <PIL.Image.Image image mode=RGB size=793x579 at 0x7DA57C224830>, <PIL.Image.Image image mode=RGB size=716x537 at 0x7DA57C224290>, <PIL.Image.Image image mode=RGB size=716x537 at 0x7DA57C225400>, <PIL.Image.Image image mode=RGB size=792x577 at 0x7DA57C225D90>, <PIL.Image.Image image mode=RGB size=716x537 at 0x7DA57C226BA0>, <PIL.Image.Image image mode=RGB size=793x576 at 0x7DA57C227F50>, <PIL.Image.Image image mode=RGB size=716x521 at 0x7DA57C226F60>, <PIL.Image.Image image mode=RGB size=792x574 at 0x7DA57C227410>, <PIL.Image.Image image mode=RGB size=799x584 at 0x7DA57C2271A0>, <PIL.Image.Image image mode=RGB size=716x537 at 0x7DA57C2240B0>, <PIL.Image.Image image mode=RGB size=797x578 at 0x7DA57C225910>, <PIL.Image.Image image mode=RGB size=716x519 at 0x7DA57C2251F0>, <PIL.Image.Image image mode=RGB size=716x537 at 0x7DA57C226000>, <PIL.Image.Image image mode=RGB size=716x537 at 0x7DA57C226630>, <PIL.Image.Image image mode=RGB size=799x585 at 0x7DA57C2242F0>, <PIL.Image.Image image mode=RGB size=716x491 at 0x7DA57C224F80>, <PIL.Image.Image image mode=RGB size=716x537 at 0x7DA57C226270>, <PIL.Image.Image image mode=RGB size=713x517 at 0x7DA57C227B00>, <PIL.Image.Image image mode=RGB size=797x581 at 0x7DA57C224CB0>, <PIL.Image.Image image mode=RGB size=716x521 at 0x7DA57C2241D0>, <PIL.Image.Image image mode=RGB size=716x537 at 0x7DA587DBBA10>, <PIL.Image.Image image mode=RGB size=799x581 at 0x7DA587DB8050>, <PIL.Image.Image image mode=RGB size=792x574 at 0x7DA587DB8080>, <PIL.Image.Image image mode=RGB size=793x581 at 0x7DA587DBAA50>, <PIL.Image.Image image mode=RGB size=793x584 at 0x7DA57DE7B6B0>, <PIL.Image.Image image mode=RGB size=715x518 at 0x7DA57C6B89B0>, <PIL.Image.Image image mode=RGB size=716x537 at 0x7DA57C6B8230>, <PIL.Image.Image image mode=RGB size=726x475 at 0x7DA57C6B85C0>, <PIL.Image.Image image mode=RGB size=800x583 at 0x7DA57C6BAF90>, <PIL.Image.Image image mode=RGB size=792x576 at 0x7DA57C6BACF0>, <PIL.Image.Image image mode=RGB size=716x537 at 0x7DA57C238200>, <PIL.Image.Image image mode=RGB size=716x519 at 0x7DA57C239A00>, <PIL.Image.Image image mode=RGB size=800x581 at 0x7DA57C238530>, <PIL.Image.Image image mode=RGB size=800x585 at 0x7DA57C239610>, <PIL.Image.Image image mode=RGB size=799x581 at 0x7DA57C2397C0>, <PIL.Image.Image image mode=RGB size=800x582 at 0x7DA57C23A4E0>, <PIL.Image.Image image mode=RGB size=716x537 at 0x7DA57C23A030>, <PIL.Image.Image image mode=RGB size=716x537 at 0x7DA57C239100>, <PIL.Image.Image image mode=RGB size=792x578 at 0x7DA57C238590>, <PIL.Image.Image image mode=RGB size=716x537 at 0x7DA57C239550>, <PIL.Image.Image image mode=RGB size=799x582 at 0x7DA57C2381D0>, <PIL.Image.Image image mode=RGB size=716x537 at 0x7DA57C239D00>, <PIL.Image.Image image mode=RGB size=792x581 at 0x7DA57C2396D0>, <PIL.Image.Image image mode=RGB size=713x517 at 0x7DA57C2386E0>, <PIL.Image.Image image mode=RGB size=793x577 at 0x7DA57C239B50>, <PIL.Image.Image image mode=RGB size=800x578 at 0x7DA57C23A270>, <PIL.Image.Image image mode=RGB size=799x585 at 0x7DA57C238410>, <PIL.Image.Image image mode=RGB size=612x484 at 0x7DA57C23A570>, <PIL.Image.Image image mode=RGB size=716x537 at 0x7DA57C2399D0>, <PIL.Image.Image image mode=RGB size=800x581 at 0x7DA57C238320>, <PIL.Image.Image image mode=RGB size=716x499 at 0x7DA57C23AB10>, <PIL.Image.Image image mode=RGB size=792x579 at 0x7DA57C23A630>, <PIL.Image.Image image mode=RGB size=716x537 at 0x7DA57C23AC00>, <PIL.Image.Image image mode=RGB size=716x537 at 0x7DA57C23A6C0>, <PIL.Image.Image image mode=RGB size=793x576 at 0x7DA57C238260>, <PIL.Image.Image image mode=RGB size=800x579 at 0x7DA57C239F40>, <PIL.Image.Image image mode=RGB size=792x578 at 0x7DA57C23AB40>, <PIL.Image.Image image mode=RGB size=716x502 at 0x7DA57C23AB70>, <PIL.Image.Image image mode=RGB size=799x582 at 0x7DA57C2390A0>, <PIL.Image.Image image mode=RGB size=716x482 at 0x7DA57C238A40>, <PIL.Image.Image image mode=RGB size=716x537 at 0x7DA57C239C40>, <PIL.Image.Image image mode=RGB size=800x585 at 0x7DA57C23A990>, <PIL.Image.Image image mode=RGB size=796x577 at 0x7DA57C23ACF0>, <PIL.Image.Image image mode=RGB size=799x581 at 0x7DA57C239850>, <PIL.Image.Image image mode=RGB size=800x583 at 0x7DA57C239B20>, <PIL.Image.Image image mode=RGB size=800x584 at 0x7DA57C238440>, <PIL.Image.Image image mode=RGB size=716x521 at 0x7DA57C23A930>, <PIL.Image.Image image mode=RGB size=716x537 at 0x7DA587EBA210>, <PIL.Image.Image image mode=RGB size=716x537 at 0x7DA57C239370>, <PIL.Image.Image image mode=RGB size=716x537 at 0x7DA57C238620>, <PIL.Image.Image image mode=RGB size=792x577 at 0x7DA57C23A7E0>, <PIL.Image.Image image mode=RGB size=716x522 at 0x7DA57C2382F0>, <PIL.Image.Image image mode=RGB size=800x561 at 0x7DA57C23A300>, <PIL.Image.Image image mode=RGB size=716x537 at 0x7DA57C23A720>, <PIL.Image.Image image mode=RGB size=716x537 at 0x7DA57C23A540>, <PIL.Image.Image image mode=RGB size=716x537 at 0x7DA57C2399A0>, <PIL.Image.Image image mode=RGB size=792x578 at 0x7DA57C23AD20>, <PIL.Image.Image image mode=RGB size=792x579 at 0x7DA57C239C10>, <PIL.Image.Image image mode=RGB size=716x537 at 0x7DA57C770F50>, <PIL.Image.Image image mode=RGB size=716x537 at 0x7DA57C239670>, <PIL.Image.Image image mode=RGB size=716x537 at 0x7DA57C23BB30>, <PIL.Image.Image image mode=RGB size=581x481 at 0x7DA57C23A480>, <PIL.Image.Image image mode=RGB size=716x537 at 0x7DA57C238D70>, <PIL.Image.Image image mode=RGB size=716x500 at 0x7DA57C2388F0>, <PIL.Image.Image image mode=RGB size=799x582 at 0x7DA57C238FE0>, <PIL.Image.Image image mode=RGB size=716x521 at 0x7DA57C23ADB0>, <PIL.Image.Image image mode=RGB size=716x537 at 0x7DA57C238A70>, <PIL.Image.Image image mode=RGB size=712x517 at 0x7DA57C239CD0>, <PIL.Image.Image image mode=RGB size=799x582 at 0x7DA57C23A330>, <PIL.Image.Image image mode=RGB size=716x521 at 0x7DA57C23A9C0>, <PIL.Image.Image image mode=RGB size=793x551 at 0x7DA57C23A2A0>, <PIL.Image.Image image mode=RGB size=800x582 at 0x7DA57C238140>, <PIL.Image.Image image mode=RGB size=799x582 at 0x7DA57C23A090>, <PIL.Image.Image image mode=RGB size=715x518 at 0x7DA57C23A600>, <PIL.Image.Image image mode=RGB size=800x580 at 0x7DA57C2393D0>, <PIL.Image.Image image mode=RGB size=793x548 at 0x7DA57C2384A0>, <PIL.Image.Image image mode=RGB size=799x582 at 0x7DA57C239130>, <PIL.Image.Image image mode=RGB size=716x537 at 0x7DA57C23A2D0>, <PIL.Image.Image image mode=RGB size=716x537 at 0x7DA57C238110>, <PIL.Image.Image image mode=RGB size=799x585 at 0x7DA57C23AAB0>, <PIL.Image.Image image mode=RGB size=716x537 at 0x7DA58734A5D0>, <PIL.Image.Image image mode=RGB size=716x518 at 0x7DA57C23A810>, <PIL.Image.Image image mode=RGB size=716x537 at 0x7DA57C239970>, <PIL.Image.Image image mode=RGB size=799x582 at 0x7DA57C23A4B0>, <PIL.Image.Image image mode=RGB size=716x521 at 0x7DA57C238920>, <PIL.Image.Image image mode=RGB size=716x521 at 0x7DA57C239E20>, <PIL.Image.Image image mode=RGB size=800x577 at 0x7DA587EBAB10>, <PIL.Image.Image image mode=RGB size=716x537 at 0x7DA57C239EB0>, <PIL.Image.Image image mode=RGB size=800x585 at 0x7DA57C239EE0>, <PIL.Image.Image image mode=RGB size=716x537 at 0x7DA57C239400>, <PIL.Image.Image image mode=RGB size=716x537 at 0x7DA57C239880>, <PIL.Image.Image image mode=RGB size=1000x726 at 0x7DA57C23A1E0>, <PIL.Image.Image image mode=RGB size=792x577 at 0x7DA57C23BB90>, <PIL.Image.Image image mode=RGB size=800x563 at 0x7DA57C239490>, <PIL.Image.Image image mode=RGB size=793x553 at 0x7DA57C23A5D0>, <PIL.Image.Image image mode=RGB size=716x537 at 0x7DA57C2383E0>, <PIL.Image.Image image mode=RGB size=716x537 at 0x7DA57C2386B0>, <PIL.Image.Image image mode=RGB size=793x552 at 0x7DA57C2383B0>, <PIL.Image.Image image mode=RGB size=713x517 at 0x7DA57C23B3E0>, <PIL.Image.Image image mode=RGB size=1278x929 at 0x7DA57C238B00>, <PIL.Image.Image image mode=RGB size=716x537 at 0x7DA57C23AC90>, <PIL.Image.Image image mode=RGB size=799x585 at 0x7DA57C238830>, <PIL.Image.Image image mode=RGB size=797x581 at 0x7DA57C239DF0>, <PIL.Image.Image image mode=RGB size=716x537 at 0x7DA57C23A210>, <PIL.Image.Image image mode=RGB size=793x558 at 0x7DA57C23A1B0>, <PIL.Image.Image image mode=RGB size=716x537 at 0x7DA57C238E90>, <PIL.Image.Image image mode=RGB size=799x581 at 0x7DA57C23AEA0>, <PIL.Image.Image image mode=RGB size=716x537 at 0x7DA57C2390D0>, <PIL.Image.Image image mode=RGB size=716x537 at 0x7DA57C23A150>, <PIL.Image.Image image mode=RGB size=716x537 at 0x7DA57C238C80>, <PIL.Image.Image image mode=RGB size=716x537 at 0x7DA57C23B260>, <PIL.Image.Image image mode=RGB size=799x581 at 0x7DA57C238050>, <PIL.Image.Image image mode=RGB size=716x537 at 0x7DA57C239FD0>, <PIL.Image.Image image mode=RGB size=716x537 at 0x7DA57C23AD50>, <PIL.Image.Image image mode=RGB size=716x537 at 0x7DA57C239D30>, <PIL.Image.Image image mode=RGB size=716x537 at 0x7DA57C239AC0>, <PIL.Image.Image image mode=RGB size=716x537 at 0x7DA57C23A7B0>, <PIL.Image.Image image mode=RGB size=716x519 at 0x7DA57C238950>, <PIL.Image.Image image mode=RGB size=716x518 at 0x7DA57C239F70>, <PIL.Image.Image image mode=RGB size=793x554 at 0x7DA57C2380E0>, <PIL.Image.Image image mode=RGB size=800x580 at 0x7DA57C2397F0>, <PIL.Image.Image image mode=RGB size=792x578 at 0x7DA57C239790>, <PIL.Image.Image image mode=RGB size=716x537 at 0x7DA57C238770>, <PIL.Image.Image image mode=RGB size=716x537 at 0x7DA57C238E00>, <PIL.Image.Image image mode=RGB size=800x579 at 0x7DA57C239E80>, <PIL.Image.Image image mode=RGB size=800x580 at 0x7DA57C23A690>, <PIL.Image.Image image mode=RGB size=792x578 at 0x7DA57C23AD80>, <PIL.Image.Image image mode=RGB size=799x582 at 0x7DA57C23A840>, <PIL.Image.Image image mode=RGB size=716x537 at 0x7DA57C2387D0>, <PIL.Image.Image image mode=RGB size=800x584 at 0x7DA57C23A8A0>, <PIL.Image.Image image mode=RGB size=716x537 at 0x7DA57C23A900>, <PIL.Image.Image image mode=RGB size=716x519 at 0x7DA57C239A90>, <PIL.Image.Image image mode=RGB size=716x537 at 0x7DA57C239160>, <PIL.Image.Image image mode=RGB size=716x537 at 0x7DA57C23AA20>, <PIL.Image.Image image mode=RGB size=716x518 at 0x7DA57C238170>, <PIL.Image.Image image mode=RGB size=716x537 at 0x7DA57C2394F0>, <PIL.Image.Image image mode=RGB size=716x502 at 0x7DA57C23B140>, <PIL.Image.Image image mode=RGB size=800x580 at 0x7DA57CBA2BD0>, <PIL.Image.Image image mode=RGB size=716x519 at 0x7DA58573A030>, <PIL.Image.Image image mode=RGB size=716x523 at 0x7DA5857395E0>, <PIL.Image.Image image mode=RGB size=1011x353 at 0x7DA587336090>, <PIL.Image.Image image mode=RGB size=792x578 at 0x7DA5873363F0>, <PIL.Image.Image image mode=RGB size=800x583 at 0x7DA5873356D0>, <PIL.Image.Image image mode=RGB size=799x582 at 0x7DA587336180>, <PIL.Image.Image image mode=RGB size=716x520 at 0x7DA5873367B0>, <PIL.Image.Image image mode=RGB size=713x519 at 0x7DA587336D20>, <PIL.Image.Image image mode=RGB size=800x584 at 0x7DA587336E70>, <PIL.Image.Image image mode=RGB size=716x466 at 0x7DA5873369F0>, <PIL.Image.Image image mode=RGB size=712x518 at 0x7DA587335490>, <PIL.Image.Image image mode=RGB size=796x581 at 0x7DA587337200>, <PIL.Image.Image image mode=RGB size=800x587 at 0x7DA587336B70>, <PIL.Image.Image image mode=RGB size=716x537 at 0x7DA587336330>, <PIL.Image.Image image mode=RGB size=716x537 at 0x7DA5873361B0>, <PIL.Image.Image image mode=RGB size=716x537 at 0x7DA587337500>, <PIL.Image.Image image mode=RGB size=793x553 at 0x7DA5873352B0>, <PIL.Image.Image image mode=RGB size=799x562 at 0x7DA587336030>, <PIL.Image.Image image mode=RGB size=800x580 at 0x7DA587337410>, <PIL.Image.Image image mode=RGB size=716x520 at 0x7DA587336750>, <PIL.Image.Image image mode=RGB size=800x585 at 0x7DA5873375F0>, <PIL.Image.Image image mode=RGB size=716x537 at 0x7DA587335EB0>, <PIL.Image.Image image mode=RGB size=793x579 at 0x7DA587336EA0>, <PIL.Image.Image image mode=RGB size=712x515 at 0x7DA587336240>, <PIL.Image.Image image mode=RGB size=716x537 at 0x7DA5873379B0>, <PIL.Image.Image image mode=RGB size=716x519 at 0x7DA587336C90>, <PIL.Image.Image image mode=RGB size=796x580 at 0x7DA587335A00>, <PIL.Image.Image image mode=RGB size=716x537 at 0x7DA587337260>, <PIL.Image.Image image mode=RGB size=800x562 at 0x7DA587336840>, <PIL.Image.Image image mode=RGB size=716x537 at 0x7DA5873371D0>, <PIL.Image.Image image mode=RGB size=793x580 at 0x7DA587336C60>, <PIL.Image.Image image mode=RGB size=713x519 at 0x7DA587336D80>, <PIL.Image.Image image mode=RGB size=716x537 at 0x7DA587336FF0>, <PIL.Image.Image image mode=RGB size=716x537 at 0x7DA587336B40>, <PIL.Image.Image image mode=RGB size=716x537 at 0x7DA587336540>, <PIL.Image.Image image mode=RGB size=800x583 at 0x7DA587336480>, <PIL.Image.Image image mode=RGB size=716x501 at 0x7DA587335130>, <PIL.Image.Image image mode=RGB size=716x537 at 0x7DA587336600>, <PIL.Image.Image image mode=RGB size=799x582 at 0x7DA587335F40>, <PIL.Image.Image image mode=RGB size=715x520 at 0x7DA587335790>, <PIL.Image.Image image mode=RGB size=716x520 at 0x7DA5873362A0>, <PIL.Image.Image image mode=RGB size=716x537 at 0x7DA587335C10>, <PIL.Image.Image image mode=RGB size=716x537 at 0x7DA587337350>, <PIL.Image.Image image mode=RGB size=792x579 at 0x7DA5873357F0>, <PIL.Image.Image image mode=RGB size=792x576 at 0x7DA587335100>, <PIL.Image.Image image mode=RGB size=800x581 at 0x7DA5873366C0>, <PIL.Image.Image image mode=RGB size=800x581 at 0x7DA587337560>, <PIL.Image.Image image mode=RGB size=800x584 at 0x7DA587335F10>, <PIL.Image.Image image mode=RGB size=800x565 at 0x7DA587335820>, <PIL.Image.Image image mode=RGB size=716x537 at 0x7DA5873369C0>, <PIL.Image.Image image mode=RGB size=800x580 at 0x7DA587336390>, <PIL.Image.Image image mode=RGB size=793x578 at 0x7DA587336A80>, <PIL.Image.Image image mode=RGB size=796x576 at 0x7DA587335400>, <PIL.Image.Image image mode=RGB size=716x537 at 0x7DA587336960>, <PIL.Image.Image image mode=RGB size=601x476 at 0x7DA587336F60>, <PIL.Image.Image image mode=RGB size=800x584 at 0x7DA5873370B0>, <PIL.Image.Image image mode=RGB size=792x578 at 0x7DA587337140>, <PIL.Image.Image image mode=RGB size=716x537 at 0x7DA587335580>, <PIL.Image.Image image mode=RGB size=716x537 at 0x7DA587336720>, <PIL.Image.Image image mode=RGB size=716x537 at 0x7DA5873377A0>, <PIL.Image.Image image mode=RGB size=716x499 at 0x7DA587335A30>, <PIL.Image.Image image mode=RGB size=716x537 at 0x7DA587337620>, <PIL.Image.Image image mode=RGB size=716x537 at 0x7DA587335340>, <PIL.Image.Image image mode=RGB size=799x582 at 0x7DA5873350D0>, <PIL.Image.Image image mode=RGB size=792x578 at 0x7DA5873358B0>, <PIL.Image.Image image mode=RGB size=716x537 at 0x7DA587337650>, <PIL.Image.Image image mode=RGB size=800x583 at 0x7DA587336C30>, <PIL.Image.Image image mode=RGB size=792x579 at 0x7DA587335CA0>, <PIL.Image.Image image mode=RGB size=716x537 at 0x7DA587336A20>, <PIL.Image.Image image mode=RGB size=800x581 at 0x7DA587DE7110>, <PIL.Image.Image image mode=RGB size=716x537 at 0x7DA587DE6D50>, <PIL.Image.Image image mode=RGB size=800x585 at 0x7DA587DE74A0>, <PIL.Image.Image image mode=RGB size=716x537 at 0x7DA587DE7140>, <PIL.Image.Image image mode=RGB size=799x582 at 0x7DA587DE7050>, <PIL.Image.Image image mode=RGB size=799x582 at 0x7DA587DE73E0>, <PIL.Image.Image image mode=RGB size=716x517 at 0x7DA587DE6F60>, <PIL.Image.Image image mode=RGB size=716x537 at 0x7DA587DE6E10>, <PIL.Image.Image image mode=RGB size=793x579 at 0x7DA57C358920>, <PIL.Image.Image image mode=RGB size=800x584 at 0x7DA57C359A00>, <PIL.Image.Image image mode=RGB size=797x581 at 0x7DA57C359400>, <PIL.Image.Image image mode=RGB size=716x519 at 0x7DA57C358C50>, <PIL.Image.Image image mode=RGB size=799x585 at 0x7DA57C358CB0>, <PIL.Image.Image image mode=RGB size=716x537 at 0x7DA57C358CE0>, <PIL.Image.Image image mode=RGB size=800x581 at 0x7DA57C3597F0>, <PIL.Image.Image image mode=RGB size=716x537 at 0x7DA57C8AF7A0>, <PIL.Image.Image image mode=RGB size=716x537 at 0x7DA587337590>, <PIL.Image.Image image mode=RGB size=716x499 at 0x7DA57C6D5B50>, <PIL.Image.Image image mode=RGB size=716x537 at 0x7DA57C8AFF20>, <PIL.Image.Image image mode=RGB size=609x483 at 0x7DA585468470>, <PIL.Image.Image image mode=RGB size=716x537 at 0x7DA57C8AF6B0>, <PIL.Image.Image image mode=RGB size=716x537 at 0x7DA57C8AF8F0>, <PIL.Image.Image image mode=RGB size=716x537 at 0x7DA584DE0DA0>, <PIL.Image.Image image mode=RGB size=716x537 at 0x7DA584DE2DB0>, <PIL.Image.Image image mode=RGB size=716x537 at 0x7DA584DE33E0>, <PIL.Image.Image image mode=RGB size=800x584 at 0x7DA584DE3C50>, <PIL.Image.Image image mode=RGB size=799x582 at 0x7DA584DE30B0>, <PIL.Image.Image image mode=RGB size=716x537 at 0x7DA584DE32C0>, <PIL.Image.Image image mode=RGB size=716x537 at 0x7DA584DE3380>, <PIL.Image.Image image mode=RGB size=715x520 at 0x7DA584DE1CD0>, <PIL.Image.Image image mode=RGB size=799x581 at 0x7DA584DE3AD0>, <PIL.Image.Image image mode=RGB size=716x537 at 0x7DA584DE3410>, <PIL.Image.Image image mode=RGB size=716x537 at 0x7DA584DE3590>, <PIL.Image.Image image mode=RGB size=792x577 at 0x7DA584DE3B00>, <PIL.Image.Image image mode=RGB size=792x579 at 0x7DA584DE3C20>, <PIL.Image.Image image mode=RGB size=716x537 at 0x7DA584DE3260>, <PIL.Image.Image image mode=RGB size=716x537 at 0x7DA584DE31D0>, <PIL.Image.Image image mode=RGB size=800x563 at 0x7DA584DE2F60>, <PIL.Image.Image image mode=RGB size=716x537 at 0x7DA57C20C350>, <PIL.Image.Image image mode=RGB size=796x579 at 0x7DA57C20C170>, <PIL.Image.Image image mode=RGB size=716x521 at 0x7DA57C20C2F0>, <PIL.Image.Image image mode=RGB size=800x581 at 0x7DA57C20C500>, <PIL.Image.Image image mode=RGB size=716x537 at 0x7DA57C20C140>, <PIL.Image.Image image mode=RGB size=800x585 at 0x7DA5A1871760>, <PIL.Image.Image image mode=RGB size=799x577 at 0x7DA5A18700E0>, <PIL.Image.Image image mode=RGB size=792x577 at 0x7DA5A18703B0>, <PIL.Image.Image image mode=RGB size=792x575 at 0x7DA5A1870E30>, <PIL.Image.Image image mode=RGB size=793x578 at 0x7DA5A1870E90>, <PIL.Image.Image image mode=RGB size=716x537 at 0x7DA587358C50>, <PIL.Image.Image image mode=RGB size=715x518 at 0x7DA587358EF0>, <PIL.Image.Image image mode=RGB size=1276x925 at 0x7DA5873581A0>, <PIL.Image.Image image mode=RGB size=800x584 at 0x7DA587358920>, <PIL.Image.Image image mode=RGB size=716x537 at 0x7DA587359190>, <PIL.Image.Image image mode=RGB size=731x488 at 0x7DA587358BC0>, <PIL.Image.Image image mode=RGB size=799x580 at 0x7DA587358950>, <PIL.Image.Image image mode=RGB size=716x537 at 0x7DA587358B90>, <PIL.Image.Image image mode=RGB size=793x581 at 0x7DA5873586E0>, <PIL.Image.Image image mode=RGB size=716x537 at 0x7DA587358170>, <PIL.Image.Image image mode=RGB size=716x537 at 0x7DA587358A70>, <PIL.Image.Image image mode=RGB size=799x581 at 0x7DA587358FE0>, <PIL.Image.Image image mode=RGB size=716x537 at 0x7DA587358410>, <PIL.Image.Image image mode=RGB size=716x537 at 0x7DA587359310>, <PIL.Image.Image image mode=RGB size=716x537 at 0x7DA587358AA0>, <PIL.Image.Image image mode=RGB size=715x519 at 0x7DA5873588C0>, <PIL.Image.Image image mode=RGB size=792x578 at 0x7DA587359070>, <PIL.Image.Image image mode=RGB size=716x537 at 0x7DA5873587A0>, <PIL.Image.Image image mode=RGB size=793x577 at 0x7DA587358E60>, <PIL.Image.Image image mode=RGB size=716x537 at 0x7DA587358380>, <PIL.Image.Image image mode=RGB size=716x520 at 0x7DA587358B00>, <PIL.Image.Image image mode=RGB size=800x579 at 0x7DA587359490>, <PIL.Image.Image image mode=RGB size=716x537 at 0x7DA587358620>, <PIL.Image.Image image mode=RGB size=716x537 at 0x7DA587358A40>, <PIL.Image.Image image mode=RGB size=800x562 at 0x7DA587358560>, <PIL.Image.Image image mode=RGB size=716x537 at 0x7DA587358B60>, <PIL.Image.Image image mode=RGB size=716x537 at 0x7DA587359250>, <PIL.Image.Image image mode=RGB size=716x537 at 0x7DA587358890>, <PIL.Image.Image image mode=RGB size=799x585 at 0x7DA587358DD0>, <PIL.Image.Image image mode=RGB size=716x520 at 0x7DA5873590A0>, <PIL.Image.Image image mode=RGB size=716x537 at 0x7DA5873583E0>, <PIL.Image.Image image mode=RGB size=799x581 at 0x7DA587358230>, <PIL.Image.Image image mode=RGB size=715x520 at 0x7DA5873590D0>, <PIL.Image.Image image mode=RGB size=716x520 at 0x7DA587359400>, <PIL.Image.Image image mode=RGB size=716x503 at 0x7DA58563C980>, <PIL.Image.Image image mode=RGB size=793x576 at 0x7DA58563EF00>, <PIL.Image.Image image mode=RGB size=800x551 at 0x7DA58563DCD0>, <PIL.Image.Image image mode=RGB size=800x585 at 0x7DA58563D700>, <PIL.Image.Image image mode=RGB size=793x556 at 0x7DA58563E210>, <PIL.Image.Image image mode=RGB size=792x575 at 0x7DA57C23C410>, <PIL.Image.Image image mode=RGB size=716x537 at 0x7DA57C23CD70>, <PIL.Image.Image image mode=RGB size=716x537 at 0x7DA57C23C290>, <PIL.Image.Image image mode=RGB size=800x583 at 0x7DA57C23C110>, <PIL.Image.Image image mode=RGB size=716x537 at 0x7DA57C23C680>, <PIL.Image.Image image mode=RGB size=793x540 at 0x7DA57C23FAA0>, <PIL.Image.Image image mode=RGB size=716x537 at 0x7DA57C23C5C0>, <PIL.Image.Image image mode=RGB size=792x576 at 0x7DA57C23D3D0>, <PIL.Image.Image image mode=RGB size=800x586 at 0x7DA57C23D970>, <PIL.Image.Image image mode=RGB size=716x537 at 0x7DA57C23CF50>, <PIL.Image.Image image mode=RGB size=799x581 at 0x7DA57C23C2F0>, <PIL.Image.Image image mode=RGB size=716x537 at 0x7DA57C23FCE0>, <PIL.Image.Image image mode=RGB size=799x561 at 0x7DA57C22C290>, <PIL.Image.Image image mode=RGB size=796x575 at 0x7DA57C241190>, <PIL.Image.Image image mode=RGB size=715x520 at 0x7DA57C242090>, <PIL.Image.Image image mode=RGB size=800x580 at 0x7DA57C241940>, <PIL.Image.Image image mode=RGB size=799x585 at 0x7DA57C241BB0>, <PIL.Image.Image image mode=RGB size=792x577 at 0x7DA57C242630>, <PIL.Image.Image image mode=RGB size=712x517 at 0x7DA57C241F40>, <PIL.Image.Image image mode=RGB size=793x573 at 0x7DA57C241490>, <PIL.Image.Image image mode=RGB size=716x537 at 0x7DA57C240F20>, <PIL.Image.Image image mode=RGB size=799x582 at 0x7DA57C240680>, <PIL.Image.Image image mode=RGB size=797x579 at 0x7DA57C2421E0>, <PIL.Image.Image image mode=RGB size=716x537 at 0x7DA57C241CA0>, <PIL.Image.Image image mode=RGB size=716x537 at 0x7DA57C241A60>, <PIL.Image.Image image mode=RGB size=716x537 at 0x7DA57C241670>, <PIL.Image.Image image mode=RGB size=716x537 at 0x7DA57C2422A0>, <PIL.Image.Image image mode=RGB size=799x581 at 0x7DA57C2416D0>, <PIL.Image.Image image mode=RGB size=792x576 at 0x7DA57C2418B0>, <PIL.Image.Image image mode=RGB size=716x537 at 0x7DA57C240560>, <PIL.Image.Image image mode=RGB size=799x582 at 0x7DA57C241340>, <PIL.Image.Image image mode=RGB size=716x537 at 0x7DA57C2426C0>, <PIL.Image.Image image mode=RGB size=716x520 at 0x7DA57C241760>, <PIL.Image.Image image mode=RGB size=799x583 at 0x7DA57C242450>, <PIL.Image.Image image mode=RGB size=800x584 at 0x7DA57C241040>, <PIL.Image.Image image mode=RGB size=799x583 at 0x7DA57C241160>, <PIL.Image.Image image mode=RGB size=716x521 at 0x7DA57C241220>, <PIL.Image.Image image mode=RGB size=793x554 at 0x7DA57C242180>, <PIL.Image.Image image mode=RGB size=792x576 at 0x7DA57C240890>, <PIL.Image.Image image mode=RGB size=799x582 at 0x7DA57C242330>, <PIL.Image.Image image mode=RGB size=716x519 at 0x7DA57C242540>, <PIL.Image.Image image mode=RGB size=715x521 at 0x7DA57C242210>, <PIL.Image.Image image mode=RGB size=799x582 at 0x7DA57C240F50>]\n",
            "['887.3 App.bmp', '96.12 App .bmp', '747.10 App.bmp', '152.2 App.bmp', '918.2 App.bmp', '130.6 App.bmp', '458.1 App.bmp', '277.4 App.bmp', '919.3 App.bmp', '4.2 Appendix.png', '761.4 App.bmp', '747.4 App.bmp', '777.3 App.bmp', '927.12 App.bmp', '801.2 App.bmp', '565.1 App.bmp', '777.2 App.bmp', '80.2 App.bmp', '91.4 App.bmp', '143.2 App.bmp', '463.4 App.bmp', '936.2 App.bmp', '7.1 Appendix.bmp', '927.8 App.bmp', '503.2 app.bmp', '49.2 App.bmp', '278.2 App.bmp', '443.1 App.bmp', '697.1 App.bmp', '841.1 App.bmp', '928.2 App.bmp', '117.1 App.bmp', '99.2 App.bmp', '249.1 App.bmp', '773.5 App.bmp', '122.1 App.bmp', '105.10 App.bmp', '316.1 App.bmp', '121.1 App.bmp', '186.3 App.bmp', '863.4 App.bmp', '195.3 App.bmp', '524.2 App.bmp', '537.1 App.bmp', '233.5 App.bmp', '557.1 App.bmp', '583.4 App.bmp', '525.10 App.bmp', '446.2 App.bmp', '846.1 App.bmp', '88.2 App.bmp', '790.6 App.bmp', '168.6 App.bmp', '831.4 App.bmp', '252.2 App.bmp', '850.2 App.bmp', '494.6 App.bmp', '41.3 App.bmp', '101.14 App.bmp', '547.11 App.bmp', '547.5 App.bmp', '68.1 App.bmp', '80.3 App.bmp', '168.5 App.bmp', '494.4 App.bmp', '61.3 App.bmp', '29.5 Appendix.bmp', '102.1 App.bmp', '205.4 App.bmp', '376.1 App.bmp', '530.2 App.bmp', '936.3 App.bmp', '181.3 App.bmp', '454.1 App.bmp', '477.3 App.bmp', '11.1 Appendix.png', '533.1 App.bmp', '761.3 App.bmp', '74.1 App.bmp', '107.2 App.bmp', '129.2 App.bmp', '35.1 App.bmp', '587.3 App.bmp', '833.3 App.bmp', '77.3 App.bmp', '540.1 App.bmp', '30.2 Appendix.bmp', '801.3 App.bmp', '1.4 Appendix.png', '774.1 App.bmp', '6.4 Appendix.png', '547.2 App.bmp', '841.3 App.bmp', '551.1 App.bmp', '900.1 App.bmp', '278.1 App.bmp', '560.5 App.bmp', '539.2 App.bmp', '168.9 App.bmp', '827.2 App.bmp', '290.3 App.bmp', '751.4 App.bmp', '721.1 App.bmp', '927.11 App.bmp', '102.7 App.bmp', '117.6 App.bmp', '26.1 Appendix.bmp', '695.3 App.bmp', '567.1 App.bmp', '754.2 App.bmp', '186.1 App.bmp', '547.10 App.bmp', '909.5 App.bmp', '509.2 App.bmp', '345.2 App.bmp', '357.1 App.bmp', '188.2 App.bmp', '26.2 Appendix.bmp', '103.5 App.bmp', '106.8 App.bmp', '607.4 App.bmp', '575.1 App.bmp', '102.10 App.bmp', '642.3 App.bmp', '928.1 App.bmp', '751.5 App.bmp', '531.6 App.bmp', '78.2 App.bmp', '761.1 App.bmp', '168.8 App.bmp', '22.5 Appendix.bmp', '34.1 App.bmp', '445.3 App.bmp', '37.2 App .bmp', '202.4 App.bmp', '65.8 App.bmp', '86.3 App.bmp', '499.2 App.bmp', '746.2 App.bmp', '531.5 App.bmp', '24.3 Appendix.bmp', '288.2 App.bmp', '177.2 App.bmp', '455.2 App.bmp', '158.2 App.bmp', '837.7 App.bmp', '87.2 App.bmp', '752.3 App.bmp', '34.2 App.bmp', '186.6 App.bmp', '532.3 App.bmp', '904.4 App.bmp', '358.2 App.bmp', '850.1 App.bmp', '747.5 App.bmp', '96.10 App.bmp', '541.1 App.bmp', '771.2 App.bmp', '900.2 App.bmp', '88.1 App.bmp', '773.10 App.bmp', '129.1 App.bmp', '15.1 Appendix.png', '114.3 App.bmp', '12.2 Appendix.png', '211.3 App.bmp', '189.1 App.bmp', '546.1 App.bmp', '90.1 App.bmp', '503.3 app.bmp', '158.4 App.bmp', '622.4 App.bmp', '129.4 App.bmp', '506.1 App.bmp', '545.5 App.bmp', '192.1 App.bmp', '697.3 App.bmp', '545.2 App.bmp', '216.1 App.bmp', '203.1 App.bmp', '814.2 App.bmp', '101.8 App.bmp', '61.4 App.bmp', '454.6 App.bmp', '695.2 App.bmp', '75.1 App.bmp', '537.6 App.bmp', '101.12 App.bmp', '547.9 App.bmp', '266.3 App.bmp', '893.3 App.bmp', '240.1 App.bmp', '107.1 App.bmp', '856.1 App.bmp', '672.5 App.bmp', '773.7 App.bmp', '645.6 App.bmp', '99.4 App.bmp', '174.5 App.bmp', '672.4 App.bmp', '990.7 App.bmp', '854.2 App.bmp', '77.2 App.bmp', '837.5 App.bmp', '592.2 App.bmp', '6.3 Appendix.png', '41.2 App.bmp', '512.2 App.bmp', '376.2 App.bmp', '832.2 App.bmp', '458.3 App.bmp', '105.12 App.bmp', '168.3 App.bmp', '233.4 App.bmp', '43.4 App.bmp', '525.8 App.bmp', '955.4 App.bmp', '832.1 App.bmp', '174.3 App.bmp', '220.2 App.bmp', '879.3 App.bmp', '111.9 App .bmp', '123.4 App.bmp', '187.3 App.bmp', '530.1 App.bmp', '563.5 App.bmp', '925.1 App.bmp', '921.5 App .bmp', '125.1 App.bmp', '271.5 App.bmp', '65.3 App.bmp', '102.8 App.bmp', '773.6 App.bmp', '133.3 App.bmp', '289.1 App.bmp', '3.3 Appendix.png', '5.1 Appendix.png', '601.3 App.bmp', '341.1 App.bmp', '186.7 App.bmp', '832.3 App.bmp', '955.2 App.bmp', '66.4 App.bmp', '919.2 App.bmp', '981.1 App.bmp', '747.6 App.bmp', '201.2 App.bmp', '508.1 App.bmp', '841.6 App.bmp', '781.1 App.bmp', '133.2 App.bmp', '752.5 App.bmp', '23.2 Appendix.bmp', '512.3 App.bmp', '686.4 App.bmp', '85.2 App.bmp', '824.5 App.bmp', '289.2 App.bmp', '88.4 App.bmp', '809.3 App.bmp', '9.2 Appendix.bmp', '790.3 App.bmp', '802.7 App.bmp', '18.3 Appendix.bmp', '137.7 App.bmp', '747.9 App.bmp', '220.1 App.bmp', '137.9 App.bmp', '594.3 App.bmp', '990.8 App.bmp', '802.5 App.bmp', '560.6 App.bmp', '796.1 App.bmp', '508.4 App.bmp', '117.5 App.bmp', '981.2 App.bmp', '161.1 App.bmp', '41.1. App.bmp', '68.2 App.bmp', '643.3 App.bmp', '607.5 App.bmp', '790.5 App.bmp', '499.3 App.bmp', '466.4 App.bmp', '721.2 App.bmp', '487.2 App.bmp', '124.4 App.bmp', '749.1 App.bmp', '117.8 App.bmp', '187.8 App.bmp', '290.2 App.bmp', '233.3 App.bmp', '738.2 App.bmp', '921.3 App.bmp', '69.4 App.bmp', '691.6 App.bmp', '69.6 App.bmp', '24.1 Appendix.bmp', '106.6 App.bmp', '30.3 Appendix.bmp', '824.6 App.bmp', '445.4 App.bmp', '502.1 App.bmp', '872.2 App.bmp', '752.7 App.bmp', '168.7 App.bmp', '191.1 App.bmp', '790.2 App.bmp', '199.1 App.bmp', '105.1 App.bmp', '48.2 App.bmp', '53.2 App.bmp', '452.1 App .bmp', '837.4 App.bmp', '323.3 App.bmp', '525.7 App.bmp', '368.2 App.bmp', '777.4 App.bmp', '833.2 App.bmp', '938.2 App.bmp', '508.3 App.bmp', '933.1 App.bmp', '145.4 App.bmp', '853.3 App.bmp', '540.2 App.bmp', '990.9 App.bmp', '809.2 App.bmp', '145.3 App.bmp', '304.2 App.bmp', '441.3 App .bmp', '777.1 App.bmp', '711.4 App.bmp', '232.2 App.bmp', '443.4 App.bmp', '697.5 App.bmp', '211.4 App.bmp', '622.5 App.bmp', '65.7 App.bmp', '445.2 App.bmp', '188.4 App.bmp', '231.2 App.bmp', '315.1 App.bmp', '464.3 App.bmp', '249.2 App.bmp', '498.1 App.bmp', '169.7 App.bmp', '152.1 App.bmp', '175.1 App.bmp', '96.2 App .bmp', '3.4 Appendix.png', '537.4 App.bmp', '499.4 App.bmp', '161.3 App.bmp', '927.10 App.bmp', '721.3 App.bmp', '673.1 App.bmp', '802.4 App.bmp', '691.5 App.bmp', '70.2 App.bmp', '771.1 App.bmp', '494.5 App.bmp', '551.2 App.bmp', '116.3 App.bmp', '92.5 App.bmp', '143.1 App.bmp', '879.2 App.bmp', '143.3 App.bmp', '773.2 App.bmp', '117.7 App.bmp', '9.3 Appendix.png', '593.2 App.bmp', '525.9 App.bmp', '29.4 Appendix.bmp', '559.3 App.bmp', '619.2 App.bmp', '232.3 App.bmp', '468.3 App.bmp', '686.5 App.bmp', '494.1 App.bmp', '587.5 App.bmp', '102.18 App.bmp', '79.4 App.bmp', '118.2 App.bmp', '537.5 App.bmp', '691.3 App.bmp', '827.1 App.bmp', '927.3 App.bmp', '950.2 App.bmp', '168.2 App.bmp', '109.3 App.bmp', '102.6 App.bmp', '802.6 App.bmp', '446.1 App.bmp', '299.1 App.bmp', '591.7 App.bmp', '585.2 App.bmp', '105.6 App.bmp', '458.2 App.bmp', '145.1 App.bmp', '563.1 App.bmp', '200.1 App.bmp', '102.2 App.bmp', '83.1 App.bmp', '6.1 Appendix.png', '344.2 App.bmp', '48.4 App.bmp', '116.4 App.bmp', '443.2 App.bmp', '454.2 App.bmp', '186.4 App.bmp', '103.8 App.bmp', '974.4 App.bmp', '23.1 Appendix.bmp', '606.3 App.bmp', '553.1 App.bmp', '831.1 App.bmp', '947.1 App.bmp', '51.2 App.bmp', '547.8 App.bmp', '207.6 App.bmp', '592.1 App.bmp', '775.1 App.bmp', '94.5 App.bmp', '841.2 App.bmp', '304.3 App.bmp', '107.5 App.bmp', '203.2. App.bmp', '933.3 App.bmp', '824.4 App.bmp', '55.3 App.bmp', '111.6 App.bmp', '796.3 App.bmp', '282.4 App.bmp', '14.1 Appendix.png', '672.6 App.bmp', '26.3 Appendix.bmp', '87.1 App.bmp', '499.9 App.bmp', '665.2 App.bmp', '37.1 App .bmp', '285.2 App.bmp', '849.2 App.bmp', '92.4 App.bmp', '107.3 App.bmp', '752.4 App.bmp', '767.1 App.bmp', '51.1 App.bmp', '34.3 App.bmp', '389.2 App .bmp', '27.2 Appendix.bmp', '17.1 Appendix.bmp', '122.2 App.bmp', '25.2 Appendix.bmp', '938.1 App.bmp', '475.3 App.bmp', '628.1 App.bmp', '808.1 App.bmp', '882.2 App.bmp', '13.1 Appendix.png', '449.3 App.bmp', '955.1 App.bmp', '43.3 App.bmp', '118.4 App.bmp', '988.3 App.bmp', '510.4 App.bmp', '773.3 App.bmp', '545.3 App.bmp', '790.1 App.bmp', '159.2 App.bmp', '773.9 App.bmp', '747.11 App.bmp', '802.3 App.bmp', '207.4 App.bmp', '921.6 App .bmp', '444.4 App.bmp', '190.1 App.bmp', '875.1 App.bmp', '284.2 App.bmp', '597.5 App.bmp', '547.6 App.bmp', '833.4 App.bmp', '506.5 App.bmp', '14.3 Appendix.png', '499.5 App.bmp', '609.1 App.bmp', '790.4 App.bmp', '506.4 App.bmp', '187.9 App.bmp', '747.1 App.bmp', '9.1 Appendix.bmp', '186.2 App.bmp', '129.6 App.bmp', '802.2 App.bmp', '525.4 App.bmp', '56.2 App.bmp', '558.2 App.bmp', '51.3 App.bmp', '12.1 Appendix.bmp', '607.1 App.bmp', '833.5 App.bmp', '863.1 App.bmp', '64.1 App.bmp', '936.1 App.bmp', '965.2 App.bmp', '511.4 App.bmp', '840.1 App.bmp', '837.3 App.bmp', '59.2 App.bmp', '591.10 App.bmp', '81.4 App.bmp', '207.3 App.bmp', '260.1 App.bmp', '636.2 App.bmp', '102.3 App.bmp', '161.7 App.bmp', '525.11 App.bmp', '597.3 App.bmp', '510.2 App.bmp', '119.4 App.bmp', '99.10 App.bmp', '102.14 App.bmp', '592.3 App.bmp', '365.1 App.bmp', '441.2 App.bmp', '922.1 App.bmp', '116.1 App.bmp', '96.6 App.bmp', '872.1 App.bmp', '591.8 App.bmp', '583.2 App.bmp', '393.2 App.bmp', '935.1 App.bmp', '761.2 App.bmp', '491.2 App.bmp', '5.2 Appendix.png', '545.4 App.bmp', '463.2 App.bmp', '826.1 App.bmp', '60.4 App.bmp', '41.4 App.bmp', '597.4 App.bmp', '326.2 App.bmp', '751.2 App.bmp', '103.3 App.bmp', '494.3 App.bmp', '102.9 App.bmp', '938.4 App.bmp', '922.2 App.bmp', '657.3 App.bmp', '862.2 App.bmp', '49.1 App.bmp', '128.4 App.bmp', '591.2 App.bmp', '847.3 App.bmp', '119.1 App.bmp', '560.2 App.bmp', '591.1 App.bmp', '145.2 App.bmp', '874.2 App.bmp', '195.5 App.bmp', '99.3 App.bmp', '231.3 App.bmp', '324.1 App.bmp', '231.1 App.bmp', '735.2 App.bmp', '503.4 App.bmp', '54.3 App.bmp', '510.3 App.bmp', '6.2 Appendix.png', '102.19 App.bmp', '490.4 App.bmp', '184.1 App.bmp', '656.3 App.bmp', '538.4 App.bmp', '278.3 App.bmp', '802.1 App.bmp', '806.3 App.bmp', '207.5 App.bmp', '506.6 App.bmp', '747.2 App.bmp', '130.5 App.bmp', '55.2 App.bmp', '900.3 App.bmp', '563.2 App.bmp', '819.2 App.bmp', '525.1 App.bmp', '591.9 App.bmp', '738.3 App.bmp', '773.8 App.bmp', '909.4 App.bmp', '872.4 App.bmp', '161.4 App.bmp', '508.2 App.bmp', '813.4 App.bmp', '466.3 App.bmp', '466.2 App.bmp', '971.1 App.bmp', '547.4 App.bmp', '174.6 App.bmp', '849.3 App.bmp', '537.3 App.bmp', '656.1 App.bmp', '3.5 Appendix.png', '816.6 App.bmp', '130.4 App.bmp', '565.4 App.bmp', '181.1 App.bmp', '751.6 App.bmp', '711.3 App.bmp', '72.1 App.bmp', '28.2 Appendix.bmp', '128.2 App.bmp', '174.2 App.bmp', '557.3 App.bmp', '81.5 App.bmp', '143.4 App.bmp', '503.1 App.bmp', '443.3 App.bmp', '827.3 App.bmp', '657.4 App.bmp', '187.2 App.bmp', '591.11 App.bmp', '92.3 App.bmp', '196.2 App.bmp', '106.1 App.bmp', '711.2 App.bmp', '449.1 App.bmp', '602.2 App.bmp', '523.1 App.bmp', '101.15 App.bmp', '266.2 App.bmp', '594.2 App.bmp', '921.2 App.bmp', '5.3 Appendix.bmp', '742.2 App.bmp', '672.1 App.bmp', '486.34 App.bmp', '85.4 App.bmp', '44.1 App.bmp', '606.2 App.bmp', '96.11 App .bmp', '78.1 App.bmp', '85.3 App.bmp', '974.5 App.bmp', '555.2 App.bmp', '422.1 App.bmp', '749.2 App.bmp', '531.7 App.bmp', '597.1 App.bmp', '837.6 App.bmp', '506.2 App.bmp', '517.2 App.bmp', '249.3 App.bmp', '466.1 App.bmp', '348.1 App.bmp', '158.3 App.bmp', '83.6 App.bmp', '117.3 App.bmp', '508.5 App.bmp', '102.4 App.bmp', '853.1 App.bmp', '809.1 App.bmp', '575.2 App.bmp', '96.8 App.bmp', '953.2 App.bmp', '537.9 App.bmp', '111.3 App.bmp', '25.1 Appendix.bmp', '904.3 App .bmp', '781.2 App.bmp', '389.1 App.bmp', '871.1 App.bmp', '457.2 App.bmp', '43.2 App.bmp', '169.5 App.bmp', '550.1 App.bmp', '838.1 App.bmp', '102.12 App.bmp', '841.5 App.bmp']\n"
          ]
        }
      ]
    },
    {
      "cell_type": "code",
      "source": [
        "import os\n",
        "\n",
        "# Path to the folder where you want to save selected images\n",
        "save_dir = '/content/Selected_Images'\n",
        "\n",
        "# Create the folder if it doesn't exist\n",
        "os.makedirs(save_dir, exist_ok=True)\n",
        "\n",
        "# Loop through selected images and save them\n",
        "for img, filename in zip(selected_images, selected_filenames):\n",
        "    save_path = os.path.join(save_dir, filename)\n",
        "    img.save(save_path)  # PIL will save in the original format automatically\n",
        "\n",
        "print(f\"Saved {len(selected_images)} images to {save_dir}\")\n"
      ],
      "metadata": {
        "id": "E2rIYMgRS7K8",
        "outputId": "0ea5b9c6-74ed-46be-ed56-8dacf45167ab",
        "colab": {
          "base_uri": "https://localhost:8080/"
        }
      },
      "execution_count": 62,
      "outputs": [
        {
          "output_type": "stream",
          "name": "stdout",
          "text": [
            "Saved 679 images to /content/Selected_Images\n"
          ]
        }
      ]
    },
    {
      "cell_type": "code",
      "source": [
        "import pandas as pd\n",
        "\n",
        "# Replace with your actual path\n",
        "file_path = '/content/drive/MyDrive/CNN_Assignment3/app_data.xlsx'\n",
        "\n",
        "df = pd.read_excel(file_path)\n",
        "print(df.head())\n"
      ],
      "metadata": {
        "colab": {
          "base_uri": "https://localhost:8080/"
        },
        "id": "7c7KfJeVS4YH",
        "outputId": "7b6a6046-9ba6-4f87-a8f2-fbd1c67f01c8"
      },
      "execution_count": 63,
      "outputs": [
        {
          "output_type": "stream",
          "name": "stdout",
          "text": [
            "     Age   BMI     Sex  Height  Weight  Length_of_Stay    Management  \\\n",
            "0  12.68  16.9  female   148.0    37.0             3.0  conservative   \n",
            "1  14.10  31.9    male   147.0    69.5             2.0  conservative   \n",
            "2  14.14  23.3  female   163.0    62.0             4.0  conservative   \n",
            "3  16.37  20.6  female   165.0    56.0             3.0  conservative   \n",
            "4  11.08  16.9  female   163.0    45.0             3.0  conservative   \n",
            "\n",
            "        Severity Diagnosis_Presumptive        Diagnosis  ...  \\\n",
            "0  uncomplicated          appendicitis     appendicitis  ...   \n",
            "1  uncomplicated          appendicitis  no appendicitis  ...   \n",
            "2  uncomplicated          appendicitis  no appendicitis  ...   \n",
            "3  uncomplicated          appendicitis  no appendicitis  ...   \n",
            "4  uncomplicated          appendicitis     appendicitis  ...   \n",
            "\n",
            "   Abscess_Location  Pathological_Lymph_Nodes Lymph_Nodes_Location  \\\n",
            "0               NaN                       yes                 reUB   \n",
            "1               NaN                       NaN                  NaN   \n",
            "2               NaN                       NaN                  NaN   \n",
            "3               NaN                       yes                 reUB   \n",
            "4               NaN                       yes                 reUB   \n",
            "\n",
            "   Bowel_Wall_Thickening Conglomerate_of_Bowel_Loops Ileus Coprostasis  \\\n",
            "0                    NaN                         NaN   NaN         NaN   \n",
            "1                    NaN                         NaN   NaN         NaN   \n",
            "2                    NaN                         NaN   NaN         NaN   \n",
            "3                    NaN                         NaN   NaN         NaN   \n",
            "4                    NaN                         NaN   NaN         NaN   \n",
            "\n",
            "  Meteorism Enteritis Gynecological_Findings  \n",
            "0       NaN       NaN                    NaN  \n",
            "1       yes       NaN                    NaN  \n",
            "2       yes       yes                    NaN  \n",
            "3       NaN       yes                    NaN  \n",
            "4       NaN       yes                    NaN  \n",
            "\n",
            "[5 rows x 58 columns]\n"
          ]
        }
      ]
    },
    {
      "cell_type": "code",
      "source": [
        "import pandas as pd\n",
        "import re\n",
        "\n",
        "\n",
        "# Check the first few rows to confirm column names\n",
        "# print(\"Columns:\", app_data.columns)\n",
        "# print(app_data.head())\n",
        "\n",
        "# === Step 2: Suppose your selected image filenames are stored in a list ===\n",
        "# Example list (replace this with your actual list)\n",
        "\n",
        "# === Step 3: Extract US_Number from each image name (integer before decimal) ===\n",
        "image_data = []\n",
        "for img in selected_filenames:\n",
        "    match = re.match(r\"(\\d+)\", img)\n",
        "    if match:\n",
        "        us_number = int(match.group(1))\n",
        "        image_data.append({\"Image Name\": img, \"US_Number\": us_number})\n",
        "\n",
        "image_df = pd.DataFrame(image_data)\n",
        "\n",
        "# === Step 4: Merge with diagnosis data ===\n",
        "# Ensure column names match exactly\n",
        "if 'US_Number' not in df.columns or 'Diagnosis' not in df.columns:\n",
        "    raise ValueError(\"app_data.xlsx must contain 'US_Number' and 'Diagnosis' columns\")\n",
        "\n",
        "merged_df = pd.merge(image_df, df[['US_Number', 'Diagnosis']], on='US_Number', how='left')\n",
        "\n",
        "# === Step 5: Display final table ===\n",
        "print(\"\\n Final Table:\")\n",
        "print(merged_df)\n",
        "\n",
        "# === (Optional) Save to Excel/CSV ===\n",
        "merged_df.to_excel('/content/selected_images_with_diagnosis.xlsx', index=False)\n",
        "print(\"\\nSaved as 'selected_images_with_diagnosis.xlsx'\")\n"
      ],
      "metadata": {
        "colab": {
          "base_uri": "https://localhost:8080/"
        },
        "id": "ho07dPA5VTQU",
        "outputId": "96ccd8bf-a8b3-44f3-9e34-356de6caaee1"
      },
      "execution_count": 67,
      "outputs": [
        {
          "output_type": "stream",
          "name": "stdout",
          "text": [
            "\n",
            " Final Table:\n",
            "         Image Name  US_Number     Diagnosis\n",
            "0     887.3 App.bmp        887  appendicitis\n",
            "1    96.12 App .bmp         96  appendicitis\n",
            "2    747.10 App.bmp        747           NaN\n",
            "3     152.2 App.bmp        152  appendicitis\n",
            "4     918.2 App.bmp        918  appendicitis\n",
            "..              ...        ...           ...\n",
            "674   169.5 App.bmp        169  appendicitis\n",
            "675   550.1 App.bmp        550  appendicitis\n",
            "676   838.1 App.bmp        838           NaN\n",
            "677  102.12 App.bmp        102           NaN\n",
            "678   841.5 App.bmp        841           NaN\n",
            "\n",
            "[679 rows x 3 columns]\n",
            "\n",
            "Saved as 'selected_images_with_diagnosis.xlsx'\n"
          ]
        }
      ]
    },
    {
      "cell_type": "code",
      "source": [
        "# Drop rows with NaN in the Diagnosis column\n",
        "cleaned_df = merged_df.dropna(subset=['Diagnosis'])\n",
        "\n",
        "# Print the new table\n",
        "print(cleaned_df)\n",
        "\n",
        "# (Optional) Save the cleaned table as a new CSV file\n",
        "cleaned_df.to_csv('cleaned_labeled_images.csv', index=False)\n"
      ],
      "metadata": {
        "colab": {
          "base_uri": "https://localhost:8080/"
        },
        "id": "ugpmG4CFYa3P",
        "outputId": "48cfe2f8-8ffc-401c-9856-f0699fa3d7d1"
      },
      "execution_count": 68,
      "outputs": [
        {
          "output_type": "stream",
          "name": "stdout",
          "text": [
            "         Image Name  US_Number     Diagnosis\n",
            "0     887.3 App.bmp        887  appendicitis\n",
            "1    96.12 App .bmp         96  appendicitis\n",
            "3     152.2 App.bmp        152  appendicitis\n",
            "4     918.2 App.bmp        918  appendicitis\n",
            "5     130.6 App.bmp        130  appendicitis\n",
            "..              ...        ...           ...\n",
            "669   781.2 App.bmp        781  appendicitis\n",
            "672   457.2 App.bmp        457  appendicitis\n",
            "673    43.2 App.bmp         43  appendicitis\n",
            "674   169.5 App.bmp        169  appendicitis\n",
            "675   550.1 App.bmp        550  appendicitis\n",
            "\n",
            "[572 rows x 3 columns]\n"
          ]
        }
      ]
    },
    {
      "cell_type": "code",
      "source": [
        "# Filter and print rows with diagnosis 'appendicitis'\n",
        "no_appendicitis_df = merged_df[merged_df['Diagnosis'].str.lower() == 'appendicitis']\n",
        "print(no_appendicitis_df)"
      ],
      "metadata": {
        "id": "rgZ2tEpqe-Fz",
        "outputId": "07c25a17-5def-4c2d-9d9c-6cda537164ec",
        "colab": {
          "base_uri": "https://localhost:8080/"
        }
      },
      "execution_count": 69,
      "outputs": [
        {
          "output_type": "stream",
          "name": "stdout",
          "text": [
            "         Image Name  US_Number     Diagnosis\n",
            "0     887.3 App.bmp        887  appendicitis\n",
            "1    96.12 App .bmp         96  appendicitis\n",
            "3     152.2 App.bmp        152  appendicitis\n",
            "4     918.2 App.bmp        918  appendicitis\n",
            "5     130.6 App.bmp        130  appendicitis\n",
            "..              ...        ...           ...\n",
            "669   781.2 App.bmp        781  appendicitis\n",
            "672   457.2 App.bmp        457  appendicitis\n",
            "673    43.2 App.bmp         43  appendicitis\n",
            "674   169.5 App.bmp        169  appendicitis\n",
            "675   550.1 App.bmp        550  appendicitis\n",
            "\n",
            "[493 rows x 3 columns]\n"
          ]
        }
      ]
    },
    {
      "cell_type": "code",
      "source": [
        "# Filter and print rows with diagnosis 'no appendicitis'\n",
        "no_appendicitis_df = merged_df[merged_df['Diagnosis'].str.lower() == 'no appendicitis']\n",
        "print(no_appendicitis_df)\n"
      ],
      "metadata": {
        "colab": {
          "base_uri": "https://localhost:8080/"
        },
        "id": "Te1vJSGRWiho",
        "outputId": "653ce84c-1a5a-4d3e-bd09-e3e89e431867"
      },
      "execution_count": 70,
      "outputs": [
        {
          "output_type": "stream",
          "name": "stdout",
          "text": [
            "            Image Name  US_Number        Diagnosis\n",
            "22    7.1 Appendix.bmp          7  no appendicitis\n",
            "26       278.2 App.bmp        278  no appendicitis\n",
            "44       233.5 App.bmp        233  no appendicitis\n",
            "46       583.4 App.bmp        583  no appendicitis\n",
            "59      547.11 App.bmp        547  no appendicitis\n",
            "..                 ...        ...              ...\n",
            "625      711.2 App.bmp        711  no appendicitis\n",
            "630      266.2 App.bmp        266  no appendicitis\n",
            "633   5.3 Appendix.bmp          5  no appendicitis\n",
            "654      348.1 App.bmp        348  no appendicitis\n",
            "667  25.1 Appendix.bmp         25  no appendicitis\n",
            "\n",
            "[79 rows x 3 columns]\n"
          ]
        }
      ]
    },
    {
      "cell_type": "code",
      "source": [
        "import os\n",
        "import shutil\n",
        "import pandas as pd\n",
        "\n",
        "# --- Paths ---\n",
        "image_dir = '/content/Selected_Images'   # folder with filtered images\n",
        "base_dir = '/content/Labeled_Data'       # output base folder\n",
        "\n",
        "# Create labeled folders\n",
        "appendicitis_dir = os.path.join(base_dir, 'appendicitis')\n",
        "no_appendicitis_dir = os.path.join(base_dir, 'no_appendicitis')\n",
        "os.makedirs(appendicitis_dir, exist_ok=True)\n",
        "os.makedirs(no_appendicitis_dir, exist_ok=True)\n",
        "\n",
        "# Load your cleaned DataFrame (replace with actual loading if needed)\n",
        "df = cleaned_df.copy()\n",
        "\n",
        "# Normalize diagnosis column\n",
        "df['Diagnosis'] = df['Diagnosis'].astype(str).str.lower().str.strip()\n",
        "\n",
        "# Loop through each row and copy images to the correct folder\n",
        "for _, row in df.iterrows():\n",
        "    image_file = row['Image Name']\n",
        "    src = os.path.join(image_dir, image_file)\n",
        "\n",
        "    if not os.path.exists(src):\n",
        "        print(f\"⚠️ File not found: {image_file}\")\n",
        "        continue\n",
        "\n",
        "    diagnosis = str(row['Diagnosis']).lower()\n",
        "\n",
        "    if 'no' in diagnosis:\n",
        "        dst = os.path.join(no_appendicitis_dir, image_file)\n",
        "    else:\n",
        "        dst = os.path.join(appendicitis_dir, image_file)\n",
        "\n",
        "    shutil.copy2(src, dst)  # preserves metadata\n",
        "\n",
        "# Summary counts\n",
        "num_appendicitis = len(os.listdir(appendicitis_dir))\n",
        "num_no_appendicitis = len(os.listdir(no_appendicitis_dir))\n",
        "\n",
        "print(\"\\n✅ Images sorted into appendicitis / no_appendicitis folders successfully!\")\n",
        "print(f\"Number of images in 'appendicitis' folder: {num_appendicitis}\")\n",
        "print(f\"Number of images in 'no_appendicitis' folder: {num_no_appendicitis}\")\n"
      ],
      "metadata": {
        "id": "64sjKK_7acA0",
        "outputId": "bdf89f15-0d44-499a-e4a6-8da935135ad4",
        "colab": {
          "base_uri": "https://localhost:8080/"
        }
      },
      "execution_count": 78,
      "outputs": [
        {
          "output_type": "stream",
          "name": "stdout",
          "text": [
            "\n",
            "✅ Images sorted into appendicitis / no_appendicitis folders successfully!\n",
            "Number of images in 'appendicitis' folder: 493\n",
            "Number of images in 'no_appendicitis' folder: 79\n"
          ]
        }
      ]
    },
    {
      "cell_type": "code",
      "source": [
        "!rm -rf Labeled_Images/"
      ],
      "metadata": {
        "id": "09EWzZI4qpQM"
      },
      "execution_count": 77,
      "outputs": []
    }
  ],
  "metadata": {
    "language_info": {
      "name": "python"
    },
    "colab": {
      "provenance": [],
      "include_colab_link": true
    },
    "kernelspec": {
      "name": "python3",
      "display_name": "Python 3"
    }
  },
  "nbformat": 4,
  "nbformat_minor": 0
}