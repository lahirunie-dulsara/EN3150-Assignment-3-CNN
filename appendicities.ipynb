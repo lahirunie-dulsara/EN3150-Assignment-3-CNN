{
  "cells": [
    {
      "cell_type": "code",
      "execution_count": null,
      "metadata": {
        "id": "AUhx6Ijvigc9"
      },
      "outputs": [],
      "source": [
        "#hello hansnai"
      ]
    }
  ],
  "metadata": {
    "language_info": {
      "name": "python"
    },
    "colab": {
      "provenance": []
    }
  },
  "nbformat": 4,
  "nbformat_minor": 0
}