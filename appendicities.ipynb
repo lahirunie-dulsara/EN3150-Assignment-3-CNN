{
  "cells": [
    {
      "cell_type": "markdown",
      "metadata": {
        "id": "view-in-github",
        "colab_type": "text"
      },
      "source": [
        "<a href=\"https://colab.research.google.com/github/lahirunie-dulsara/EN3150-Assignment-3-CNN/blob/Lahirunie/appendicities.ipynb\" target=\"_parent\"><img src=\"https://colab.research.google.com/assets/colab-badge.svg\" alt=\"Open In Colab\"/></a>"
      ]
    },
    {
      "cell_type": "code",
      "source": [
        "pip install ucimlrepo"
      ],
      "metadata": {
        "id": "zotNrGn6opvG",
        "outputId": "aa821991-43ba-4c77-880e-41161d70c95d",
        "colab": {
          "base_uri": "https://localhost:8080/"
        }
      },
      "execution_count": 10,
      "outputs": [
        {
          "output_type": "stream",
          "name": "stdout",
          "text": [
            "Requirement already satisfied: ucimlrepo in /usr/local/lib/python3.12/dist-packages (0.0.7)\n",
            "Requirement already satisfied: pandas>=1.0.0 in /usr/local/lib/python3.12/dist-packages (from ucimlrepo) (2.2.2)\n",
            "Requirement already satisfied: certifi>=2020.12.5 in /usr/local/lib/python3.12/dist-packages (from ucimlrepo) (2025.10.5)\n",
            "Requirement already satisfied: numpy>=1.26.0 in /usr/local/lib/python3.12/dist-packages (from pandas>=1.0.0->ucimlrepo) (2.0.2)\n",
            "Requirement already satisfied: python-dateutil>=2.8.2 in /usr/local/lib/python3.12/dist-packages (from pandas>=1.0.0->ucimlrepo) (2.9.0.post0)\n",
            "Requirement already satisfied: pytz>=2020.1 in /usr/local/lib/python3.12/dist-packages (from pandas>=1.0.0->ucimlrepo) (2025.2)\n",
            "Requirement already satisfied: tzdata>=2022.7 in /usr/local/lib/python3.12/dist-packages (from pandas>=1.0.0->ucimlrepo) (2025.2)\n",
            "Requirement already satisfied: six>=1.5 in /usr/local/lib/python3.12/dist-packages (from python-dateutil>=2.8.2->pandas>=1.0.0->ucimlrepo) (1.17.0)\n"
          ]
        }
      ]
    },
    {
      "cell_type": "code",
      "execution_count": 11,
      "metadata": {
        "id": "AUhx6Ijvigc9",
        "colab": {
          "base_uri": "https://localhost:8080/"
        },
        "outputId": "da1d989b-7c8f-4621-c712-40e06df45645"
      },
      "outputs": [
        {
          "output_type": "stream",
          "name": "stdout",
          "text": [
            "{'uci_id': 938, 'name': 'Regensburg Pediatric Appendicitis', 'repository_url': 'https://archive.ics.uci.edu/dataset/938/regensburg+pediatric+appendicitis', 'data_url': 'https://archive.ics.uci.edu/static/public/938/data.csv', 'abstract': 'This repository holds the data from a cohort of pediatric patients with suspected appendicitis admitted with abdominal pain to Children’s Hospital St. Hedwig in Regensburg, Germany, between 2016 and 2021. Each patient has (potentially multiple) ultrasound (US) images, aka views, tabular data comprising laboratory, physical examination, scoring results and ultrasonographic findings extracted manually by the experts, and three target variables, namely, diagnosis, management and severity.', 'area': 'Health and Medicine', 'tasks': ['Classification'], 'characteristics': ['Tabular', 'Image'], 'num_instances': 782, 'num_features': 53, 'feature_types': ['Real', 'Categorical', 'Integer'], 'demographics': ['Age', 'Sex'], 'target_col': ['Management', 'Severity', 'Diagnosis'], 'index_col': None, 'has_missing_values': 'yes', 'missing_values_symbol': 'NaN', 'year_of_dataset_creation': 2023, 'last_updated': 'Tue Feb 06 2024', 'dataset_doi': '10.5281/zenodo.7669442', 'creators': ['Ricards Marcinkevics', 'Patricia Reis', 'Ugne Klimiene', 'Ece Ozkan', 'Kieran Chin-Cheong', 'Alyssia Paschke', 'Julia Zerres', 'Markus Denzinger', 'David Niederberger', 'S. Wellmann', 'C. Knorr', 'Julia E.'], 'intro_paper': {'ID': 354, 'type': 'NATIVE', 'title': 'Interpretable and Intervenable Ultrasonography-based Machine Learning Models for Pediatric Appendicitis', 'authors': 'Ricards Marcinkevics, Patricia Reis Wolfertstetter, Ugne Klimiene, Ece Ozkan, Kieran Chin-Cheong, Alyssia Paschke, Julia Zerres, Markus Denzinger, David Niederberger, S. Wellmann, C. Knorr, Julia E. Vogt', 'venue': 'Medical Image Analysis', 'year': 2023, 'journal': None, 'DOI': None, 'URL': 'https://arxiv.org/abs/2302.14460v2', 'sha': None, 'corpus': None, 'arxiv': None, 'mag': None, 'acl': None, 'pmid': None, 'pmcid': None}, 'additional_info': {'summary': 'This dataset was acquired in a retrospective study from a cohort of pediatric patients admitted with abdominal pain to Children’s Hospital St. Hedwig in Regensburg, Germany. Multiple abdominal B-mode ultrasound images were acquired for most patients, with the number of views varying from 1 to 15. The images depict various regions of interest, such as the abdomen’s right lower quadrant, appendix, intestines, lymph nodes and reproductive organs. Alongside multiple US images for each subject, the dataset includes information encompassing laboratory tests, physical examination results, clinical scores, such as Alvarado and pediatric appendicitis scores, and expert-produced ultrasonographic findings. Lastly, the subjects were labeled w.r.t. three target variables: diagnosis (appendicitis vs. no appendicitis), management (surgical vs. conservative) and severity (complicated vs. uncomplicated or no appendicitis). The study was approved by the Ethics Committee of the University of Regensburg (no. 18-1063-101, 18-1063_1-101 and 18-1063_2-101) and was performed following applicable guidelines and regulations.', 'purpose': None, 'funded_by': None, 'instances_represent': None, 'recommended_data_splits': None, 'sensitive_data': None, 'preprocessing_description': None, 'variable_info': None, 'citation': None}, 'external_url': 'https://zenodo.org/records/7669442'}\n",
            "                                name     role         type demographic  \\\n",
            "0                                Age  Feature   Continuous         Age   \n",
            "1                                BMI  Feature   Continuous        None   \n",
            "2                                Sex  Feature  Categorical         Sex   \n",
            "3                             Height  Feature   Continuous        None   \n",
            "4                             Weight  Feature      Integer        None   \n",
            "5                     Length_of_Stay  Feature      Integer        None   \n",
            "6                         Management   Target  Categorical        None   \n",
            "7                           Severity   Target  Categorical        None   \n",
            "8              Diagnosis_Presumptive    Other       Binary        None   \n",
            "9                          Diagnosis   Target       Binary        None   \n",
            "10                    Alvarado_Score  Feature      Integer        None   \n",
            "11     Paedriatic_Appendicitis_Score  Feature      Integer        None   \n",
            "12                    Appendix_on_US  Feature       Binary        None   \n",
            "13                 Appendix_Diameter  Feature      Integer        None   \n",
            "14                    Migratory_Pain  Feature       Binary        None   \n",
            "15              Lower_Right_Abd_Pain  Feature       Binary        None   \n",
            "16  Contralateral_Rebound_Tenderness  Feature       Binary        None   \n",
            "17                     Coughing_Pain  Feature       Binary        None   \n",
            "18                            Nausea  Feature       Binary        None   \n",
            "19                  Loss_of_Appetite  Feature       Binary        None   \n",
            "20                  Body_Temperature  Feature   Continuous        None   \n",
            "21                         WBC_Count  Feature   Continuous        None   \n",
            "22             Neutrophil_Percentage  Feature      Integer        None   \n",
            "23             Segmented_Neutrophils  Feature      Integer        None   \n",
            "24                      Neutrophilia  Feature  Categorical        None   \n",
            "25                         RBC_Count  Feature   Continuous        None   \n",
            "26                        Hemoglobin  Feature   Continuous        None   \n",
            "27                               RDW  Feature   Continuous        None   \n",
            "28                 Thrombocyte_Count  Feature      Integer        None   \n",
            "29                  Ketones_in_Urine  Feature  Categorical        None   \n",
            "30                      RBC_in_Urine  Feature  Categorical        None   \n",
            "31                      WBC_in_Urine  Feature  Categorical        None   \n",
            "32                               CRP  Feature      Integer        None   \n",
            "33                           Dysuria  Feature       Binary        None   \n",
            "34                             Stool  Feature  Categorical        None   \n",
            "35                       Peritonitis  Feature  Categorical        None   \n",
            "36                        Psoas_Sign  Feature  Categorical        None   \n",
            "37    Ipsilateral_Rebound_Tenderness  Feature  Categorical        None   \n",
            "38                      US_Performed  Feature  Categorical        None   \n",
            "39                         US_Number    Other      Integer        None   \n",
            "40                       Free_Fluids  Feature  Categorical        None   \n",
            "41              Appendix_Wall_Layers  Feature  Categorical        None   \n",
            "42                       Target_Sign  Feature  Categorical        None   \n",
            "43                     Appendicolith  Feature  Categorical        None   \n",
            "44                         Perfusion  Feature  Categorical        None   \n",
            "45                       Perforation  Feature  Categorical        None   \n",
            "46       Surrounding_Tissue_Reaction  Feature  Categorical        None   \n",
            "47              Appendicular_Abscess  Feature  Categorical        None   \n",
            "48                  Abscess_Location  Feature  Categorical        None   \n",
            "49          Pathological_Lymph_Nodes  Feature       Binary        None   \n",
            "50              Lymph_Nodes_Location  Feature  Categorical        None   \n",
            "51             Bowel_Wall_Thickening  Feature       Binary        None   \n",
            "52       Conglomerate_of_Bowel_Loops  Feature       Binary        None   \n",
            "53                             Ileus  Feature  Categorical        None   \n",
            "54                       Coprostasis  Feature  Categorical        None   \n",
            "55                         Meteorism  Feature  Categorical        None   \n",
            "56                         Enteritis  Feature  Categorical        None   \n",
            "57            Gynecological_Findings  Feature  Categorical        None   \n",
            "\n",
            "                                          description  units missing_values  \n",
            "0                     Obtained from the date of birth  years            yes  \n",
            "1   Measures body fat; patient's weight divided by...   None            yes  \n",
            "2                                   Registered gender   None            yes  \n",
            "3                                    Patient's height   None            yes  \n",
            "4                                    Patient's weight   None            yes  \n",
            "5                  Length of the stay in the hospital   None            yes  \n",
            "6   (conservative, primary surgical, secondary sur...   None            yes  \n",
            "7   (uncomplicated, complicated) Severity of appen...   None            yes  \n",
            "8                       Patient's suspected diagnosis   None            yes  \n",
            "9   Patient's diagnosis, histologically confirmed ...   None            yes  \n",
            "10    Patient's score according to the scoring system   None            yes  \n",
            "11    Patient's score according to the scoring system   None            yes  \n",
            "12  Detectability of the vermiform appendix during...   None            yes  \n",
            "13             Maximal outer diameter of the appendix   None            yes  \n",
            "14  Abdominal pain; usually starts in epigastrium ...   None            yes  \n",
            "15       Right iliac fossa pain detected on palpation   None            yes  \n",
            "16  A state in which pain of the contralateral sid...   None            yes  \n",
            "17                     Abdominal pain by forced cough   None            yes  \n",
            "18  Feeling of sickness/ejection of contents from ...   None            yes  \n",
            "19                                               None   None            yes  \n",
            "20  Measured by a thermometer placed in the rectum...   None            yes  \n",
            "21  The number of leucocytes in a unit volume of b...   None            yes  \n",
            "22              Mature WBC in the granulocytic series   None            yes  \n",
            "23  Most mature neutrophilic granulocytes present ...   None            yes  \n",
            "24  Relative neutrophilic leucocytosis, often a re...   None            yes  \n",
            "25  The number of erythrocytes in a unit volume of...   None            yes  \n",
            "26  Hemoglobin level; a red protein in the red blo...   None            yes  \n",
            "27  A blood test that measures the differences in ...   None            yes  \n",
            "28  The number of platelets in a unit volume of blood   None            yes  \n",
            "29  Presence of ketone bodies in urine, e.g. in ca...   None            yes  \n",
            "30                                     Blood in urine   None            yes  \n",
            "31    Leucocytes in urine, e.g., in case of infection   None            yes  \n",
            "32  Protein produced by the liver, elevated in cas...   None            yes  \n",
            "33          Pain or other difficulty during urination   None            yes  \n",
            "34                 Characteristics of bowel movements   None            yes  \n",
            "35  Spasm of abdominal wall muscles detected on pa...   None            yes  \n",
            "36    Abdominal pain produced by extension of the hip   None            yes  \n",
            "37  A state in which pain of the ipsilateral side ...   None            yes  \n",
            "38  If an abdominal ultrasonography was performed ...   None            yes  \n",
            "39                                               None   None            yes  \n",
            "40                     Free fluids inside the abdomen   None            yes  \n",
            "41  Distribution and characteristics of appendix l...   None            yes  \n",
            "42  Axial image of appendix with a fluid-filled ce...   None            yes  \n",
            "43  Presence of fecalith in the appendix, e.g. aco...   None            yes  \n",
            "44                    Blood flow to the appendix wall   None            yes  \n",
            "45                Signs of appendix perforation in US   None            yes  \n",
            "46  Inflammation signs in tissue (i.a. in omentum/...   None            yes  \n",
            "47                                   Appendiceal mass   None            yes  \n",
            "48             Location of the abcess intraperitoneal   None            yes  \n",
            "49  Enlarged and inflamed intra-abdominal lymph nodes   None            yes  \n",
            "50  The location of pathological lymph nodes in th...   None            yes  \n",
            "51  Edema of the intestinal wall, > 2-3 mm for sma...   None            yes  \n",
            "52  Small intestine conglomerate as sign of intrap...   None            yes  \n",
            "53  Sonographic signs of paralytic ileus (e.g., di...   None            yes  \n",
            "54                       Fecal impaction in the colon   None            yes  \n",
            "55               Accumulation of gas in the intestine   None            yes  \n",
            "56  Sonographic features of gastroenteritis, e.g. ...   None            yes  \n",
            "57  Gynaecological abnormalities, e.g. cysts, ovar...   None            yes  \n"
          ]
        }
      ],
      "source": [
        "from ucimlrepo import fetch_ucirepo\n",
        "\n",
        "# fetch dataset\n",
        "regensburg_pediatric_appendicitis = fetch_ucirepo(id=938)\n",
        "\n",
        "# data (as pandas dataframes)\n",
        "X = regensburg_pediatric_appendicitis.data.features\n",
        "y = regensburg_pediatric_appendicitis.data.targets\n",
        "\n",
        "# metadata\n",
        "print(regensburg_pediatric_appendicitis.metadata)\n",
        "\n",
        "# variable information\n",
        "print(regensburg_pediatric_appendicitis.variables)"
      ]
    },
    {
      "cell_type": "code",
      "source": [
        "print(X)"
      ],
      "metadata": {
        "id": "Bh78Iqs-qZrW",
        "outputId": "1a3e3da7-261f-4a79-b7b1-1d022498c27b",
        "colab": {
          "base_uri": "https://localhost:8080/"
        }
      },
      "execution_count": 12,
      "outputs": [
        {
          "output_type": "stream",
          "name": "stdout",
          "text": [
            "       Age    BMI     Sex  Height  Weight  Length_of_Stay  Alvarado_Score  \\\n",
            "0    12.68  16.90  female   148.0    37.0             3.0             4.0   \n",
            "1    14.10  31.90    male   147.0    69.5             2.0             5.0   \n",
            "2    14.14  23.30  female   163.0    62.0             4.0             5.0   \n",
            "3    16.37  20.60  female   165.0    56.0             3.0             7.0   \n",
            "4    11.08  16.90  female   163.0    45.0             3.0             5.0   \n",
            "..     ...    ...     ...     ...     ...             ...             ...   \n",
            "777  12.41  25.25  female   166.5    70.0             4.0             8.0   \n",
            "778  17.09  20.43  female   158.0    51.0             6.0             5.0   \n",
            "779  14.99  19.91  female   152.0    46.0             4.0             5.0   \n",
            "780   7.20  14.30    male   129.3    23.9             5.0             9.0   \n",
            "781  11.51  18.17    male   146.5    39.0             4.0             2.0   \n",
            "\n",
            "     Paedriatic_Appendicitis_Score Appendix_on_US  Appendix_Diameter  ...  \\\n",
            "0                              3.0            yes                7.1  ...   \n",
            "1                              4.0             no                NaN  ...   \n",
            "2                              3.0             no                NaN  ...   \n",
            "3                              6.0             no                NaN  ...   \n",
            "4                              6.0            yes                7.0  ...   \n",
            "..                             ...            ...                ...  ...   \n",
            "777                            7.0            yes                7.5  ...   \n",
            "778                            3.0             no                NaN  ...   \n",
            "779                            3.0             no                NaN  ...   \n",
            "780                            8.0            yes               14.0  ...   \n",
            "781                            2.0            yes                8.0  ...   \n",
            "\n",
            "    Abscess_Location Pathological_Lymph_Nodes Lymph_Nodes_Location  \\\n",
            "0                NaN                      yes                 reUB   \n",
            "1                NaN                      NaN                  NaN   \n",
            "2                NaN                      NaN                  NaN   \n",
            "3                NaN                      yes                 reUB   \n",
            "4                NaN                      yes                 reUB   \n",
            "..               ...                      ...                  ...   \n",
            "777              NaN                      NaN                  NaN   \n",
            "778          Douglas                      NaN                  NaN   \n",
            "779              NaN                      NaN                  NaN   \n",
            "780              NaN                       no                  NaN   \n",
            "781              NaN                      yes   rechter Unterbauch   \n",
            "\n",
            "    Bowel_Wall_Thickening Conglomerate_of_Bowel_Loops Ileus  Coprostasis  \\\n",
            "0                     NaN                         NaN   NaN          NaN   \n",
            "1                     NaN                         NaN   NaN          NaN   \n",
            "2                     NaN                         NaN   NaN          NaN   \n",
            "3                     NaN                         NaN   NaN          NaN   \n",
            "4                     NaN                         NaN   NaN          NaN   \n",
            "..                    ...                         ...   ...          ...   \n",
            "777                   NaN                         NaN   NaN          NaN   \n",
            "778                   yes                         yes   NaN          NaN   \n",
            "779                   NaN                         NaN   NaN          NaN   \n",
            "780                   yes                         NaN    no          NaN   \n",
            "781                   NaN                         NaN   yes          NaN   \n",
            "\n",
            "     Meteorism  Enteritis  Gynecological_Findings  \n",
            "0          NaN        NaN                     NaN  \n",
            "1          yes        NaN                     NaN  \n",
            "2          yes        yes                     NaN  \n",
            "3          NaN        yes                     NaN  \n",
            "4          NaN        yes                     NaN  \n",
            "..         ...        ...                     ...  \n",
            "777        NaN        NaN                     NaN  \n",
            "778        NaN        NaN                     NaN  \n",
            "779        NaN        NaN             unauffällig  \n",
            "780        NaN        NaN                     NaN  \n",
            "781        NaN        NaN                     NaN  \n",
            "\n",
            "[782 rows x 53 columns]\n"
          ]
        }
      ]
    },
    {
      "cell_type": "code",
      "source": [
        "print(y)"
      ],
      "metadata": {
        "id": "2USmKo7Eqppk",
        "outputId": "8a2d16bc-c74b-402b-ac7c-fadb225b377c",
        "colab": {
          "base_uri": "https://localhost:8080/"
        }
      },
      "execution_count": 13,
      "outputs": [
        {
          "output_type": "stream",
          "name": "stdout",
          "text": [
            "             Management       Severity        Diagnosis\n",
            "0          conservative  uncomplicated     appendicitis\n",
            "1          conservative  uncomplicated  no appendicitis\n",
            "2          conservative  uncomplicated  no appendicitis\n",
            "3          conservative  uncomplicated  no appendicitis\n",
            "4          conservative  uncomplicated     appendicitis\n",
            "..                  ...            ...              ...\n",
            "777    primary surgical  uncomplicated     appendicitis\n",
            "778  secondary surgical    complicated     appendicitis\n",
            "779    primary surgical  uncomplicated     appendicitis\n",
            "780    primary surgical  uncomplicated     appendicitis\n",
            "781    primary surgical  uncomplicated     appendicitis\n",
            "\n",
            "[782 rows x 3 columns]\n"
          ]
        }
      ]
    }
  ],
  "metadata": {
    "language_info": {
      "name": "python"
    },
    "colab": {
      "provenance": [],
      "include_colab_link": true
    },
    "kernelspec": {
      "name": "python3",
      "display_name": "Python 3"
    }
  },
  "nbformat": 4,
  "nbformat_minor": 0
}