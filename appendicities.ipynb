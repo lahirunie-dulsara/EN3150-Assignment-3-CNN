{
  "cells": [
    {
      "cell_type": "markdown",
      "metadata": {
        "id": "view-in-github",
        "colab_type": "text"
      },
      "source": [
        "<a href=\"https://colab.research.google.com/github/lahirunie-dulsara/EN3150-Assignment-3-CNN/blob/Lahirunie/appendicities.ipynb\" target=\"_parent\"><img src=\"https://colab.research.google.com/assets/colab-badge.svg\" alt=\"Open In Colab\"/></a>"
      ]
    },
    {
      "cell_type": "code",
      "source": [
        "pip install ucimlrepo"
      ],
      "metadata": {
        "colab": {
          "base_uri": "https://localhost:8080/"
        },
        "id": "zotNrGn6opvG",
        "outputId": "aa821991-43ba-4c77-880e-41161d70c95d"
      },
      "execution_count": 10,
      "outputs": [
        {
          "output_type": "stream",
          "name": "stdout",
          "text": [
            "Requirement already satisfied: ucimlrepo in /usr/local/lib/python3.12/dist-packages (0.0.7)\n",
            "Requirement already satisfied: pandas>=1.0.0 in /usr/local/lib/python3.12/dist-packages (from ucimlrepo) (2.2.2)\n",
            "Requirement already satisfied: certifi>=2020.12.5 in /usr/local/lib/python3.12/dist-packages (from ucimlrepo) (2025.10.5)\n",
            "Requirement already satisfied: numpy>=1.26.0 in /usr/local/lib/python3.12/dist-packages (from pandas>=1.0.0->ucimlrepo) (2.0.2)\n",
            "Requirement already satisfied: python-dateutil>=2.8.2 in /usr/local/lib/python3.12/dist-packages (from pandas>=1.0.0->ucimlrepo) (2.9.0.post0)\n",
            "Requirement already satisfied: pytz>=2020.1 in /usr/local/lib/python3.12/dist-packages (from pandas>=1.0.0->ucimlrepo) (2025.2)\n",
            "Requirement already satisfied: tzdata>=2022.7 in /usr/local/lib/python3.12/dist-packages (from pandas>=1.0.0->ucimlrepo) (2025.2)\n",
            "Requirement already satisfied: six>=1.5 in /usr/local/lib/python3.12/dist-packages (from python-dateutil>=2.8.2->pandas>=1.0.0->ucimlrepo) (1.17.0)\n"
          ]
        }
      ]
    },
    {
      "cell_type": "code",
      "execution_count": 11,
      "metadata": {
        "id": "AUhx6Ijvigc9",
        "colab": {
          "base_uri": "https://localhost:8080/"
        },
        "outputId": "da1d989b-7c8f-4621-c712-40e06df45645"
      },
      "outputs": [
        {
          "output_type": "stream",
          "name": "stdout",
          "text": [
            "{'uci_id': 938, 'name': 'Regensburg Pediatric Appendicitis', 'repository_url': 'https://archive.ics.uci.edu/dataset/938/regensburg+pediatric+appendicitis', 'data_url': 'https://archive.ics.uci.edu/static/public/938/data.csv', 'abstract': 'This repository holds the data from a cohort of pediatric patients with suspected appendicitis admitted with abdominal pain to Children’s Hospital St. Hedwig in Regensburg, Germany, between 2016 and 2021. Each patient has (potentially multiple) ultrasound (US) images, aka views, tabular data comprising laboratory, physical examination, scoring results and ultrasonographic findings extracted manually by the experts, and three target variables, namely, diagnosis, management and severity.', 'area': 'Health and Medicine', 'tasks': ['Classification'], 'characteristics': ['Tabular', 'Image'], 'num_instances': 782, 'num_features': 53, 'feature_types': ['Real', 'Categorical', 'Integer'], 'demographics': ['Age', 'Sex'], 'target_col': ['Management', 'Severity', 'Diagnosis'], 'index_col': None, 'has_missing_values': 'yes', 'missing_values_symbol': 'NaN', 'year_of_dataset_creation': 2023, 'last_updated': 'Tue Feb 06 2024', 'dataset_doi': '10.5281/zenodo.7669442', 'creators': ['Ricards Marcinkevics', 'Patricia Reis', 'Ugne Klimiene', 'Ece Ozkan', 'Kieran Chin-Cheong', 'Alyssia Paschke', 'Julia Zerres', 'Markus Denzinger', 'David Niederberger', 'S. Wellmann', 'C. Knorr', 'Julia E.'], 'intro_paper': {'ID': 354, 'type': 'NATIVE', 'title': 'Interpretable and Intervenable Ultrasonography-based Machine Learning Models for Pediatric Appendicitis', 'authors': 'Ricards Marcinkevics, Patricia Reis Wolfertstetter, Ugne Klimiene, Ece Ozkan, Kieran Chin-Cheong, Alyssia Paschke, Julia Zerres, Markus Denzinger, David Niederberger, S. Wellmann, C. Knorr, Julia E. Vogt', 'venue': 'Medical Image Analysis', 'year': 2023, 'journal': None, 'DOI': None, 'URL': 'https://arxiv.org/abs/2302.14460v2', 'sha': None, 'corpus': None, 'arxiv': None, 'mag': None, 'acl': None, 'pmid': None, 'pmcid': None}, 'additional_info': {'summary': 'This dataset was acquired in a retrospective study from a cohort of pediatric patients admitted with abdominal pain to Children’s Hospital St. Hedwig in Regensburg, Germany. Multiple abdominal B-mode ultrasound images were acquired for most patients, with the number of views varying from 1 to 15. The images depict various regions of interest, such as the abdomen’s right lower quadrant, appendix, intestines, lymph nodes and reproductive organs. Alongside multiple US images for each subject, the dataset includes information encompassing laboratory tests, physical examination results, clinical scores, such as Alvarado and pediatric appendicitis scores, and expert-produced ultrasonographic findings. Lastly, the subjects were labeled w.r.t. three target variables: diagnosis (appendicitis vs. no appendicitis), management (surgical vs. conservative) and severity (complicated vs. uncomplicated or no appendicitis). The study was approved by the Ethics Committee of the University of Regensburg (no. 18-1063-101, 18-1063_1-101 and 18-1063_2-101) and was performed following applicable guidelines and regulations.', 'purpose': None, 'funded_by': None, 'instances_represent': None, 'recommended_data_splits': None, 'sensitive_data': None, 'preprocessing_description': None, 'variable_info': None, 'citation': None}, 'external_url': 'https://zenodo.org/records/7669442'}\n",
            "                                name     role         type demographic  \\\n",
            "0                                Age  Feature   Continuous         Age   \n",
            "1                                BMI  Feature   Continuous        None   \n",
            "2                                Sex  Feature  Categorical         Sex   \n",
            "3                             Height  Feature   Continuous        None   \n",
            "4                             Weight  Feature      Integer        None   \n",
            "5                     Length_of_Stay  Feature      Integer        None   \n",
            "6                         Management   Target  Categorical        None   \n",
            "7                           Severity   Target  Categorical        None   \n",
            "8              Diagnosis_Presumptive    Other       Binary        None   \n",
            "9                          Diagnosis   Target       Binary        None   \n",
            "10                    Alvarado_Score  Feature      Integer        None   \n",
            "11     Paedriatic_Appendicitis_Score  Feature      Integer        None   \n",
            "12                    Appendix_on_US  Feature       Binary        None   \n",
            "13                 Appendix_Diameter  Feature      Integer        None   \n",
            "14                    Migratory_Pain  Feature       Binary        None   \n",
            "15              Lower_Right_Abd_Pain  Feature       Binary        None   \n",
            "16  Contralateral_Rebound_Tenderness  Feature       Binary        None   \n",
            "17                     Coughing_Pain  Feature       Binary        None   \n",
            "18                            Nausea  Feature       Binary        None   \n",
            "19                  Loss_of_Appetite  Feature       Binary        None   \n",
            "20                  Body_Temperature  Feature   Continuous        None   \n",
            "21                         WBC_Count  Feature   Continuous        None   \n",
            "22             Neutrophil_Percentage  Feature      Integer        None   \n",
            "23             Segmented_Neutrophils  Feature      Integer        None   \n",
            "24                      Neutrophilia  Feature  Categorical        None   \n",
            "25                         RBC_Count  Feature   Continuous        None   \n",
            "26                        Hemoglobin  Feature   Continuous        None   \n",
            "27                               RDW  Feature   Continuous        None   \n",
            "28                 Thrombocyte_Count  Feature      Integer        None   \n",
            "29                  Ketones_in_Urine  Feature  Categorical        None   \n",
            "30                      RBC_in_Urine  Feature  Categorical        None   \n",
            "31                      WBC_in_Urine  Feature  Categorical        None   \n",
            "32                               CRP  Feature      Integer        None   \n",
            "33                           Dysuria  Feature       Binary        None   \n",
            "34                             Stool  Feature  Categorical        None   \n",
            "35                       Peritonitis  Feature  Categorical        None   \n",
            "36                        Psoas_Sign  Feature  Categorical        None   \n",
            "37    Ipsilateral_Rebound_Tenderness  Feature  Categorical        None   \n",
            "38                      US_Performed  Feature  Categorical        None   \n",
            "39                         US_Number    Other      Integer        None   \n",
            "40                       Free_Fluids  Feature  Categorical        None   \n",
            "41              Appendix_Wall_Layers  Feature  Categorical        None   \n",
            "42                       Target_Sign  Feature  Categorical        None   \n",
            "43                     Appendicolith  Feature  Categorical        None   \n",
            "44                         Perfusion  Feature  Categorical        None   \n",
            "45                       Perforation  Feature  Categorical        None   \n",
            "46       Surrounding_Tissue_Reaction  Feature  Categorical        None   \n",
            "47              Appendicular_Abscess  Feature  Categorical        None   \n",
            "48                  Abscess_Location  Feature  Categorical        None   \n",
            "49          Pathological_Lymph_Nodes  Feature       Binary        None   \n",
            "50              Lymph_Nodes_Location  Feature  Categorical        None   \n",
            "51             Bowel_Wall_Thickening  Feature       Binary        None   \n",
            "52       Conglomerate_of_Bowel_Loops  Feature       Binary        None   \n",
            "53                             Ileus  Feature  Categorical        None   \n",
            "54                       Coprostasis  Feature  Categorical        None   \n",
            "55                         Meteorism  Feature  Categorical        None   \n",
            "56                         Enteritis  Feature  Categorical        None   \n",
            "57            Gynecological_Findings  Feature  Categorical        None   \n",
            "\n",
            "                                          description  units missing_values  \n",
            "0                     Obtained from the date of birth  years            yes  \n",
            "1   Measures body fat; patient's weight divided by...   None            yes  \n",
            "2                                   Registered gender   None            yes  \n",
            "3                                    Patient's height   None            yes  \n",
            "4                                    Patient's weight   None            yes  \n",
            "5                  Length of the stay in the hospital   None            yes  \n",
            "6   (conservative, primary surgical, secondary sur...   None            yes  \n",
            "7   (uncomplicated, complicated) Severity of appen...   None            yes  \n",
            "8                       Patient's suspected diagnosis   None            yes  \n",
            "9   Patient's diagnosis, histologically confirmed ...   None            yes  \n",
            "10    Patient's score according to the scoring system   None            yes  \n",
            "11    Patient's score according to the scoring system   None            yes  \n",
            "12  Detectability of the vermiform appendix during...   None            yes  \n",
            "13             Maximal outer diameter of the appendix   None            yes  \n",
            "14  Abdominal pain; usually starts in epigastrium ...   None            yes  \n",
            "15       Right iliac fossa pain detected on palpation   None            yes  \n",
            "16  A state in which pain of the contralateral sid...   None            yes  \n",
            "17                     Abdominal pain by forced cough   None            yes  \n",
            "18  Feeling of sickness/ejection of contents from ...   None            yes  \n",
            "19                                               None   None            yes  \n",
            "20  Measured by a thermometer placed in the rectum...   None            yes  \n",
            "21  The number of leucocytes in a unit volume of b...   None            yes  \n",
            "22              Mature WBC in the granulocytic series   None            yes  \n",
            "23  Most mature neutrophilic granulocytes present ...   None            yes  \n",
            "24  Relative neutrophilic leucocytosis, often a re...   None            yes  \n",
            "25  The number of erythrocytes in a unit volume of...   None            yes  \n",
            "26  Hemoglobin level; a red protein in the red blo...   None            yes  \n",
            "27  A blood test that measures the differences in ...   None            yes  \n",
            "28  The number of platelets in a unit volume of blood   None            yes  \n",
            "29  Presence of ketone bodies in urine, e.g. in ca...   None            yes  \n",
            "30                                     Blood in urine   None            yes  \n",
            "31    Leucocytes in urine, e.g., in case of infection   None            yes  \n",
            "32  Protein produced by the liver, elevated in cas...   None            yes  \n",
            "33          Pain or other difficulty during urination   None            yes  \n",
            "34                 Characteristics of bowel movements   None            yes  \n",
            "35  Spasm of abdominal wall muscles detected on pa...   None            yes  \n",
            "36    Abdominal pain produced by extension of the hip   None            yes  \n",
            "37  A state in which pain of the ipsilateral side ...   None            yes  \n",
            "38  If an abdominal ultrasonography was performed ...   None            yes  \n",
            "39                                               None   None            yes  \n",
            "40                     Free fluids inside the abdomen   None            yes  \n",
            "41  Distribution and characteristics of appendix l...   None            yes  \n",
            "42  Axial image of appendix with a fluid-filled ce...   None            yes  \n",
            "43  Presence of fecalith in the appendix, e.g. aco...   None            yes  \n",
            "44                    Blood flow to the appendix wall   None            yes  \n",
            "45                Signs of appendix perforation in US   None            yes  \n",
            "46  Inflammation signs in tissue (i.a. in omentum/...   None            yes  \n",
            "47                                   Appendiceal mass   None            yes  \n",
            "48             Location of the abcess intraperitoneal   None            yes  \n",
            "49  Enlarged and inflamed intra-abdominal lymph nodes   None            yes  \n",
            "50  The location of pathological lymph nodes in th...   None            yes  \n",
            "51  Edema of the intestinal wall, > 2-3 mm for sma...   None            yes  \n",
            "52  Small intestine conglomerate as sign of intrap...   None            yes  \n",
            "53  Sonographic signs of paralytic ileus (e.g., di...   None            yes  \n",
            "54                       Fecal impaction in the colon   None            yes  \n",
            "55               Accumulation of gas in the intestine   None            yes  \n",
            "56  Sonographic features of gastroenteritis, e.g. ...   None            yes  \n",
            "57  Gynaecological abnormalities, e.g. cysts, ovar...   None            yes  \n"
          ]
        }
      ],
      "source": [
        "from ucimlrepo import fetch_ucirepo\n",
        "\n",
        "# fetch dataset\n",
        "regensburg_pediatric_appendicitis = fetch_ucirepo(id=938)\n",
        "\n",
        "# data (as pandas dataframes)\n",
        "X = regensburg_pediatric_appendicitis.data.features\n",
        "y = regensburg_pediatric_appendicitis.data.targets\n",
        "\n",
        "# metadata\n",
        "print(regensburg_pediatric_appendicitis.metadata)\n",
        "\n",
        "# variable information\n",
        "print(regensburg_pediatric_appendicitis.variables)"
      ]
    },
    {
      "cell_type": "code",
      "source": [
        "print(X)"
      ],
      "metadata": {
        "colab": {
          "base_uri": "https://localhost:8080/"
        },
        "id": "Bh78Iqs-qZrW",
        "outputId": "1a3e3da7-261f-4a79-b7b1-1d022498c27b"
      },
      "execution_count": 12,
      "outputs": [
        {
          "output_type": "stream",
          "name": "stdout",
          "text": [
            "       Age    BMI     Sex  Height  Weight  Length_of_Stay  Alvarado_Score  \\\n",
            "0    12.68  16.90  female   148.0    37.0             3.0             4.0   \n",
            "1    14.10  31.90    male   147.0    69.5             2.0             5.0   \n",
            "2    14.14  23.30  female   163.0    62.0             4.0             5.0   \n",
            "3    16.37  20.60  female   165.0    56.0             3.0             7.0   \n",
            "4    11.08  16.90  female   163.0    45.0             3.0             5.0   \n",
            "..     ...    ...     ...     ...     ...             ...             ...   \n",
            "777  12.41  25.25  female   166.5    70.0             4.0             8.0   \n",
            "778  17.09  20.43  female   158.0    51.0             6.0             5.0   \n",
            "779  14.99  19.91  female   152.0    46.0             4.0             5.0   \n",
            "780   7.20  14.30    male   129.3    23.9             5.0             9.0   \n",
            "781  11.51  18.17    male   146.5    39.0             4.0             2.0   \n",
            "\n",
            "     Paedriatic_Appendicitis_Score Appendix_on_US  Appendix_Diameter  ...  \\\n",
            "0                              3.0            yes                7.1  ...   \n",
            "1                              4.0             no                NaN  ...   \n",
            "2                              3.0             no                NaN  ...   \n",
            "3                              6.0             no                NaN  ...   \n",
            "4                              6.0            yes                7.0  ...   \n",
            "..                             ...            ...                ...  ...   \n",
            "777                            7.0            yes                7.5  ...   \n",
            "778                            3.0             no                NaN  ...   \n",
            "779                            3.0             no                NaN  ...   \n",
            "780                            8.0            yes               14.0  ...   \n",
            "781                            2.0            yes                8.0  ...   \n",
            "\n",
            "    Abscess_Location Pathological_Lymph_Nodes Lymph_Nodes_Location  \\\n",
            "0                NaN                      yes                 reUB   \n",
            "1                NaN                      NaN                  NaN   \n",
            "2                NaN                      NaN                  NaN   \n",
            "3                NaN                      yes                 reUB   \n",
            "4                NaN                      yes                 reUB   \n",
            "..               ...                      ...                  ...   \n",
            "777              NaN                      NaN                  NaN   \n",
            "778          Douglas                      NaN                  NaN   \n",
            "779              NaN                      NaN                  NaN   \n",
            "780              NaN                       no                  NaN   \n",
            "781              NaN                      yes   rechter Unterbauch   \n",
            "\n",
            "    Bowel_Wall_Thickening Conglomerate_of_Bowel_Loops Ileus  Coprostasis  \\\n",
            "0                     NaN                         NaN   NaN          NaN   \n",
            "1                     NaN                         NaN   NaN          NaN   \n",
            "2                     NaN                         NaN   NaN          NaN   \n",
            "3                     NaN                         NaN   NaN          NaN   \n",
            "4                     NaN                         NaN   NaN          NaN   \n",
            "..                    ...                         ...   ...          ...   \n",
            "777                   NaN                         NaN   NaN          NaN   \n",
            "778                   yes                         yes   NaN          NaN   \n",
            "779                   NaN                         NaN   NaN          NaN   \n",
            "780                   yes                         NaN    no          NaN   \n",
            "781                   NaN                         NaN   yes          NaN   \n",
            "\n",
            "     Meteorism  Enteritis  Gynecological_Findings  \n",
            "0          NaN        NaN                     NaN  \n",
            "1          yes        NaN                     NaN  \n",
            "2          yes        yes                     NaN  \n",
            "3          NaN        yes                     NaN  \n",
            "4          NaN        yes                     NaN  \n",
            "..         ...        ...                     ...  \n",
            "777        NaN        NaN                     NaN  \n",
            "778        NaN        NaN                     NaN  \n",
            "779        NaN        NaN             unauffällig  \n",
            "780        NaN        NaN                     NaN  \n",
            "781        NaN        NaN                     NaN  \n",
            "\n",
            "[782 rows x 53 columns]\n"
          ]
        }
      ]
    },
    {
      "cell_type": "code",
      "source": [
        "print(y)"
      ],
      "metadata": {
        "colab": {
          "base_uri": "https://localhost:8080/"
        },
        "id": "2USmKo7Eqppk",
        "outputId": "8a2d16bc-c74b-402b-ac7c-fadb225b377c"
      },
      "execution_count": 13,
      "outputs": [
        {
          "output_type": "stream",
          "name": "stdout",
          "text": [
            "             Management       Severity        Diagnosis\n",
            "0          conservative  uncomplicated     appendicitis\n",
            "1          conservative  uncomplicated  no appendicitis\n",
            "2          conservative  uncomplicated  no appendicitis\n",
            "3          conservative  uncomplicated  no appendicitis\n",
            "4          conservative  uncomplicated     appendicitis\n",
            "..                  ...            ...              ...\n",
            "777    primary surgical  uncomplicated     appendicitis\n",
            "778  secondary surgical    complicated     appendicitis\n",
            "779    primary surgical  uncomplicated     appendicitis\n",
            "780    primary surgical  uncomplicated     appendicitis\n",
            "781    primary surgical  uncomplicated     appendicitis\n",
            "\n",
            "[782 rows x 3 columns]\n"
          ]
        }
      ]
    },
    {
      "cell_type": "code",
      "source": [
        "from google.colab import drive\n",
        "drive.mount('/content/drive')"
      ],
      "metadata": {
        "colab": {
          "base_uri": "https://localhost:8080/"
        },
        "id": "m_MOclOVyqHm",
        "outputId": "14a7fa59-e8f7-402c-e317-8c9815becd4b"
      },
      "execution_count": 14,
      "outputs": [
        {
          "output_type": "stream",
          "name": "stdout",
          "text": [
            "Mounted at /content/drive\n"
          ]
        }
      ]
    },
    {
      "cell_type": "code",
      "source": [
        "import zipfile"
      ],
      "metadata": {
        "id": "8tSxCerS8SfB"
      },
      "execution_count": 15,
      "outputs": []
    },
    {
      "cell_type": "code",
      "source": [
        "# Path to your zip file in Drive\n",
        "zip_path = '/content/drive/MyDrive/CNN_Assignment3/US_Pictures.zip'\n",
        "\n",
        "# Extract the zip file to a local folder in Colab\n",
        "extract_dir = '/content/US_Pictures'\n",
        "with zipfile.ZipFile(zip_path, 'r') as zip_ref:\n",
        "    zip_ref.extractall(extract_dir)\n",
        "\n",
        "print(\"Dataset extracted to:\", extract_dir)"
      ],
      "metadata": {
        "colab": {
          "base_uri": "https://localhost:8080/"
        },
        "id": "qC4cH5MI9PD6",
        "outputId": "74007d0a-28d6-4475-d3d7-6603d6738d9d"
      },
      "execution_count": 19,
      "outputs": [
        {
          "output_type": "stream",
          "name": "stdout",
          "text": [
            "Dataset extracted to: /content/US_Pictures\n"
          ]
        }
      ]
    },
    {
      "cell_type": "code",
      "source": [
        "import os\n",
        "import re\n",
        "from PIL import Image\n",
        "\n",
        "dataset_dir = extract_dir  # path where the dataset was extracted\n",
        "\n",
        "selected_images = []\n",
        "selected_filenames = []\n",
        "\n",
        "# Regular expression: match 'app' or 'appendix' as the only word (after ignoring leading numbers)\n",
        "pattern = re.compile(r'^(?:[\\d\\.\\s_-]*)(app|appendix)$', re.IGNORECASE)\n",
        "\n",
        "# Allowed file extensions\n",
        "allowed_exts = ('.bmp', '.png')\n",
        "\n",
        "for root, dirs, files in os.walk(dataset_dir):\n",
        "    for file in files:\n",
        "        if file.lower().endswith(allowed_exts):\n",
        "            # Remove file extension\n",
        "            name_without_ext = os.path.splitext(file)[0]\n",
        "            # Remove leading/trailing spaces\n",
        "            cleaned_name = name_without_ext.strip()\n",
        "\n",
        "            # Match only if the cleaned name fits the pattern\n",
        "            if pattern.match(cleaned_name):\n",
        "                img_path = os.path.join(root, file)\n",
        "                img = Image.open(img_path).convert('RGB')\n",
        "                selected_images.append(img)\n",
        "                selected_filenames.append(file)\n",
        "\n",
        "print(f\"Total selected images: {len(selected_images)}\")\n"
      ],
      "metadata": {
        "id": "fzqla3s3Qh_f",
        "outputId": "ead342c9-ea8f-4cf3-ea98-e019811c6b7f",
        "colab": {
          "base_uri": "https://localhost:8080/"
        }
      },
      "execution_count": 38,
      "outputs": [
        {
          "output_type": "stream",
          "name": "stdout",
          "text": [
            "Total selected images: 679\n"
          ]
        }
      ]
    },
    {
      "cell_type": "code",
      "source": [
        "print(selected_images)\n",
        "print(selected_filenames)"
      ],
      "metadata": {
        "id": "Jh0wJNRxQkI8",
        "outputId": "b0a05557-674b-4419-de82-532532dab536",
        "colab": {
          "base_uri": "https://localhost:8080/"
        }
      },
      "execution_count": 39,
      "outputs": [
        {
          "output_type": "stream",
          "name": "stdout",
          "text": [
            "[<PIL.Image.Image image mode=RGB size=800x585 at 0x7BC3DCD53590>, <PIL.Image.Image image mode=RGB size=716x537 at 0x7BC3DD55E840>, <PIL.Image.Image image mode=RGB size=793x577 at 0x7BC3D5CBDBB0>, <PIL.Image.Image image mode=RGB size=716x520 at 0x7BC3CF50F920>, <PIL.Image.Image image mode=RGB size=800x581 at 0x7BC3D5C5F470>, <PIL.Image.Image image mode=RGB size=716x537 at 0x7BC3D5C5F4D0>, <PIL.Image.Image image mode=RGB size=800x584 at 0x7BC3D43F26F0>, <PIL.Image.Image image mode=RGB size=716x537 at 0x7BC3D43F1C40>, <PIL.Image.Image image mode=RGB size=712x517 at 0x7BC3D43F20C0>, <PIL.Image.Image image mode=RGB size=793x578 at 0x7BC3D5CA3320>, <PIL.Image.Image image mode=RGB size=797x581 at 0x7BC3D5CA3170>, <PIL.Image.Image image mode=RGB size=716x519 at 0x7BC3D5CA3110>, <PIL.Image.Image image mode=RGB size=716x537 at 0x7BC3DCCD7A10>, <PIL.Image.Image image mode=RGB size=800x582 at 0x7BC3DCCD7860>, <PIL.Image.Image image mode=RGB size=716x537 at 0x7BC3DCCD7AD0>, <PIL.Image.Image image mode=RGB size=716x537 at 0x7BC3DCCD7E90>, <PIL.Image.Image image mode=RGB size=800x581 at 0x7BC3DCCD7F50>, <PIL.Image.Image image mode=RGB size=799x581 at 0x7BC3F27A6690>, <PIL.Image.Image image mode=RGB size=799x581 at 0x7BC3DCD04A10>, <PIL.Image.Image image mode=RGB size=800x580 at 0x7BC3DCD06ED0>, <PIL.Image.Image image mode=RGB size=793x553 at 0x7BC3DCD05790>, <PIL.Image.Image image mode=RGB size=800x583 at 0x7BC3D70EBA10>, <PIL.Image.Image image mode=RGB size=792x577 at 0x7BC3D4463950>, <PIL.Image.Image image mode=RGB size=716x520 at 0x7BC3D420F350>, <PIL.Image.Image image mode=RGB size=800x580 at 0x7BC3D7ABC050>, <PIL.Image.Image image mode=RGB size=799x582 at 0x7BC3D7ABC0B0>, <PIL.Image.Image image mode=RGB size=792x577 at 0x7BC3D7ABC140>, <PIL.Image.Image image mode=RGB size=715x524 at 0x7BC3D7ABC200>, <PIL.Image.Image image mode=RGB size=793x558 at 0x7BC3D7ABC260>, <PIL.Image.Image image mode=RGB size=716x537 at 0x7BC3D7ABC2F0>, <PIL.Image.Image image mode=RGB size=793x552 at 0x7BC3D7ABC380>, <PIL.Image.Image image mode=RGB size=799x585 at 0x7BC3D7ABC410>, <PIL.Image.Image image mode=RGB size=716x499 at 0x7BC3D7ABC4A0>, <PIL.Image.Image image mode=RGB size=1280x928 at 0x7BC3D7ABC530>, <PIL.Image.Image image mode=RGB size=716x537 at 0x7BC3D7ABC590>, <PIL.Image.Image image mode=RGB size=800x578 at 0x7BC3D7ABC620>, <PIL.Image.Image image mode=RGB size=800x583 at 0x7BC3D7ABC6B0>, <PIL.Image.Image image mode=RGB size=716x482 at 0x7BC3D7ABC710>, <PIL.Image.Image image mode=RGB size=796x577 at 0x7BC3D7ABC7A0>, <PIL.Image.Image image mode=RGB size=712x521 at 0x7BC3D7ABC830>, <PIL.Image.Image image mode=RGB size=716x537 at 0x7BC3D7ABC8C0>, <PIL.Image.Image image mode=RGB size=799x581 at 0x7BC3F2778590>, <PIL.Image.Image image mode=RGB size=716x537 at 0x7BC3D7ABC9B0>, <PIL.Image.Image image mode=RGB size=716x537 at 0x7BC3D7ABCA10>, <PIL.Image.Image image mode=RGB size=716x537 at 0x7BC3D7ABC860>, <PIL.Image.Image image mode=RGB size=716x499 at 0x7BC3D7ABCB30>, <PIL.Image.Image image mode=RGB size=799x581 at 0x7BC3D7ABCB60>, <PIL.Image.Image image mode=RGB size=793x577 at 0x7BC3D7ABCAA0>, <PIL.Image.Image image mode=RGB size=799x582 at 0x7BC3D7ABCC50>, <PIL.Image.Image image mode=RGB size=716x537 at 0x7BC3D7ABCC20>, <PIL.Image.Image image mode=RGB size=716x500 at 0x7BC3D7ABCD40>, <PIL.Image.Image image mode=RGB size=792x577 at 0x7BC3D7ABCDD0>, <PIL.Image.Image image mode=RGB size=716x537 at 0x7BC3D7ABCE30>, <PIL.Image.Image image mode=RGB size=792x575 at 0x7BC3D7ABCEC0>, <PIL.Image.Image image mode=RGB size=716x537 at 0x7BC3D7ABCF20>, <PIL.Image.Image image mode=RGB size=800x584 at 0x7BC3D7ABCFB0>, <PIL.Image.Image image mode=RGB size=716x537 at 0x7BC3D7ABD010>, <PIL.Image.Image image mode=RGB size=796x579 at 0x7BC3D7ABD0A0>, <PIL.Image.Image image mode=RGB size=799x582 at 0x7BC3D7ABD160>, <PIL.Image.Image image mode=RGB size=716x537 at 0x7BC3D7ABCD10>, <PIL.Image.Image image mode=RGB size=800x585 at 0x7BC3D7ABD1F0>, <PIL.Image.Image image mode=RGB size=792x574 at 0x7BC3D7ABD250>, <PIL.Image.Image image mode=RGB size=716x537 at 0x7BC3D7ABD1C0>, <PIL.Image.Image image mode=RGB size=716x537 at 0x7BC3D7ABD340>, <PIL.Image.Image image mode=RGB size=716x537 at 0x7BC3D7ABD3D0>, <PIL.Image.Image image mode=RGB size=800x581 at 0x7BC3D7ABD430>, <PIL.Image.Image image mode=RGB size=716x537 at 0x7BC3D7ABD550>, <PIL.Image.Image image mode=RGB size=716x537 at 0x7BC3D7ABD490>, <PIL.Image.Image image mode=RGB size=716x537 at 0x7BC3D7ABD670>, <PIL.Image.Image image mode=RGB size=716x537 at 0x7BC3D7ABD580>, <PIL.Image.Image image mode=RGB size=800x581 at 0x7BC3D7ABD760>, <PIL.Image.Image image mode=RGB size=716x537 at 0x7BC3D7ABD7F0>, <PIL.Image.Image image mode=RGB size=715x519 at 0x7BC3D7ABD820>, <PIL.Image.Image image mode=RGB size=792x578 at 0x7BC3D7ABD8E0>, <PIL.Image.Image image mode=RGB size=716x537 at 0x7BC3D7ABD970>, <PIL.Image.Image image mode=RGB size=793x579 at 0x7BC3D7ABD9A0>, <PIL.Image.Image image mode=RGB size=716x537 at 0x7BC3D7ABDA60>, <PIL.Image.Image image mode=RGB size=716x487 at 0x7BC3D7ABDAF0>, <PIL.Image.Image image mode=RGB size=792x577 at 0x7BC3D7ABDB20>, <PIL.Image.Image image mode=RGB size=799x562 at 0x7BC3D7ABDBE0>, <PIL.Image.Image image mode=RGB size=716x521 at 0x7BC3D7ABDC40>, <PIL.Image.Image image mode=RGB size=799x582 at 0x7BC3D7ABDD00>, <PIL.Image.Image image mode=RGB size=800x581 at 0x7BC3D7ABDD30>, <PIL.Image.Image image mode=RGB size=716x537 at 0x7BC3D7ABDDF0>, <PIL.Image.Image image mode=RGB size=716x537 at 0x7BC3D7ABDE80>, <PIL.Image.Image image mode=RGB size=715x520 at 0x7BC3D7ABDEB0>, <PIL.Image.Image image mode=RGB size=711x518 at 0x7BC3D7ABDF40>, <PIL.Image.Image image mode=RGB size=800x585 at 0x7BC3D7ABE000>, <PIL.Image.Image image mode=RGB size=715x518 at 0x7BC3D7ABE060>, <PIL.Image.Image image mode=RGB size=716x537 at 0x7BC3D7ABE0F0>, <PIL.Image.Image image mode=RGB size=716x537 at 0x7BC3D7ABDF70>, <PIL.Image.Image image mode=RGB size=792x580 at 0x7BC3D7ABE1E0>, <PIL.Image.Image image mode=RGB size=716x537 at 0x7BC3D7ABE270>, <PIL.Image.Image image mode=RGB size=716x537 at 0x7BC3D7ABE2D0>, <PIL.Image.Image image mode=RGB size=716x537 at 0x7BC3D7ABE360>, <PIL.Image.Image image mode=RGB size=716x495 at 0x7BC3D7ABE390>, <PIL.Image.Image image mode=RGB size=716x537 at 0x7BC3D7ABE480>, <PIL.Image.Image image mode=RGB size=800x581 at 0x7BC3D7ABE4B0>, <PIL.Image.Image image mode=RGB size=797x583 at 0x7BC3D7ABE570>, <PIL.Image.Image image mode=RGB size=800x582 at 0x7BC3D7ABE5D0>, <PIL.Image.Image image mode=RGB size=800x585 at 0x7BC3D7ABE660>, <PIL.Image.Image image mode=RGB size=799x582 at 0x7BC3D7ABE6C0>, <PIL.Image.Image image mode=RGB size=796x575 at 0x7BC3D7ABE750>, <PIL.Image.Image image mode=RGB size=716x537 at 0x7BC3D7ABE7B0>, <PIL.Image.Image image mode=RGB size=716x537 at 0x7BC3D7ABE840>, <PIL.Image.Image image mode=RGB size=792x580 at 0x7BC3D7ABE900>, <PIL.Image.Image image mode=RGB size=800x584 at 0x7BC3D7ABE3C0>, <PIL.Image.Image image mode=RGB size=716x520 at 0x7BC3D7ABE9F0>, <PIL.Image.Image image mode=RGB size=716x521 at 0x7BC3D7ABEA50>, <PIL.Image.Image image mode=RGB size=716x520 at 0x7BC3D7ABE990>, <PIL.Image.Image image mode=RGB size=799x582 at 0x7BC3D7ABEB70>, <PIL.Image.Image image mode=RGB size=716x537 at 0x7BC3D7ABEB40>, <PIL.Image.Image image mode=RGB size=716x537 at 0x7BC3D7ABEC60>, <PIL.Image.Image image mode=RGB size=792x578 at 0x7BC3D7ABEC30>, <PIL.Image.Image image mode=RGB size=793x580 at 0x7BC3D7ABED50>, <PIL.Image.Image image mode=RGB size=800x580 at 0x7BC3D7ABEDE0>, <PIL.Image.Image image mode=RGB size=793x548 at 0x7BC3D7ABEE10>, <PIL.Image.Image image mode=RGB size=716x537 at 0x7BC3D7ABEF00>, <PIL.Image.Image image mode=RGB size=716x537 at 0x7BC3D7ABEF30>, <PIL.Image.Image image mode=RGB size=799x585 at 0x7BC3D7ABEF90>, <PIL.Image.Image image mode=RGB size=716x537 at 0x7BC3D7ABEFC0>, <PIL.Image.Image image mode=RGB size=792x579 at 0x7BC3D7ABF050>, <PIL.Image.Image image mode=RGB size=716x522 at 0x7BC3D7ABF0E0>, <PIL.Image.Image image mode=RGB size=716x537 at 0x7BC3D7ABF140>, <PIL.Image.Image image mode=RGB size=716x537 at 0x7BC3D7ABF170>, <PIL.Image.Image image mode=RGB size=799x581 at 0x7BC3D7ABF1D0>, <PIL.Image.Image image mode=RGB size=716x537 at 0x7BC3D7ABF290>, <PIL.Image.Image image mode=RGB size=716x521 at 0x7BC3D7ABF2F0>, <PIL.Image.Image image mode=RGB size=792x578 at 0x7BC3D7ABF350>, <PIL.Image.Image image mode=RGB size=800x585 at 0x7BC3D7ABF3B0>, <PIL.Image.Image image mode=RGB size=799x587 at 0x7BC3D7ABF410>, <PIL.Image.Image image mode=RGB size=716x537 at 0x7BC3D7ABF440>, <PIL.Image.Image image mode=RGB size=716x537 at 0x7BC3D7ABF4D0>, <PIL.Image.Image image mode=RGB size=716x537 at 0x7BC3D7ABF560>, <PIL.Image.Image image mode=RGB size=800x584 at 0x7BC3D7ABF5C0>, <PIL.Image.Image image mode=RGB size=713x519 at 0x7BC3D7ABF620>, <PIL.Image.Image image mode=RGB size=716x537 at 0x7BC3DCD516D0>, <PIL.Image.Image image mode=RGB size=800x580 at 0x7BC3D7ABF7D0>, <PIL.Image.Image image mode=RGB size=799x581 at 0x7BC3D7ABF770>, <PIL.Image.Image image mode=RGB size=793x557 at 0x7BC3D7ABF6E0>, <PIL.Image.Image image mode=RGB size=683x516 at 0x7BC3D7ABF8F0>, <PIL.Image.Image image mode=RGB size=715x518 at 0x7BC3D7ABF830>, <PIL.Image.Image image mode=RGB size=793x551 at 0x7BC3D7ABF800>, <PIL.Image.Image image mode=RGB size=800x584 at 0x7BC3D7ABF950>, <PIL.Image.Image image mode=RGB size=716x519 at 0x7BC3D7ABF8C0>, <PIL.Image.Image image mode=RGB size=991x710 at 0x7BC3D7ABFA10>, <PIL.Image.Image image mode=RGB size=793x549 at 0x7BC3D7ABF980>, <PIL.Image.Image image mode=RGB size=799x582 at 0x7BC3D7ABFAA0>, <PIL.Image.Image image mode=RGB size=792x577 at 0x7BC3D7ABFB00>, <PIL.Image.Image image mode=RGB size=716x537 at 0x7BC3D7ABFB30>, <PIL.Image.Image image mode=RGB size=716x521 at 0x7BC3D7ABFB90>, <PIL.Image.Image image mode=RGB size=716x499 at 0x7BC3D7ABFBF0>, <PIL.Image.Image image mode=RGB size=716x537 at 0x7BC3D7ABFC50>, <PIL.Image.Image image mode=RGB size=716x537 at 0x7BC3D7ABF680>, <PIL.Image.Image image mode=RGB size=716x537 at 0x7BC3D7ABFF20>, <PIL.Image.Image image mode=RGB size=799x582 at 0x7BC3D7ABFD10>, <PIL.Image.Image image mode=RGB size=1000x726 at 0x7BC3D4131010>, <PIL.Image.Image image mode=RGB size=716x537 at 0x7BC3D7A67890>, <PIL.Image.Image image mode=RGB size=716x537 at 0x7BC3D7A64470>, <PIL.Image.Image image mode=RGB size=800x584 at 0x7BC3D7A65E50>, <PIL.Image.Image image mode=RGB size=716x520 at 0x7BC3D7A66F60>, <PIL.Image.Image image mode=RGB size=716x537 at 0x7BC3D7A670E0>, <PIL.Image.Image image mode=RGB size=799x585 at 0x7BC3D7A65430>, <PIL.Image.Image image mode=RGB size=716x537 at 0x7BC3D7A66540>, <PIL.Image.Image image mode=RGB size=716x519 at 0x7BC3D7A64350>, <PIL.Image.Image image mode=RGB size=800x562 at 0x7BC3D7A66510>, <PIL.Image.Image image mode=RGB size=716x537 at 0x7BC3D7A65B80>, <PIL.Image.Image image mode=RGB size=716x537 at 0x7BC3D7A66330>, <PIL.Image.Image image mode=RGB size=716x537 at 0x7BC3D7A65F40>, <PIL.Image.Image image mode=RGB size=715x499 at 0x7BC3D7A66360>, <PIL.Image.Image image mode=RGB size=716x537 at 0x7BC3D7A66CC0>, <PIL.Image.Image image mode=RGB size=716x537 at 0x7BC3D7A66420>, <PIL.Image.Image image mode=RGB size=715x518 at 0x7BC3D7A661E0>, <PIL.Image.Image image mode=RGB size=716x537 at 0x7BC3D7A66810>, <PIL.Image.Image image mode=RGB size=792x579 at 0x7BC3D7A66FC0>, <PIL.Image.Image image mode=RGB size=716x520 at 0x7BC3D7A66690>, <PIL.Image.Image image mode=RGB size=716x537 at 0x7BC3D7A64290>, <PIL.Image.Image image mode=RGB size=716x537 at 0x7BC3D7A64620>, <PIL.Image.Image image mode=RGB size=792x577 at 0x7BC3D7A65DC0>, <PIL.Image.Image image mode=RGB size=716x537 at 0x7BC3D7A64680>, <PIL.Image.Image image mode=RGB size=716x537 at 0x7BC3D7A675F0>, <PIL.Image.Image image mode=RGB size=792x576 at 0x7BC3D7A66270>, <PIL.Image.Image image mode=RGB size=799x581 at 0x7BC3D7A67E60>, <PIL.Image.Image image mode=RGB size=716x537 at 0x7BC3D7A64140>, <PIL.Image.Image image mode=RGB size=716x537 at 0x7BC3D7A65C70>, <PIL.Image.Image image mode=RGB size=793x577 at 0x7BC3D7A64C20>, <PIL.Image.Image image mode=RGB size=716x523 at 0x7BC3D7A653D0>, <PIL.Image.Image image mode=RGB size=716x537 at 0x7BC3D7A65DF0>, <PIL.Image.Image image mode=RGB size=793x578 at 0x7BC3D7A64A10>, <PIL.Image.Image image mode=RGB size=792x578 at 0x7BC3D7A65400>, <PIL.Image.Image image mode=RGB size=716x519 at 0x7BC3D7A66240>, <PIL.Image.Image image mode=RGB size=792x576 at 0x7BC3D7A67D70>, <PIL.Image.Image image mode=RGB size=797x579 at 0x7BC3D7A662D0>, <PIL.Image.Image image mode=RGB size=793x556 at 0x7BC3D7A645F0>, <PIL.Image.Image image mode=RGB size=716x537 at 0x7BC3D7A657F0>, <PIL.Image.Image image mode=RGB size=716x518 at 0x7BC3D7A64710>, <PIL.Image.Image image mode=RGB size=800x578 at 0x7BC3D7A65FA0>, <PIL.Image.Image image mode=RGB size=716x522 at 0x7BC3D7A64C50>, <PIL.Image.Image image mode=RGB size=716x537 at 0x7BC3D7A64C80>, <PIL.Image.Image image mode=RGB size=799x581 at 0x7BC3D7A67830>, <PIL.Image.Image image mode=RGB size=716x537 at 0x7BC3D7A657C0>, <PIL.Image.Image image mode=RGB size=716x519 at 0x7BC3D7A66300>, <PIL.Image.Image image mode=RGB size=800x583 at 0x7BC3D7A67EF0>, <PIL.Image.Image image mode=RGB size=716x537 at 0x7BC3D7A65700>, <PIL.Image.Image image mode=RGB size=712x515 at 0x7BC3D7A678C0>, <PIL.Image.Image image mode=RGB size=716x523 at 0x7BC3D7A67B90>, <PIL.Image.Image image mode=RGB size=716x537 at 0x7BC3D7A65D90>, <PIL.Image.Image image mode=RGB size=716x537 at 0x7BC3D7A646B0>, <PIL.Image.Image image mode=RGB size=716x537 at 0x7BC3D7A652E0>, <PIL.Image.Image image mode=RGB size=716x537 at 0x7BC3D7A66120>, <PIL.Image.Image image mode=RGB size=716x520 at 0x7BC3D7A65460>, <PIL.Image.Image image mode=RGB size=711x516 at 0x7BC3D7A64830>, <PIL.Image.Image image mode=RGB size=716x537 at 0x7BC3D7A67770>, <PIL.Image.Image image mode=RGB size=716x483 at 0x7BC3D7A66180>, <PIL.Image.Image image mode=RGB size=799x585 at 0x7BC3D7A64560>, <PIL.Image.Image image mode=RGB size=716x537 at 0x7BC3D7A64CE0>, <PIL.Image.Image image mode=RGB size=716x521 at 0x7BC3D7A65FD0>, <PIL.Image.Image image mode=RGB size=799x582 at 0x7BC3D7A66ED0>, <PIL.Image.Image image mode=RGB size=792x578 at 0x7BC3D7A64FB0>, <PIL.Image.Image image mode=RGB size=716x537 at 0x7BC3D7A66F90>, <PIL.Image.Image image mode=RGB size=716x520 at 0x7BC3D7A661B0>, <PIL.Image.Image image mode=RGB size=716x537 at 0x7BC3D7A66030>, <PIL.Image.Image image mode=RGB size=800x583 at 0x7BC3D7A65AC0>, <PIL.Image.Image image mode=RGB size=716x537 at 0x7BC3D7A658B0>, <PIL.Image.Image image mode=RGB size=792x576 at 0x7BC3D7A65160>, <PIL.Image.Image image mode=RGB size=799x582 at 0x7BC3D7A66B10>, <PIL.Image.Image image mode=RGB size=800x551 at 0x7BC3D7A64050>, <PIL.Image.Image image mode=RGB size=800x581 at 0x7BC3D7A650A0>, <PIL.Image.Image image mode=RGB size=716x537 at 0x7BC3D7A653A0>, <PIL.Image.Image image mode=RGB size=799x582 at 0x7BC3D7A66720>, <PIL.Image.Image image mode=RGB size=796x580 at 0x7BC3D7A64A40>, <PIL.Image.Image image mode=RGB size=716x537 at 0x7BC3D7A66750>, <PIL.Image.Image image mode=RGB size=716x518 at 0x7BC3D7A65910>, <PIL.Image.Image image mode=RGB size=797x578 at 0x7BC3F277BDD0>, <PIL.Image.Image image mode=RGB size=799x580 at 0x7BC3D7A67350>, <PIL.Image.Image image mode=RGB size=716x520 at 0x7BC3D7A65250>, <PIL.Image.Image image mode=RGB size=575x478 at 0x7BC3D7A67080>, <PIL.Image.Image image mode=RGB size=1280x926 at 0x7BC3D7A66A80>, <PIL.Image.Image image mode=RGB size=716x537 at 0x7BC3D7A65280>, <PIL.Image.Image image mode=RGB size=799x582 at 0x7BC3D7A64F80>, <PIL.Image.Image image mode=RGB size=581x481 at 0x7BC3D7A66DB0>, <PIL.Image.Image image mode=RGB size=792x581 at 0x7BC3D7A67650>, <PIL.Image.Image image mode=RGB size=716x537 at 0x7BC3D7A66B40>, <PIL.Image.Image image mode=RGB size=712x515 at 0x7BC3D7A672C0>, <PIL.Image.Image image mode=RGB size=716x537 at 0x7BC3D7A66C60>, <PIL.Image.Image image mode=RGB size=716x537 at 0x7BC3D7A67A70>, <PIL.Image.Image image mode=RGB size=716x537 at 0x7BC3D7A66780>, <PIL.Image.Image image mode=RGB size=715x521 at 0x7BC3D7A67380>, <PIL.Image.Image image mode=RGB size=793x579 at 0x7BC3D7A66930>, <PIL.Image.Image image mode=RGB size=799x581 at 0x7BC3D7A67E00>, <PIL.Image.Image image mode=RGB size=716x537 at 0x7BC3D7A655E0>, <PIL.Image.Image image mode=RGB size=800x582 at 0x7BC3D7A67050>, <PIL.Image.Image image mode=RGB size=799x584 at 0x7BC3D7A67680>, <PIL.Image.Image image mode=RGB size=716x537 at 0x7BC3D7A64AD0>, <PIL.Image.Image image mode=RGB size=797x584 at 0x7BC3D7A667B0>, <PIL.Image.Image image mode=RGB size=800x583 at 0x7BC3D7A67500>, <PIL.Image.Image image mode=RGB size=716x537 at 0x7BC3D7A65100>, <PIL.Image.Image image mode=RGB size=799x581 at 0x7BC3D7A67410>, <PIL.Image.Image image mode=RGB size=716x537 at 0x7BC3D7A66F30>, <PIL.Image.Image image mode=RGB size=800x584 at 0x7BC3D7A64E30>, <PIL.Image.Image image mode=RGB size=793x556 at 0x7BC3D7A672F0>, <PIL.Image.Image image mode=RGB size=716x537 at 0x7BC3D7A66900>, <PIL.Image.Image image mode=RGB size=716x537 at 0x7BC3D7A67F20>, <PIL.Image.Image image mode=RGB size=598x467 at 0x7BC3D7A67710>, <PIL.Image.Image image mode=RGB size=800x583 at 0x7BC3D7A65970>, <PIL.Image.Image image mode=RGB size=800x581 at 0x7BC3D7A65040>, <PIL.Image.Image image mode=RGB size=716x517 at 0x7BC3D7A65C40>, <PIL.Image.Image image mode=RGB size=716x520 at 0x7BC3D7A671A0>, <PIL.Image.Image image mode=RGB size=716x537 at 0x7BC3D7A64260>, <PIL.Image.Image image mode=RGB size=716x537 at 0x7BC3D7A66E10>, <PIL.Image.Image image mode=RGB size=800x582 at 0x7BC3D7A67B30>, <PIL.Image.Image image mode=RGB size=713x514 at 0x7BC3D7A66630>, <PIL.Image.Image image mode=RGB size=792x579 at 0x7BC3D7A679B0>, <PIL.Image.Image image mode=RGB size=799x582 at 0x7BC3D7A64EC0>, <PIL.Image.Image image mode=RGB size=716x537 at 0x7BC3D7A66C90>, <PIL.Image.Image image mode=RGB size=716x537 at 0x7BC3D7A65CA0>, <PIL.Image.Image image mode=RGB size=716x520 at 0x7BC3D7A662A0>, <PIL.Image.Image image mode=RGB size=716x537 at 0x7BC3D7A67EC0>, <PIL.Image.Image image mode=RGB size=716x537 at 0x7BC3D7A67C20>, <PIL.Image.Image image mode=RGB size=800x580 at 0x7BC3D7A65310>, <PIL.Image.Image image mode=RGB size=1278x929 at 0x7BC3D7A65550>, <PIL.Image.Image image mode=RGB size=716x537 at 0x7BC3D7A67F50>, <PIL.Image.Image image mode=RGB size=716x537 at 0x7BC3D7A67230>, <PIL.Image.Image image mode=RGB size=793x555 at 0x7BC3D7A659A0>, <PIL.Image.Image image mode=RGB size=716x537 at 0x7BC3D7A64F50>, <PIL.Image.Image image mode=RGB size=800x586 at 0x7BC3D7A663C0>, <PIL.Image.Image image mode=RGB size=793x578 at 0x7BC3D7A64B30>, <PIL.Image.Image image mode=RGB size=792x572 at 0x7BC3D7A65E20>, <PIL.Image.Image image mode=RGB size=716x537 at 0x7BC3D7A655B0>, <PIL.Image.Image image mode=RGB size=716x522 at 0x7BC3D7A67BC0>, <PIL.Image.Image image mode=RGB size=799x581 at 0x7BC3D7A67E30>, <PIL.Image.Image image mode=RGB size=716x519 at 0x7BC3D7A64E60>, <PIL.Image.Image image mode=RGB size=1276x929 at 0x7BC3D7A67320>, <PIL.Image.Image image mode=RGB size=793x575 at 0x7BC3D7A668D0>, <PIL.Image.Image image mode=RGB size=716x519 at 0x7BC3D7A67E90>, <PIL.Image.Image image mode=RGB size=716x537 at 0x7BC3D7A67F80>, <PIL.Image.Image image mode=RGB size=792x580 at 0x7BC3D7A664E0>, <PIL.Image.Image image mode=RGB size=800x579 at 0x7BC3D7A65F70>, <PIL.Image.Image image mode=RGB size=716x537 at 0x7BC3D7A64320>, <PIL.Image.Image image mode=RGB size=800x581 at 0x7BC3D7A65070>, <PIL.Image.Image image mode=RGB size=793x554 at 0x7BC3D7A66A50>, <PIL.Image.Image image mode=RGB size=800x580 at 0x7BC3D7A67C50>, <PIL.Image.Image image mode=RGB size=800x576 at 0x7BC3D7A660F0>, <PIL.Image.Image image mode=RGB size=716x520 at 0x7BC3D7A67200>, <PIL.Image.Image image mode=RGB size=716x537 at 0x7BC3D7A67C80>, <PIL.Image.Image image mode=RGB size=716x537 at 0x7BC3D7A65CD0>, <PIL.Image.Image image mode=RGB size=716x537 at 0x7BC3DEEE5C10>, <PIL.Image.Image image mode=RGB size=716x537 at 0x7BC3D7A742C0>, <PIL.Image.Image image mode=RGB size=793x561 at 0x7BC3D7A74080>, <PIL.Image.Image image mode=RGB size=716x537 at 0x7BC3D7A74890>, <PIL.Image.Image image mode=RGB size=799x585 at 0x7BC3D7A748F0>, <PIL.Image.Image image mode=RGB size=716x517 at 0x7BC3D7A74980>, <PIL.Image.Image image mode=RGB size=799x582 at 0x7BC3D7A749B0>, <PIL.Image.Image image mode=RGB size=716x537 at 0x7BC3D7A74A40>, <PIL.Image.Image image mode=RGB size=716x537 at 0x7BC3D7A74AA0>, <PIL.Image.Image image mode=RGB size=796x581 at 0x7BC3D7A74B00>, <PIL.Image.Image image mode=RGB size=716x537 at 0x7BC3D7A74B60>, <PIL.Image.Image image mode=RGB size=800x584 at 0x7BC3D7A74BC0>, <PIL.Image.Image image mode=RGB size=716x537 at 0x7BC3D7A74C20>, <PIL.Image.Image image mode=RGB size=715x520 at 0x7BC3D7A74CB0>, <PIL.Image.Image image mode=RGB size=793x554 at 0x7BC3D7A74D10>, <PIL.Image.Image image mode=RGB size=1276x925 at 0x7BC3D7A74D70>, <PIL.Image.Image image mode=RGB size=716x521 at 0x7BC3D7A74DD0>, <PIL.Image.Image image mode=RGB size=792x578 at 0x7BC3D7A74E30>, <PIL.Image.Image image mode=RGB size=716x537 at 0x7BC3D7A74E60>, <PIL.Image.Image image mode=RGB size=792x579 at 0x7BC3D7A74EF0>, <PIL.Image.Image image mode=RGB size=793x540 at 0x7BC3D7A74F50>, <PIL.Image.Image image mode=RGB size=713x519 at 0x7BC3D7A74F80>, <PIL.Image.Image image mode=RGB size=716x537 at 0x7BC3D7A75010>, <PIL.Image.Image image mode=RGB size=792x581 at 0x7BC3D7A75070>, <PIL.Image.Image image mode=RGB size=716x537 at 0x7BC3D7A750D0>, <PIL.Image.Image image mode=RGB size=800x580 at 0x7BC3D7A75130>, <PIL.Image.Image image mode=RGB size=716x537 at 0x7BC3D7A75190>, <PIL.Image.Image image mode=RGB size=712x517 at 0x7BC3D7A751F0>, <PIL.Image.Image image mode=RGB size=716x537 at 0x7BC3D7A75250>, <PIL.Image.Image image mode=RGB size=716x537 at 0x7BC3D7A752B0>, <PIL.Image.Image image mode=RGB size=800x580 at 0x7BC3D7A75310>, <PIL.Image.Image image mode=RGB size=716x537 at 0x7BC3D7A75370>, <PIL.Image.Image image mode=RGB size=716x520 at 0x7BC3D7A74FB0>, <PIL.Image.Image image mode=RGB size=609x483 at 0x7BC3D7A75520>, <PIL.Image.Image image mode=RGB size=800x579 at 0x7BC3D7A75460>, <PIL.Image.Image image mode=RGB size=716x537 at 0x7BC3D7A753D0>, <PIL.Image.Image image mode=RGB size=800x580 at 0x7BC3D7A75550>, <PIL.Image.Image image mode=RGB size=800x582 at 0x7BC3D7A755B0>, <PIL.Image.Image image mode=RGB size=716x537 at 0x7BC3D7A75610>, <PIL.Image.Image image mode=RGB size=716x537 at 0x7BC3D7A75670>, <PIL.Image.Image image mode=RGB size=716x497 at 0x7BC3D7A756D0>, <PIL.Image.Image image mode=RGB size=716x537 at 0x7BC3D7A75730>, <PIL.Image.Image image mode=RGB size=793x579 at 0x7BC3D7A75760>, <PIL.Image.Image image mode=RGB size=800x583 at 0x7BC3D7A757C0>, <PIL.Image.Image image mode=RGB size=716x503 at 0x7BC3D7A75820>, <PIL.Image.Image image mode=RGB size=800x585 at 0x7BC3D7A758B0>, <PIL.Image.Image image mode=RGB size=716x537 at 0x7BC3D7A75910>, <PIL.Image.Image image mode=RGB size=716x516 at 0x7BC3D7A75970>, <PIL.Image.Image image mode=RGB size=799x585 at 0x7BC3D7A759D0>, <PIL.Image.Image image mode=RGB size=716x537 at 0x7BC3D7A75A30>, <PIL.Image.Image image mode=RGB size=716x537 at 0x7BC3D7A75AC0>, <PIL.Image.Image image mode=RGB size=799x582 at 0x7BC3D7A75AF0>, <PIL.Image.Image image mode=RGB size=716x501 at 0x7BC3D7A75B20>, <PIL.Image.Image image mode=RGB size=793x575 at 0x7BC3D7A75BB0>, <PIL.Image.Image image mode=RGB size=800x584 at 0x7BC3D7A75C10>, <PIL.Image.Image image mode=RGB size=797x581 at 0x7BC3D7A75C70>, <PIL.Image.Image image mode=RGB size=713x517 at 0x7BC3D7A75CA0>, <PIL.Image.Image image mode=RGB size=716x537 at 0x7BC3D7A75D30>, <PIL.Image.Image image mode=RGB size=716x537 at 0x7BC3D7A75D60>, <PIL.Image.Image image mode=RGB size=716x537 at 0x7BC3D7A75E20>, <PIL.Image.Image image mode=RGB size=792x576 at 0x7BC3D7A75E50>, <PIL.Image.Image image mode=RGB size=715x520 at 0x7BC3D7A75E80>, <PIL.Image.Image image mode=RGB size=716x517 at 0x7BC3D7A75EE0>, <PIL.Image.Image image mode=RGB size=797x581 at 0x7BC3D7A75FA0>, <PIL.Image.Image image mode=RGB size=799x585 at 0x7BC3D7A76000>, <PIL.Image.Image image mode=RGB size=716x537 at 0x7BC3D7A76060>, <PIL.Image.Image image mode=RGB size=716x498 at 0x7BC3D7A760C0>, <PIL.Image.Image image mode=RGB size=716x518 at 0x7BC3D7A76120>, <PIL.Image.Image image mode=RGB size=716x537 at 0x7BC3D7A76180>, <PIL.Image.Image image mode=RGB size=716x518 at 0x7BC3D7A761B0>, <PIL.Image.Image image mode=RGB size=800x584 at 0x7BC3D7A76240>, <PIL.Image.Image image mode=RGB size=716x520 at 0x7BC3D7A762A0>, <PIL.Image.Image image mode=RGB size=800x584 at 0x7BC3D7A76300>, <PIL.Image.Image image mode=RGB size=800x581 at 0x7BC3D7A76360>, <PIL.Image.Image image mode=RGB size=792x578 at 0x7BC3D7A763C0>, <PIL.Image.Image image mode=RGB size=716x537 at 0x7BC3D7A76420>, <PIL.Image.Image image mode=RGB size=716x537 at 0x7BC3D7A76450>, <PIL.Image.Image image mode=RGB size=800x586 at 0x7BC3D7A764E0>, <PIL.Image.Image image mode=RGB size=799x580 at 0x7BC3D7A76510>, <PIL.Image.Image image mode=RGB size=800x580 at 0x7BC3D7A76570>, <PIL.Image.Image image mode=RGB size=716x537 at 0x7BC3D7A76630>, <PIL.Image.Image image mode=RGB size=716x537 at 0x7BC3D7A76660>, <PIL.Image.Image image mode=RGB size=799x581 at 0x7BC3D7A76720>, <PIL.Image.Image image mode=RGB size=716x537 at 0x7BC3D7A76810>, <PIL.Image.Image image mode=RGB size=716x537 at 0x7BC3D7A767B0>, <PIL.Image.Image image mode=RGB size=716x537 at 0x7BC3D7A76690>, <PIL.Image.Image image mode=RGB size=716x537 at 0x7BC3D7A76870>, <PIL.Image.Image image mode=RGB size=716x537 at 0x7BC3D7A768A0>, <PIL.Image.Image image mode=RGB size=716x521 at 0x7BC3D7A76900>, <PIL.Image.Image image mode=RGB size=792x574 at 0x7BC3D7A769C0>, <PIL.Image.Image image mode=RGB size=1011x353 at 0x7BC3D7A76A20>, <PIL.Image.Image image mode=RGB size=716x520 at 0x7BC3D7A769F0>, <PIL.Image.Image image mode=RGB size=799x581 at 0x7BC3D7A76AB0>, <PIL.Image.Image image mode=RGB size=716x537 at 0x7BC3D7A76B10>, <PIL.Image.Image image mode=RGB size=716x537 at 0x7BC3D7A76B40>, <PIL.Image.Image image mode=RGB size=792x577 at 0x7BC3D7A76BD0>, <PIL.Image.Image image mode=RGB size=800x574 at 0x7BC3D7A76C30>, <PIL.Image.Image image mode=RGB size=800x581 at 0x7BC3D7A76C60>, <PIL.Image.Image image mode=RGB size=800x584 at 0x7BC3D7A76CF0>, <PIL.Image.Image image mode=RGB size=716x537 at 0x7BC3D7A76D50>, <PIL.Image.Image image mode=RGB size=716x537 at 0x7BC3D7A76DB0>, <PIL.Image.Image image mode=RGB size=716x537 at 0x7BC3D7A76DE0>, <PIL.Image.Image image mode=RGB size=716x537 at 0x7BC3D7A76E70>, <PIL.Image.Image image mode=RGB size=716x537 at 0x7BC3D7A76ED0>, <PIL.Image.Image image mode=RGB size=800x585 at 0x7BC3D7A76F30>, <PIL.Image.Image image mode=RGB size=792x574 at 0x7BC3D7A76F90>, <PIL.Image.Image image mode=RGB size=716x520 at 0x7BC3D7A76FF0>, <PIL.Image.Image image mode=RGB size=800x585 at 0x7BC3D7A77050>, <PIL.Image.Image image mode=RGB size=792x577 at 0x7BC3D7A770E0>, <PIL.Image.Image image mode=RGB size=716x537 at 0x7BC3D7A77140>, <PIL.Image.Image image mode=RGB size=716x518 at 0x7BC3D7A76E10>, <PIL.Image.Image image mode=RGB size=716x520 at 0x7BC3D7A771D0>, <PIL.Image.Image image mode=RGB size=715x520 at 0x7BC3D7A77260>, <PIL.Image.Image image mode=RGB size=793x553 at 0x7BC3D7A772C0>, <PIL.Image.Image image mode=RGB size=716x537 at 0x7BC3D7A77320>, <PIL.Image.Image image mode=RGB size=799x585 at 0x7BC3D7A77350>, <PIL.Image.Image image mode=RGB size=792x576 at 0x7BC3D7A77410>, <PIL.Image.Image image mode=RGB size=799x581 at 0x7BC3D7A77470>, <PIL.Image.Image image mode=RGB size=716x537 at 0x7BC3D7A774A0>, <PIL.Image.Image image mode=RGB size=793x555 at 0x7BC3D7A77500>, <PIL.Image.Image image mode=RGB size=716x537 at 0x7BC3D7A77590>, <PIL.Image.Image image mode=RGB size=713x517 at 0x7BC3D7A77620>, <PIL.Image.Image image mode=RGB size=716x537 at 0x7BC3D7A77650>, <PIL.Image.Image image mode=RGB size=716x537 at 0x7BC3D7A776E0>, <PIL.Image.Image image mode=RGB size=716x537 at 0x7BC3D7A77740>, <PIL.Image.Image image mode=RGB size=716x537 at 0x7BC3D7A777A0>, <PIL.Image.Image image mode=RGB size=716x537 at 0x7BC3D7A77800>, <PIL.Image.Image image mode=RGB size=792x581 at 0x7BC3D7A77890>, <PIL.Image.Image image mode=RGB size=792x578 at 0x7BC3D7A778F0>, <PIL.Image.Image image mode=RGB size=716x537 at 0x7BC3D7A77980>, <PIL.Image.Image image mode=RGB size=793x558 at 0x7BC3D7A779B0>, <PIL.Image.Image image mode=RGB size=731x488 at 0x7BC3D7A779E0>, <PIL.Image.Image image mode=RGB size=800x584 at 0x7BC3D7A77A40>, <PIL.Image.Image image mode=RGB size=716x493 at 0x7BC3D7A77B00>, <PIL.Image.Image image mode=RGB size=799x583 at 0x7BC3D7A77B30>, <PIL.Image.Image image mode=RGB size=799x582 at 0x7BC3D7A77B90>, <PIL.Image.Image image mode=RGB size=712x517 at 0x7BC3D7A77BF0>, <PIL.Image.Image image mode=RGB size=793x553 at 0x7BC3D7A77C50>, <PIL.Image.Image image mode=RGB size=800x584 at 0x7BC3D7A77CB0>, <PIL.Image.Image image mode=RGB size=716x537 at 0x7BC3D7A77D10>, <PIL.Image.Image image mode=RGB size=716x502 at 0x7BC3D7A77D70>, <PIL.Image.Image image mode=RGB size=716x537 at 0x7BC3D7A77DA0>, <PIL.Image.Image image mode=RGB size=800x562 at 0x7BC3D7A77EC0>, <PIL.Image.Image image mode=RGB size=799x585 at 0x7BC3D7A77EF0>, <PIL.Image.Image image mode=RGB size=793x549 at 0x7BC3D7A77E90>, <PIL.Image.Image image mode=RGB size=793x575 at 0x7BC3CF3ACD70>, <PIL.Image.Image image mode=RGB size=793x581 at 0x7BC3CF3AE510>, <PIL.Image.Image image mode=RGB size=716x537 at 0x7BC3CF3ACC50>, <PIL.Image.Image image mode=RGB size=800x583 at 0x7BC3CF3AE750>, <PIL.Image.Image image mode=RGB size=712x517 at 0x7BC3CF3AD910>, <PIL.Image.Image image mode=RGB size=716x537 at 0x7BC3CF3AE690>, <PIL.Image.Image image mode=RGB size=797x581 at 0x7BC3CF3AF530>, <PIL.Image.Image image mode=RGB size=800x585 at 0x7BC3D7F053D0>, <PIL.Image.Image image mode=RGB size=792x579 at 0x7BC3D7F042C0>, <PIL.Image.Image image mode=RGB size=716x498 at 0x7BC3D7F06510>, <PIL.Image.Image image mode=RGB size=716x537 at 0x7BC3D7F06AE0>, <PIL.Image.Image image mode=RGB size=800x584 at 0x7BC3D7F05370>, <PIL.Image.Image image mode=RGB size=799x582 at 0x7BC3D7F06540>, <PIL.Image.Image image mode=RGB size=800x583 at 0x7BC3D7F041D0>, <PIL.Image.Image image mode=RGB size=793x581 at 0x7BC3D7F06720>, <PIL.Image.Image image mode=RGB size=716x537 at 0x7BC3D7F07290>, <PIL.Image.Image image mode=RGB size=716x491 at 0x7BC3D7F05250>, <PIL.Image.Image image mode=RGB size=716x537 at 0x7BC3D7F06F60>, <PIL.Image.Image image mode=RGB size=800x583 at 0x7BC3D7F07140>, <PIL.Image.Image image mode=RGB size=716x537 at 0x7BC3D7F05460>, <PIL.Image.Image image mode=RGB size=799x582 at 0x7BC3D7F07EF0>, <PIL.Image.Image image mode=RGB size=716x520 at 0x7BC3D7F05A00>, <PIL.Image.Image image mode=RGB size=712x517 at 0x7BC3D7F04DA0>, <PIL.Image.Image image mode=RGB size=799x584 at 0x7BC3D7F06ED0>, <PIL.Image.Image image mode=RGB size=799x582 at 0x7BC3D7F054C0>, <PIL.Image.Image image mode=RGB size=612x484 at 0x7BC3D7F07980>, <PIL.Image.Image image mode=RGB size=799x584 at 0x7BC3D7F059D0>, <PIL.Image.Image image mode=RGB size=716x537 at 0x7BC3D7F05310>, <PIL.Image.Image image mode=RGB size=799x576 at 0x7BC3D7F07D10>, <PIL.Image.Image image mode=RGB size=716x521 at 0x7BC3D7F05700>, <PIL.Image.Image image mode=RGB size=716x537 at 0x7BC3D7F06120>, <PIL.Image.Image image mode=RGB size=716x519 at 0x7BC3D7F073E0>, <PIL.Image.Image image mode=RGB size=792x578 at 0x7BC3D7F04F50>, <PIL.Image.Image image mode=RGB size=716x537 at 0x7BC3D7F07BC0>, <PIL.Image.Image image mode=RGB size=799x583 at 0x7BC3D7F07620>, <PIL.Image.Image image mode=RGB size=716x537 at 0x7BC3D7F05430>, <PIL.Image.Image image mode=RGB size=716x520 at 0x7BC3D7F06F90>, <PIL.Image.Image image mode=RGB size=796x576 at 0x7BC3D7F05070>, <PIL.Image.Image image mode=RGB size=716x537 at 0x7BC3D7F04EC0>, <PIL.Image.Image image mode=RGB size=716x537 at 0x7BC3D7F07320>, <PIL.Image.Image image mode=RGB size=726x475 at 0x7BC3D7F07F80>, <PIL.Image.Image image mode=RGB size=800x577 at 0x7BC3D7F04170>, <PIL.Image.Image image mode=RGB size=716x493 at 0x7BC3D7F06480>, <PIL.Image.Image image mode=RGB size=716x537 at 0x7BC3D7F044D0>, <PIL.Image.Image image mode=RGB size=792x575 at 0x7BC3D7F07560>, <PIL.Image.Image image mode=RGB size=716x537 at 0x7BC3D7F05160>, <PIL.Image.Image image mode=RGB size=716x518 at 0x7BC3D7F07410>, <PIL.Image.Image image mode=RGB size=793x577 at 0x7BC3D7F05A90>, <PIL.Image.Image image mode=RGB size=716x537 at 0x7BC3D7F06660>, <PIL.Image.Image image mode=RGB size=800x583 at 0x7BC3D7F07F20>, <PIL.Image.Image image mode=RGB size=716x537 at 0x7BC3D7F046B0>, <PIL.Image.Image image mode=RGB size=716x537 at 0x7BC3D7F07DD0>, <PIL.Image.Image image mode=RGB size=716x491 at 0x7BC3D7F06C00>, <PIL.Image.Image image mode=RGB size=799x582 at 0x7BC3D7F04AD0>, <PIL.Image.Image image mode=RGB size=523x464 at 0x7BC3D7F04AA0>, <PIL.Image.Image image mode=RGB size=797x578 at 0x7BC3D7F06750>, <PIL.Image.Image image mode=RGB size=716x520 at 0x7BC3D7F07020>, <PIL.Image.Image image mode=RGB size=799x582 at 0x7BC3D7F040B0>, <PIL.Image.Image image mode=RGB size=716x537 at 0x7BC3D7F04A40>, <PIL.Image.Image image mode=RGB size=799x582 at 0x7BC3D7F076B0>, <PIL.Image.Image image mode=RGB size=716x519 at 0x7BC3D7F05D30>, <PIL.Image.Image image mode=RGB size=716x537 at 0x7BC3D7F05B20>, <PIL.Image.Image image mode=RGB size=716x537 at 0x7BC3D7F06DE0>, <PIL.Image.Image image mode=RGB size=792x575 at 0x7BC3D7F05220>, <PIL.Image.Image image mode=RGB size=716x521 at 0x7BC3D7F04680>, <PIL.Image.Image image mode=RGB size=716x537 at 0x7BC3D7F06030>, <PIL.Image.Image image mode=RGB size=716x518 at 0x7BC3D7F07170>, <PIL.Image.Image image mode=RGB size=713x517 at 0x7BC3D7F04B60>, <PIL.Image.Image image mode=RGB size=712x518 at 0x7BC3D7F07050>, <PIL.Image.Image image mode=RGB size=800x587 at 0x7BC3D7F04C50>, <PIL.Image.Image image mode=RGB size=716x537 at 0x7BC3D7F040E0>, <PIL.Image.Image image mode=RGB size=716x518 at 0x7BC3D7F05C10>, <PIL.Image.Image image mode=RGB size=716x537 at 0x7BC3D7F07920>, <PIL.Image.Image image mode=RGB size=716x537 at 0x7BC3F277BD10>, <PIL.Image.Image image mode=RGB size=716x537 at 0x7BC3D7F04E00>, <PIL.Image.Image image mode=RGB size=716x521 at 0x7BC3D7F04B90>, <PIL.Image.Image image mode=RGB size=712x518 at 0x7BC3D7F07AD0>, <PIL.Image.Image image mode=RGB size=799x584 at 0x7BC3D7F060C0>, <PIL.Image.Image image mode=RGB size=800x600 at 0x7BC3D7F04770>, <PIL.Image.Image image mode=RGB size=797x583 at 0x7BC3D7F07110>, <PIL.Image.Image image mode=RGB size=716x537 at 0x7BC3D7F05280>, <PIL.Image.Image image mode=RGB size=800x561 at 0x7BC3D7F048C0>, <PIL.Image.Image image mode=RGB size=712x514 at 0x7BC3D7F058B0>, <PIL.Image.Image image mode=RGB size=800x580 at 0x7BC3D7F072F0>, <PIL.Image.Image image mode=RGB size=746x479 at 0x7BC3D7F05BE0>, <PIL.Image.Image image mode=RGB size=716x537 at 0x7BC3D7F04CE0>, <PIL.Image.Image image mode=RGB size=800x585 at 0x7BC3D7F07B90>, <PIL.Image.Image image mode=RGB size=716x537 at 0x7BC3D7F04980>, <PIL.Image.Image image mode=RGB size=800x584 at 0x7BC3D7F07890>, <PIL.Image.Image image mode=RGB size=800x585 at 0x7BC3D7F05760>, <PIL.Image.Image image mode=RGB size=799x577 at 0x7BC3D7F05E50>, <PIL.Image.Image image mode=RGB size=716x537 at 0x7BC3D7F04350>, <PIL.Image.Image image mode=RGB size=716x519 at 0x7BC3D7F06CF0>, <PIL.Image.Image image mode=RGB size=716x537 at 0x7BC3D7F071D0>, <PIL.Image.Image image mode=RGB size=716x537 at 0x7BC3D7F05D60>, <PIL.Image.Image image mode=RGB size=716x537 at 0x7BC3D7F067B0>, <PIL.Image.Image image mode=RGB size=797x580 at 0x7BC3D7F06330>, <PIL.Image.Image image mode=RGB size=716x537 at 0x7BC3D7F04E30>, <PIL.Image.Image image mode=RGB size=793x578 at 0x7BC3D7F042F0>, <PIL.Image.Image image mode=RGB size=792x579 at 0x7BC3D7F07AA0>, <PIL.Image.Image image mode=RGB size=716x537 at 0x7BC3D7F076E0>, <PIL.Image.Image image mode=RGB size=800x580 at 0x7BC3D7F055B0>, <PIL.Image.Image image mode=RGB size=716x537 at 0x7BC3D7F059A0>, <PIL.Image.Image image mode=RGB size=799x582 at 0x7BC3D7F04CB0>, <PIL.Image.Image image mode=RGB size=800x580 at 0x7BC3D7F06D20>, <PIL.Image.Image image mode=RGB size=716x537 at 0x7BC3D7F045C0>, <PIL.Image.Image image mode=RGB size=793x553 at 0x7BC3D7F04740>, <PIL.Image.Image image mode=RGB size=800x584 at 0x7BC3D7F062A0>, <PIL.Image.Image image mode=RGB size=716x537 at 0x7BC3D7F065D0>, <PIL.Image.Image image mode=RGB size=716x495 at 0x7BC3D7F07B30>, <PIL.Image.Image image mode=RGB size=716x537 at 0x7BC3D7F043B0>, <PIL.Image.Image image mode=RGB size=716x519 at 0x7BC3D7F064B0>, <PIL.Image.Image image mode=RGB size=800x580 at 0x7BC3D7F05EB0>, <PIL.Image.Image image mode=RGB size=716x520 at 0x7BC3D7F04DD0>, <PIL.Image.Image image mode=RGB size=716x537 at 0x7BC3D7F07740>, <PIL.Image.Image image mode=RGB size=793x576 at 0x7BC3D7AC2C60>, <PIL.Image.Image image mode=RGB size=793x580 at 0x7BC3D7AC1D30>, <PIL.Image.Image image mode=RGB size=799x582 at 0x7BC3D7AC3FB0>, <PIL.Image.Image image mode=RGB size=716x537 at 0x7BC3D7AC1DC0>, <PIL.Image.Image image mode=RGB size=800x582 at 0x7BC3D7AC2BD0>, <PIL.Image.Image image mode=RGB size=716x537 at 0x7BC3D7AC2150>, <PIL.Image.Image image mode=RGB size=800x579 at 0x7BC3D7AC1F10>, <PIL.Image.Image image mode=RGB size=798x582 at 0x7BC3D7AC1E50>, <PIL.Image.Image image mode=RGB size=716x537 at 0x7BC3D7AC3C50>, <PIL.Image.Image image mode=RGB size=799x581 at 0x7BC3D7AC2510>, <PIL.Image.Image image mode=RGB size=716x537 at 0x7BC3D7AC2450>, <PIL.Image.Image image mode=RGB size=716x537 at 0x7BC3D7AC2810>, <PIL.Image.Image image mode=RGB size=793x576 at 0x7BC3D7AC2210>, <PIL.Image.Image image mode=RGB size=799x581 at 0x7BC3D7AC2A20>, <PIL.Image.Image image mode=RGB size=799x581 at 0x7BC3D7AC24B0>, <PIL.Image.Image image mode=RGB size=716x519 at 0x7BC3D7AC3F80>, <PIL.Image.Image image mode=RGB size=716x537 at 0x7BC3D7AC2990>, <PIL.Image.Image image mode=RGB size=716x537 at 0x7BC3D7AC2A50>, <PIL.Image.Image image mode=RGB size=800x582 at 0x7BC3D7AC28D0>, <PIL.Image.Image image mode=RGB size=800x584 at 0x7BC3D7AC3950>, <PIL.Image.Image image mode=RGB size=601x476 at 0x7BC3D7AC3290>, <PIL.Image.Image image mode=RGB size=712x519 at 0x7BC3D7AC3AD0>, <PIL.Image.Image image mode=RGB size=716x537 at 0x7BC3D7AC3350>, <PIL.Image.Image image mode=RGB size=716x521 at 0x7BC3D7AC2750>, <PIL.Image.Image image mode=RGB size=799x585 at 0x7BC3D7AC3DA0>, <PIL.Image.Image image mode=RGB size=793x584 at 0x7BC3D7AC3E60>, <PIL.Image.Image image mode=RGB size=716x537 at 0x7BC3D7AC39E0>, <PIL.Image.Image image mode=RGB size=716x537 at 0x7BC3D7AC3260>, <PIL.Image.Image image mode=RGB size=800x583 at 0x7BC3D7AC37D0>, <PIL.Image.Image image mode=RGB size=799x582 at 0x7BC3D7AC3D10>, <PIL.Image.Image image mode=RGB size=716x537 at 0x7BC3D7AC3CB0>, <PIL.Image.Image image mode=RGB size=716x518 at 0x7BC3D7AC3740>, <PIL.Image.Image image mode=RGB size=793x576 at 0x7BC3D7AC3080>, <PIL.Image.Image image mode=RGB size=716x537 at 0x7BC3D7AC3140>, <PIL.Image.Image image mode=RGB size=715x520 at 0x7BC3D7AC0620>, <PIL.Image.Image image mode=RGB size=800x563 at 0x7BC3D7AC0650>, <PIL.Image.Image image mode=RGB size=799x581 at 0x7BC3D7AC0710>, <PIL.Image.Image image mode=RGB size=792x577 at 0x7BC3D7AC0740>, <PIL.Image.Image image mode=RGB size=719x537 at 0x7BC3D7AC0800>, <PIL.Image.Image image mode=RGB size=716x537 at 0x7BC3D7AC07A0>, <PIL.Image.Image image mode=RGB size=799x581 at 0x7BC3D7AC0920>, <PIL.Image.Image image mode=RGB size=799x579 at 0x7BC3D7AC0950>, <PIL.Image.Image image mode=RGB size=792x575 at 0x7BC3D7AC0980>, <PIL.Image.Image image mode=RGB size=800x585 at 0x7BC3D7AC09B0>, <PIL.Image.Image image mode=RGB size=799x582 at 0x7BC3D7AC0A10>, <PIL.Image.Image image mode=RGB size=716x521 at 0x7BC3D7AC0AA0>, <PIL.Image.Image image mode=RGB size=796x578 at 0x7BC3D7AC0B30>, <PIL.Image.Image image mode=RGB size=799x581 at 0x7BC3D7AC0A40>, <PIL.Image.Image image mode=RGB size=716x499 at 0x7BC3D7AC0BC0>, <PIL.Image.Image image mode=RGB size=716x521 at 0x7BC3D7AC0C20>, <PIL.Image.Image image mode=RGB size=797x584 at 0x7BC3D7AC0C80>, <PIL.Image.Image image mode=RGB size=716x520 at 0x7BC3D7AC0CE0>, <PIL.Image.Image image mode=RGB size=716x537 at 0x7BC3D7AC0D40>, <PIL.Image.Image image mode=RGB size=716x537 at 0x7BC3D7AC0DA0>, <PIL.Image.Image image mode=RGB size=716x537 at 0x7BC3D7AC0B90>, <PIL.Image.Image image mode=RGB size=716x519 at 0x7BC3D7AC0E60>, <PIL.Image.Image image mode=RGB size=799x585 at 0x7BC3D7AC0EC0>, <PIL.Image.Image image mode=RGB size=716x519 at 0x7BC3D7AC0E30>, <PIL.Image.Image image mode=RGB size=716x537 at 0x7BC3D7AC0F80>, <PIL.Image.Image image mode=RGB size=800x579 at 0x7BC3D7AC0FE0>, <PIL.Image.Image image mode=RGB size=792x572 at 0x7BC3D7AC1040>, <PIL.Image.Image image mode=RGB size=716x537 at 0x7BC3D7AC10D0>, <PIL.Image.Image image mode=RGB size=799x585 at 0x7BC3D7AC1130>, <PIL.Image.Image image mode=RGB size=792x575 at 0x7BC3D7AC1190>, <PIL.Image.Image image mode=RGB size=793x555 at 0x7BC3D7AC0F50>, <PIL.Image.Image image mode=RGB size=799x561 at 0x7BC3D7AC1250>, <PIL.Image.Image image mode=RGB size=800x580 at 0x7BC3D7AC12B0>, <PIL.Image.Image image mode=RGB size=799x582 at 0x7BC3D7AC1310>, <PIL.Image.Image image mode=RGB size=716x537 at 0x7BC3D7AC1370>, <PIL.Image.Image image mode=RGB size=800x563 at 0x7BC3D7AC13D0>, <PIL.Image.Image image mode=RGB size=793x579 at 0x7BC3D7AC1220>, <PIL.Image.Image image mode=RGB size=716x519 at 0x7BC3D7AC1490>, <PIL.Image.Image image mode=RGB size=716x520 at 0x7BC3D7AC14F0>, <PIL.Image.Image image mode=RGB size=716x519 at 0x7BC3D7AC1550>, <PIL.Image.Image image mode=RGB size=716x537 at 0x7BC3D7AC15B0>, <PIL.Image.Image image mode=RGB size=792x578 at 0x7BC3D7AC1460>, <PIL.Image.Image image mode=RGB size=716x537 at 0x7BC3D7AC1670>, <PIL.Image.Image image mode=RGB size=793x558 at 0x7BC3D7AC1640>, <PIL.Image.Image image mode=RGB size=797x581 at 0x7BC3D7AC1730>, <PIL.Image.Image image mode=RGB size=800x585 at 0x7BC3D7AC1790>, <PIL.Image.Image image mode=RGB size=716x537 at 0x7BC3D7AC1820>, <PIL.Image.Image image mode=RGB size=715x520 at 0x7BC3D7AC1880>, <PIL.Image.Image image mode=RGB size=1268x921 at 0x7BC3D7AC18E0>, <PIL.Image.Image image mode=RGB size=793x573 at 0x7BC3D7AC1970>, <PIL.Image.Image image mode=RGB size=800x583 at 0x7BC3D7AC19D0>, <PIL.Image.Image image mode=RGB size=716x466 at 0x7BC3D7AC1A30>, <PIL.Image.Image image mode=RGB size=716x500 at 0x7BC3D7AC1A90>, <PIL.Image.Image image mode=RGB size=716x537 at 0x7BC3D7AC1AF0>, <PIL.Image.Image image mode=RGB size=716x537 at 0x7BC3D7AC1B50>, <PIL.Image.Image image mode=RGB size=716x537 at 0x7BC3D7AC1C10>, <PIL.Image.Image image mode=RGB size=716x521 at 0x7BC3D7AC1BE0>, <PIL.Image.Image image mode=RGB size=716x537 at 0x7BC3D7AC1C40>, <PIL.Image.Image image mode=RGB size=716x537 at 0x7BC3D7AC1CA0>, <PIL.Image.Image image mode=RGB size=799x582 at 0x7BC3D7AC1FA0>, <PIL.Image.Image image mode=RGB size=716x502 at 0x7BC3D7FAAA50>, <PIL.Image.Image image mode=RGB size=716x521 at 0x7BC3D7FAAD50>, <PIL.Image.Image image mode=RGB size=796x576 at 0x7BC3D7FAA270>, <PIL.Image.Image image mode=RGB size=716x519 at 0x7BC3D7FABF80>, <PIL.Image.Image image mode=RGB size=793x578 at 0x7BC3D7FA9340>, <PIL.Image.Image image mode=RGB size=716x537 at 0x7BC3D7FA86E0>, <PIL.Image.Image image mode=RGB size=716x537 at 0x7BC3D7FAABD0>, <PIL.Image.Image image mode=RGB size=792x578 at 0x7BC3D7FAA120>, <PIL.Image.Image image mode=RGB size=716x489 at 0x7BC3D7FA9910>, <PIL.Image.Image image mode=RGB size=716x537 at 0x7BC3D7FA9790>, <PIL.Image.Image image mode=RGB size=715x521 at 0x7BC3D7FA9E20>, <PIL.Image.Image image mode=RGB size=800x584 at 0x7BC3D7FA8230>, <PIL.Image.Image image mode=RGB size=716x520 at 0x7BC3D7FA8050>, <PIL.Image.Image image mode=RGB size=716x519 at 0x7BC3D7FA8A10>, <PIL.Image.Image image mode=RGB size=799x585 at 0x7BC3D7FA8AD0>, <PIL.Image.Image image mode=RGB size=800x565 at 0x7BC3DCD53410>, <PIL.Image.Image image mode=RGB size=712x517 at 0x7BC3D7FA87D0>, <PIL.Image.Image image mode=RGB size=716x537 at 0x7BC3D7FABDD0>, <PIL.Image.Image image mode=RGB size=793x581 at 0x7BC3D7FA93D0>]\n",
            "['742.2 App.bmp', '454.2 App.bmp', '563.5 App.bmp', '506.4 App.bmp', '721.3 App.bmp', '628.1 App.bmp', '872.2 App.bmp', '464.3 App.bmp', '358.2 App.bmp', '216.1 App.bmp', '133.2 App.bmp', '833.4 App.bmp', '211.4 App.bmp', '691.6 App.bmp', '558.2 App.bmp', '102.19 App.bmp', '832.2 App.bmp', '802.4 App.bmp', '642.3 App.bmp', '607.1 App.bmp', '51.3 App.bmp', '790.5 App.bmp', '446.1 App.bmp', '252.2 App.bmp', '537.6 App.bmp', '368.2 App.bmp', '565.1 App.bmp', '177.2 App.bmp', '672.4 App.bmp', '130.4 App.bmp', '37.1 App .bmp', '107.3 App.bmp', '597.4 App.bmp', '856.1 App.bmp', '512.2 App.bmp', '837.5 App.bmp', '609.1 App.bmp', '79.4 App.bmp', '691.3 App.bmp', '168.3 App.bmp', '512.3 App.bmp', '938.1 App.bmp', '122.2 App.bmp', '205.4 App.bmp', '85.3 App.bmp', '22.5 Appendix.bmp', '523.1 App.bmp', '143.4 App.bmp', '790.4 App.bmp', '184.1 App.bmp', '48.4 App.bmp', '499.3 App.bmp', '591.1 App.bmp', '357.1 App.bmp', '538.4 App.bmp', '117.5 App.bmp', '525.4 App.bmp', '773.8 App.bmp', '103.8 App.bmp', '316.1 App.bmp', '525.8 App.bmp', '466.4 App.bmp', '304.3 App.bmp', '826.1 App.bmp', '619.2 App.bmp', '116.1 App.bmp', '200.1 App.bmp', '122.1 App.bmp', '4.2 Appendix.png', '893.3 App.bmp', '862.2 App.bmp', '41.4 App.bmp', '174.2 App.bmp', '499.2 App.bmp', '525.1 App.bmp', '145.2 App.bmp', '30.2 Appendix.bmp', '68.2 App.bmp', '900.3 App.bmp', '12.1 Appendix.bmp', '304.2 App.bmp', '863.4 App.bmp', '96.6 App.bmp', '711.4 App.bmp', '531.7 App.bmp', '233.3 App.bmp', '174.3 App.bmp', '537.5 App.bmp', '174.6 App.bmp', '59.2 App.bmp', '189.1 App.bmp', '918.2 App.bmp', '30.3 Appendix.bmp', '491.2 App.bmp', '796.3 App.bmp', '68.1 App.bmp', '593.2 App.bmp', '790.2 App.bmp', '202.4 App.bmp', '606.3 App.bmp', '128.4 App.bmp', '545.2 App.bmp', '837.6 App.bmp', '575.2 App.bmp', '345.2 App.bmp', '455.2 App.bmp', '950.2 App.bmp', '933.1 App.bmp', '933.3 App.bmp', '909.5 App.bmp', '116.3 App.bmp', '503.3 app.bmp', '277.4 App.bmp', '557.3 App.bmp', '990.7 App.bmp', '537.1 App.bmp', '51.2 App.bmp', '105.6 App.bmp', '92.3 App.bmp', '105.10 App.bmp', '55.2 App.bmp', '158.4 App.bmp', '289.1 App.bmp', '592.3 App.bmp', '106.6 App.bmp', '547.9 App.bmp', '44.1 App.bmp', '525.7 App.bmp', '463.2 App.bmp', '508.2 App.bmp', '777.3 App.bmp', '376.1 App.bmp', '583.2 App.bmp', '207.4 App.bmp', '117.6 App.bmp', '260.1 App.bmp', '458.3 App.bmp', '517.2 App.bmp', '711.3 App.bmp', '18.3 Appendix.bmp', '1.4 Appendix.png', '175.1 App.bmp', '23.1 Appendix.bmp', '389.1 App.bmp', '927.10 App.bmp', '12.2 Appendix.png', '87.2 App.bmp', '116.4 App.bmp', '672.6 App.bmp', '75.1 App.bmp', '560.6 App.bmp', '54.3 App.bmp', '187.3 App.bmp', '557.1 App.bmp', '161.4 App.bmp', '802.1 App.bmp', '14.1 Appendix.png', '490.4 App.bmp', '551.1 App.bmp', '278.3 App.bmp', '833.2 App.bmp', '774.1 App.bmp', '721.1 App.bmp', '458.1 App.bmp', '955.4 App.bmp', '591.11 App.bmp', '326.2 App.bmp', '853.1 App.bmp', '34.3 App.bmp', '587.3 App.bmp', '323.3 App.bmp', '761.4 App.bmp', '831.1 App.bmp', '510.3 App.bmp', '563.2 App.bmp', '904.4 App.bmp', '25.2 Appendix.bmp', '502.1 App.bmp', '446.2 App.bmp', '887.3 App.bmp', '547.4 App.bmp', '974.5 App.bmp', '749.2 App.bmp', '341.1 App.bmp', '551.2 App.bmp', '152.2 App.bmp', '506.5 App.bmp', '738.3 App.bmp', '928.2 App.bmp', '936.2 App.bmp', '186.1 App.bmp', '922.1 App.bmp', '508.5 App.bmp', '24.3 Appendix.bmp', '83.6 App.bmp', '594.3 App.bmp', '773.2 App.bmp', '101.12 App.bmp', '583.4 App.bmp', '249.2 App.bmp', '747.10 App.bmp', '220.1 App.bmp', '606.2 App.bmp', '60.4 App.bmp', '965.2 App.bmp', '697.1 App.bmp', '88.4 App.bmp', '34.1 App.bmp', '102.6 App.bmp', '181.3 App.bmp', '904.3 App .bmp', '174.5 App.bmp', '123.4 App.bmp', '77.2 App.bmp', '775.1 App.bmp', '773.5 App.bmp', '203.2. App.bmp', '117.1 App.bmp', '494.1 App.bmp', '88.2 App.bmp', '443.3 App.bmp', '190.1 App.bmp', '832.1 App.bmp', '697.5 App.bmp', '169.5 App.bmp', '547.8 App.bmp', '5.3 Appendix.bmp', '781.1 App.bmp', '94.5 App.bmp', '103.3 App.bmp', '837.3 App.bmp', '106.1 App.bmp', '921.5 App .bmp', '133.3 App.bmp', '837.4 App.bmp', '560.5 App.bmp', '6.4 Appendix.png', '919.2 App.bmp', '324.1 App.bmp', '111.3 App.bmp', '6.1 Appendix.png', '900.1 App.bmp', '540.1 App.bmp', '168.6 App.bmp', '102.3 App.bmp', '161.7 App.bmp', '771.2 App.bmp', '506.1 App.bmp', '936.1 App.bmp', '288.2 App.bmp', '657.4 App.bmp', '691.5 App.bmp', '773.6 App.bmp', '49.2 App.bmp', '201.2 App.bmp', '622.4 App.bmp', '540.2 App.bmp', '96.8 App.bmp', '454.1 App.bmp', '747.1 App.bmp', '672.1 App.bmp', '66.4 App.bmp', '695.3 App.bmp', '6.3 Appendix.png', '532.3 App.bmp', '525.9 App.bmp', '841.1 App.bmp', '99.2 App.bmp', '96.11 App .bmp', '105.1 App.bmp', '824.6 App.bmp', '879.3 App.bmp', '922.2 App.bmp', '102.18 App.bmp', '802.7 App.bmp', '130.5 App.bmp', '530.2 App.bmp', '81.4 App.bmp', '7.1 Appendix.bmp', '124.4 App.bmp', '849.2 App.bmp', '452.1 App .bmp', '74.1 App.bmp', '26.1 Appendix.bmp', '809.1 App.bmp', '555.2 App.bmp', '971.1 App.bmp', '990.8 App.bmp', '592.2 App.bmp', '299.1 App.bmp', '107.1 App.bmp', '840.1 App.bmp', '846.1 App.bmp', '158.2 App.bmp', '203.1 App.bmp', '511.4 App.bmp', '921.3 App.bmp', '545.3 App.bmp', '114.3 App.bmp', '824.5 App.bmp', '43.2 App.bmp', '118.4 App.bmp', '607.5 App.bmp', '188.2 App.bmp', '207.6 App.bmp', '567.1 App.bmp', '207.5 App.bmp', '771.1 App.bmp', '672.5 App.bmp', '656.3 App.bmp', '827.2 App.bmp', '290.3 App.bmp', '550.1 App.bmp', '656.1 App.bmp', '445.4 App.bmp', '129.6 App.bmp', '181.1 App.bmp', '607.4 App.bmp', '503.2 app.bmp', '99.10 App.bmp', '43.3 App.bmp', '849.3 App.bmp', '315.1 App.bmp', '159.2 App.bmp', '531.6 App.bmp', '441.2 App.bmp', '78.1 App.bmp', '187.9 App.bmp', '109.3 App.bmp', '143.1 App.bmp', '802.6 App.bmp', '947.1 App.bmp', '746.2 App.bmp', '168.5 App.bmp', '541.1 App.bmp', '531.5 App.bmp', '547.6 App.bmp', '643.3 App.bmp', '102.14 App.bmp', '6.2 Appendix.png', '827.3 App.bmp', '34.2 App.bmp', '854.2 App.bmp', '777.2 App.bmp', '777.4 App.bmp', '751.6 App.bmp', '9.2 Appendix.bmp', '161.1 App.bmp', '900.2 App.bmp', '525.11 App.bmp', '594.2 App.bmp', '751.5 App.bmp', '499.9 App.bmp', '850.1 App.bmp', '111.9 App .bmp', '56.2 App.bmp', '503.4 App.bmp', '773.9 App.bmp', '597.3 App.bmp', '143.2 App.bmp', '802.3 App.bmp', '752.4 App.bmp', '285.2 App.bmp', '161.3 App.bmp', '545.5 App.bmp', '41.2 App.bmp', '499.4 App.bmp', '506.6 App.bmp', '560.2 App.bmp', '195.5 App.bmp', '773.10 App.bmp', '547.11 App.bmp', '29.5 Appendix.bmp', '833.3 App.bmp', '547.2 App.bmp', '186.6 App.bmp', '537.3 App.bmp', '449.1 App.bmp', '129.4 App.bmp', '872.4 App.bmp', '988.3 App.bmp', '767.1 App.bmp', '475.3 App.bmp', '841.6 App.bmp', '816.6 App.bmp', '802.5 App.bmp', '65.3 App.bmp', '801.2 App.bmp', '240.1 App.bmp', '5.1 Appendix.png', '72.1 App.bmp', '55.3 App.bmp', '747.11 App.bmp', '85.2 App.bmp', '909.4 App.bmp', '498.1 App.bmp', '14.3 Appendix.png', '233.5 App.bmp', '747.2 App.bmp', '35.1 App.bmp', '422.1 App.bmp', '466.1 App.bmp', '773.7 App.bmp', '231.1 App.bmp', '752.5 App.bmp', '665.2 App.bmp', '445.3 App.bmp', '102.9 App.bmp', '592.1 App.bmp', '118.2 App.bmp', '111.6 App.bmp', '441.3 App .bmp', '955.2 App.bmp', '863.1 App.bmp', '990.9 App.bmp', '510.4 App.bmp', '875.1 App.bmp', '927.11 App.bmp', '101.15 App.bmp', '24.1 Appendix.bmp', '738.2 App.bmp', '796.1 App.bmp', '953.2 App.bmp', '790.6 App.bmp', '365.1 App.bmp', '23.2 Appendix.bmp', '463.4 App.bmp', '879.2 App.bmp', '128.2 App.bmp', '25.1 Appendix.bmp', '636.2 App.bmp', '801.3 App.bmp', '747.9 App.bmp', '494.4 App.bmp', '145.1 App.bmp', '70.2 App.bmp', '26.2 Appendix.bmp', '3.5 Appendix.png', '721.2 App.bmp', '61.3 App.bmp', '871.1 App.bmp', '119.4 App.bmp', '348.1 App.bmp', '43.4 App.bmp', '107.2 App.bmp', '80.2 App.bmp', '587.5 App.bmp', '602.2 App.bmp', '591.10 App.bmp', '711.2 App.bmp', '78.2 App.bmp', '927.8 App.bmp', '565.4 App.bmp', '81.5 App.bmp', '927.3 App.bmp', '186.7 App.bmp', '754.2 App.bmp', '231.2 App.bmp', '747.5 App.bmp', '559.3 App.bmp', '53.2 App.bmp', '376.2 App.bmp', '747.6 App.bmp', '847.3 App.bmp', '790.3 App.bmp', '169.7 App.bmp', '806.3 App.bmp', '65.7 App.bmp', '96.12 App .bmp', '125.1 App.bmp', '85.4 App.bmp', '553.1 App.bmp', '192.1 App.bmp', '186.4 App.bmp', '524.2 App.bmp', '533.1 App.bmp', '9.3 Appendix.png', '525.10 App.bmp', '809.3 App.bmp', '121.1 App.bmp', '168.2 App.bmp', '539.2 App.bmp', '850.2 App.bmp', '494.5 App.bmp', '101.8 App.bmp', '781.2 App.bmp', '187.2 App.bmp', '266.2 App.bmp', '761.1 App.bmp', '454.6 App.bmp', '196.2 App.bmp', '3.4 Appendix.png', '824.4 App.bmp', '91.4 App.bmp', '458.2 App.bmp', '928.1 App.bmp', '477.3 App.bmp', '841.3 App.bmp', '143.3 App.bmp', '88.1 App.bmp', '129.2 App.bmp', '27.2 Appendix.bmp', '13.1 Appendix.png', '61.4 App.bmp', '119.1 App.bmp', '11.1 Appendix.png', '232.2 App.bmp', '191.1 App.bmp', '105.12 App.bmp', '751.2 App.bmp', '841.5 App.bmp', '697.3 App.bmp', '41.1. App.bmp', '752.7 App.bmp', '486.34 App.bmp', '168.7 App.bmp', '809.2 App.bmp', '233.4 App.bmp', '188.4 App.bmp', '186.2 App.bmp', '802.2 App.bmp', '773.3 App.bmp', '955.1 App.bmp', '92.4 App.bmp', '695.2 App.bmp', '102.1 App.bmp', '530.1 App.bmp', '168.9 App.bmp', '777.1 App.bmp', '925.1 App.bmp', '278.2 App.bmp', '199.1 App.bmp', '591.7 App.bmp', '289.2 App.bmp', '790.1 App.bmp', '3.3 Appendix.png', '137.9 App.bmp', '509.2 App.bmp', '28.2 Appendix.bmp', '872.1 App.bmp', '747.4 App.bmp', '813.4 App.bmp', '86.3 App.bmp', '831.4 App.bmp', '444.4 App.bmp', '510.2 App.bmp', '591.2 App.bmp', '278.1 App.bmp', '96.2 App .bmp', '935.1 App.bmp', '563.1 App.bmp', '64.1 App.bmp', '751.4 App.bmp', '92.5 App.bmp', '107.5 App.bmp', '547.5 App.bmp', '69.4 App.bmp', '87.1 App.bmp', '249.1 App.bmp', '41.3 App.bmp', '65.8 App.bmp', '271.5 App.bmp', '290.2 App.bmp', '761.3 App.bmp', '187.8 App.bmp', '83.1 App.bmp', '921.2 App.bmp', '207.3 App.bmp', '749.1 App.bmp', '80.3 App.bmp', '546.1 App.bmp', '102.8 App.bmp', '686.5 App.bmp', '814.2 App.bmp', '657.3 App.bmp', '103.5 App.bmp', '882.2 App.bmp', '445.2 App.bmp', '468.3 App.bmp', '837.7 App.bmp', '938.2 App.bmp', '449.3 App.bmp', '537.9 App.bmp', '17.1 Appendix.bmp', '117.8 App.bmp', '545.4 App.bmp', '5.2 Appendix.png', '220.2 App.bmp', '344.2 App.bmp', '168.8 App.bmp', '117.7 App.bmp', '152.1 App.bmp', '853.3 App.bmp', '232.3 App.bmp', '938.4 App.bmp', '752.3 App.bmp', '808.1 App.bmp', '841.2 App.bmp', '145.3 App.bmp', '575.1 App.bmp', '102.10 App.bmp', '26.3 Appendix.bmp', '827.1 App.bmp', '466.3 App.bmp', '15.1 Appendix.png', '49.1 App.bmp', '389.2 App .bmp', '832.3 App.bmp', '494.6 App.bmp', '673.1 App.bmp', '117.3 App.bmp', '443.2 App.bmp', '686.4 App.bmp', '508.3 App.bmp', '29.4 Appendix.bmp', '457.2 App.bmp', '645.6 App.bmp', '833.5 App.bmp', '102.4 App.bmp', '102.2 App.bmp', '503.1 App.bmp', '838.1 App.bmp', '249.3 App.bmp', '443.4 App.bmp', '819.2 App.bmp', '129.1 App.bmp', '981.1 App.bmp', '211.3 App.bmp', '231.3 App.bmp', '466.2 App.bmp', '37.2 App .bmp', '597.1 App.bmp', '393.2 App.bmp', '508.1 App.bmp', '102.7 App.bmp', '591.9 App.bmp', '145.4 App.bmp', '921.6 App .bmp', '99.4 App.bmp', '443.1 App.bmp', '547.10 App.bmp', '494.3 App.bmp', '130.6 App.bmp', '51.1 App.bmp', '195.3 App.bmp', '508.4 App.bmp', '487.2 App.bmp', '506.2 App.bmp', '919.3 App.bmp', '158.3 App.bmp', '537.4 App.bmp', '9.1 Appendix.bmp', '48.2 App.bmp', '282.4 App.bmp', '284.2 App.bmp', '585.2 App.bmp', '927.12 App.bmp', '137.7 App.bmp', '735.2 App.bmp', '96.10 App.bmp', '597.5 App.bmp', '974.4 App.bmp', '761.2 App.bmp', '101.14 App.bmp', '936.3 App.bmp', '601.3 App.bmp', '106.8 App.bmp', '499.5 App.bmp', '77.3 App.bmp', '69.6 App.bmp', '102.12 App.bmp', '874.2 App.bmp', '266.3 App.bmp', '99.3 App.bmp', '622.5 App.bmp', '591.8 App.bmp', '186.3 App.bmp', '90.1 App.bmp', '981.2 App.bmp']\n"
          ]
        }
      ]
    },
    {
      "cell_type": "code",
      "source": [
        "import os\n",
        "\n",
        "# Path to the folder where you want to save selected images\n",
        "save_dir = '/content/Selected_Images'\n",
        "\n",
        "# Create the folder if it doesn't exist\n",
        "os.makedirs(save_dir, exist_ok=True)\n",
        "\n",
        "# Loop through selected images and save them\n",
        "for img, filename in zip(selected_images, selected_filenames):\n",
        "    save_path = os.path.join(save_dir, filename)\n",
        "    img.save(save_path)  # PIL will save in the original format automatically\n",
        "\n",
        "print(f\"Saved {len(selected_images)} images to {save_dir}\")\n"
      ],
      "metadata": {
        "id": "E2rIYMgRS7K8",
        "outputId": "04b1d6f4-8661-4ddc-ff4a-85a5395fea1f",
        "colab": {
          "base_uri": "https://localhost:8080/"
        }
      },
      "execution_count": 40,
      "outputs": [
        {
          "output_type": "stream",
          "name": "stdout",
          "text": [
            "Saved 679 images to /content/Selected_Images\n"
          ]
        }
      ]
    }
  ],
  "metadata": {
    "language_info": {
      "name": "python"
    },
    "colab": {
      "provenance": [],
      "include_colab_link": true
    },
    "kernelspec": {
      "name": "python3",
      "display_name": "Python 3"
    }
  },
  "nbformat": 4,
  "nbformat_minor": 0
}